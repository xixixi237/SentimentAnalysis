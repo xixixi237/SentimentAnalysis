{
 "cells": [
  {
   "cell_type": "code",
   "execution_count": 1,
   "metadata": {},
   "outputs": [],
   "source": [
    "import seaborn as sns\n",
    "import matplotlib.pyplot as plt\n",
    "import numpy as np\n",
    "import pandas as pd\n",
    "plt.style.use('ggplot')"
   ]
  },
  {
   "cell_type": "code",
   "execution_count": 2,
   "metadata": {},
   "outputs": [],
   "source": [
    "df = pd.read_csv(\"C:\\Data Science\\data\\processed\\Youtube\\consolidated.csv\")"
   ]
  },
  {
   "cell_type": "code",
   "execution_count": 3,
   "metadata": {},
   "outputs": [
    {
     "data": {
      "text/html": [
       "<div>\n",
       "<style scoped>\n",
       "    .dataframe tbody tr th:only-of-type {\n",
       "        vertical-align: middle;\n",
       "    }\n",
       "\n",
       "    .dataframe tbody tr th {\n",
       "        vertical-align: top;\n",
       "    }\n",
       "\n",
       "    .dataframe thead th {\n",
       "        text-align: right;\n",
       "    }\n",
       "</style>\n",
       "<table border=\"1\" class=\"dataframe\">\n",
       "  <thead>\n",
       "    <tr style=\"text-align: right;\">\n",
       "      <th></th>\n",
       "      <th>Unnamed: 0</th>\n",
       "      <th>NewID</th>\n",
       "      <th>vader_neg</th>\n",
       "      <th>vader_neu</th>\n",
       "      <th>vader_pos</th>\n",
       "      <th>vader_compound</th>\n",
       "      <th>roberta_neg</th>\n",
       "      <th>roberta_neu</th>\n",
       "      <th>roberta_pos</th>\n",
       "      <th>Search Term</th>\n",
       "      <th>...</th>\n",
       "      <th>Date Uploaded</th>\n",
       "      <th>Views</th>\n",
       "      <th>Likes_x</th>\n",
       "      <th>Subscriber Count</th>\n",
       "      <th>Country</th>\n",
       "      <th>Comment</th>\n",
       "      <th>Likes_y</th>\n",
       "      <th>AuthorChannelId</th>\n",
       "      <th>PublishedAt</th>\n",
       "      <th>VideoID</th>\n",
       "    </tr>\n",
       "  </thead>\n",
       "  <tbody>\n",
       "    <tr>\n",
       "      <th>0</th>\n",
       "      <td>0</td>\n",
       "      <td>1</td>\n",
       "      <td>0.0</td>\n",
       "      <td>0.543</td>\n",
       "      <td>0.457</td>\n",
       "      <td>0.9098</td>\n",
       "      <td>0.000999</td>\n",
       "      <td>0.014936</td>\n",
       "      <td>0.984065</td>\n",
       "      <td>3090</td>\n",
       "      <td>...</td>\n",
       "      <td>2022-01-06T15:03:27Z</td>\n",
       "      <td>453321</td>\n",
       "      <td>19909.0</td>\n",
       "      <td>390000.0</td>\n",
       "      <td>Unknown</td>\n",
       "      <td>Thank You for watching this Video, If you enjo...</td>\n",
       "      <td>466.0</td>\n",
       "      <td>UCOOMgoGO9PwAb65v6Zyj43w</td>\n",
       "      <td>2022-01-06T15:05:58Z</td>\n",
       "      <td>NaN</td>\n",
       "    </tr>\n",
       "    <tr>\n",
       "      <th>1</th>\n",
       "      <td>1</td>\n",
       "      <td>2</td>\n",
       "      <td>0.0</td>\n",
       "      <td>1.000</td>\n",
       "      <td>0.000</td>\n",
       "      <td>0.0000</td>\n",
       "      <td>0.198987</td>\n",
       "      <td>0.771348</td>\n",
       "      <td>0.029665</td>\n",
       "      <td>3090</td>\n",
       "      <td>...</td>\n",
       "      <td>2022-01-06T15:03:27Z</td>\n",
       "      <td>453321</td>\n",
       "      <td>19909.0</td>\n",
       "      <td>390000.0</td>\n",
       "      <td>Unknown</td>\n",
       "      <td>Literally, You would need to mount a f nuclear...</td>\n",
       "      <td>2023.0</td>\n",
       "      <td>UCvOuwNiwb_ZpY7okvtIl4NQ</td>\n",
       "      <td>2022-01-06T15:21:04Z</td>\n",
       "      <td>NaN</td>\n",
       "    </tr>\n",
       "    <tr>\n",
       "      <th>2</th>\n",
       "      <td>2</td>\n",
       "      <td>3</td>\n",
       "      <td>0.0</td>\n",
       "      <td>1.000</td>\n",
       "      <td>0.000</td>\n",
       "      <td>0.0000</td>\n",
       "      <td>0.056606</td>\n",
       "      <td>0.749840</td>\n",
       "      <td>0.193554</td>\n",
       "      <td>3090</td>\n",
       "      <td>...</td>\n",
       "      <td>2022-01-06T15:03:27Z</td>\n",
       "      <td>453321</td>\n",
       "      <td>19909.0</td>\n",
       "      <td>390000.0</td>\n",
       "      <td>Unknown</td>\n",
       "      <td>At this point it would make more sense to just...</td>\n",
       "      <td>1502.0</td>\n",
       "      <td>UCGQHDdyBVyvsAEsSiFqzApQ</td>\n",
       "      <td>2022-01-06T15:59:16Z</td>\n",
       "      <td>NaN</td>\n",
       "    </tr>\n",
       "    <tr>\n",
       "      <th>3</th>\n",
       "      <td>3</td>\n",
       "      <td>4</td>\n",
       "      <td>0.0</td>\n",
       "      <td>0.877</td>\n",
       "      <td>0.123</td>\n",
       "      <td>0.3680</td>\n",
       "      <td>0.037017</td>\n",
       "      <td>0.900374</td>\n",
       "      <td>0.062609</td>\n",
       "      <td>3090</td>\n",
       "      <td>...</td>\n",
       "      <td>2022-01-06T15:03:27Z</td>\n",
       "      <td>453321</td>\n",
       "      <td>19909.0</td>\n",
       "      <td>390000.0</td>\n",
       "      <td>Unknown</td>\n",
       "      <td>Just an FYI: 1500 watts is the max continuous ...</td>\n",
       "      <td>512.0</td>\n",
       "      <td>UChnIXMfkyPFC5uGI_9AYrqw</td>\n",
       "      <td>2022-01-06T15:16:11Z</td>\n",
       "      <td>NaN</td>\n",
       "    </tr>\n",
       "    <tr>\n",
       "      <th>4</th>\n",
       "      <td>4</td>\n",
       "      <td>5</td>\n",
       "      <td>0.0</td>\n",
       "      <td>0.828</td>\n",
       "      <td>0.172</td>\n",
       "      <td>0.3612</td>\n",
       "      <td>0.779735</td>\n",
       "      <td>0.203648</td>\n",
       "      <td>0.016617</td>\n",
       "      <td>3090</td>\n",
       "      <td>...</td>\n",
       "      <td>2022-01-06T15:03:27Z</td>\n",
       "      <td>453321</td>\n",
       "      <td>19909.0</td>\n",
       "      <td>390000.0</td>\n",
       "      <td>Unknown</td>\n",
       "      <td>My 550W power supply be like: *”Why am I still...</td>\n",
       "      <td>375.0</td>\n",
       "      <td>UCgzqME6r2_RzA2zemLzYg3A</td>\n",
       "      <td>2022-01-06T15:09:09Z</td>\n",
       "      <td>NaN</td>\n",
       "    </tr>\n",
       "  </tbody>\n",
       "</table>\n",
       "<p>5 rows × 23 columns</p>\n",
       "</div>"
      ],
      "text/plain": [
       "   Unnamed: 0  NewID  vader_neg  vader_neu  vader_pos  vader_compound  \\\n",
       "0           0      1        0.0      0.543      0.457          0.9098   \n",
       "1           1      2        0.0      1.000      0.000          0.0000   \n",
       "2           2      3        0.0      1.000      0.000          0.0000   \n",
       "3           3      4        0.0      0.877      0.123          0.3680   \n",
       "4           4      5        0.0      0.828      0.172          0.3612   \n",
       "\n",
       "   roberta_neg  roberta_neu  roberta_pos Search Term  ...  \\\n",
       "0     0.000999     0.014936     0.984065        3090  ...   \n",
       "1     0.198987     0.771348     0.029665        3090  ...   \n",
       "2     0.056606     0.749840     0.193554        3090  ...   \n",
       "3     0.037017     0.900374     0.062609        3090  ...   \n",
       "4     0.779735     0.203648     0.016617        3090  ...   \n",
       "\n",
       "          Date Uploaded   Views  Likes_x Subscriber Count  Country  \\\n",
       "0  2022-01-06T15:03:27Z  453321  19909.0         390000.0  Unknown   \n",
       "1  2022-01-06T15:03:27Z  453321  19909.0         390000.0  Unknown   \n",
       "2  2022-01-06T15:03:27Z  453321  19909.0         390000.0  Unknown   \n",
       "3  2022-01-06T15:03:27Z  453321  19909.0         390000.0  Unknown   \n",
       "4  2022-01-06T15:03:27Z  453321  19909.0         390000.0  Unknown   \n",
       "\n",
       "                                             Comment  Likes_y  \\\n",
       "0  Thank You for watching this Video, If you enjo...    466.0   \n",
       "1  Literally, You would need to mount a f nuclear...   2023.0   \n",
       "2  At this point it would make more sense to just...   1502.0   \n",
       "3  Just an FYI: 1500 watts is the max continuous ...    512.0   \n",
       "4  My 550W power supply be like: *”Why am I still...    375.0   \n",
       "\n",
       "            AuthorChannelId           PublishedAt  VideoID  \n",
       "0  UCOOMgoGO9PwAb65v6Zyj43w  2022-01-06T15:05:58Z      NaN  \n",
       "1  UCvOuwNiwb_ZpY7okvtIl4NQ  2022-01-06T15:21:04Z      NaN  \n",
       "2  UCGQHDdyBVyvsAEsSiFqzApQ  2022-01-06T15:59:16Z      NaN  \n",
       "3  UChnIXMfkyPFC5uGI_9AYrqw  2022-01-06T15:16:11Z      NaN  \n",
       "4  UCgzqME6r2_RzA2zemLzYg3A  2022-01-06T15:09:09Z      NaN  \n",
       "\n",
       "[5 rows x 23 columns]"
      ]
     },
     "execution_count": 3,
     "metadata": {},
     "output_type": "execute_result"
    }
   ],
   "source": [
    "df.head()"
   ]
  },
  {
   "cell_type": "code",
   "execution_count": null,
   "metadata": {},
   "outputs": [],
   "source": [
    "search_terms = ['3090', '4090', 'AGI', 'Open AI', 'xAI Grok', 'Copilot', 'Sora',\n",
    "               'Andrew Tate', 'Ben Shapiro', 'Candace Owens', 'Jordan Peterson', \n",
    "               'Antisemitism', 'Islamophobia', 'Extremism', 'Apple', 'Samsung', \n",
    "               'Pixel 8', 'iphone', 'Samsung S24', 'AMD', 'Nvidia', 'Intel', \n",
    "               'Microsoft', 'Christianity', 'islam', 'Judaism', 'Justin Trudeau', \n",
    "               'Kier Starmer', 'Biden', 'Michael Gove', 'Rishi Sunak', 'Sadiq Khan', \n",
    "               'Netanyahu', 'Putin', 'Labour', 'Tories', 'Israel', 'Gaza', 'Arsenal', \n",
    "               'Liverpool FC', 'FC Porto', 'Manchester United', 'Max Verstapen', \n",
    "               'Charles Leclerc', 'Lewis Hamilton', 'Bitcoin', 'Crypto', 'Ford', \n",
    "               'Tesla', 'Mercedes', 'China', 'Data Science', 'Mike Tyson']"
   ]
  },
  {
   "cell_type": "code",
   "execution_count": 4,
   "metadata": {},
   "outputs": [
    {
     "data": {
      "image/png": "[encoded data removed]",
      "text/plain": [
       "<Figure size 1200x600 with 1 Axes>"
      ]
     },
     "metadata": {},
     "output_type": "display_data"
    }
   ],
   "source": [
    "\n",
    "import plotly.express as px\n",
    "search_term = 'islam'\n",
    "df = pd.read_csv(\"C:\\Data Science\\data\\processed\\Youtube\\consolidated.csv\")\n",
    "filtered_df = df[df['Search Term'] == search_term]\n",
    "\n",
    "\n",
    "# Plot the violin plots for sentiment scores of the filtered DataFrame\n",
    "plt.figure(figsize=(12, 6))\n",
    "sns.violinplot(data=filtered_df[['roberta_neg', 'roberta_neu', 'roberta_pos']],\n",
    "                palette='Set1', inner='quartile')\n",
    "\n",
    "plt.title(f'Distribution of Sentiment Scores for {search_term}')\n",
    "plt.ylabel('Score')\n",
    "plt.xticks(rotation=45)\n",
    "plt.show()"
   ]
  },
  {
   "cell_type": "code",
   "execution_count": 16,
   "metadata": {},
   "outputs": [
    {
     "name": "stdout",
     "output_type": "stream",
     "text": [
      "<class 'pandas.core.frame.DataFrame'>\n",
      "Index: 2346 entries, 0 to 2345\n",
      "Data columns (total 23 columns):\n",
      " #   Column            Non-Null Count  Dtype  \n",
      "---  ------            --------------  -----  \n",
      " 0   Unnamed: 0        2346 non-null   int64  \n",
      " 1   NewID             2346 non-null   int64  \n",
      " 2   vader_neg         2346 non-null   float64\n",
      " 3   vader_neu         2346 non-null   float64\n",
      " 4   vader_pos         2346 non-null   float64\n",
      " 5   vader_compound    2346 non-null   float64\n",
      " 6   roberta_neg       2346 non-null   float64\n",
      " 7   roberta_neu       2346 non-null   float64\n",
      " 8   roberta_pos       2346 non-null   float64\n",
      " 9   Search Term       2346 non-null   object \n",
      " 10  ID                2346 non-null   object \n",
      " 11  Title             2346 non-null   object \n",
      " 12  Author            2346 non-null   object \n",
      " 13  Date Uploaded     2346 non-null   object \n",
      " 14  Views             2346 non-null   int64  \n",
      " 15  Likes_x           2346 non-null   float64\n",
      " 16  Subscriber Count  2346 non-null   float64\n",
      " 17  Country           2346 non-null   object \n",
      " 18  Comment           2346 non-null   object \n",
      " 19  Likes_y           2346 non-null   float64\n",
      " 20  AuthorChannelId   2346 non-null   object \n",
      " 21  PublishedAt       2346 non-null   object \n",
      " 22  VideoID           0 non-null      object \n",
      "dtypes: float64(10), int64(3), object(10)\n",
      "memory usage: 439.9+ KB\n"
     ]
    }
   ],
   "source": [
    "filtered_df.info()"
   ]
  },
  {
   "cell_type": "code",
   "execution_count": 6,
   "metadata": {},
   "outputs": [
    {
     "data": {
      "application/vnd.plotly.v1+json": {
       "config": {
        "plotlyServerURL": "https://plot.ly"
       },
       "data": [
        {
         "customdata": [
          [
           "In my 60 years I've never known a political class so out of touch with the public,  its pretty frightening. 😢"
          ],
          [
           "Well said 100%. Reform is saying what true patriots want. It has my vote."
          ],
          [
           "I’m definitely one of the most angry and furious. We have been in this decline for decades. Please don’t make the same mistake again and vote the same old out of touch self congratulatory dopes in , and expect a different outcome."
          ],
          [
           "The most extreme thing at the moment is the gap between the government and any form of intelligence and common sense."
          ],
          [
           "This country would be in a much better place without Islam"
          ],
          [
           "\"Send in the Clowns\" - oh, there are 650 of them in the House."
          ],
          [
           "The Definition of extremism...\"\nThe 151am1c ideology refusing reformation\""
          ],
          [
           "\"out of touch\" is all I have ever heard about politics for decades.  I have come to the conclusion they are not out of touch, they just don't care and we need to stop voting for these muppets."
          ],
          [
           "Spot on Richard."
          ],
          [
           "Sunak is under serious pressure from his Davos masters, they know his time is over and want him to do their bidding while he still has a bit of time left, hence the extra obsessing over political correctness and wokeness. The Tories are damned if they do, damned if they don't. If they get rid of Sunak they are gone but nobody will vote for him as leader."
          ],
          [
           "My definition of extremism is what our politicians have done to the UK since 1997."
          ],
          [
           "They never seem to be debating anything sensible or relevant, always skirting around the big issues so as not to offend anyone .YOU CAN'T FIX THIS WITHOUT OFFENDING SOMEONE AND THE ONLY PEOPLE THAT DON'T SEEM TO MATTER ARE ENGLISH PEOPLE 😊"
          ],
          [
           "Reform 🇬🇧"
          ],
          [
           "I'm always going to vote reform."
          ],
          [
           "MPs obsess about extremism, talk  a lot about extremism but they not got the backbone to actually do anything about it."
          ],
          [
           "Reform has my vote 🗳"
          ],
          [
           "The more i see , the more i think tegoyis our last hope for our country, u hv my vote richard!"
          ],
          [
           "They're not out of touch, they're out of their minds."
          ],
          [
           "the reality is that the Uk is at least  3million people overpopulated and thats why there is an energy, housing and NHS crises"
          ],
          [
           "Every single Reform voter needs to support and tell Suella that we want her support."
          ],
          [
           "Where's the debate about excess deaths....still out of control???"
          ],
          [
           "Talk about solutions! We already know what the problems are!"
          ],
          [
           "Well said....someone has to speak trufully about what most of the country thinks......THANKYOU FOR BEING OUR VOICE❤❤❤"
          ],
          [
           "While our waste of space MPs obsess over the definition of extremism most of us obsess over them being totally unwilling to defend our borders against those who shouldn't be in this country."
          ],
          [
           "Disgrace this has been done to the British people, time to fight back, VERY ANGRY!"
          ],
          [
           "You only have to watch PMQs and see how they talk to each other.\nLead by example is not something they understand."
          ],
          [
           "I live in a northern town, should I worry about the faaaarrrr right or the far left/islamists?"
          ],
          [
           "Distractions is what it's all about Richard,\nWe know they know,\nthey continually push the boundaries of real anarchy"
          ],
          [
           "Glad I joined  REFORM UK 😊. Hope we do well in the next election  we must WIN  for the sake of the UK ."
          ],
          [
           "VOTE REFORM UK ❤❤VOTE REFORM UK ❤❤"
          ],
          [
           "Why would penny mordant get int a a car that is being driven off a cliff"
          ],
          [
           "Dammit Richard. You can debate until the cows come home.\nWe need firm decisions and action."
          ],
          [
           "Yes, our lights were flickering midweek last week. 😮It’s happening more regularly lately."
          ],
          [
           "PR as a policy isn’t helping Reform Richard.   We’ve seen it in Europe where centre right parties have won the most votes in elections but have failed to create a government due to coalitions of socialist parties.   Stick to first past the post and do what the Reform party did to the Conservatives in Canada"
          ],
          [
           "Tories and labour both are."
          ],
          [
           "There is only one subject in my opinion & that is where is the Political Party that will reverse immigration & 'get my Country back?'"
          ],
          [
           "If you want your Country back! You have got to \nJoin & Vote REFORM UK!!"
          ],
          [
           "Well said, they concentrate too much on stuff that must of us don't give a toss about and ignore what we do care about."
          ],
          [
           "You need to discuss the coming WEF/UN system of cashless global goverance, economic migration and world registration of you want to be taken seriously. Stop pretending it isn't happeneing."
          ],
          [
           "Loads of passages in the core ran are extremist.\nWill it be banned? If not, the ban is worse than useless."
          ],
          [
           "Did Richard even mention Net Zero?"
          ],
          [
           "It would be interesting to compare what Tory MP are worth before and after they were elected. We need to start getting evidence of them putting self before country. All this information should be available"
          ],
          [
           "We want m ach ete gangs sent home"
          ],
          [
           "true"
          ],
          [
           "The Covid measures were extreme, nobody’s talking about this just a few years later. The gap between rich and poor is more extreme than ever. This obsession with racism is extremely distracting"
          ],
          [
           "You have my vote !!"
          ],
          [
           "Labour and Conservatives are only interested in 1 thing, HOW MUCH CAN THEY MAKE!"
          ],
          [
           "Well done Richard. \nWe are shoulder to shoulder with Reform. \nGo get em!"
          ],
          [
           "Richie Rustsack"
          ],
          [
           "It'S hard to believe these people have had the best opportunity and education can be so thick, you can only say it's been done on purpose"
          ]
         ],
         "hovertemplate": "Title=MPs obsess over definition of extremism, but their own policies are extremist! | Richard Tice<br>ID=%{x}<br>Likes_y=%{y}<br>Comment=%{customdata[0]}<extra></extra>",
         "legendgroup": "MPs obsess over definition of extremism, but their own policies are extremist! | Richard Tice",
         "marker": {
          "color": "#636efa",
          "symbol": "circle"
         },
         "mode": "markers",
         "name": "MPs obsess over definition of extremism, but their own policies are extremist! | Richard Tice",
         "showlegend": true,
         "type": "scattergl",
         "x": [
          "zY_2e0hL21A",
          "zY_2e0hL21A",
          "zY_2e0hL21A",
          "zY_2e0hL21A",
          "zY_2e0hL21A",
          "zY_2e0hL21A",
          "zY_2e0hL21A",
          "zY_2e0hL21A",
          "zY_2e0hL21A",
          "zY_2e0hL21A",
          "zY_2e0hL21A",
          "zY_2e0hL21A",
          "zY_2e0hL21A",
          "zY_2e0hL21A",
          "zY_2e0hL21A",
          "zY_2e0hL21A",
          "zY_2e0hL21A",
          "zY_2e0hL21A",
          "zY_2e0hL21A",
          "zY_2e0hL21A",
          "zY_2e0hL21A",
          "zY_2e0hL21A",
          "zY_2e0hL21A",
          "zY_2e0hL21A",
          "zY_2e0hL21A",
          "zY_2e0hL21A",
          "zY_2e0hL21A",
          "zY_2e0hL21A",
          "zY_2e0hL21A",
          "zY_2e0hL21A",
          "zY_2e0hL21A",
          "zY_2e0hL21A",
          "zY_2e0hL21A",
          "zY_2e0hL21A",
          "zY_2e0hL21A",
          "zY_2e0hL21A",
          "zY_2e0hL21A",
          "zY_2e0hL21A",
          "zY_2e0hL21A",
          "zY_2e0hL21A",
          "zY_2e0hL21A",
          "zY_2e0hL21A",
          "zY_2e0hL21A",
          "zY_2e0hL21A",
          "zY_2e0hL21A",
          "zY_2e0hL21A",
          "zY_2e0hL21A",
          "zY_2e0hL21A",
          "zY_2e0hL21A",
          "zY_2e0hL21A"
         ],
         "xaxis": "x",
         "y": [
          164,
          100,
          65,
          109,
          36,
          71,
          40,
          31,
          58,
          41,
          16,
          42,
          33,
          42,
          16,
          15,
          15,
          20,
          54,
          13,
          30,
          30,
          8,
          8,
          7,
          34,
          21,
          13,
          10,
          7,
          18,
          10,
          16,
          8,
          12,
          6,
          3,
          10,
          9,
          6,
          10,
          2,
          4,
          4,
          2,
          2,
          1,
          0,
          6,
          2
         ],
         "yaxis": "y"
        },
        {
         "customdata": [
          [
           "How about hyprocrisy definition?"
          ],
          [
           "Pure propaganda I couldn't believe what I was hearing"
          ],
          [
           "How to say nothing while making noise 101"
          ],
          [
           "The irony of someone talking about freedom of speech whilst only being allowed to show her eyes."
          ],
          [
           "WEF uniparty censorship"
          ],
          [
           "That liar at the beginning saying they believe in peace and inclusivity what uutter garbage."
          ],
          [
           "30s in and turns off. Women talking nonsense."
          ],
          [
           "Why are people surprised only now of these tailored definitions? Look at the definition of who are the Semite people and groups, and then the definition of who are solely mentioned when talking about antisemitism!!!"
          ],
          [
           "Dont pay tax"
          ],
          [
           "Extremists should be proud of being named as extremist. Why so shy?"
          ],
          [
           "Id love to comment my feelings on this. Unfortunatly I recently got a 24 hour ban on here for replying to a video with provable facts and figures so I really dont feel free to put my actual opinion down. Aparently it was 'bullying or harrassment' no right of appeal or debate with the individual who reported me."
          ],
          [
           "I began seeing the segregation while working for a government agency working with young families. Ethnic communities were asking to be separated and have separated facilities to their white counterparts. The white families couldn't understand it, they asked why? When we live next door to each other in the sane community. That was 20 years ago. The British Isles has become more segregated ever since and more and more ghettos where people don't speak English and have no desire to integrate. No one in the UK should be allowed to have their face covered, it is also against the law in France. 20 years ago there was also a CH4 documentary on what was going on inside the mosques, the teaching of hatred against our democracy, people and culture. Strong action should have been taken 20 years ago. Although better late than never. We stand against the Caliphate, and the indoctrination of it on impressionable young minds. Whether they be Muslim or otherwise."
          ],
          [
           "I think people in this country should allow themselves to show their faces in public."
          ],
          [
           "This is just an excuse just to keep them in! And it's a pathetic one!"
          ],
          [
           "Ask them do they THINK sharia would be the best for the UK and watch them tap dance around the question"
          ],
          [
           "I would never converse with somebody wearing a face covering !"
          ],
          [
           "The new definition \"the promotion or advancement of an ideology based on violence, hatred or intolerance\" that is the religion of peace, just read that book. It's all in there."
          ],
          [
           "Peaceful have nothing to worry about."
          ],
          [
           "just remember we imported all of this, we never used to have people beaming messages on the houses of parliament, anti Jewish and anti British marches, we didn't have issues with FGM, honour killings, sham marriages, suicide bombing, grooming gangs."
          ],
          [
           "Our country is unrecognisable. Not so Great Britain anymore!!!😭😭😭😭🥶😡😡😡😤😤😤😤😤"
          ],
          [
           "This weird looking mutant is an alien..😂"
          ],
          [
           "Sky news cherry picking and spreading bollocks as usual."
          ],
          [
           "I love Newspeak... & I love Big Brother!"
          ],
          [
           "The Muslims are all shouting “reeeeeeee!!!! Islamophobia!!”"
          ],
          [
           "A masked woman being translated  talking about free speech."
          ],
          [
           "Why the F are they given funds? 😂😂😂"
          ],
          [
           "How about : \"Extreme Hypocrisy\", \"Extreme Cowardice\" would they fall into the definition? How about \"supporting Gencide\" ? would that be considered \"Extreme\"? What a world we live in, Criminals judging innocent people!!"
          ],
          [
           "Quickly to be used to shut down any criticism of muslims no doubt."
          ],
          [
           "What is islam:\n1) first move to a new country in small number of people seeking asylum\n2) increase your number by adding more people of your community\n3) with a much higher birth rate slowly change the demographics of that country\n4) protest for special rights\n5) outnumber your community in that country\n6) choose the government of your desire to suit your agenda\n7) demand for your laws to be implemented in that country\n8) and ruin that country economically, socially\n9) aim another stable country\n10) repeat."
          ],
          [
           "Sunak ...........serpent."
          ],
          [
           "They talk like this but we were never asked if we wanted this multiculturalism. We are a people, we have a culture, this is our country. It is not extreme to preserve your way of life and the lives of your people. What they with such entitlement call multiculturalism, in other times, has more honestly been called invasion."
          ],
          [
           "They openly support hamas. They lost the plot. Egypt doesnt even accept them that should say volumes"
          ],
          [
           "😭🤣😂🤣🤣😭🤣😂😂🤣😭 Is this not the uk 😂😅😂😅😂🤣😂😅😆"
          ],
          [
           "ban the flag from being raised in the UK."
          ],
          [
           "Islamic Britain."
          ],
          [
           "Palestine supporters mad over laws against terrorism, who would've thought 🙄"
          ],
          [
           "Why can't people just say it. Much of Islam is an insidious danger to our society. Look at all the nefarious attacks on British people. \nWe cannot and should not ignore that fact."
          ],
          [
           "The peaceful religion 😂😂😂😂"
          ],
          [
           "Same race, but many religions and beliefs, humans are an interesting species, the abilty to do great things, but to busy trying to change someone else's opinions and beliefs to reach for the stars and achieve something truly great"
          ],
          [
           "A religion whose doctrine(s) harbors hatred and proclaims, expresses, demonstrates hatred toward any of humanities peoples is undoubtedly viewed as a threat to some amongst humanity. If such a religion also promotes hatred of other peoples to its followers then perhaps it may still be deemed a religion but not wholeheartedly one of love in such case, obviously.\n\nIf life itself should be jeopardized through willful attempted acts of harm it should be made obvious that self-preservation becomes a necessity. Should any such religion be permissible, acceptable, tolerated, endorsed, aided, financed, proclaimed... in any form, anywhere, by whom, for what purpose, how prominent... Defining how to better tolerate hatred is either perplexing or maybe, simply self-evident."
          ],
          [
           "Maybe allow facts and not emotion to rule your head."
          ],
          [
           "Use democracy to brinh down democracy"
          ],
          [
           "Our government has stopped respecting our voice"
          ],
          [
           "Doormat talking takiya😂😂😂"
          ],
          [
           "So they’re not bothered about the Muslim extremism, they’re bothered about the people calling it out by now calling them extremists?"
          ],
          [
           "The new British flag"
          ],
          [
           "Palistine flag flying in Britain, try flying the union flag and get accused of being far right."
          ],
          [
           "Lol gov propaganda..... u NEED anti extremism laws to stop racism 😂"
          ],
          [
           "No problem with anti Hammas /Netanyahu peace marches.But no time for religion, least of all noisy Islam .Parents picketing schools over cartoons and LGBT is  absurd. If their religion is that important they should be living in an Islamic State not here."
          ],
          [
           "Islam is definitely not about inclusivity lol"
          ]
         ],
         "hovertemplate": "Title=UK extremism: How has government's new definition been received?<br>ID=%{x}<br>Likes_y=%{y}<br>Comment=%{customdata[0]}<extra></extra>",
         "legendgroup": "UK extremism: How has government's new definition been received?",
         "marker": {
          "color": "#EF553B",
          "symbol": "circle"
         },
         "mode": "markers",
         "name": "UK extremism: How has government's new definition been received?",
         "showlegend": true,
         "type": "scattergl",
         "x": [
          "U_PPNXYRRT0",
          "U_PPNXYRRT0",
          "U_PPNXYRRT0",
          "U_PPNXYRRT0",
          "U_PPNXYRRT0",
          "U_PPNXYRRT0",
          "U_PPNXYRRT0",
          "U_PPNXYRRT0",
          "U_PPNXYRRT0",
          "U_PPNXYRRT0",
          "U_PPNXYRRT0",
          "U_PPNXYRRT0",
          "U_PPNXYRRT0",
          "U_PPNXYRRT0",
          "U_PPNXYRRT0",
          "U_PPNXYRRT0",
          "U_PPNXYRRT0",
          "U_PPNXYRRT0",
          "U_PPNXYRRT0",
          "U_PPNXYRRT0",
          "U_PPNXYRRT0",
          "U_PPNXYRRT0",
          "U_PPNXYRRT0",
          "U_PPNXYRRT0",
          "U_PPNXYRRT0",
          "U_PPNXYRRT0",
          "U_PPNXYRRT0",
          "U_PPNXYRRT0",
          "U_PPNXYRRT0",
          "U_PPNXYRRT0",
          "U_PPNXYRRT0",
          "U_PPNXYRRT0",
          "U_PPNXYRRT0",
          "U_PPNXYRRT0",
          "U_PPNXYRRT0",
          "U_PPNXYRRT0",
          "U_PPNXYRRT0",
          "U_PPNXYRRT0",
          "U_PPNXYRRT0",
          "U_PPNXYRRT0",
          "U_PPNXYRRT0",
          "U_PPNXYRRT0",
          "U_PPNXYRRT0",
          "U_PPNXYRRT0",
          "U_PPNXYRRT0",
          "U_PPNXYRRT0",
          "U_PPNXYRRT0",
          "U_PPNXYRRT0",
          "U_PPNXYRRT0",
          "U_PPNXYRRT0"
         ],
         "xaxis": "x",
         "y": [
          81,
          59,
          21,
          38,
          20,
          47,
          22,
          9,
          16,
          17,
          18,
          56,
          33,
          7,
          6,
          65,
          6,
          10,
          21,
          5,
          4,
          3,
          5,
          3,
          7,
          1,
          5,
          1,
          1,
          2,
          17,
          11,
          3,
          26,
          3,
          10,
          36,
          4,
          4,
          0,
          0,
          0,
          0,
          0,
          0,
          0,
          0,
          0,
          0,
          0
         ],
         "yaxis": "y"
        },
        {
         "customdata": [
          [
           "\"Those reviled as extremists turn out to have been right all along.\" Indeed. About Iraq. About concentration of wealth. About the ecosystem. About Palestine. Over and over again we come out and fight to stop the worst decisions, and are hounded and hated and dogpiled in the public square, over and over again we are proved right by events and by the depravity of our adversaries.  No more apologies, we have no time for another cycle of gaslighting.  I loathe Galloway's stance on immigration, he is no hero of mine, but on militarism and colonialism he is dead on."
          ],
          [
           "So good to see these 2 men sat together. Go get em lads"
          ],
          [
           "I see why they don’t like George.  He makes them look so foolish in under a minute 😆"
          ],
          [
           "Sheep flock together, Eagles fly alone........\nGive it to them George Galloway."
          ],
          [
           "How about : \"Extreme Hypocrisy\", \"Extreme Cowardice\" would they fall unto the definition? How about \"supporting Gencide\" ? would that be considered \"Extreme\"? What a world we live in, Criminals judging innocent people!!"
          ],
          [
           "imagine making opinions you dont want to hear illegal, sounds like facisim to me."
          ],
          [
           "I respect the way he speaks with authority, in a room with a so called spineless leader who speaks without a mandate."
          ],
          [
           "DONT LET ANYONE CONVINCE YOU THAT IT STARTED ON October 7th:\r\n1. Haifa Massacre 1937\r\n2. Jerusalem Massacre  1937\r\n3. Balad al-Sheikh Massacre 1939\r\n4. Haifa Massacre 1939\r\n5. Haifa Massacre 1947\r\n6. Abbasiya Massacre 1947\r\n7. Al-Khisas Massacre1947\r\n8. Bab al-Amud Massacre\r\n9. Jerusalem Massacre  1947\r\n10. Sheikh Burek Massacre1947\r\n11. Jaffa Massacre 1948\r\n12. Deir Yassin Massacre\r\n13. Tantura Massacre 1948\r\n14. Khan Yunis Massacre 1956\r\n15. Jerusalem Massacre 1967\r\n16. Bahro Al Baquar 1972\r\n17. Sabra and Shatila Massacre 1982\r\n18. Al Aqsa Mosque Massacre 1990\r\n19. Ibrahimi Mosque Massacre 1994\r\n20. Jenin Refugee Camp \r\nApril 2002\r\n21. Gaza Massacre 2008-09\r\n22. Gaza Massacre 2012\r\n22. Gaza Massacre 2014\r\n24. Gaza Massacre- 2018-19\r\n25. Gaza Massacre2021\r\n26. Gaza Massacre 2023 is still ongoing"
          ],
          [
           "A former Speaker of the British parliament  was wearing a \"Hang Nelson Mandela\" T-shirt?    I wonder why I'm not surprised."
          ],
          [
           "George Galloway just speaks sense. ALL the time !    , gove is absolutely full of shi"
          ],
          [
           "Respect to this man Mr George galloway ❤ 💯"
          ],
          [
           "He uses just the right words"
          ],
          [
           "Who is extreme the people protesting genocide or the UK government that supports genocide? 🤔"
          ],
          [
           "Is that Corbyn next to him?"
          ],
          [
           "Holding society hostage is extremism . For any reason.  But the way the government wrote it up was insane ."
          ],
          [
           "only MP elected by public & NOT selected by political party syndicate regime"
          ],
          [
           "Lion in the house MASHALALLAH ❤😊"
          ],
          [
           "George might as well be speaking an obscure dialect of Venusian. Only a handful of UK politicians have a functioning grasp of what the word integrity actually means."
          ],
          [
           "What a wonderfully sane human being he is. Which is exactly why he will be ignored. Great to see corbyn there, too."
          ],
          [
           "The UK is rolling out what Canada tested during the trucker protests, which is the government seizing assets for having viewpoints it disagrees with and protesting about them."
          ],
          [
           "Gotta love this guy, the only politician i feel totally comfortable refering to as the  Honorable George Galloway"
          ],
          [
           "when words act like a chainsaw"
          ],
          [
           "Silence protest and you silence progress and betterment."
          ],
          [
           "The only man in Parliament who has any principles besides money"
          ],
          [
           "Ooh my word.. Happy to see both favorites next to each other and absolutely would love to see them united 🤩👍"
          ],
          [
           "*George Galloway has IsraeI by its tiny baIIs...* 😎😂"
          ],
          [
           "So true."
          ],
          [
           "It's such a pleasure to see George Galloway and Jeremy Corbyn standing up against injustice together!"
          ],
          [
           "It is good to see Galloway sitting beside Corbyn in the Parliament.  They were right on a lot more than apartheid."
          ],
          [
           "Galloway, ALL the way!!!! ❤❤❤"
          ],
          [
           "Good Man George .Man of intergity👏👏👏👏"
          ],
          [
           "Mind Begs the Question:\n- When Governed by Politicians\n- Who justify Starvation,Death Camps,Gassing/White Phosphorus,Ethnic Cleansing,etc\n- Governed by Righteous or Satanic?"
          ],
          [
           "George Galloway is a brilliant speaker he brought common sense back to the House of Commons"
          ],
          [
           "Very well said Mr Galloway. Good to see you sat next to JC."
          ],
          [
           "Well said George Galloway."
          ],
          [
           "To be fair as a Christian I am concerned about this nonsense definition. May as well ban ban the Gospel."
          ],
          [
           "❤❤❤"
          ],
          [
           "I am so glad to hear George Galloway's voice and words of wisdom and reason back in the houses of Parliament  🙏🏿"
          ],
          [
           "Amazing speech"
          ],
          [
           "So much respect for him and the good gentleman siting next to him. 🕊🙏🏻✝️❤️"
          ],
          [
           "On the right side of history yesterday and again today, but never gets credit for it. 🙏🙏Mr Galloway"
          ],
          [
           "Right where he belongs. \n\nGood to have you back in politics Mr Galloway. ✌️ & ❤️"
          ],
          [
           "He is a good orator. If the public were able to see more of him speaking in parliament I think it would make a big difference."
          ],
          [
           "I have respect for Mr George Galloway  ❤❤❤❤❤"
          ],
          [
           "I see why they don’t like George.  He makes them look so foolish in under a minute ."
          ],
          [
           "Welll said George Galloway"
          ],
          [
           "Talk about letting the cat out of the bag. 😂. GG for P.M."
          ],
          [
           "Georgeous George.❤"
          ],
          [
           "Thank goodness that George Galloway is in Parliament."
          ],
          [
           "Jeremy!! Come on man, join the election with new party. Give a spanking to both pathetic ones by taking 200+ constituencies."
          ]
         ],
         "hovertemplate": "Title=Galloway criticises new definition of extremism announced by UK government<br>ID=%{x}<br>Likes_y=%{y}<br>Comment=%{customdata[0]}<extra></extra>",
         "legendgroup": "Galloway criticises new definition of extremism announced by UK government",
         "marker": {
          "color": "#00cc96",
          "symbol": "circle"
         },
         "mode": "markers",
         "name": "Galloway criticises new definition of extremism announced by UK government",
         "showlegend": true,
         "type": "scattergl",
         "x": [
          "d9nfGK73K9o",
          "d9nfGK73K9o",
          "d9nfGK73K9o",
          "d9nfGK73K9o",
          "d9nfGK73K9o",
          "d9nfGK73K9o",
          "d9nfGK73K9o",
          "d9nfGK73K9o",
          "d9nfGK73K9o",
          "d9nfGK73K9o",
          "d9nfGK73K9o",
          "d9nfGK73K9o",
          "d9nfGK73K9o",
          "d9nfGK73K9o",
          "d9nfGK73K9o",
          "d9nfGK73K9o",
          "d9nfGK73K9o",
          "d9nfGK73K9o",
          "d9nfGK73K9o",
          "d9nfGK73K9o",
          "d9nfGK73K9o",
          "d9nfGK73K9o",
          "d9nfGK73K9o",
          "d9nfGK73K9o",
          "d9nfGK73K9o",
          "d9nfGK73K9o",
          "d9nfGK73K9o",
          "d9nfGK73K9o",
          "d9nfGK73K9o",
          "d9nfGK73K9o",
          "d9nfGK73K9o",
          "d9nfGK73K9o",
          "d9nfGK73K9o",
          "d9nfGK73K9o",
          "d9nfGK73K9o",
          "d9nfGK73K9o",
          "d9nfGK73K9o",
          "d9nfGK73K9o",
          "d9nfGK73K9o",
          "d9nfGK73K9o",
          "d9nfGK73K9o",
          "d9nfGK73K9o",
          "d9nfGK73K9o",
          "d9nfGK73K9o",
          "d9nfGK73K9o",
          "d9nfGK73K9o",
          "d9nfGK73K9o",
          "d9nfGK73K9o",
          "d9nfGK73K9o",
          "d9nfGK73K9o"
         ],
         "xaxis": "x",
         "y": [
          633,
          812,
          446,
          89,
          158,
          460,
          165,
          347,
          76,
          396,
          416,
          53,
          44,
          32,
          118,
          7,
          31,
          45,
          76,
          46,
          159,
          6,
          9,
          8,
          7,
          167,
          8,
          125,
          30,
          95,
          7,
          8,
          93,
          37,
          47,
          22,
          16,
          25,
          94,
          111,
          20,
          62,
          80,
          32,
          80,
          5,
          32,
          5,
          21,
          5
         ],
         "yaxis": "y"
        },
        {
         "customdata": [
          [
           "ye, new definition of extremism: whatever is against israel"
          ],
          [
           "“Zionism is a genocidal ideology”, “It should be dismantled and destroyed “, Professor David Miller, formerly at Bristol University, in comments made in 2024, based on his academic research. Larry Johnson, former CIA analyst described Israel’s genocide on Gaza like the “Nazis when they entered Eastern Europe “."
          ],
          [
           "Work hard 12h a day and pay 30% tax and don't complain. Get your bone and sit. Otherwise you're an extremist"
          ],
          [
           "How about : \"Extreme Hypocrisy\", \"Extreme Cowardice\" would they fall into the definition? How about \"supporting Gencide\" ? would that be considered \"Extreme\"? What a world we live in, Criminals judging innocent people!!"
          ],
          [
           "then u can define anything based on ur preference??? bias and hypocrite. shame."
          ],
          [
           "The more they try to silence dissent to a documented and ongoing genocide, the more ridiculous their reasoning and linguistic gymnastics become. What a joke"
          ],
          [
           "So the definition they’ve just given is describing the UK government. Lol 😂"
          ],
          [
           "Control..control..control..."
          ],
          [
           "Is no one talking about how this makes Rishi sunak officially an extremist"
          ],
          [
           "Ban lobbying groups"
          ],
          [
           "jokers, bloody jokers."
          ],
          [
           "Against the famine and the crown ☘️🍉🕊️"
          ],
          [
           "What a clown"
          ],
          [
           "And the government breaks all the new definition of the wordings 😂😅🤣😃"
          ],
          [
           "Talk about a witch hunt!!!!"
          ],
          [
           "rubbish & waste of time/speech.!"
          ],
          [
           "Yea but zionism is all good right?"
          ],
          [
           "Gove is the first person that should be investigated for extremism, hate, radicalisation, polarisation and undermining the UK government and UK society."
          ],
          [
           "Thank you journalists for showing us the names and faces of these traitors"
          ],
          [
           "What are the definitions of \"occupation\" and \"apartheid\"?"
          ],
          [
           "And how would you suggest we tackle the extremism, violence and hatred carried out by our government without our acceptance do do so, let alone the same control you have over us to do so through economic models which you have done for years ? How do we apply the same laws to the people carrying out the laws which we haven't voted for ?"
          ],
          [
           "Inside they know what they themselves have become by empowering the genocide. No shame on their bloody faces."
          ],
          [
           "Enoch Powell the UK MP Warned us years ago but no one listened?"
          ],
          [
           "Translation: You're an extremist unless you give us tories a nice fat cheque"
          ],
          [
           "Utterly hypocritical"
          ],
          [
           "Control those who question them."
          ],
          [
           "He reminds me of George W. Replace English to a whole new language if you want to manipulate the masses because this won't work."
          ],
          [
           "What is the matter? Are you pissed off you’ve been found out?"
          ],
          [
           "It’s called fascism."
          ],
          [
           "They can do this because of countries like Saudis Arabia, Jordan, Egypt, and UEA being in their pockets"
          ],
          [
           "Zionism literally fits the definition Gove said in this clip, it's the ideology that is most fitting actually, even more than the ones they will go after with this definition of \"extremism\""
          ],
          [
           "BJP extremism!!"
          ],
          [
           "No mandate from the people. How dare they do anything at all."
          ],
          [
           "1982 is running late, however being a Tory government everything is running late, like the NHS funding, pay rises and local services."
          ],
          [
           "Under this definition any British citizens who come up with new ideas to improve or change their system of government would be called “extremists” by the government! Hahaha I guess I the UK has reached the pinaccle of public policy and government affairs and must never be challenged again 😂"
          ],
          [
           "How about zionism gave you that definition. 😂🤮🤣"
          ],
          [
           "\"Let the sovereignty be granted us over a portion of the globe large enough to satisfy the rightful requirements of a nation; the rest we shall manage for ourselves \" - Theodor Herzl"
          ],
          [
           "Sounds like this definition would label the UK government as extremist."
          ],
          [
           "These guys are frightened out of their wits that the world is changing, has changed and that the change has resulted in their own actions over the past at least 100 years. More frightening to them is that they _CANNOT DO ANYTHING ABOUT IT_"
          ],
          [
           "So....Islamism, but not Zionism?"
          ],
          [
           "No apartheid has a right to exist, period."
          ],
          [
           "Whst new definition  would Gove give for poverty, which so many people are suffering from.  I hate the tories for what they have done to this country."
          ],
          [
           "Just what we need. A new definition. We didn’t know what terrorism was before. Now we can recognise it. Maybe the police will start doing their job?!"
          ],
          [
           "He’s talking about acts he commits himself"
          ],
          [
           "Already conservatives have failed as uk has been flooded by huge immigration of the Indian population.. why is rishi sunak so bias it’s not about islam can he check and see what HINDUTVAS are doing in Leicester . I did at one point think rishi was a fair man . And I did think he was British but no way not after wat ive seen!!!"
          ],
          [
           "And what about Zionism?? Not gonna define that????"
          ],
          [
           "Thought policing in the making. No book ever foresaw this..."
          ],
          [
           "More rules and regulations in hopes to keep the slaves in line."
          ],
          [
           "He just defined his government's new expanded definition of extremism policy"
          ],
          [
           "Is ever there was an incomprehensible word salad, this is it."
          ]
         ],
         "hovertemplate": "Title=The UK government announced a new definition of extremism<br>ID=%{x}<br>Likes_y=%{y}<br>Comment=%{customdata[0]}<extra></extra>",
         "legendgroup": "The UK government announced a new definition of extremism",
         "marker": {
          "color": "#ab63fa",
          "symbol": "circle"
         },
         "mode": "markers",
         "name": "The UK government announced a new definition of extremism",
         "showlegend": true,
         "type": "scattergl",
         "x": [
          "KQO7VgRPjvA",
          "KQO7VgRPjvA",
          "KQO7VgRPjvA",
          "KQO7VgRPjvA",
          "KQO7VgRPjvA",
          "KQO7VgRPjvA",
          "KQO7VgRPjvA",
          "KQO7VgRPjvA",
          "KQO7VgRPjvA",
          "KQO7VgRPjvA",
          "KQO7VgRPjvA",
          "KQO7VgRPjvA",
          "KQO7VgRPjvA",
          "KQO7VgRPjvA",
          "KQO7VgRPjvA",
          "KQO7VgRPjvA",
          "KQO7VgRPjvA",
          "KQO7VgRPjvA",
          "KQO7VgRPjvA",
          "KQO7VgRPjvA",
          "KQO7VgRPjvA",
          "KQO7VgRPjvA",
          "KQO7VgRPjvA",
          "KQO7VgRPjvA",
          "KQO7VgRPjvA",
          "KQO7VgRPjvA",
          "KQO7VgRPjvA",
          "KQO7VgRPjvA",
          "KQO7VgRPjvA",
          "KQO7VgRPjvA",
          "KQO7VgRPjvA",
          "KQO7VgRPjvA",
          "KQO7VgRPjvA",
          "KQO7VgRPjvA",
          "KQO7VgRPjvA",
          "KQO7VgRPjvA",
          "KQO7VgRPjvA",
          "KQO7VgRPjvA",
          "KQO7VgRPjvA",
          "KQO7VgRPjvA",
          "KQO7VgRPjvA",
          "KQO7VgRPjvA",
          "KQO7VgRPjvA",
          "KQO7VgRPjvA",
          "KQO7VgRPjvA",
          "KQO7VgRPjvA",
          "KQO7VgRPjvA",
          "KQO7VgRPjvA",
          "KQO7VgRPjvA",
          "KQO7VgRPjvA"
         ],
         "xaxis": "x",
         "y": [
          82,
          49,
          81,
          201,
          109,
          132,
          132,
          118,
          32,
          28,
          138,
          67,
          49,
          29,
          44,
          59,
          93,
          5,
          12,
          24,
          27,
          9,
          20,
          9,
          11,
          13,
          11,
          6,
          3,
          6,
          9,
          6,
          14,
          5,
          6,
          9,
          2,
          2,
          1,
          30,
          13,
          1,
          1,
          3,
          2,
          4,
          12,
          1,
          1,
          1
         ],
         "yaxis": "y"
        },
        {
         "customdata": [
          [
           "\"There are forces here at work, trying to tear us apart\" - indeed there are...it's called the govt.!"
          ],
          [
           "You what the irony is here, is that the Government and Rishi Sunak himself has been encouraging and fueling Islamaphobia.😅"
          ],
          [
           "Deportation fast"
          ],
          [
           "Deport/Deport/Deport"
          ],
          [
           "An anonymous member of the East London mosque complains about Islamophobia - I presume your readers know the track record of this mosque."
          ],
          [
           "60% of anti muslim/anti islamic Posts originated from india 🇮🇳😢"
          ],
          [
           "You should be doing something about all the Muslim drug dealers ."
          ],
          [
           "Islamophobia arises from various reasons:\n\n1. Jihadi activities often reinforce negative perceptions of Islam.\n2. The treatment and rights of non-Muslims in Islamic countries contribute to this perception.\n3. The association of suicide bombers with the religion fuels prejudice.\n4. Efforts by Muslims to convert others can raise suspicions and fears.\n5. The percentage of non-Muslims in Islamic countries influences perceptions.\n6. Trends in the population of non-Muslims in Muslim countries impact perceptions.\n7. Consideration of the granting of citizenship to non-Muslims by Muslim-majority countries can affect perceptions.\n8. Restrictions on openly building churches or temples without permission can contribute to negative perceptions."
          ],
          [
           "I think \"shocking increase in extremism\" is just his way of saying \"people disagree with me when I tell them Israel are the good guys, and I think they should stop doing that!\""
          ],
          [
           "Speaking against opression is termed as extreamism. Any ways these people go and offend western socities while not opting to stay back at their countriesof origin and to fight thier own injust systems."
          ],
          [
           "Yes yet the British media does not showing about this news"
          ],
          [
           "when the president is a hindutva immigrant, there's no hope. What was in the mind of voters"
          ],
          [
           "Extremism in UK 😂😂😂😂 Winston Churchill ❤❤❤😂😂😂"
          ],
          [
           "Would Turkey want these extremists from Pakistan, Afghanistan, Bangladesh, Africa enriching Turkey...?"
          ],
          [
           "This is within expectation, Churchill, British's 'hero', too normalised what was done to the black aborigin Australians and the red indians in America.."
          ],
          [
           "wikipedia says this about michael gove: \" In 2019, he reiterated \"One thing I have always been since I was a boy is a Zionist\" and spoke of his desire to \"celebrate everything that Israel and the Jewish people have brought to the life of this world and hold it dear to our hearts\" and that \"For as long as I have breath in my body and a platform on which to argue I shall be on your side, by your side and delighted and honoured to argue, powerfully I hope, on behalf of people who have contributed so powerfully to the life of this nation\".\nMichael Gove claims he is a Zionist. So he cannot claim impartiality. And he will victimise all Non-Zionist groups."
          ],
          [
           "Enoch powell  warned the nation . No one listened . At least Hindus  are open minded  and peaceful"
          ],
          [
           "are they going to tackle the jewish extremists directly?"
          ],
          [
           "WHO ARE THE TERRORISTS HERE?"
          ],
          [
           "Mind Begs the Question:\n- Islam forbids Usury/Interest Banking\n- Those who practice,impose Usury\n- To view Islam as Threat to Eliminate/Demonize,no?"
          ],
          [
           "\"Phobia\" is not a term .  Youll have to prove anyone has an irrational fear of anything or face charges ."
          ],
          [
           "Alhumdulliah I have no plans for Britain."
          ],
          [
           "The consumer movement marks 15th March with World Consumer Rights Day every year, as a means of raising global"
          ],
          [
           "Dont like it dont protest agressively every weekend in england 🇬🇧"
          ],
          [
           "I'm sad seeing this, but I feel lucky being Indonesian at the same time. So far we are doing just fine here, last Sunday the Hindus is having their Nyepi and the Christian is having their church day just fine."
          ],
          [
           "Even the Muslims are afraid of other Muslims 😅😅"
          ],
          [
           "150 Million, pretty sure there are many more important things too."
          ],
          [
           "They hate everything but if  someone hate them they call this \" ıslamaphobia\" funny"
          ],
          [
           "I'm a British Turk. We are a secular family It was easy to assimilate for us we didn't form or integrate into a Turk ghetto, we came here in the early 60's. I see areas where there are Pakistani Muslims that don't integrate well here and try to live as Pakistanis in this country in ghettos very different cultures. I'm also aware that Sunak as a Hindu does have his own Hindu anti Muslim bias that I don't like and very likely UK will vote him out soon. Saying that some Pakistanis integrate very well and achieve good jobs and even our London Mayor is a Pakistani origin."
          ],
          [
           "They are not British Muslims but migrants from Bangladesh,  Pakistan"
          ],
          [
           "Everyone seems to be welcome in UK. Very loose immigration policy."
          ],
          [
           "Deportation😢😢😢"
          ],
          [
           "If a country accept you & gives you shelter, then you should get acclimatised to the Culture of that particular Country.\nDont force that Country to descend to a situation similar to where you came from. If they find you do the opposite, the indigenous people of that country will start raising questions. That's quite a normal thing. \nSo you should make them say you identify yourselves as proud Brits and would be loyal to King & Country. Thats the only solution. Prove them wrong rather than putting an Islamophobia tag to everything, it will just make the discussion go in a different & unwanted direction."
          ],
          [
           "Islamic tv station reporting... \"ok\"."
          ],
          [
           "Where is the DJ?"
          ],
          [
           "1:50 Rat"
          ],
          [
           "Seems to me like Muslims have been very well-provided for by the British.  I wonder how an of us Westerners would fare in a Muslim-majority country?  Probably not nearly as well.  So please, stop with the Islamophobia nonsense."
          ],
          [
           "Talking  about someone that have no neighbours  around him, tax manipulation  etc.....trying  to divide  people non Muslim  there ,and just a human getting fed up for the constant  gaslighting"
          ],
          [
           "There’s hate in the government if your Christian"
          ],
          [
           "Sunak must GO"
          ],
          [
           "\"Phobia\" suggests and irrational fear. Sorry, but fear of harm by Islamic militants is NOT irrational."
          ],
          [
           "Very sad state of affairs."
          ],
          [
           "Islam is a close corporation and the distinction that it makes between Muslims and non-Muslims is a very real, very positive and very alienating distinction. The brotherhood of Islam is not the universal brotherhood of man. It is a brotherhood of Muslims for Muslims only. There is a fraternity, but its benefit is confined to those within that corporation. For those who are outside the corporation, there is nothing but contempt and enmity,"
          ],
          [
           "TRT World.❤."
          ],
          [
           "what's that awful noise at the beginning of the video?"
          ],
          [
           "Lemmings!"
          ],
          [
           "Love peace and justice for all, there is good and bad in all races, religions, tribes, nations etc to err is human to use a collective to condemn or punish is still internationally a crime, emotions run high when blatant policies support such so instead of trying to unite our multi cultural society they incite hatred and bias for their own means of dividing us and they in power repeatedly do this, please do not fall for such, unite against such policies of hate and ridicule. Crying through drying tears 😢😢"
          ],
          [
           "could you please enlighten us on how religious and ethnic minorities are treated in turkiye please?"
          ],
          [
           "Fist ya allah pls stop this war ❤😊"
          ],
          [
           "The Indian origin PM is a now reason that UK public has to face for his hate?"
          ]
         ],
         "hovertemplate": "Title=British government about to redefine extremism<br>ID=%{x}<br>Likes_y=%{y}<br>Comment=%{customdata[0]}<extra></extra>",
         "legendgroup": "British government about to redefine extremism",
         "marker": {
          "color": "#FFA15A",
          "symbol": "circle"
         },
         "mode": "markers",
         "name": "British government about to redefine extremism",
         "showlegend": true,
         "type": "scattergl",
         "x": [
          "mVd1qR6AGOE",
          "mVd1qR6AGOE",
          "mVd1qR6AGOE",
          "mVd1qR6AGOE",
          "mVd1qR6AGOE",
          "mVd1qR6AGOE",
          "mVd1qR6AGOE",
          "mVd1qR6AGOE",
          "mVd1qR6AGOE",
          "mVd1qR6AGOE",
          "mVd1qR6AGOE",
          "mVd1qR6AGOE",
          "mVd1qR6AGOE",
          "mVd1qR6AGOE",
          "mVd1qR6AGOE",
          "mVd1qR6AGOE",
          "mVd1qR6AGOE",
          "mVd1qR6AGOE",
          "mVd1qR6AGOE",
          "mVd1qR6AGOE",
          "mVd1qR6AGOE",
          "mVd1qR6AGOE",
          "mVd1qR6AGOE",
          "mVd1qR6AGOE",
          "mVd1qR6AGOE",
          "mVd1qR6AGOE",
          "mVd1qR6AGOE",
          "mVd1qR6AGOE",
          "mVd1qR6AGOE",
          "mVd1qR6AGOE",
          "mVd1qR6AGOE",
          "mVd1qR6AGOE",
          "mVd1qR6AGOE",
          "mVd1qR6AGOE",
          "mVd1qR6AGOE",
          "mVd1qR6AGOE",
          "mVd1qR6AGOE",
          "mVd1qR6AGOE",
          "mVd1qR6AGOE",
          "mVd1qR6AGOE",
          "mVd1qR6AGOE",
          "mVd1qR6AGOE",
          "mVd1qR6AGOE",
          "mVd1qR6AGOE",
          "mVd1qR6AGOE",
          "mVd1qR6AGOE",
          "mVd1qR6AGOE",
          "mVd1qR6AGOE",
          "mVd1qR6AGOE",
          "mVd1qR6AGOE"
         ],
         "xaxis": "x",
         "y": [
          167,
          239,
          15,
          19,
          11,
          231,
          21,
          6,
          15,
          20,
          84,
          55,
          63,
          20,
          56,
          6,
          16,
          63,
          3,
          16,
          12,
          2,
          2,
          2,
          3,
          22,
          1,
          16,
          21,
          1,
          1,
          9,
          25,
          2,
          0,
          21,
          9,
          1,
          2,
          9,
          9,
          0,
          0,
          25,
          3,
          0,
          0,
          7,
          9,
          0
         ],
         "yaxis": "y"
        },
        {
         "customdata": [
          [
           "Absolutely disgusting"
          ],
          [
           "\"Extremist' is whatever the government finds inconvenient. An individual has the right to hate and be intolerant of whatever they choose."
          ],
          [
           "It's illegal to criticise the government in any meaningful way, nice."
          ],
          [
           "Definition of Extremism;  Supporting Genocide\r\nUndermining Liberal Democracy; Paying backhanders to politicians.\r\nWhen are you going to hand yourself in, Gove?"
          ],
          [
           "Government announces that those who pronounce 'scone' as 'scone' will be defined as extreme..."
          ],
          [
           "everything written in this new definition is applicable to and against the government who has written it."
          ],
          [
           "Funding Israel's Genocide in Gaza is Extreme as is killing over 31,000 innocent Palestinian Civilians and providing the weapons, bombs for the Genocide is Extreme. Israel's preventing UN humanitarian supplies from reaching Gaza and allowing Gazans to die of thirst, hunger and disease is EXTREME!  Preventing the British People's Parliament from debating or having a vote against the UK funded Genocide in Gaza is also EXTREME! Mr Gove!"
          ],
          [
           "He’s literally describing the Conservative Party…"
          ],
          [
           "how will this lower my rent and groceries"
          ],
          [
           "Parliamentary privilege for Gore to put fear in those who organise for Palestine Peace marches"
          ],
          [
           "Friends of Israel fits the definition."
          ],
          [
           "\"Extremist\" will become anyone who dares to question the narrative of the Patrician Oligarchy on any subject."
          ],
          [
           "If anyone was in  doubt that Gove, and the overwhelming majority of his colleagues in Parliament, are treacherous and do not have the best interest of the British people at heart this short video should serve to prove the point."
          ],
          [
           "How about : \"Extreme Hypocrisy\", \"Extreme Cowardice\" would they fall into the definition? How about \"supporting Gencide\" ? would that be considered \"Extreme\"? What a world we live in, Criminals judging innocent people!!"
          ],
          [
           "Does this mean the Tory donor will now be interviewed by police? If not why not?"
          ],
          [
           "You have prevented Patriotic Alternative from engaging in the democratic process, you've fallen foul of your own definition."
          ],
          [
           "Protest is not the exact same thing as violence."
          ],
          [
           "Addressing issues that do not exist is madness.. Its like the laws are getting ready for an uprising from the English Patriots.."
          ],
          [
           "Extremist definition: Conservative and Unionist party."
          ],
          [
           "'Extremism' - anything outside of Labour and Conservatism.\n 😂 Its Democracy honest 👍"
          ],
          [
           "I think with analysing this, if this becomes statute & fully legal, then this power could potentially be misused"
          ],
          [
           "Putting the word intolerance in it is a mistake… Now everyone will throw extremist accusations… You’re intolerant of me no you intolerant of us… no you"
          ],
          [
           "so by that logic even the groups he said right at the beginning should be classed as extremist"
          ],
          [
           "He missed GB News on that list"
          ],
          [
           "where is the beginning and end?  this looks too edited"
          ],
          [
           "They keep punting out poor law… stuff that is not clear… they’ve spent so long exploiting loopholes they think that’s how law should be"
          ],
          [
           "Gove should be imprisoned for appeasing the ideological enemy of the British people."
          ],
          [
           "Will Rangers, Celtic and the The orange order come under this?"
          ],
          [
           "Haven't the Torys just thrown themselves under the bus with this new definition? They fit it to a 't\"."
          ],
          [
           "When Boris was in I was actually gonna vote for the Tories, but not now. They are finnished"
          ],
          [
           "Gove is a Berkshire."
          ],
          [
           "Defeats equality"
          ],
          [
           "7 months and counting"
          ],
          [
           "'special'"
          ],
          [
           "Are we living in the 1930s?"
          ],
          [
           "Michael Gove defends Steve Bannon in latest Trump puff piece\n17 Jan 2017 — Michael Gove today defended 'alt-right' scribbler and Donald Trump strategy chief Steve Bannon, implying the former Breitbart editor"
          ],
          [
           "ინგლისი    მიხედეთ,  პარლამენტს.  ( კორუფციაში  არის   ამერიკასთან) .       ჩაგრავენ  ირლანდიას  ..."
          ],
          [
           "I think they don't understand the term extremism anymore. Just because someone is Racist, Sexist or has an opinion differing from the normal, doesn't mean they are an extremist. that's freedom of speech and expression even if people do not agree or like it. Now causing violence and death over a religion, or political cause is extremism. and I think the British people know the issue here with a certain type of religion and people. Its just a matter of time until we stand up."
          ],
          [
           "Lol"
          ],
          [
           "Woah, hold on, this definition sounds like my voters."
          ],
          [
           "The definition is too open to interpretation which, will put more money in lawyers pockets and waste politician's time. Two things hard working people do not want. The law in my opinion, needs to be more specific so, that criminals can be prosecuted or made to leave the UK if they disagree with our laws. We want a peaceful nation so, we can focus on growth, productivity and innovation to rebuild this country. Getting the work-shy working etc... not more time wasting debate where nothing changes  and the only outcome is a torn and divided country that is destroying itself."
          ],
          [
           "How do we stop the Guardian appearing in our feeds please?\nI looked for \"don't recommend channel\" but it wasn't there."
          ],
          [
           "What religion pops into your head when I say the word \"terrorism\". I rest my case."
          ],
          [
           "Can someone please tell me whether verses 9.29 and 98.6 from Qur'an promote extremism or not? 🤔"
          ],
          [
           "Praising a pdf file as the perfect man seems pretty extreme  to me.  Aisha was 9."
          ],
          [
           "He will will have upset every terrorist appeasement Guardian ‘reader’ there is. Excellent work!!"
          ]
         ],
         "hovertemplate": "Title=Michael Gove sets out new extremism definition for UK government<br>ID=%{x}<br>Likes_y=%{y}<br>Comment=%{customdata[0]}<extra></extra>",
         "legendgroup": "Michael Gove sets out new extremism definition for UK government",
         "marker": {
          "color": "#19d3f3",
          "symbol": "circle"
         },
         "mode": "markers",
         "name": "Michael Gove sets out new extremism definition for UK government",
         "showlegend": true,
         "type": "scattergl",
         "x": [
          "1SCRG2oDihQ",
          "1SCRG2oDihQ",
          "1SCRG2oDihQ",
          "1SCRG2oDihQ",
          "1SCRG2oDihQ",
          "1SCRG2oDihQ",
          "1SCRG2oDihQ",
          "1SCRG2oDihQ",
          "1SCRG2oDihQ",
          "1SCRG2oDihQ",
          "1SCRG2oDihQ",
          "1SCRG2oDihQ",
          "1SCRG2oDihQ",
          "1SCRG2oDihQ",
          "1SCRG2oDihQ",
          "1SCRG2oDihQ",
          "1SCRG2oDihQ",
          "1SCRG2oDihQ",
          "1SCRG2oDihQ",
          "1SCRG2oDihQ",
          "1SCRG2oDihQ",
          "1SCRG2oDihQ",
          "1SCRG2oDihQ",
          "1SCRG2oDihQ",
          "1SCRG2oDihQ",
          "1SCRG2oDihQ",
          "1SCRG2oDihQ",
          "1SCRG2oDihQ",
          "1SCRG2oDihQ",
          "1SCRG2oDihQ",
          "1SCRG2oDihQ",
          "1SCRG2oDihQ",
          "1SCRG2oDihQ",
          "1SCRG2oDihQ",
          "1SCRG2oDihQ",
          "1SCRG2oDihQ",
          "1SCRG2oDihQ",
          "1SCRG2oDihQ",
          "1SCRG2oDihQ",
          "1SCRG2oDihQ",
          "1SCRG2oDihQ",
          "1SCRG2oDihQ",
          "1SCRG2oDihQ",
          "1SCRG2oDihQ",
          "1SCRG2oDihQ",
          "1SCRG2oDihQ"
         ],
         "xaxis": "x",
         "y": [
          49,
          76,
          31,
          41,
          37,
          20,
          15,
          11,
          7,
          7,
          18,
          5,
          6,
          4,
          17,
          4,
          4,
          2,
          3,
          3,
          2,
          4,
          1,
          7,
          0,
          0,
          1,
          0,
          0,
          0,
          0,
          0,
          0,
          0,
          1,
          0,
          0,
          3,
          0,
          0,
          0,
          0,
          1,
          0,
          0,
          2
         ],
         "yaxis": "y"
        },
        {
         "customdata": [
          [
           "I can assume disagreeing with the government is considered extremism nowadays."
          ],
          [
           "Summary: Every one is an extremist."
          ],
          [
           "New extremism definition...\"If you disagree or try to stop Gov, billionaires, or their corporations, you are extremists\"."
          ],
          [
           "Free speech is not about speech you agree with it is about the right of speech you don’t agree with"
          ],
          [
           "DON'T BE FOOLED. THE DOUBLE STANDARDS WILL CONTINUE - THEY'VE JUST GIVEN THEMSELVES MORE POWER TO APPLY THEM."
          ],
          [
           "so the current government would be classed as extremist then."
          ],
          [
           "Utterly disgusting behaviour by the government"
          ],
          [
           "“Those 🤡who make peaceful revolution impossible will make violent revolution inevitable.”\n— John F. Kennedy ✊"
          ],
          [
           "'I prefer dangerous freedom over peaceful slavery.' \n-Thomas Jefferson 📚"
          ],
          [
           "Good bye UK. It is over. It's like in this movie V for Vendetta"
          ],
          [
           "I won't tolerate murder, therefore, I ought to be censored or prosecuted under this new law...."
          ],
          [
           "extremism is saying ''israel stop apartheid'"
          ],
          [
           "If I Call Rishi NOT MY PM, consider as extremism?"
          ],
          [
           "'When the people fear the government there is tyranny; \nwhen the government fears the people there is liberty.' \n-Thomas Jefferson ⚖"
          ],
          [
           "The word \"extremism\" can be open to interpretation, relying on the current government to define it can lead to scary results."
          ],
          [
           "Notice they don't say who will be banned by NAME, just a vague term that they can apply to ANYONE."
          ],
          [
           "1984"
          ],
          [
           "Of course Michael Gove is responsible for this"
          ],
          [
           "My cat is called extremist for protesting"
          ],
          [
           "By that definition of extremism i would say the government is guilty of it."
          ],
          [
           "What a dangerous legislation from an unelected government. I hope this will be challenged in Courts."
          ],
          [
           "So that's Zionism done for then...surely..."
          ],
          [
           "1984 anyone??"
          ],
          [
           "How about : \"Extreme Hypocrisy\", \"Extreme Cowardice\" would they fall into the definition? How about \"supporting Gencide\" ? would that be considered \"Extreme\"? What a world we live in, Criminals judging innocent people!!"
          ],
          [
           "Love how the BBC skipped over the 'Muslim' groups at break neck speed and straight to the 'faaaar right' 😂"
          ],
          [
           "The UK needs to protect its people not TERRORIST."
          ],
          [
           "Enter the Thought Police🚨"
          ],
          [
           "Friends of Israel fits in with that definition."
          ],
          [
           "Rishi Sunak. He promised you order, he promised you peace, and all he demanded in return was your silent, obedient consent.\n\nAlan Moore was right when he wrote \"V for Vendetta\" and imagin.Moore was initially inspired by the uneasy feelings he had about the Thatcher regime in the UK in the 80s"
          ],
          [
           "That’s it people we now live in a F’cist state where “intolerance” can be used to ruin anyone’s life."
          ],
          [
           "Get stuffed little rishi."
          ],
          [
           "The idea of a government deciding what words mean is asinine"
          ],
          [
           "This is why the UK needs a \"first amendment\" type of freedom of speech law...."
          ],
          [
           "If I call a man a man who is dressed as a woman am I beig extreme? Or simply telling the truth?"
          ],
          [
           "Such and incredibly broad and vague definition of “extremism”. Practically anyone and anything can be one. Grateful I live in a nation where freedom of speech and assembly is a guaranteed right."
          ],
          [
           "Orwellian times"
          ],
          [
           "Were being censored with our comments and what we can say for ages incase we upset anyone it's ridiculous sick of it"
          ],
          [
           "This definitely won't be abused eventually. 🤦‍♂🤦‍♂🤦‍♂"
          ],
          [
           "Think for yourself and bam you're an extremist."
          ],
          [
           "First they go for them and then they come for you"
          ],
          [
           "vote green, or ANYONE else but Labour or the conservative, we need change urgently. This gov is only interested in money going into their pockets, war, and poverty!"
          ],
          [
           "Second most miserable place in the world looking to take the lead."
          ],
          [
           "Hahahahaha wtf? How scared must they be to do that? About to lose control much?"
          ],
          [
           "To stop protests against the government more like"
          ],
          [
           "Why is the BBC showing a march for peace in Gaza as a backdrop for a report on extremism?"
          ],
          [
           "Those are tricky waters to navigate because intolerance is fostered by many a religion."
          ],
          [
           "BBC...why pro-Palestinian demonstration video's and not pro-Israel videos? This shows who they are targeting deep down"
          ],
          [
           "Free Speech under attack reminds me of the National Socialist Party in Germany during the Hitler years. "
          ],
          [
           "Yes, BBC, you have stopped showing balance in your reporting."
          ],
          [
           "Before defining extremism the government really should of looked at it's own systems to make sure it doesn't fall under their new definition, I advice sunak to take a close look at the new definition and compare"
          ]
         ],
         "hovertemplate": "Title=UK government unveils new extremism definition after free speech concern | BBC News<br>ID=%{x}<br>Likes_y=%{y}<br>Comment=%{customdata[0]}<extra></extra>",
         "legendgroup": "UK government unveils new extremism definition after free speech concern | BBC News",
         "marker": {
          "color": "#FF6692",
          "symbol": "circle"
         },
         "mode": "markers",
         "name": "UK government unveils new extremism definition after free speech concern | BBC News",
         "showlegend": true,
         "type": "scattergl",
         "x": [
          "DTwXd38Peq0",
          "DTwXd38Peq0",
          "DTwXd38Peq0",
          "DTwXd38Peq0",
          "DTwXd38Peq0",
          "DTwXd38Peq0",
          "DTwXd38Peq0",
          "DTwXd38Peq0",
          "DTwXd38Peq0",
          "DTwXd38Peq0",
          "DTwXd38Peq0",
          "DTwXd38Peq0",
          "DTwXd38Peq0",
          "DTwXd38Peq0",
          "DTwXd38Peq0",
          "DTwXd38Peq0",
          "DTwXd38Peq0",
          "DTwXd38Peq0",
          "DTwXd38Peq0",
          "DTwXd38Peq0",
          "DTwXd38Peq0",
          "DTwXd38Peq0",
          "DTwXd38Peq0",
          "DTwXd38Peq0",
          "DTwXd38Peq0",
          "DTwXd38Peq0",
          "DTwXd38Peq0",
          "DTwXd38Peq0",
          "DTwXd38Peq0",
          "DTwXd38Peq0",
          "DTwXd38Peq0",
          "DTwXd38Peq0",
          "DTwXd38Peq0",
          "DTwXd38Peq0",
          "DTwXd38Peq0",
          "DTwXd38Peq0",
          "DTwXd38Peq0",
          "DTwXd38Peq0",
          "DTwXd38Peq0",
          "DTwXd38Peq0",
          "DTwXd38Peq0",
          "DTwXd38Peq0",
          "DTwXd38Peq0",
          "DTwXd38Peq0",
          "DTwXd38Peq0",
          "DTwXd38Peq0",
          "DTwXd38Peq0",
          "DTwXd38Peq0",
          "DTwXd38Peq0",
          "DTwXd38Peq0"
         ],
         "xaxis": "x",
         "y": [
          386,
          373,
          209,
          69,
          236,
          90,
          48,
          212,
          157,
          110,
          135,
          67,
          18,
          74,
          64,
          73,
          35,
          42,
          12,
          48,
          16,
          25,
          8,
          13,
          102,
          88,
          15,
          18,
          20,
          8,
          20,
          6,
          8,
          10,
          11,
          7,
          8,
          11,
          19,
          11,
          53,
          7,
          5,
          7,
          14,
          6,
          12,
          11,
          3,
          4
         ],
         "yaxis": "y"
        },
        {
         "customdata": [
          [
           "Big Bro Gove clamps down on Thoughtcrime.\nNo need for trials or courts, just Michael Gove."
          ],
          [
           "They really are doing their best to make 1984 a reality."
          ],
          [
           "Its all about censorship, they dont want us calling out their corruption and crimes, essentially the COVID crimes against humanity."
          ],
          [
           "Here comes the \"doxa\" censorship!\nAppalling"
          ],
          [
           "If they didnt name the tory party and their donors, then this is B.S. 😂"
          ],
          [
           "What about Zionism ?."
          ],
          [
           "Wtf does he know about extremism ain't he a housing minister and is this not the job of the home secretary"
          ],
          [
           "This definition would be doom for Christian evangelicals…"
          ],
          [
           "None more extreme than those currently in power."
          ],
          [
           "Give up your rights for safety. Shocking"
          ],
          [
           "In the words of David Cameron ..state multiculturalism has failed ..   Will big Dave be getting the 3am big red key ???"
          ],
          [
           "PA yes so extreme I dont think."
          ],
          [
           "🎉🎉🎉🎉🎉"
          ],
          [
           "I like the salty comments about it being harder to get away with racism."
          ],
          [
           "Please\nAsk yourself, do People have any Time/Respect for what GOVE says ????????\nI don't think so."
          ],
          [
           "When 'right wing', means genuine concern for the future."
          ],
          [
           "what a tot"
          ],
          [
           "HE needs to be reassessed FCOL."
          ],
          [
           "Extremism...from the people that locked down the nation until everyone took multiple shots of a bioweapon 😂😂😂"
          ],
          [
           "🤡 Gove"
          ],
          [
           "So we are shutting mosques?"
          ],
          [
           "Authoritarianism."
          ],
          [
           "FASCISTS"
          ],
          [
           "He needs to read the Koran."
          ],
          [
           "I was gonna comment"
          ],
          [
           "Religion of peace?"
          ],
          [
           "The tories are really playing the 1984 playbook..thoughtcrime anyone?"
          ],
          [
           "Islam is a religion of peace. Hahaha, someone tell Gove to read Quaran chapter 9 verses 29-30"
          ],
          [
           "Then that must  surely also mean  mp 30p lee.He is a right  wing extremist"
          ]
         ],
         "hovertemplate": "Title=Extremism: Gove names groups to be re-assessed under new definition<br>ID=%{x}<br>Likes_y=%{y}<br>Comment=%{customdata[0]}<extra></extra>",
         "legendgroup": "Extremism: Gove names groups to be re-assessed under new definition",
         "marker": {
          "color": "#B6E880",
          "symbol": "circle"
         },
         "mode": "markers",
         "name": "Extremism: Gove names groups to be re-assessed under new definition",
         "showlegend": true,
         "type": "scattergl",
         "x": [
          "uuDZJuBNrBs",
          "uuDZJuBNrBs",
          "uuDZJuBNrBs",
          "uuDZJuBNrBs",
          "uuDZJuBNrBs",
          "uuDZJuBNrBs",
          "uuDZJuBNrBs",
          "uuDZJuBNrBs",
          "uuDZJuBNrBs",
          "uuDZJuBNrBs",
          "uuDZJuBNrBs",
          "uuDZJuBNrBs",
          "uuDZJuBNrBs",
          "uuDZJuBNrBs",
          "uuDZJuBNrBs",
          "uuDZJuBNrBs",
          "uuDZJuBNrBs",
          "uuDZJuBNrBs",
          "uuDZJuBNrBs",
          "uuDZJuBNrBs",
          "uuDZJuBNrBs",
          "uuDZJuBNrBs",
          "uuDZJuBNrBs",
          "uuDZJuBNrBs",
          "uuDZJuBNrBs",
          "uuDZJuBNrBs",
          "uuDZJuBNrBs",
          "uuDZJuBNrBs",
          "uuDZJuBNrBs"
         ],
         "xaxis": "x",
         "y": [
          26,
          29,
          24,
          8,
          6,
          5,
          12,
          5,
          1,
          1,
          1,
          0,
          0,
          0,
          0,
          4,
          0,
          0,
          16,
          0,
          5,
          14,
          4,
          12,
          2,
          1,
          0,
          1,
          2
         ],
         "yaxis": "y"
        },
        {
         "customdata": [
          [
           "So an extremist is basically anyone who exposes them 😂😂😂😂"
          ],
          [
           "So extremist is anyone who disagrees with the government. Democracy 🤔"
          ],
          [
           "I think Israel and the usa fall uner these groups."
          ],
          [
           "Food prices are extremism 😅"
          ],
          [
           "What about extremist landlords in London? Charging extremely high rents, destroying the freedoms of others"
          ],
          [
           "How about : \"Extreme Hypocrisy\", \"Extreme Cowardice\" would they fall unto the definition? How about \"supporting Gencide\" ? would that be considered \"Extreme\"? What a world we live in, Criminals judging innocent people!!"
          ],
          [
           "One wonders how peace in Northern Ireland would have achieved if the Government of the time had refused to engage with 'extremists'."
          ],
          [
           "He is an extremist, pot calling kettle black😢"
          ],
          [
           "Zionism falls into this category."
          ],
          [
           "Jewish lobbying groups included as well ??"
          ],
          [
           "A government that listens to the people wouldn't have protests"
          ],
          [
           "If Boris Johnson and Suella Braverman are excluded from his definition of an extremist then his definition needs tightening up."
          ],
          [
           "Tory party racist"
          ],
          [
           "How on earth do we have a drug user, who should be having a criminal record …defining anything and set rules 😂 😂😂"
          ],
          [
           "The rise of Mc Carthyism in Blighty"
          ],
          [
           "What a clownshow of a government.\nThen again what you except from a selected Prime Minister. This is authoritarianism in a nutshell, banning opposition."
          ],
          [
           "Because the government wants 'extremism' to mean 'anything inconvenient to Tories'."
          ],
          [
           "They described the Tory Party lol. If only there was a body out there organised to enforce this."
          ],
          [
           "So you literally defined Zionism. Not sure if you realised that"
          ],
          [
           "Priti patel and suella braverman were the two worst extremists in the tory party in the last decade. There tories have been saturated in racism and extremist language and actions against any non tory supporting groups. Robert jenrick painted over cartoon murals in a processing centre for asylum seekers. Braverman blathered on about lefty lawyers,failed multiculturism in the uk and declared that pakistani men were the main people guilty of being part of grooming gangs. The police corrected that scurrilous and extremist disinformation. The tories are the most extremist organisation in the uk and many in the  labour party are as guilty of extremist behaviour. Look how many lies that labour party staff and mps ,including starmer,told about corbyn"
          ],
          [
           "What about the Tory Party?"
          ],
          [
           "😂😂😂it’s look like running Uk government Isreal prime ministers 😂😂😂😂 what shame"
          ],
          [
           "If you can’t speak the truth, change the definition of truth."
          ],
          [
           "Conservative and Unionist Party would be in breach of Tories new Extremism Laws on multiple issues over 45 years."
          ],
          [
           "The definition states: \"Using, threatening, inciting, justifying, glorifying or excusing violence towards a group in order to dissuade them from using their legally defined rights and freedoms.\"- that basically describes every politician and MSM outlet that has enabled this war and are preventing a ceasefire!? The lack of self awareness and hypocrisy is off the scale."
          ],
          [
           "Funding Israel's Genocide in Gaza is Extreme as is killing over 31,000 innocent Palestinian Civilians and providing the weapons, bombs for the Genocide is Extreme. Israel's preventing UN humanitarian supplies from reaching Gaza and allowing Gazans to die of thirst, hunger and disease is EXTREME!  Preventing the British People's Parliament from debating or having a vote against the UK funded Genocide in Gaza is also EXTREME! Mr Gove!"
          ],
          [
           "The British government needs to look at the root of these extremists rather than striving to protest against them or go against them. In any healthy government,there should be an immediate attention paid to radicalism or extremism ! When you rise against different ideologies as extremism , you are being extremist too. You don’t fight fire with fire! It is so easy to name a Muslim group as it is part of the fabric that is woven in the British mentality! Rishi Sunak is a flagrant racist and cannot speak on behalf of the whole country as there would be many who would  oppose his views! This is all because of what is happening in Palestine! If you are in support of the Palestinian cause, you are called an extremist! This again shows his allegiance to Israel more than he does to his own people. Britain is facing huge economic and social problems,instead of focusing on the real issues , he is fighting a Zionist agenda in Great Britain!"
          ],
          [
           "When playing the victim becomes a virtue."
          ],
          [
           "The law sounds very vague and I could see it being misused. I’d be surprised if the Supreme Court doesn’t nullify this bill or redact it at least."
          ],
          [
           "Why are people surprised only now of these tailored definitions? Look at the definition of who are the Semite people and groups, and then the definition of who are solely mentioned when talking about antisemitism !!!"
          ],
          [
           "Two whole weeks to devise this new definition, without consulting any experts or anyone who works with extremists or the police or lawyers. And now government ministers can get to decide who is an extremist while they're eating their cornflakes without any independent oversight. Should we just trust them not to name people whose opinions they just don't like?"
          ],
          [
           "gove directly funds extremists every time he gets his 8 ball....."
          ],
          [
           "This definition of extremism should be tightened up to include local councils that are eroding citizens' rights."
          ],
          [
           "How can anyone take Gove seriously?"
          ],
          [
           "It's interesting no one is telling Gove in interviews that his definition literally defines what their donor said about Diane Abbot"
          ],
          [
           "Illegal immigration is ILLEGAL, you'd go to prison for breaking the law so should the government."
          ],
          [
           "Unfortunately untill  the people have a say in our major economic decisions we don't excatly meet the definition of a democracy as its the people that decide our economic decisions that determine our social issues"
          ],
          [
           "The power of Zionism."
          ],
          [
           "So under this definition we should not have Labour friends of Isreal and Conservative friends of Isreal lobbying the government as they are literately what is described on these terms."
          ],
          [
           "Was he on Coke ,when he came up with this ?\nOr was he laundering one of his Pals PPE money ?"
          ],
          [
           "Will the extremism definition cover political parties that accepted donations from Russian oligarchs?"
          ],
          [
           "Ministry of truth playing with words for the party"
          ],
          [
           "I think so little of SK shame on you!!!!!!!!!!!!!!"
          ],
          [
           "Will this mean extreme ironing will be banned ? 😂😂"
          ],
          [
           "It's interesting that if you just subtract the word ideology so the definition reads \"the promotion of violence, hatred or intolerance that aims to destroy the fundamental rights and freedoms of others or undermine the system of liberal democracy\" it could easily be shown to describe the Tory's own politics, as well as many of the industries that support them. As such, their only defence is that they are so sociopathic that no one could credibly claim that they believe in anything. Ideology is the dirty word, not violence. \n\nThat said, even the given definition clearly applies to the current Israeli government. Let's see if Galloway at least tries to put that to them, can't think of anyone else in parliament willing to point out the crushingly obvious."
          ],
          [
           "Government making the rules and also deciding they should be the ones to assess other groups, all kinds of alarm bells going off.\nThis legislation already screams that only the ones with money will be able to have a voice loud enough to get heard.\n\nThe biggest risk from extremism is currently in westminster on the benches infested by the blue tories and their starmerite counterparts of the red brigade. Tory donor suggests he's like to see an MP shot and somehow that's acceptable to westminster who'd rather see the person in question stand and be rejected by the speaker 46 times during PMQs"
          ],
          [
           "Quite surprised why people believed that MCB would be spared. If there are abhorrent verses in any texts which some people are force fed using religious institutions , what should government do in the long term sanity of a nation ?"
          ],
          [
           "Cower and hide from the ADL."
          ],
          [
           "Holding a journalist/publisher in solitary confinement in Belmarsh for 5 years, on no charge, awaiting possible extradition to the  US, where he could face the death penalty for calling out war crimes against civilians, is extremist."
          ],
          [
           "Thin end of the wedge"
          ]
         ],
         "hovertemplate": "Title=Government assessing five groups under new definition of ‘extremism’<br>ID=%{x}<br>Likes_y=%{y}<br>Comment=%{customdata[0]}<extra></extra>",
         "legendgroup": "Government assessing five groups under new definition of ‘extremism’",
         "marker": {
          "color": "#FF97FF",
          "symbol": "circle"
         },
         "mode": "markers",
         "name": "Government assessing five groups under new definition of ‘extremism’",
         "showlegend": true,
         "type": "scattergl",
         "x": [
          "NCzlO0DK_9k",
          "NCzlO0DK_9k",
          "NCzlO0DK_9k",
          "NCzlO0DK_9k",
          "NCzlO0DK_9k",
          "NCzlO0DK_9k",
          "NCzlO0DK_9k",
          "NCzlO0DK_9k",
          "NCzlO0DK_9k",
          "NCzlO0DK_9k",
          "NCzlO0DK_9k",
          "NCzlO0DK_9k",
          "NCzlO0DK_9k",
          "NCzlO0DK_9k",
          "NCzlO0DK_9k",
          "NCzlO0DK_9k",
          "NCzlO0DK_9k",
          "NCzlO0DK_9k",
          "NCzlO0DK_9k",
          "NCzlO0DK_9k",
          "NCzlO0DK_9k",
          "NCzlO0DK_9k",
          "NCzlO0DK_9k",
          "NCzlO0DK_9k",
          "NCzlO0DK_9k",
          "NCzlO0DK_9k",
          "NCzlO0DK_9k",
          "NCzlO0DK_9k",
          "NCzlO0DK_9k",
          "NCzlO0DK_9k",
          "NCzlO0DK_9k",
          "NCzlO0DK_9k",
          "NCzlO0DK_9k",
          "NCzlO0DK_9k",
          "NCzlO0DK_9k",
          "NCzlO0DK_9k",
          "NCzlO0DK_9k",
          "NCzlO0DK_9k",
          "NCzlO0DK_9k",
          "NCzlO0DK_9k",
          "NCzlO0DK_9k",
          "NCzlO0DK_9k",
          "NCzlO0DK_9k",
          "NCzlO0DK_9k",
          "NCzlO0DK_9k",
          "NCzlO0DK_9k",
          "NCzlO0DK_9k",
          "NCzlO0DK_9k",
          "NCzlO0DK_9k",
          "NCzlO0DK_9k"
         ],
         "xaxis": "x",
         "y": [
          312,
          48,
          149,
          69,
          198,
          89,
          108,
          106,
          204,
          53,
          61,
          119,
          57,
          97,
          25,
          55,
          35,
          30,
          44,
          34,
          29,
          32,
          13,
          17,
          5,
          34,
          11,
          6,
          4,
          3,
          3,
          5,
          6,
          3,
          4,
          3,
          2,
          5,
          2,
          5,
          3,
          3,
          6,
          2,
          2,
          1,
          1,
          5,
          2,
          3
         ],
         "yaxis": "y"
        },
        {
         "customdata": [
          [
           "https://youtu.be/GoG-LJlNG80?si=c4oo65zJ7sBiQANq"
          ],
          [
           "Abdullah Al Andalusi is always good to listen to"
          ],
          [
           "Yes it’s extreme love for peace, extreme desire for justice, and extreme concern for these temporary powers and how they treat poor people."
          ],
          [
           "From the river to the sea Palestine will be free"
          ],
          [
           "brother Abdulla may Allah bless you"
          ],
          [
           "Excellent discussion."
          ],
          [
           "I appreciate the fantastic discussion you had. May Allah bless you brothers with good health and long life"
          ],
          [
           "Salam from Penang \n😢I'm being sad about the situation.. changing the definition should be turned back to them..zionism is very much equal to extremism."
          ],
          [
           "We are ummatan wasathan. Always good to hear from ustad Abdallah"
          ],
          [
           "Paul is a very eloquent speaker ,"
          ],
          [
           "Good work again. May Allah protect you"
          ],
          [
           "one's got to be special kind of mental to label those who oppose apartheid colonialism as *_extremists_*"
          ],
          [
           "It's extremism if u stay silent in times of a genocid"
          ],
          [
           "It's time to wait for Fajr adzan in my area. Happy fasting my Muslim brothers and sisters."
          ],
          [
           "Excellent discussion more Palestine discussions brother Paul please and Yemen, Sudan, Iraq, Syria, Libya, Somalia, Afghanistan. Thanks"
          ],
          [
           "Salaam"
          ],
          [
           "May Allah Bless Both of You in this Life and in the Hereafter."
          ],
          [
           "❤❤"
          ],
          [
           "Good episode 👌🏻"
          ],
          [
           "Salam alaikum.... Just starting watching"
          ],
          [
           "mashallah"
          ],
          [
           "Ramadan mubarak brother Paul."
          ],
          [
           "0:03: ⚔️ Debate on UK's extremism policy regarding Pro Palestinian protests with Abdullah and Nigel Farage.\n6:03: ⚖️ Debate on redefining extremism and its impact on pro-Palestinian activism in Europe.\n11:46: ⚔️ Discussion on the misinterpretation of the term Jihad in the context of resistance to occupation.\n17:26: ⚖️ Islamic governance allowed autonomy for different religious communities under a Federation system.\n22:51: ⚠️ Speculation arises as government considers labeling journalists as extremists, leading to their removal from a list of organizations.\n28:16: 💥 Diverse responses to injustice in America: from peaceful movements to violent actions due to oppression and power dynamics.\n33:41: ⚔️ Connection between terrorism and involvement in wars, as discussed in the debate.\n39:02: ⚖️ Comparison between reactions to extremist views of different religious groups and Muslims expressing legitimate views on Jihad.\n44:34: ⚖️ Comparison of divorce laws in Jewish and Islamic communities raises concerns over double standards.\n50:16: 🔥 Controversy arises over labeling Gaza protesters as extremists and Islamists undermining democracy in the UK.\n55:50: ⚖️ Discussion on extremism policies and potential violations of civil rights based on beliefs.\n\nTimestamps by Tammy AI"
          ],
          [
           "Paul and al andalusi are 2 legends"
          ],
          [
           "Has brother Abdullah written any book ?"
          ],
          [
           "السَّلاَمُ عَلَيْكُمْ وَرَحْمَةُ اللهِ وَبَرَكَاتُهُ \nAssalamu’alaikum warahmatullahi wabarakatuh"
          ],
          [
           "MasyaAllah"
          ],
          [
           "They don't fully understand what's going on. I would like to speak with them 🕊️❤️🙏☘️"
          ],
          [
           "Brother Paul thanks for that. Could you please bring Abdel Hakeem Murad again ? His silence on Palestine issue is deafening."
          ],
          [
           "Brother Paul , for correction reason  Hadith …..Allah looks at your hearts (not hands) and deeds. Allah bless you."
          ],
          [
           "🎉"
          ],
          [
           "Free Palestine 🇵🇸🇵🇸🇵🇸"
          ],
          [
           "So many years on this Planet so many books and still this guy has 0 clue. Unbelievable."
          ],
          [
           "Abdullah missed an important detail - the classical philosophers were influenced by revelation, not the other way. Thales is considered the father of Classical Greek philosophy and he was of Phoenician descent. Phoenicia were a civilization that existed in the Levant region around pre classical times.\n\nThe Levantines were largely influenced in thought by the Israelites that lived throughout that region and were at one time the pre eminent force ( particularly around the time of the Phoenicians). Its similar to how Islamic philosophy had tremendous influence on thought of the intellectuals of that time. \n\nI would say that even the modality of the teaching was similar to the semitic method, purely through oral methods. The early Greek philosopers largely only talked and transmitted their ideas through lectures and discussions. Nothing in writing."
          ],
          [
           "The only way to defeat our extremely “lost” extremist politicians is to vote them out!  Do not vote labour or Tories. Vote Greens or an Independent. “People Power” always wins."
          ],
          [
           "❤❤❤🌹🌹🌹🌹🤲🤲🤲"
          ],
          [
           "14:25 the ending of Rambo III even has a dedication to the Mujahideen doing the fighting!"
          ],
          [
           "Is he really Andalusi?  🤔"
          ],
          [
           "When's part two of the Zionist interview coming out?"
          ],
          [
           "Do the ancestors of Abdalla AL Andalusi come from AL Andalus i.e. Spain?"
          ],
          [
           "SubhanAllah. It’s heartening to see that Bro Paul being an English gentleman himself has taken this silly idea of Islamic Extremism. BT now has become a very influencial platform discussing Western Islamic issues. The wise articulation of the tongue is sharper than the sword. \nMay Allah safeguard us all. Ameen"
          ],
          [
           "alsalam ealaykum. Your characterization of the Black Panther party was oversimplified and short sited. The Black Panther Party was an armed political party that only viewed violence as a necessary tool for self defense against racist American police. It is extremely short sited to equate them with any type of extremist ideologies."
          ],
          [
           "Allah said: And if you obey most of those on the earth, they will mislead you far away from Allah's path. They follow nothing but conjectures, and they do nothing but lie. Verily, your Lord! It is He who knows best who strays from His way, and He knows best the rightly guided. (Qur'an Surah 6 verses 116-117) Translated by Al-Hillali and Muhsin khan (The Noble Qur'an) Published by sajed munir."
          ],
          [
           "V"
          ],
          [
           "There are thesis that some Palestinian people are part of the decendants of the lost tribe of Israel. If so, then the Palestinian people have the same right to live in the promised land. \n\nI think the holy Qur'an differentiate between Bani Israel and Judaism. \n\nYour thoughts Paul 🙏🏼"
          ],
          [
           "Unfortunately I had to watch 3 Israeli adverts. Please know that you are being targeted Mr Williams."
          ],
          [
           "Does Nigel Farage knows that he's Arab?"
          ],
          [
           "Marshmallow, free playstation."
          ],
          [
           "West are embarassment. \nNelson was called a terrorist by west becouse he was against apartheid and he went to jail, bear in mind, all this happened in his own land. \nThe foolish man called Gove, used the word \"islamism\", and there is no such thing. He needs to learn in submission that Sharee'ah means *Law* , and it is a Divine Law, and we follow it whole heartly. \nMay Allah aid the Believers. Ameen."
          ],
          [
           "Anyone 👽 wishing to be  more Famous person 🌏 \nJust he , she has to do  is to / Criticise islam / \nThat's all to it Folks\n😅😅😂\nHellelujah 👿💀🔥💯"
          ]
         ],
         "hovertemplate": "Title=Nigel Farage vs Abdullah al Andalusi: Is protesting for Palestine \"EXTREMISM\"?<br>ID=%{x}<br>Likes_y=%{y}<br>Comment=%{customdata[0]}<extra></extra>",
         "legendgroup": "Nigel Farage vs Abdullah al Andalusi: Is protesting for Palestine \"EXTREMISM\"?",
         "marker": {
          "color": "#FECB52",
          "symbol": "circle"
         },
         "mode": "markers",
         "name": "Nigel Farage vs Abdullah al Andalusi: Is protesting for Palestine \"EXTREMISM\"?",
         "showlegend": true,
         "type": "scattergl",
         "x": [
          "_fBSTV7Hmwc",
          "_fBSTV7Hmwc",
          "_fBSTV7Hmwc",
          "_fBSTV7Hmwc",
          "_fBSTV7Hmwc",
          "_fBSTV7Hmwc",
          "_fBSTV7Hmwc",
          "_fBSTV7Hmwc",
          "_fBSTV7Hmwc",
          "_fBSTV7Hmwc",
          "_fBSTV7Hmwc",
          "_fBSTV7Hmwc",
          "_fBSTV7Hmwc",
          "_fBSTV7Hmwc",
          "_fBSTV7Hmwc",
          "_fBSTV7Hmwc",
          "_fBSTV7Hmwc",
          "_fBSTV7Hmwc",
          "_fBSTV7Hmwc",
          "_fBSTV7Hmwc",
          "_fBSTV7Hmwc",
          "_fBSTV7Hmwc",
          "_fBSTV7Hmwc",
          "_fBSTV7Hmwc",
          "_fBSTV7Hmwc",
          "_fBSTV7Hmwc",
          "_fBSTV7Hmwc",
          "_fBSTV7Hmwc",
          "_fBSTV7Hmwc",
          "_fBSTV7Hmwc",
          "_fBSTV7Hmwc",
          "_fBSTV7Hmwc",
          "_fBSTV7Hmwc",
          "_fBSTV7Hmwc",
          "_fBSTV7Hmwc",
          "_fBSTV7Hmwc",
          "_fBSTV7Hmwc",
          "_fBSTV7Hmwc",
          "_fBSTV7Hmwc",
          "_fBSTV7Hmwc",
          "_fBSTV7Hmwc",
          "_fBSTV7Hmwc",
          "_fBSTV7Hmwc",
          "_fBSTV7Hmwc",
          "_fBSTV7Hmwc",
          "_fBSTV7Hmwc",
          "_fBSTV7Hmwc",
          "_fBSTV7Hmwc",
          "_fBSTV7Hmwc",
          "_fBSTV7Hmwc"
         ],
         "xaxis": "x",
         "y": [
          13,
          37,
          31,
          23,
          20,
          20,
          10,
          14,
          11,
          8,
          6,
          6,
          37,
          12,
          9,
          12,
          13,
          9,
          1,
          14,
          5,
          2,
          6,
          2,
          1,
          5,
          1,
          0,
          7,
          0,
          1,
          2,
          0,
          0,
          1,
          1,
          1,
          5,
          3,
          0,
          4,
          1,
          0,
          0,
          1,
          1,
          1,
          0,
          2,
          0
         ],
         "yaxis": "y"
        },
        {
         "customdata": [
          [
           "Too vague anything could be twisted into being called extreme. Dark day for uk 🇬🇧"
          ],
          [
           "It would also help if some evidence was produced to show the named groups actually are 'extremist'."
          ],
          [
           "Labour shedding uneeded 'gas'light on the topic..."
          ],
          [
           "So the Gov't gets to simply 're-define' a term as significant as 'extremism'?\n\nWhat could possibly go wrong??"
          ],
          [
           "Let me guess, they will define JK Rowling as extreme and people calling for jihad as not extreme 🙄"
          ],
          [
           "They are the extremists."
          ],
          [
           "Like the Labour plan its £28bn green investment plan? it just dropped because it can't fund it in the real world !"
          ],
          [
           "bbc calling hamas freedom fighters, wonder if that falls into the new definition?"
          ],
          [
           "No need for any new laws."
          ],
          [
           "I think they don't understand the term extremism anymore. Just because someone is Racist, Sexist or has an opinion differing from the normal, doesn't mean they are an extremist. that's freedom of speech and expression even if people do not agree or like it. Now causing violence and death over a religion, or political cause is extremism. and I think the British people know the issue here with a certain type of religion and people. Its just a matter of time until we stand up."
          ],
          [
           "Ways to tackle extremism? \n\nBy creating more division!\n\nLittle Britain’s logic.."
          ],
          [
           "Whilst what’s going on in the Middle East is bad. I just don’t understand why our government has become so embroiled with it, there’s other pressing issues here in this country."
          ],
          [
           "I've appreciated Wilfred Frost's ability to foster more thoughtful debate rather than pointless gotcha soundbites this week."
          ],
          [
           "BORDER SECURITY."
          ],
          [
           "Definitions mean nothing if certain torie donars simply apologise and are let off…we’ll all use that as an excuse to avoid prosecution"
          ],
          [
           "There is no left and right.\nThere is only RIGHT and wrong.\nVote wisely ✊"
          ],
          [
           "End all food and drink deliveries into the Borough of Westminster.\nStop feeding the beast."
          ],
          [
           "This Labour \"opposition\" is pathetic"
          ],
          [
           "Action plan of Labour is to invoice 🧾 the extremists"
          ],
          [
           "Radical Islam is the issue here"
          ],
          [
           "My understanding is that Labour will, (if elected), be bringing in legislation to outlaw criticism of Islam. If this law is passed and the police were to arrest an Islamic extremist, what would stop that person from arguing that his speech was based on the will of the prophet Mohammed or taken from the Koran - and that his arrest was therefore illegal? If successful, case law would dictate that the new 'extremism' law could be used only against non-Muslims, most likely, (based on recent Metropolitan Police practice), indigenous white people. The cynic in me can't help wondering if this is the intention."
          ],
          [
           "Otzma Yehudit (Hebrew: עָוצְמָה יְהוּדִית) or Jewish Power is the definition of extremism."
          ],
          [
           "We need all media outlets to be more critical of mob intimidation rather than them taking a ridiculous neutral stance as if mob violence was a valid position."
          ]
         ],
         "hovertemplate": "Title=UK extremism: 'We need more than a definition, we need an action plan' - Labour<br>ID=%{x}<br>Likes_y=%{y}<br>Comment=%{customdata[0]}<extra></extra>",
         "legendgroup": "UK extremism: 'We need more than a definition, we need an action plan' - Labour",
         "marker": {
          "color": "#636efa",
          "symbol": "circle"
         },
         "mode": "markers",
         "name": "UK extremism: 'We need more than a definition, we need an action plan' - Labour",
         "showlegend": true,
         "type": "scattergl",
         "x": [
          "QiW0gVd3Kow",
          "QiW0gVd3Kow",
          "QiW0gVd3Kow",
          "QiW0gVd3Kow",
          "QiW0gVd3Kow",
          "QiW0gVd3Kow",
          "QiW0gVd3Kow",
          "QiW0gVd3Kow",
          "QiW0gVd3Kow",
          "QiW0gVd3Kow",
          "QiW0gVd3Kow",
          "QiW0gVd3Kow",
          "QiW0gVd3Kow",
          "QiW0gVd3Kow",
          "QiW0gVd3Kow",
          "QiW0gVd3Kow",
          "QiW0gVd3Kow",
          "QiW0gVd3Kow",
          "QiW0gVd3Kow",
          "QiW0gVd3Kow",
          "QiW0gVd3Kow",
          "QiW0gVd3Kow",
          "QiW0gVd3Kow"
         ],
         "xaxis": "x",
         "y": [
          37,
          12,
          7,
          1,
          20,
          2,
          4,
          18,
          2,
          2,
          17,
          0,
          0,
          1,
          4,
          0,
          0,
          1,
          0,
          5,
          4,
          6,
          0
         ],
         "yaxis": "y"
        },
        {
         "customdata": [
          [
           "She's absolutely right. Sunak is a despisable figure."
          ],
          [
           "❤ Myriam Francois , dignified, graceful, articulate and above all on the side of truth"
          ],
          [
           "And so is Starmer, the entire political class serve supranational interests not British citizens."
          ],
          [
           "Thank you thank you Myriam for telling the world this thank you,, and God Bless you 🇵🇸✌️"
          ],
          [
           "Total wasteman. Time to go..."
          ],
          [
           "This lady carries a balanced head on her shoulders."
          ],
          [
           "Thanks for speaking and standing for the truth 🙏"
          ],
          [
           "I’m born here and it has been a dreadful experience i want to leave."
          ],
          [
           "This is 100% accurate."
          ],
          [
           "Thank you Miriam Francois you're truly a gem 💎"
          ],
          [
           "Dr Francois is absolutely right as usual. Sunak is a wasteman"
          ],
          [
           "Love her for standing up for what's right we have corrupt leaders people like this lady should be leading this country not that wasteman."
          ],
          [
           "“He’s a waste man”. Spot on."
          ],
          [
           "Everything she said is true."
          ],
          [
           "Well-spoken and straightforward, beautiful lady. Totally in support of her."
          ],
          [
           "Every time this lady speaks the more I give her the up most Respect ❤️🤲🏽☝🏽❤️"
          ],
          [
           "Everything Myriam says is spot on. If she ever decides to run for Prime Minister I will (as I know many others) would vote for her."
          ],
          [
           "This lady is a role model.  Intelligent, articulate, plenty of common sense, well researched and bloody gorgeous.  I’m a 63 year old grandma of 5 British and proud of my people but ashamed of my politicians who are using the same tool, divide to rule.  We are not that stupid ANYMORE, thank God 🙏🙏🙏"
          ],
          [
           "Watched that video of who said a heckler on the streets of Manchester, saying \"resign, resign....sunak out\" was a voice of a real wakeup from such d3lusional ministers."
          ],
          [
           "Takes alot to convey the truth and the right message."
          ],
          [
           "I bloody love this woman. Please stand for election Myriam Francois, we need a Parliament full of good sensible people like you"
          ],
          [
           "Rishi - bringing Indian political strategy to UK, not realizing that educated people are less gullible…"
          ],
          [
           "A really natural gem, brilliant, intelligent, eloquent and beautiful... I've never come across that in my life"
          ],
          [
           "SUNAK IS SQUATTING IN DOWNING STREET WHEN EVICTED HE'LL HEAD TO SANTA MONICA 😅"
          ],
          [
           "❤❤❤FREE PALESTINE 🇵🇸 we here in NYC stand with Palestine 🇵🇸"
          ],
          [
           "Myriam Francois can make little Islamophobia Sunak her doormat should she ever run for prime Minister of Britain. This gorgeous and brilliant human being is so soothing to listen to. May God Bless her and Free Palestine."
          ],
          [
           "Thank you for speaking out against this genocide and the state of affairs in the UK."
          ],
          [
           "They are killers in disguise of democracy."
          ],
          [
           "I couldn’t have said it better 👏 glad people are waking up!"
          ],
          [
           "Indian Rishi is at the top of his caste system. British Rishi is finished."
          ],
          [
           "Brilliant ! Thank you for speaking out. Your voice of truth is now needed more than ever. Much respect from the USA."
          ],
          [
           "100% correct. I've been saying this for years"
          ],
          [
           "Thank you Miriam....our prime minister is inciting hatred rather than bringing the community together."
          ],
          [
           "I dare talk TV , GBN , Pierce Morgan , and Sky News to interview this lady."
          ],
          [
           "Hurrah for \"speaking the truth to power\"."
          ],
          [
           "Thank you for speaking the truth, may God  bless you, I wish there were more people like you to come out speak the truth, what's going on by sunak's  policies, bring the country on its nees."
          ],
          [
           "We are aware of their tactics Myriam. Thank you for speaking the truth. Free Palestine 🇵🇸"
          ],
          [
           "I love this lady she's been amazing and supportive of Palestine and I would like to thank her so much I hope you read this"
          ],
          [
           "Thank you Miriam for articulating how we all feel about Rishi Wastman!"
          ],
          [
           "Spoke in a language both the youths and adults can understand, good for her"
          ],
          [
           "Damn right! He’s a shame to the country and definitely does not represent us"
          ],
          [
           "When she says Rishi is a wasteman, it means everything Rishi did or said is full of BS."
          ],
          [
           "agreed on each and every point made, well said and thank you!"
          ],
          [
           "So refreshing to hear the reference to the \"Corrupt Mafia\" for the government!!"
          ],
          [
           "Brave Myriam you are a gem 100% right most of the politicians are wasting their time but actually inflating their bank balances"
          ],
          [
           "This lady is awesome"
          ],
          [
           "Intelligent, accurate, charming and human ❤❤ Love you ❤"
          ],
          [
           "Well done for speaking out Dr your our voice please continue to be our voices where we are unable to be heard"
          ],
          [
           "Obviously the young lady is well educated. \nAnd definitely doesn't read the daily fail.\nGod Bless her."
          ],
          [
           "Brave girl I respect you with my heart \n#free palestine"
          ]
         ],
         "hovertemplate": "Title=‘He’s a wasteman’: Myriam Francois calls Rishi Sunak’s ‘extremism’ speech a distraction tactic<br>ID=%{x}<br>Likes_y=%{y}<br>Comment=%{customdata[0]}<extra></extra>",
         "legendgroup": "‘He’s a wasteman’: Myriam Francois calls Rishi Sunak’s ‘extremism’ speech a distraction tactic",
         "marker": {
          "color": "#EF553B",
          "symbol": "circle"
         },
         "mode": "markers",
         "name": "‘He’s a wasteman’: Myriam Francois calls Rishi Sunak’s ‘extremism’ speech a distraction tactic",
         "showlegend": true,
         "type": "scattergl",
         "x": [
          "6QGNHgWTyVY",
          "6QGNHgWTyVY",
          "6QGNHgWTyVY",
          "6QGNHgWTyVY",
          "6QGNHgWTyVY",
          "6QGNHgWTyVY",
          "6QGNHgWTyVY",
          "6QGNHgWTyVY",
          "6QGNHgWTyVY",
          "6QGNHgWTyVY",
          "6QGNHgWTyVY",
          "6QGNHgWTyVY",
          "6QGNHgWTyVY",
          "6QGNHgWTyVY",
          "6QGNHgWTyVY",
          "6QGNHgWTyVY",
          "6QGNHgWTyVY",
          "6QGNHgWTyVY",
          "6QGNHgWTyVY",
          "6QGNHgWTyVY",
          "6QGNHgWTyVY",
          "6QGNHgWTyVY",
          "6QGNHgWTyVY",
          "6QGNHgWTyVY",
          "6QGNHgWTyVY",
          "6QGNHgWTyVY",
          "6QGNHgWTyVY",
          "6QGNHgWTyVY",
          "6QGNHgWTyVY",
          "6QGNHgWTyVY",
          "6QGNHgWTyVY",
          "6QGNHgWTyVY",
          "6QGNHgWTyVY",
          "6QGNHgWTyVY",
          "6QGNHgWTyVY",
          "6QGNHgWTyVY",
          "6QGNHgWTyVY",
          "6QGNHgWTyVY",
          "6QGNHgWTyVY",
          "6QGNHgWTyVY",
          "6QGNHgWTyVY",
          "6QGNHgWTyVY",
          "6QGNHgWTyVY",
          "6QGNHgWTyVY",
          "6QGNHgWTyVY",
          "6QGNHgWTyVY",
          "6QGNHgWTyVY",
          "6QGNHgWTyVY",
          "6QGNHgWTyVY",
          "6QGNHgWTyVY"
         ],
         "xaxis": "x",
         "y": [
          1928,
          809,
          71,
          37,
          612,
          698,
          12,
          45,
          1104,
          976,
          54,
          8,
          253,
          217,
          13,
          9,
          434,
          233,
          5,
          3,
          275,
          858,
          6,
          5,
          416,
          154,
          3,
          3,
          83,
          37,
          2,
          4,
          259,
          116,
          1,
          3,
          230,
          128,
          3,
          1,
          79,
          161,
          1,
          2,
          61,
          70,
          4,
          0,
          51,
          302
         ],
         "yaxis": "y"
        },
        {
         "customdata": [
          [
           "Exactly right! NO ONE who works 40 hours a week should live in poverty!"
          ],
          [
           "This man gave his life to try and improve the lives of those around him."
          ],
          [
           "Once again, Senator Sanders is 100% spot on."
          ],
          [
           "Bernie 2024!"
          ],
          [
           "I am 100% with you, Senator Sanders!"
          ],
          [
           "Totally agree.  We need more senators like this so we can get these ideas done."
          ],
          [
           "As a non-american, I'm surprised that I can speak along Bernie's Phrases every time a clip from him comes up because nothing seems to change over there ... (and Bernie is so consistent)"
          ],
          [
           "We just want a small part of what other wealthy countries enjoy. Nothing crazy about it."
          ],
          [
           "God bless you Bernie!"
          ],
          [
           "My elderly folks introduced me to Bernie as the person they were supporting in the election.  I had never even heard of him. Six months later, he was polling at 46%. I really believed he could win, but I gave voters credit for more common sense than they had. He still inspires tirelessly."
          ],
          [
           "Always, always speaking TRUTH."
          ],
          [
           "You're the best leader in our generation! God bless you with great health and longevity for standing up for the working people."
          ],
          [
           "whoever wrote the description absolutely nailed Bernie's mannerisms hahaha"
          ],
          [
           "Absolutely agree!! Thank you Bernie!! 💜"
          ],
          [
           "RIGHT ON!!! BERNIE!!!👍🖖🇺🇸"
          ],
          [
           "based bernie"
          ],
          [
           "VOTE EARLY! 🇺🇸🇺🇸🇺🇸🇺🇸🇺🇸🗳"
          ],
          [
           "Bernie Sanders is a Leader of America!! Vote like our lives depend  on it!! Vote BLUE up and down ticket!! Call people you know and remind them to vote! It up to us to save this country"
          ],
          [
           "Love you Bernie!!!!!"
          ],
          [
           "Thank you Bernie!!   👍"
          ],
          [
           "💙 BERNIE 🌟 🇺🇸 👏✊"
          ],
          [
           "The ONLY American politician worth giving a damn about. Heartbreaking that you were denied the nomination, twice. That’s how severe the allegiance to corporate oligarchy is on both sides of the aisle."
          ],
          [
           "THE BEST!"
          ],
          [
           "Just respect and appreciation  for you, Bernie. Thanks."
          ],
          [
           "You're the man Bernie' Sanders. You're so wise. We need you. Thank you for all your efforts"
          ],
          [
           "Of course he's 💯 obviously"
          ],
          [
           "God I wish we had let this man be president.  Imagine what could happen in 8 years under this guy.. ah well"
          ],
          [
           "👏👏👏 TRUTH 👏👏👏"
          ],
          [
           "Bernie, thanks for your tireless fight for the working people and women's rights! There are millions of us and we're not giving up!\n#UnionStrong \n#Solidarity \n#Prochoice"
          ],
          [
           "This man should of been president. Best Democratic politician who is NOT a Democrat."
          ],
          [
           "BERNIE SANDERS is Legend!!! 💙🌟🇺🇸👏✊"
          ],
          [
           "Bernie you are the best.   Voting blue."
          ],
          [
           "BERNIE 2024!!! 💙🌟🇺🇸👏✊"
          ],
          [
           "You are the best, the most caring and honest person in politics I have ever seen or heard or read about in my entire life. \nThank you for fighting for us. May God save you. Please run for President. Thank you. I wish I lived in Vermont to have you as our Senator. I love you with all my heart. ❤❤❤❤❤❤❤❤❤❤"
          ],
          [
           "Bernie, wish we could’ve “found” some votes for you, brother ❤"
          ],
          [
           "Based Bernie"
          ],
          [
           "We're fortunate to have people, like Bernie Sanders and Ralph Nader. They're rare and wonderful."
          ],
          [
           "And that my good sir is why I voted for you for president the last two elections God bless you Bernie if you run again I'll vote again for you"
          ],
          [
           "I love 💕 you, Bernie!!!"
          ],
          [
           "hell yeah"
          ],
          [
           "Bernie get on a train and  Stump around the USA, everyone should have a chance to meet you and hear you, I live on S.S.D.I, and can't afford to go to the Capitol, or Vermont, but darn I'd sure like to meet you, most days I'm not proud to be an American,  but when I hear you fighting for us and everyone I feel much better.... wish we had 100 more just like you."
          ],
          [
           "Yes!"
          ],
          [
           "Vote blue 2022-2024. Women rights, save the planet, universal healthcare and common sense gun control"
          ],
          [
           "Bernie Sanders for President 2024"
          ],
          [
           "Republicans give to the richest; definitely extreme.🔥💚💙👍🏼👍👍🏽👍🏾👍🏿"
          ],
          [
           "Bernie!!! ❤️❤️❤️❤️"
          ],
          [
           "I will follow him always  he truly is the best leader ever"
          ],
          [
           "Nothing could be simpler to grasp."
          ],
          [
           "Bernie u.r Amazing!"
          ],
          [
           "I LOVE Bernie Sanders ♥️"
          ]
         ],
         "hovertemplate": "Title=Republican Extremism.<br>ID=%{x}<br>Likes_y=%{y}<br>Comment=%{customdata[0]}<extra></extra>",
         "legendgroup": "Republican Extremism.",
         "marker": {
          "color": "#00cc96",
          "symbol": "circle"
         },
         "mode": "markers",
         "name": "Republican Extremism.",
         "showlegend": true,
         "type": "scattergl",
         "x": [
          "fOXFoX5SKtw",
          "fOXFoX5SKtw",
          "fOXFoX5SKtw",
          "fOXFoX5SKtw",
          "fOXFoX5SKtw",
          "fOXFoX5SKtw",
          "fOXFoX5SKtw",
          "fOXFoX5SKtw",
          "fOXFoX5SKtw",
          "fOXFoX5SKtw",
          "fOXFoX5SKtw",
          "fOXFoX5SKtw",
          "fOXFoX5SKtw",
          "fOXFoX5SKtw",
          "fOXFoX5SKtw",
          "fOXFoX5SKtw",
          "fOXFoX5SKtw",
          "fOXFoX5SKtw",
          "fOXFoX5SKtw",
          "fOXFoX5SKtw",
          "fOXFoX5SKtw",
          "fOXFoX5SKtw",
          "fOXFoX5SKtw",
          "fOXFoX5SKtw",
          "fOXFoX5SKtw",
          "fOXFoX5SKtw",
          "fOXFoX5SKtw",
          "fOXFoX5SKtw",
          "fOXFoX5SKtw",
          "fOXFoX5SKtw",
          "fOXFoX5SKtw",
          "fOXFoX5SKtw",
          "fOXFoX5SKtw",
          "fOXFoX5SKtw",
          "fOXFoX5SKtw",
          "fOXFoX5SKtw",
          "fOXFoX5SKtw",
          "fOXFoX5SKtw",
          "fOXFoX5SKtw",
          "fOXFoX5SKtw",
          "fOXFoX5SKtw",
          "fOXFoX5SKtw",
          "fOXFoX5SKtw",
          "fOXFoX5SKtw",
          "fOXFoX5SKtw",
          "fOXFoX5SKtw",
          "fOXFoX5SKtw",
          "fOXFoX5SKtw",
          "fOXFoX5SKtw",
          "fOXFoX5SKtw"
         ],
         "xaxis": "x",
         "y": [
          256,
          25,
          154,
          12,
          169,
          23,
          40,
          133,
          47,
          8,
          33,
          24,
          18,
          6,
          72,
          12,
          3,
          5,
          4,
          2,
          8,
          2,
          6,
          3,
          1,
          4,
          3,
          2,
          13,
          2,
          25,
          2,
          3,
          9,
          3,
          3,
          1,
          5,
          2,
          4,
          2,
          5,
          4,
          2,
          15,
          1,
          16,
          1,
          0,
          1
         ],
         "yaxis": "y"
        },
        {
         "customdata": [
          [
           "The Tories going full F-ascist and 0-ppressive"
          ],
          [
           "I smell BS, Something dodgy"
          ],
          [
           "Ofcourse there is no restraint on ‘free speech’ as long as the ‘vitriol and hate’ is directed to those the Tory government hate or don’t value."
          ],
          [
           "These Tories seem extreme to me."
          ],
          [
           "Soft questions and non answers"
          ],
          [
           "General election now 🗳️ These Tories are out of control. I feel like I live in China or North Korea now 🤷‍♂️"
          ],
          [
           "More laws, less freedom."
          ],
          [
           "Tyranny…."
          ],
          [
           "Most diverse government. And look at the state of it 😂 these people are insane"
          ],
          [
           "The new definition seems to fairly well cover the Tory Party and Daily Mail"
          ],
          [
           "So more restrictions on people that love their country and freedom for people that hate us"
          ],
          [
           "What far right organisations"
          ],
          [
           "I imagine that talking about very heavy emphasis on the word 'intended' when saying 'it's not INTENDED to restrict free speech' \n\nSubtext, it will."
          ],
          [
           "Ah yes, Northern Ireland is at peace today because our London government never talked to extremists."
          ],
          [
           "Amazing how Gove can talk out of both sides of his mouth and out of his backside all at the same time."
          ],
          [
           "What a lot of words to say so little, precisely!"
          ],
          [
           "But the UK govt never minded arming head chopping extremists in Syria for instance."
          ],
          [
           "Sure, trust professional Liars and Criminals"
          ],
          [
           "6:12 'The most diverse cabinet in history '...says it all, as we know, DEI hasn't and will never work for this country 😢"
          ],
          [
           "😂😂😂😂 Politicians waffle waffle waffle, get paid a fortune and think the sun shines out their..."
          ],
          [
           "How about extremism and racism within the tories"
          ],
          [
           "I wouldn’t trust any of the dictators in parliament on both sides of the house."
          ],
          [
           "\"the promotion or advancement of an ideology based on hatred or intolerencance\"?  jeez,  better cancel those Tory Party Conferences then..."
          ],
          [
           "A waste of a pair of spectacles."
          ],
          [
           "sky news going to be banned then"
          ],
          [
           "We dont wanf to stop protesters we just wang to stop the ability to organise a protest or any gathering in mass against something"
          ],
          [
           "They cant answer a question.just more bollocks'"
          ],
          [
           "If the current state of our country the the Tories ‘plan’ then I’d rather have someone without a plan"
          ],
          [
           "We all know who's voice they want to shut with this new definition of \"Extremism\"."
          ],
          [
           "This new policy seems a bit extreme to me.."
          ],
          [
           "Anyone else cringe a bit when he said \"the most diverse government in the western world\"?"
          ],
          [
           "Govornments have stopped being called out and stopped having to deal with issues, everyone argues online,and stops traffic with protests, its pointless arguing no one takes it to the govornments doorsteps anymore"
          ],
          [
           "Antisemitism from who ? Lmao"
          ],
          [
           "Inventing more problems"
          ],
          [
           "\"Anti Muslim, Far right\".. I can see who this guidance is all about.. not defending Britain but giving it away to Muslims"
          ],
          [
           "Unfortunately Westminster Politicians are so out of touch with public views as to make any such laws unless ànd wil certainly make for more hate and division. We need less law making and more free speech.  We are in the mess we are in because Politicians have allowed one section of society to have free rein whilst others have been silenced. We will all pay the price for that."
          ],
          [
           "So will the SNP be put in this definition, as the SNP want Scotlands independence. \nA new definition that is another nail in the coffin of so called British democracy."
          ],
          [
           "A thief never admits stealing. So there is nothing new what this Tory says ."
          ],
          [
           "Reminds me of a USSR bureaucrat"
          ],
          [
           "Junkie MP"
          ],
          [
           "There is already laws in place to stop these terrorist and their hate speech.  This is just another way for government to clamp doem on those who speak up agaisnt the government and against the islamists we have in this once great nation"
          ],
          [
           "So I can still criticise Islam and point out grooming gangs and inbreeding stats??"
          ],
          [
           "Two whole weeks to devise this new definition, without consulting any experts or anyone who works with extremists or the police or lawyers. And now government ministers can get to decide who is an extremist while they're eating their cornflakes without any independent oversight. Should we just trust them not to name people whose opinions they just don't like?"
          ],
          [
           "I think they don't understand the term extremism anymore. Just because someone is Racist, Sexist or has an opinion differing from the normal, doesn't mean they are an extremist. that's freedom of speech and expression even if people do not agree or like it. Now causing violence and death over a religion, or political cause is extremism. and I think the British people know the issue here with a certain type of religion and people. Its just a matter of time until we stand up."
          ],
          [
           "A liars lips are moving."
          ],
          [
           "Waffle waffles and more waffles.  Loads of meaningless and misleading sentences."
          ],
          [
           "Anglophbic goverment of westminster"
          ],
          [
           "Freedom of speech 😂😂😂 where , how when ,"
          ],
          [
           "Who is Gove to decide whose views are extreme? Police state think .. very dangerous for all if us."
          ],
          [
           "Weak effimnate men create hard times"
          ]
         ],
         "hovertemplate": "Title=New definition of extremism 'not a restraint on free speech'<br>ID=%{x}<br>Likes_y=%{y}<br>Comment=%{customdata[0]}<extra></extra>",
         "legendgroup": "New definition of extremism 'not a restraint on free speech'",
         "marker": {
          "color": "#ab63fa",
          "symbol": "circle"
         },
         "mode": "markers",
         "name": "New definition of extremism 'not a restraint on free speech'",
         "showlegend": true,
         "type": "scattergl",
         "x": [
          "sm1shM-Ydy8",
          "sm1shM-Ydy8",
          "sm1shM-Ydy8",
          "sm1shM-Ydy8",
          "sm1shM-Ydy8",
          "sm1shM-Ydy8",
          "sm1shM-Ydy8",
          "sm1shM-Ydy8",
          "sm1shM-Ydy8",
          "sm1shM-Ydy8",
          "sm1shM-Ydy8",
          "sm1shM-Ydy8",
          "sm1shM-Ydy8",
          "sm1shM-Ydy8",
          "sm1shM-Ydy8",
          "sm1shM-Ydy8",
          "sm1shM-Ydy8",
          "sm1shM-Ydy8",
          "sm1shM-Ydy8",
          "sm1shM-Ydy8",
          "sm1shM-Ydy8",
          "sm1shM-Ydy8",
          "sm1shM-Ydy8",
          "sm1shM-Ydy8",
          "sm1shM-Ydy8",
          "sm1shM-Ydy8",
          "sm1shM-Ydy8",
          "sm1shM-Ydy8",
          "sm1shM-Ydy8",
          "sm1shM-Ydy8",
          "sm1shM-Ydy8",
          "sm1shM-Ydy8",
          "sm1shM-Ydy8",
          "sm1shM-Ydy8",
          "sm1shM-Ydy8",
          "sm1shM-Ydy8",
          "sm1shM-Ydy8",
          "sm1shM-Ydy8",
          "sm1shM-Ydy8",
          "sm1shM-Ydy8",
          "sm1shM-Ydy8",
          "sm1shM-Ydy8",
          "sm1shM-Ydy8",
          "sm1shM-Ydy8",
          "sm1shM-Ydy8",
          "sm1shM-Ydy8",
          "sm1shM-Ydy8",
          "sm1shM-Ydy8",
          "sm1shM-Ydy8",
          "sm1shM-Ydy8"
         ],
         "xaxis": "x",
         "y": [
          110,
          24,
          16,
          59,
          32,
          18,
          11,
          9,
          18,
          55,
          13,
          53,
          8,
          31,
          10,
          13,
          9,
          9,
          7,
          15,
          21,
          12,
          4,
          8,
          12,
          4,
          6,
          5,
          4,
          4,
          4,
          23,
          8,
          5,
          23,
          15,
          2,
          13,
          8,
          6,
          3,
          3,
          1,
          2,
          5,
          4,
          9,
          4,
          2,
          6
         ],
         "yaxis": "y"
        },
        {
         "customdata": [
          [
           "It’s about time something is done about the double standards in this country"
          ],
          [
           "Sky keeping the comments open on a video like this? I'm shocked 😂 normally shut immediately because they don't want to upset a certain crowd....."
          ],
          [
           "DON'T BE FOOLED. THE DOUBLE STANDARDS WILL CONTINUE - THEY'VE JUST GIVEN THEMSELVES MORE POWER TO APPLY THEM."
          ],
          [
           "Deport"
          ],
          [
           "Muslims talking of democracy .how funny😂.Ask him if they follow democracy at him.Ask if his women wesr burqa"
          ],
          [
           "We need this new law to shut this kind of thing down, make the streets safe again, and stop wasting so much police time."
          ],
          [
           "They had two choices - Either become a schizophrenic or be normal. They opted for the former 😊"
          ],
          [
           "Of course it was in Birmingham lol"
          ],
          [
           "Bull crap this is England a diverse and tolerant country being over ridden and abused"
          ],
          [
           "I have seen this bloke before outside that school where the teacher showed various pictures that supposedly upset their religion. This bloke has not done a day's work in his life , how do they do it l would love to know ."
          ],
          [
           "They’d be happy to have their own sharia law though…."
          ],
          [
           "Stops giving money to extremism???? But give a million pounds to a lousy memorial that no British needs. They should go to their own country and protest !!"
          ],
          [
           "From the English Channel to the North Sea, make the UK Islam free."
          ],
          [
           "To pick sides in a war we are not directly involved in and protest the streets waving flags of a country at war. Chant anti semitic statements. Block our roads and cost the tax payer hundreds of thousands is simply unacceptable and needs to be silenced in my opinion."
          ],
          [
           "Muslim has gotten too privileged"
          ],
          [
           "Birmingham yeah makes perfect sense."
          ],
          [
           "Of course,  the bulk of the vocal and hate filled people will have a problem.  They want \"freedom\" to do as they please without any responsibility."
          ],
          [
           "Omg what the hell has happened to the uk"
          ],
          [
           "he needent had worried. it wont be used agaisnt them."
          ],
          [
           "Rubber dinghy rapids, innit bro"
          ],
          [
           "The most dangerous evil in the world today is  .  .  ."
          ],
          [
           "Did Europe ban communism to create Islam? Does not make sense...\nI don't know if Europeans have already understood, but the latest crusade is knocking on the door and forming in Europe, all that's missing is the process of the severe economic crisis."
          ],
          [
           "How come he can say from the river to the sea in public without any consequence and a man who had a banner that said Hamas are terrorists was arrested. Then de arrested but arrested?"
          ],
          [
           "Make  the  LAW  like   UAE     ......PROTEST   MEANS  ONE   WAY  TICKET   to    HOME😊😊😊"
          ],
          [
           "Looks like a peaceful group. I wonder what are their thoughts about lgbt and women's rights 🤔."
          ],
          [
           "Not to defend in the European countries go to the  middle east and protest\n..😊"
          ],
          [
           "Don't bring your protest to all European countries go to gaza and protest there...😊"
          ],
          [
           "deportation on it's way ???"
          ],
          [
           "in the fifth century the Saxons came to England and built up their numbers..then over about 75 years became very ruthless and massacred and forced out and replaced the English population.. True story"
          ],
          [
           "Why did all troubles come from this \"peaceful\" religion?"
          ],
          [
           "About time brits SHOUTED our views in the streets"
          ],
          [
           "Who do they think they are ?  The UK countries  are christian  and have been for centuries ."
          ],
          [
           "\"Activist\". Aye, right."
          ],
          [
           "FREE ENGLAND 🏴󠁧󠁢󠁥󠁮󠁧󠁿"
          ],
          [
           "Good law, but how is it enforced?"
          ],
          [
           "Durka, durka!!!\n\n\n\n\n\n\n\n\n\n\n.... innit mate!"
          ],
          [
           "Time Islam leaves the U.K."
          ],
          [
           "The change of a definition is a very good, wise and needed move at least."
          ],
          [
           "2:55 uh oh looks like someone escaped from Wonka’s chocolate factory.  Either that or the lollipop guild is missing a representative."
          ],
          [
           "Division? Aww can go back home then."
          ],
          [
           "The police are not the problem. \nThe government is the problem.\nThe British MP Arthur Balfour and the British government should have thought through it more in November 1917 before importing the Zionism problem into Britain."
          ],
          [
           "From the ocean to the sea, Britian shall be ????? free...."
          ],
          [
           "For \"division\", read \"violence\".  These people have no filters, no control over their emotions."
          ],
          [
           "Is ra eel is not Real."
          ],
          [
           "uk is muslim coutry?"
          ],
          [
           "LIsten to what Alan said he said people have still got freedom of thought but then he calls the same people extremist and to keep them far aways as possible 😅"
          ],
          [
           "Were is the noney coming from for the demonstrations ? who is funding them"
          ],
          [
           "I think Mr. Afsar, and many in these comments, could benefit from a more thorough understanding of international law and history."
          ],
          [
           "More devision we could not be further apart pal😊"
          ],
          [
           "This is upsetting all the right people!"
          ]
         ],
         "hovertemplate": "Title=Extremism definition: Muslims warn law change 'risks more division'<br>ID=%{x}<br>Likes_y=%{y}<br>Comment=%{customdata[0]}<extra></extra>",
         "legendgroup": "Extremism definition: Muslims warn law change 'risks more division'",
         "marker": {
          "color": "#FFA15A",
          "symbol": "circle"
         },
         "mode": "markers",
         "name": "Extremism definition: Muslims warn law change 'risks more division'",
         "showlegend": true,
         "type": "scattergl",
         "x": [
          "-4uvy_Ksigk",
          "-4uvy_Ksigk",
          "-4uvy_Ksigk",
          "-4uvy_Ksigk",
          "-4uvy_Ksigk",
          "-4uvy_Ksigk",
          "-4uvy_Ksigk",
          "-4uvy_Ksigk",
          "-4uvy_Ksigk",
          "-4uvy_Ksigk",
          "-4uvy_Ksigk",
          "-4uvy_Ksigk",
          "-4uvy_Ksigk",
          "-4uvy_Ksigk",
          "-4uvy_Ksigk",
          "-4uvy_Ksigk",
          "-4uvy_Ksigk",
          "-4uvy_Ksigk",
          "-4uvy_Ksigk",
          "-4uvy_Ksigk",
          "-4uvy_Ksigk",
          "-4uvy_Ksigk",
          "-4uvy_Ksigk",
          "-4uvy_Ksigk",
          "-4uvy_Ksigk",
          "-4uvy_Ksigk",
          "-4uvy_Ksigk",
          "-4uvy_Ksigk",
          "-4uvy_Ksigk",
          "-4uvy_Ksigk",
          "-4uvy_Ksigk",
          "-4uvy_Ksigk",
          "-4uvy_Ksigk",
          "-4uvy_Ksigk",
          "-4uvy_Ksigk",
          "-4uvy_Ksigk",
          "-4uvy_Ksigk",
          "-4uvy_Ksigk",
          "-4uvy_Ksigk",
          "-4uvy_Ksigk",
          "-4uvy_Ksigk",
          "-4uvy_Ksigk",
          "-4uvy_Ksigk",
          "-4uvy_Ksigk",
          "-4uvy_Ksigk",
          "-4uvy_Ksigk",
          "-4uvy_Ksigk",
          "-4uvy_Ksigk",
          "-4uvy_Ksigk",
          "-4uvy_Ksigk"
         ],
         "xaxis": "x",
         "y": [
          154,
          129,
          16,
          129,
          40,
          21,
          26,
          131,
          63,
          5,
          23,
          90,
          46,
          63,
          172,
          50,
          5,
          8,
          7,
          74,
          57,
          11,
          2,
          5,
          45,
          3,
          10,
          3,
          4,
          18,
          3,
          3,
          32,
          61,
          24,
          18,
          9,
          2,
          0,
          2,
          1,
          9,
          0,
          2,
          1,
          0,
          2,
          0,
          1,
          8
         ],
         "yaxis": "y"
        },
        {
         "customdata": [
          [
           "Everything is seen as a possible threat to a tyrant."
          ],
          [
           "Repeal the P.A.T.R.I.O.T. Act."
          ],
          [
           "We are not a free country"
          ],
          [
           "War is peace. Freedom is slavery. Ignorance is strength."
          ],
          [
           "I miss the old days .... where the internet was freedom."
          ],
          [
           "In our new country they consider the citizens the threat to the country"
          ],
          [
           "Snowden leaked this in 2013.\nThat was 10 years ago"
          ],
          [
           "Mass surveillance state"
          ],
          [
           "When the state doesn’t have enough foreign enemies, it creates enemies within."
          ],
          [
           "The U.S. is going through Mao’s Cultural Revolution."
          ],
          [
           "Extremist gamers? This is so absurd. Establishment has lost the plot at this point."
          ],
          [
           "I'm about to commit what's called a \"pro-Gamer move\"."
          ],
          [
           "My 14 year-old plays video games his friends often they go onto a server so they can all chat while they play the game.. 100% better than scrolling mindlessly on TikTok.. the government is so threatened by any group of people coming together.. leave the gamers alone."
          ],
          [
           "Everybody is a threat to them. Some granny watching an old episode of Matlock is a threat to them."
          ],
          [
           "This admin is scared of its own shadow."
          ],
          [
           "If you helped the Stormcloaks in Skyrim you're going to end up in a camp."
          ],
          [
           "OMG I'm sh*tting myself now, we were planning a raid on Ironforge to wipe out the inhabitants but now my guild will have to cancel that! Better be careful not to offend any dwarves while we play, I don't wanna be accused of being \"heightist\" or something..."
          ],
          [
           "Snowden leaked this in 2013.\nThat was 10 years ago."
          ],
          [
           "The ever growing security leviathan needs to find enemies to justify their existence."
          ],
          [
           "The FBI wouldn't last 5 minutes in a 2009 SND lobby"
          ],
          [
           "Censorship and control is all the federal government has left."
          ],
          [
           "You can guarantee that they are watching these comments also.  I wonder who's been flagged?  I wonder if they consider THIS comment extremist?"
          ],
          [
           "TFW you realize that you aren't really in a free country anymore!"
          ],
          [
           "\"Oh, you sided with Caesars Legion in Fallout New Vegas?  You just made it onto our watch list, pal.\""
          ],
          [
           "Rule #1 of _every_ power structure:  \"Do not question our legitimacy.\""
          ],
          [
           "Complete over reach by government."
          ],
          [
           "Gaming companies becoming snitches for the Autocrats.  Boo! Now give us your rights to privacy so we can protect you."
          ],
          [
           "Boy, if the government thought the discourse on social media was bad, they ain't seen nothin' yet..."
          ],
          [
           "Imagine in game chat being used out of context...coming soon to a congressional hearing near you."
          ],
          [
           "How much you wanna bet this ties into Sweet Baby Inc"
          ],
          [
           "Sounds like they need A Big cup of Liber-tea   😂"
          ],
          [
           "Here I’ve been worrying about World War 3, and they’re investigating gamers, school board meetings, and Catholic Churches. If those are the “threats,” I can relax. The world must be extremely safe. 🙄"
          ],
          [
           "I'm worried about all these unvetted \"gamers\" crossing our southern boarder"
          ],
          [
           "this has been going on for years. One day I started saying \"Free Assange!\" as a battle cry of sorts...a  few tries later and I was never able to communicate with other gamers in-game, not even with a new mic. I had to download Discord to be able to communicate with other players."
          ],
          [
           "\"Managed Democracy\""
          ],
          [
           "The timing of this along side the Sweet Baby Inc controversy is stunning."
          ],
          [
           "How are they going to go after peoples private words when they block and shadowban our public words? 🤔"
          ],
          [
           "I guess they took the meme seriously: \"The only way to chat without the government being able to track it is to all go on modernwarfare 2 private servers and write our messages on the wall in bullets\""
          ],
          [
           "When you realize YOU are the carbon they want to reduce..."
          ],
          [
           "There doesn’t need to be a distinction from other forms of communication because the government should t be spying on it’s citizens without a warrant.  Remember?"
          ],
          [
           "The sinister thing is that when true threats to \"the homeland\" are eliminated, they entrepreneur others. The others being us. Homeland security won't give the funding back after the threats are gone. The safer we get, the more dangerous they become."
          ],
          [
           "\"The most oppressed group of all: gamers\""
          ],
          [
           "I always assume the government is already listening to \"everything everywhere all at once\"😅"
          ],
          [
           "Extreme gamers don't leave the house..."
          ],
          [
           "not if you're a helldiver. We fight for democracy!"
          ],
          [
           "The insanity is like a growing cancer."
          ],
          [
           "So Big Brother IS watching.  Right?"
          ],
          [
           "See, this is why I always address my NSA agent directly after I make an edgy joke in discord. So he knows not to kick my door down 😂"
          ],
          [
           "Listening to this while playing call of duty is next level"
          ],
          [
           "Truly the most oppressed minority."
          ]
         ],
         "hovertemplate": "Title=FEDS Spying on ‘EXTREMIST’ GAMERS?! Shocking GAO Report REVEALED<br>ID=%{x}<br>Likes_y=%{y}<br>Comment=%{customdata[0]}<extra></extra>",
         "legendgroup": "FEDS Spying on ‘EXTREMIST’ GAMERS?! Shocking GAO Report REVEALED",
         "marker": {
          "color": "#19d3f3",
          "symbol": "circle"
         },
         "mode": "markers",
         "name": "FEDS Spying on ‘EXTREMIST’ GAMERS?! Shocking GAO Report REVEALED",
         "showlegend": true,
         "type": "scattergl",
         "x": [
          "j__ocnDLAj0",
          "j__ocnDLAj0",
          "j__ocnDLAj0",
          "j__ocnDLAj0",
          "j__ocnDLAj0",
          "j__ocnDLAj0",
          "j__ocnDLAj0",
          "j__ocnDLAj0",
          "j__ocnDLAj0",
          "j__ocnDLAj0",
          "j__ocnDLAj0",
          "j__ocnDLAj0",
          "j__ocnDLAj0",
          "j__ocnDLAj0",
          "j__ocnDLAj0",
          "j__ocnDLAj0",
          "j__ocnDLAj0",
          "j__ocnDLAj0",
          "j__ocnDLAj0",
          "j__ocnDLAj0",
          "j__ocnDLAj0",
          "j__ocnDLAj0",
          "j__ocnDLAj0",
          "j__ocnDLAj0",
          "j__ocnDLAj0",
          "j__ocnDLAj0",
          "j__ocnDLAj0",
          "j__ocnDLAj0",
          "j__ocnDLAj0",
          "j__ocnDLAj0",
          "j__ocnDLAj0",
          "j__ocnDLAj0",
          "j__ocnDLAj0",
          "j__ocnDLAj0",
          "j__ocnDLAj0",
          "j__ocnDLAj0",
          "j__ocnDLAj0",
          "j__ocnDLAj0",
          "j__ocnDLAj0",
          "j__ocnDLAj0",
          "j__ocnDLAj0",
          "j__ocnDLAj0",
          "j__ocnDLAj0",
          "j__ocnDLAj0",
          "j__ocnDLAj0",
          "j__ocnDLAj0",
          "j__ocnDLAj0",
          "j__ocnDLAj0",
          "j__ocnDLAj0",
          "j__ocnDLAj0"
         ],
         "xaxis": "x",
         "y": [
          554,
          310,
          190,
          364,
          170,
          458,
          323,
          264,
          253,
          154,
          115,
          209,
          227,
          161,
          215,
          53,
          194,
          132,
          36,
          64,
          46,
          58,
          60,
          61,
          22,
          20,
          88,
          53,
          19,
          41,
          65,
          12,
          26,
          15,
          34,
          33,
          18,
          14,
          10,
          9,
          17,
          8,
          23,
          8,
          12,
          6,
          14,
          13,
          11,
          6
         ],
         "yaxis": "y"
        },
        {
         "customdata": [
          [
           "'Everyone we don't like is a terrorist, especially people who criticise our terrorism'"
          ],
          [
           "Thanks Gaza Palestinians 🇵🇸 genocide for bringing back in UK Parliement house electing Hon. George Galloway who know how to to preach bigots."
          ],
          [
           "Gary waterman - YouTube Was a police office exposing politicians for tax fraud."
          ],
          [
           "Margaret Thatcher: \"I fought to make Britain fascist, all my life... and now I'm in hell\""
          ],
          [
           "Dark times for the UK .. when comes the reckoning ?"
          ],
          [
           "What a refreshing figure in the UK political scene..!\n\nMore power to you, George!"
          ],
          [
           "I Am not Anti Semitic ,I Am Anti Apartheide !"
          ],
          [
           "ANC did use violence, but i guess colonising and occupying another country is non violence"
          ],
          [
           "Galloway is extremely knowledgeable and experienced person, I'm glad he made it to the parliament when he was most needed while we have these clownshow of politicians and UK can't even have a proper candidate for Prime minister post."
          ],
          [
           "Some sense being spoken in Parliament at last"
          ],
          [
           "I’d elect him prime minister of UK instead of apoo from kwiki mart."
          ],
          [
           "He needs to do this because he knows who voted him in."
          ],
          [
           "UK need more politicians like Galloway who speak for welfare of communities unite."
          ],
          [
           "To be a politician, all you need to do, is swear an oath of loyalty to the lobbyist and donors, support Israel without question and have total contempt for the people ~ unless you’re George Galloway"
          ],
          [
           "Tories have been most responsible for fanning extremist, divisive, corrosive anti-foreign rhetoric by successive home secretaries and other MPs. Have any of them been investigated, charged, and brought to justice?"
          ],
          [
           "A honest politician will not resist to much among wolfs colleagues...or become a wolf himself or runs away.....Good Luck to Mr. Galloway...."
          ],
          [
           "Love You Man."
          ],
          [
           "Keeping the watchful eye on Westminster's questionable antics .\nDouble G the peoples man."
          ],
          [
           "Michael Govebells"
          ],
          [
           "Don't worry \nThey will keep introducing new versions."
          ],
          [
           "Thatcher also hinted that it would be advantageous if Mandela was killed in jail!"
          ],
          [
           "Same thing happening in Canada, a suggested Bill 63, which makes Gove's proposal look tame by comparison. in lockstep with other Anglo countries."
          ],
          [
           "It is the new Protocols Of The Elder Of Zion, but now directed against Arabs/Muslims and those criticizing Israel"
          ],
          [
           "Totally agree with George"
          ],
          [
           "We are going to see Western Spring this year."
          ],
          [
           "🙏👍✌️"
          ],
          [
           "Michael Gove defends Steve Bannon in latest Trump puff piece\n17 Jan 2017 — Michael Gove today defended 'alt-right' scribbler and Donald Trump strategy chief Steve Bannon, implying the former Breitbart editor"
          ],
          [
           "he has started"
          ],
          [
           "Strange that Galloway no made fuss about other peoples bank accounts being closed for political reasons previously."
          ],
          [
           "George has always been on the right side of history. 👏 👏"
          ],
          [
           "When I read the definition the first thing I thought that fitted the description was islam itself....."
          ],
          [
           "And how are things in Rochdale, these days, Boyo George?"
          ],
          [
           "Welcome to democracy 😜"
          ],
          [
           "Because he knows it's aimed at him. Thus, ladies and gentlemen, he's about to learn the hard way, that taking on the British Establishment is a very dangerous undertaking. Better people than him tried and ended up very bad indeed."
          ],
          [
           "I like George but South Africa is a disaster today . The ANC were excellent freedom fighters but awful at governing a country .😢"
          ],
          [
           "censorshipp iindustrial complexx"
          ],
          [
           "I supported Mandela for years for obvious reasons, I also think Ireland should be united with the north, and I also support the Palestinian people in their struggle for freedom. I dread to think what this new law makes me then."
          ],
          [
           "That was colonialism hangover."
          ],
          [
           "😊٠"
          ],
          [
           "Never in my life have i heard the word “divisive” used in a negative way until these days.. divisive is how u can differentiate right from wrong.. if someone doesn’t want u being divisive he wants you blind, ignorant…  and guess what, people are created different and its normal to have different opinions .. doesn’t mean we can’t be civil.."
          ],
          [
           "👌George Galloway."
          ],
          [
           "❤️💯"
          ],
          [
           "Traitor"
          ],
          [
           "Why are Antifa not on this list?"
          ],
          [
           "She was right"
          ],
          [
           "Pantomime Jose Mourinho. More entertainment than product."
          ],
          [
           "Barring his Muslim mates from spewing their rubbish"
          ],
          [
           "Well he would, wouldn't he. Wants to protect his Islamist mates from flying terror flags, banned,and harassing those they don't agree with."
          ],
          [
           "❤❤❤"
          ],
          [
           "That's so shameful 😡, 0.1% of people being blamed for wrong doing of 99.9% of the people of peaceful community.🤲☪️.It's Islamophobic."
          ]
         ],
         "hovertemplate": "Title=George Galloway raises worries over UK’s new ‘extremism’ definition<br>ID=%{x}<br>Likes_y=%{y}<br>Comment=%{customdata[0]}<extra></extra>",
         "legendgroup": "George Galloway raises worries over UK’s new ‘extremism’ definition",
         "marker": {
          "color": "#FF6692",
          "symbol": "circle"
         },
         "mode": "markers",
         "name": "George Galloway raises worries over UK’s new ‘extremism’ definition",
         "showlegend": true,
         "type": "scattergl",
         "x": [
          "blVRqmpe2sQ",
          "blVRqmpe2sQ",
          "blVRqmpe2sQ",
          "blVRqmpe2sQ",
          "blVRqmpe2sQ",
          "blVRqmpe2sQ",
          "blVRqmpe2sQ",
          "blVRqmpe2sQ",
          "blVRqmpe2sQ",
          "blVRqmpe2sQ",
          "blVRqmpe2sQ",
          "blVRqmpe2sQ",
          "blVRqmpe2sQ",
          "blVRqmpe2sQ",
          "blVRqmpe2sQ",
          "blVRqmpe2sQ",
          "blVRqmpe2sQ",
          "blVRqmpe2sQ",
          "blVRqmpe2sQ",
          "blVRqmpe2sQ",
          "blVRqmpe2sQ",
          "blVRqmpe2sQ",
          "blVRqmpe2sQ",
          "blVRqmpe2sQ",
          "blVRqmpe2sQ",
          "blVRqmpe2sQ",
          "blVRqmpe2sQ",
          "blVRqmpe2sQ",
          "blVRqmpe2sQ",
          "blVRqmpe2sQ",
          "blVRqmpe2sQ",
          "blVRqmpe2sQ",
          "blVRqmpe2sQ",
          "blVRqmpe2sQ",
          "blVRqmpe2sQ",
          "blVRqmpe2sQ",
          "blVRqmpe2sQ",
          "blVRqmpe2sQ",
          "blVRqmpe2sQ",
          "blVRqmpe2sQ",
          "blVRqmpe2sQ",
          "blVRqmpe2sQ",
          "blVRqmpe2sQ",
          "blVRqmpe2sQ",
          "blVRqmpe2sQ",
          "blVRqmpe2sQ",
          "blVRqmpe2sQ",
          "blVRqmpe2sQ",
          "blVRqmpe2sQ",
          "blVRqmpe2sQ"
         ],
         "xaxis": "x",
         "y": [
          51,
          25,
          16,
          11,
          20,
          88,
          8,
          5,
          20,
          6,
          3,
          2,
          54,
          37,
          14,
          3,
          2,
          2,
          2,
          1,
          7,
          0,
          1,
          1,
          0,
          0,
          1,
          0,
          0,
          18,
          0,
          0,
          0,
          1,
          0,
          0,
          0,
          0,
          0,
          0,
          13,
          3,
          2,
          3,
          1,
          0,
          4,
          1,
          0,
          3
         ],
         "yaxis": "y"
        },
        {
         "customdata": [
          [
           "“Extremists are anyone who say things we don’t like and don’t give us lots of money.” -the Tories"
          ],
          [
           "I hope the ERG is being investigated"
          ],
          [
           "Gove really is a nasty piece of work. Would be MY Portillo moment if he lost his seat. If you are in the Surrey Heath constituency, please vote tactically to remove this odious man."
          ],
          [
           "Even the Tories could be defined as extremists with that new definition."
          ],
          [
           "*HESTER IS NOT AN EXTREEMIST*       becasue he donated £10 million to the tory party"
          ],
          [
           "*TO ME IT LOOKS LIKE* they just wrote a description of themselves...!"
          ],
          [
           "I smell authoritarianism."
          ],
          [
           "My political idelogy is based on a hatred of the Tory party as public enemy number one. I think that's rational, not extremist."
          ],
          [
           "Braverman would easily meet the criteria for Prevent to select her for deradicalisation."
          ],
          [
           "The Tories are confused, perhaps they think the “Home” office is under housing"
          ],
          [
           "14yrs to get an extremist definition and we get this B.S"
          ],
          [
           "When Tories abuse this rule, the media will ignore it, if Labour use this rule, even correctly, the right wing media will highlight it on the front pages the next day."
          ],
          [
           "Extreme Tories ? \nIs there any other kind ?"
          ],
          [
           "If the next Labour government keep this law in place and follow it to the letter then they could ban the Tory party."
          ],
          [
           "Gove is looking more like Heinrich Himmler every day."
          ],
          [
           "This is 21st century British McCarthyism."
          ],
          [
           "It sounds to me like they should arrest themselves..😡😡😡"
          ],
          [
           "This is how fascism creeps in USA, through crafty methods in the state legislatures and courts."
          ],
          [
           "The government is making itself look ridiculous with this stupid announcement which goes against its own actions. More panic policy that is not government in action.  Gove has a history of stupid moves. More votes thrown out."
          ],
          [
           "They’re just getting worse and worse and worse. And worse. \n\nSquared."
          ],
          [
           "The only people who can never fall foul of this new defintion are Tory MPs and Tory donors, because, of course, Tory MPs and Tory donors can never be classed as extremists; perish the thought."
          ],
          [
           "The extremists are in Number 10!"
          ],
          [
           "\"Negate or destroy the fundamental rights and freedoms of others\"......see Brexit and Free Movement and withdrawal frm the ECHR."
          ],
          [
           "Good to see Housing involved. I’m sure we are all sick of Jihadi plasterers and Nazi plumbers. If the Daily Mail are reading this I’m happy to pad this shit out to a page for £100. RSVP."
          ],
          [
           "Tory extremism:\n\nExtremism can flourish only in an environment where basic governmental social responsibility for the welfare of the people is neglected. Political dictatorship and social hopelessness create the desperation that fuels religious extremism.\n\nBenazir Bhutto"
          ],
          [
           "Anyone else feeling like the next election is never going to come?"
          ],
          [
           "Phil you are misunderstanding the “Greatness “of the Tory proposal.\nIf a Tory supporter makes a racist speech or comment the matter is easily rectified by an apology and a donation to Tory Party for which perpetrator gets a Tax deduction and a Government contract where applicable."
          ],
          [
           "Sounds a bit like the Nuremberg Laws? A government can arbitrarily decide which group is worthy enough to be included."
          ],
          [
           "Ministers can call anyone extreamists.... Tufton street included."
          ],
          [
           "Landlords are a pretty nasty bunch, and the Dept for Housing deals with them 💁🏻‍♀"
          ],
          [
           "More word salad policies. Housing dealing with it because they needed someone with Gove's skills of obsfucation ,gaslighting, slight-of-hand and lies.\nHe's an absolute expert."
          ],
          [
           "If a political party aims to overturn the current FPtP system and replace it with PR system then that would be [2] replacing the UK's _system of liberal parliamentary democracy_ , so they would count as extremists."
          ],
          [
           "So now you have to prove innocence? Guilt is assumed. Put the tory party on that list then."
          ],
          [
           "The £15 million donation requires looking into; why such a large donation?  Was there any competitive tendering for contracts?  Is the IT system working?  What information do they hold about patients?  A thorough investigation required."
          ],
          [
           "Didn’t Senator Joe McCarthy try something similar in the US?"
          ],
          [
           "1. negate or destroy the fundamental rights and freedoms of others;\n\n2.or\nundermine, overturn or replace the UK’s system of liberal parliamentary democracy and democratic rights; \n\n3. or\nintentionally create a permissive environment for others to achieve the results in (1) or (2).\n\n\nIt’s very very very easy to make a strong argument the Tory party fits all elements of the new definition."
          ],
          [
           "Literally self defining"
          ],
          [
           "Just described  the tory party."
          ],
          [
           "When Murdoch dies there's going to be chaos with right wing , his hold is weakening giving us this circus ."
          ],
          [
           "Yet another carefully considered Tory policy.... that hasn't considered anything, never mind carefully. What could possibly go wrong."
          ],
          [
           "\"They count as extremists ... but not the wrong sort of extremists, of course!\""
          ],
          [
           "Sunak: \"Housing, home office, same thing aren't they?\""
          ],
          [
           "Is this a British version of trump’s presidential immunity claim?"
          ],
          [
           "I bet they had a list of groups they wanted to label as extremists and then wrote the definition in order for those groups to qualify."
          ],
          [
           "I can't wait for PMQ's next week if Starmer or Flynn don't use this they're missing a sitter."
          ],
          [
           "I know I have said this many times before, but if I was the Prime Minister, I would definitely give you a job as my special advisor. 👏"
          ],
          [
           "What powers or capabilites does his department have to investigate potentially extremist organisations?"
          ],
          [
           "This definition conveniently identifies anyone who would revold against the / a corrupt UK Government as an extremist."
          ],
          [
           "The more asinine rules they come up with, the more they look like the people who caused the \"small disagreement of 1939 to 1945\", as Auto Shenanigans puts it, with their self-appointment of what they believe is law versus actual law, and so late in the game given they'll be out on their backsides soon once GE steamrollers over them, it gives people even more reason to vote against them, it's like they want to lose, and lose hard..."
          ],
          [
           "Since when has Liberalism or for that matter Socialism been extremists? The current Tory party is way more extreme."
          ]
         ],
         "hovertemplate": "Title=New Tory Definition of Extremism Attracts Criticism<br>ID=%{x}<br>Likes_y=%{y}<br>Comment=%{customdata[0]}<extra></extra>",
         "legendgroup": "New Tory Definition of Extremism Attracts Criticism",
         "marker": {
          "color": "#B6E880",
          "symbol": "circle"
         },
         "mode": "markers",
         "name": "New Tory Definition of Extremism Attracts Criticism",
         "showlegend": true,
         "type": "scattergl",
         "x": [
          "2alaqc7V0D0",
          "2alaqc7V0D0",
          "2alaqc7V0D0",
          "2alaqc7V0D0",
          "2alaqc7V0D0",
          "2alaqc7V0D0",
          "2alaqc7V0D0",
          "2alaqc7V0D0",
          "2alaqc7V0D0",
          "2alaqc7V0D0",
          "2alaqc7V0D0",
          "2alaqc7V0D0",
          "2alaqc7V0D0",
          "2alaqc7V0D0",
          "2alaqc7V0D0",
          "2alaqc7V0D0",
          "2alaqc7V0D0",
          "2alaqc7V0D0",
          "2alaqc7V0D0",
          "2alaqc7V0D0",
          "2alaqc7V0D0",
          "2alaqc7V0D0",
          "2alaqc7V0D0",
          "2alaqc7V0D0",
          "2alaqc7V0D0",
          "2alaqc7V0D0",
          "2alaqc7V0D0",
          "2alaqc7V0D0",
          "2alaqc7V0D0",
          "2alaqc7V0D0",
          "2alaqc7V0D0",
          "2alaqc7V0D0",
          "2alaqc7V0D0",
          "2alaqc7V0D0",
          "2alaqc7V0D0",
          "2alaqc7V0D0",
          "2alaqc7V0D0",
          "2alaqc7V0D0",
          "2alaqc7V0D0",
          "2alaqc7V0D0",
          "2alaqc7V0D0",
          "2alaqc7V0D0",
          "2alaqc7V0D0",
          "2alaqc7V0D0",
          "2alaqc7V0D0",
          "2alaqc7V0D0",
          "2alaqc7V0D0",
          "2alaqc7V0D0",
          "2alaqc7V0D0",
          "2alaqc7V0D0"
         ],
         "xaxis": "x",
         "y": [
          185,
          183,
          43,
          143,
          137,
          72,
          40,
          51,
          107,
          85,
          85,
          43,
          73,
          38,
          20,
          5,
          8,
          16,
          24,
          6,
          7,
          8,
          27,
          27,
          25,
          3,
          16,
          15,
          9,
          33,
          14,
          11,
          10,
          3,
          8,
          18,
          18,
          8,
          10,
          5,
          1,
          6,
          2,
          8,
          4,
          7,
          9,
          1,
          2,
          1
         ],
         "yaxis": "y"
        },
        {
         "customdata": [
          [
           "Thanks! Awesome video, as I am writing a term paper on causes of extremism."
          ],
          [
           "Great animation and very well explained with clear and interesting information. Thanks for making this amazing video!"
          ],
          [
           "Thanks for help in social studies my man"
          ],
          [
           "Very nice and simple! I love it!"
          ],
          [
           "thank you awesome analysis, i wish you were my social science teacher. Because most social science teachers are closeminded and racist, and the students in the class base their judgments on what they see in the media. I hate biased arguments. \nI really love this video, great job."
          ],
          [
           "love the vids"
          ]
         ],
         "hovertemplate": "Title=Explainer: What causes extremism<br>ID=%{x}<br>Likes_y=%{y}<br>Comment=%{customdata[0]}<extra></extra>",
         "legendgroup": "Explainer: What causes extremism",
         "marker": {
          "color": "#FF97FF",
          "symbol": "circle"
         },
         "mode": "markers",
         "name": "Explainer: What causes extremism",
         "showlegend": true,
         "type": "scattergl",
         "x": [
          "uX-AOi8kp2U",
          "uX-AOi8kp2U",
          "uX-AOi8kp2U",
          "uX-AOi8kp2U",
          "uX-AOi8kp2U",
          "uX-AOi8kp2U"
         ],
         "xaxis": "x",
         "y": [
          18,
          3,
          5,
          2,
          4,
          0
         ],
         "yaxis": "y"
        },
        {
         "customdata": [
          [
           "Whats changed us the people are waking up to the traitors in parliament  !!!"
          ],
          [
           "DONT LET ANYONE CONVINCE YOU THAT IT STARTED ON October 7th:\r\n1. Haifa Massacre 1937\r\n2. Jerusalem Massacre  1937\r\n3. Balad al-Sheikh Massacre 1939\r\n4. Haifa Massacre 1939\r\n5. Haifa Massacre 1947\r\n6. Abbasiya Massacre 1947\r\n7. Al-Khisas Massacre1947\r\n8. Bab al-Amud Massacre\r\n9. Jerusalem Massacre  1947\r\n10. Sheikh Burek Massacre1947\r\n11. Jaffa Massacre 1948\r\n12. Deir Yassin Massacre\r\n13. Tantura Massacre 1948\r\n14. Khan Yunis Massacre 1956\r\n15. Jerusalem Massacre 1967\r\n16. Bahro Al Baquar 1972\r\n17. Sabra and Shatila Massacre 1982\r\n18. Al Aqsa Mosque Massacre 1990\r\n19. Ibrahimi Mosque Massacre 1994\r\n20. Jenin Refugee Camp \r\nApril 2002\r\n21. Gaza Massacre 2008-09\r\n22. Gaza Massacre 2012\r\n22. Gaza Massacre 2014\r\n24. Gaza Massacre- 2018-19\r\n25. Gaza Massacre2021\r\n26. Gaza Massacre 2023 is still ongoing."
          ],
          [
           "What about Bradford underworld rapists(my childhood days)"
          ],
          [
           "Rubbish!"
          ],
          [
           "So defunding Israel are you?"
          ],
          [
           "How about look at Zionism?"
          ],
          [
           "🇮🇱❤️🇮🇱❤️🇮🇱❤️🇮🇱❤️🇮🇱"
          ],
          [
           "Lee Anderson was right!"
          ],
          [
           "Islamafakia is not a problem, nor is the far right, but Islam is right up there with the Communists"
          ],
          [
           "As a Saudi 🇸🇦 transwoman of color, I demand LGBTQ rights in the Middle East 🕋🏳️‍🌈"
          ],
          [
           "Finally banning Islam, UK?"
          ],
          [
           "Can you please pray for our Palestinians brothers and sisters who are going through genocide by the Israeli army."
          ],
          [
           "This is why I use a Christian name on YouTube. I know who I am and what I am up against."
          ],
          [
           "Almost all humans have hate but don't let hate break the law...."
          ],
          [
           "Israeli settlers have occupied the Al Jazeera comment section"
          ]
         ],
         "hovertemplate": "Title=UK govt redefines 'extremism': New definition follows increase in hate crimes<br>ID=%{x}<br>Likes_y=%{y}<br>Comment=%{customdata[0]}<extra></extra>",
         "legendgroup": "UK govt redefines 'extremism': New definition follows increase in hate crimes",
         "marker": {
          "color": "#FECB52",
          "symbol": "circle"
         },
         "mode": "markers",
         "name": "UK govt redefines 'extremism': New definition follows increase in hate crimes",
         "showlegend": true,
         "type": "scattergl",
         "x": [
          "o8CxWdGLiTQ",
          "o8CxWdGLiTQ",
          "o8CxWdGLiTQ",
          "o8CxWdGLiTQ",
          "o8CxWdGLiTQ",
          "o8CxWdGLiTQ",
          "o8CxWdGLiTQ",
          "o8CxWdGLiTQ",
          "o8CxWdGLiTQ",
          "o8CxWdGLiTQ",
          "o8CxWdGLiTQ",
          "o8CxWdGLiTQ",
          "o8CxWdGLiTQ",
          "o8CxWdGLiTQ",
          "o8CxWdGLiTQ"
         ],
         "xaxis": "x",
         "y": [
          15,
          36,
          2,
          2,
          7,
          15,
          0,
          3,
          4,
          16,
          2,
          2,
          1,
          0,
          1
         ],
         "yaxis": "y"
        },
        {
         "customdata": [
          [
           "Get rid of the loathsome Gove!"
          ],
          [
           "Excuses after excuses to take people’s freedom away!"
          ],
          [
           "Rebranding it as \"anyone who has views different to the main propaganda engine is an extremist\""
          ],
          [
           "😂 democracy with an unelected prime minister"
          ],
          [
           "The imaginary far right to close down working class people's views, but they want our vote."
          ],
          [
           "Get Prepared, Get Tooled up, Keep Stum about it."
          ],
          [
           "How are they going to fit all of us into our overcrowded jails?"
          ],
          [
           "Extremism = loving your nation and wanting the borders closed."
          ],
          [
           "THIS IS DANGEROUS TO THE RIGHT OF POLITICS .MORE PEOPLE IN JAIL HERE THAN IN RUSSIA FOR THOUGHT CRIME"
          ],
          [
           "I can't laugh about this. It's disastrous for Britain."
          ],
          [
           "*ORWELIAN OR WHAT*\nThe thought and speech Police are coming for us."
          ],
          [
           "Gove  how to let a muppet screw things up more"
          ],
          [
           "Gove, what a Joke."
          ],
          [
           "The streets of London are unrecognizable these days. We need to bring back British values to our streets. Vote REFORM UK."
          ],
          [
           "So they threw in the words *liberal democracy\" ie. Democracy for the rich, because \"social democracy\".. Democracy for the people must be outlawed!"
          ],
          [
           "Well after seeing the complete mess Gove made in his time in charge of education. Why give him any air time at all?"
          ],
          [
           "A man of mystery and suspense ............and suspenders ......!!!"
          ],
          [
           "Stop dubious \"monetary support\" to politicians and parties......NO.     Stop revolving doors that spin like airplane blades......NO.\nStop politicians and parties from making moronic decisions.....NO     Stop politicians and parties bickering like chickens deciding who gets to eat first...... NO\nChange the meaning of EXTREMISM to \"We are right and you shut up.... or else\" .......... That's the ticket."
          ],
          [
           "And Gove's final definition is: \"Uh, uh, uh, uh, uh, uh, uh, uh, uh, uh, uh, uh, uh, uh, uh, uh, uh I don't know, my bloody Tsar resigned\"...."
          ],
          [
           "Gove is a smart operator. He will already have clauses in there that he will roll back to get it through Parliament and then the next Labour Government can tighten the screws on us more."
          ],
          [
           "Get someone in power who’ll reverse all this trash the last twenty years, more freedoms and rights for the law abiding citizens"
          ],
          [
           "The system......says it all....."
          ],
          [
           "As a Christian I can only blaspheme against my own God. The blasphemy laws they plan are a joke."
          ],
          [
           "Wait for liebour to get in.. they'll change the definition of all language.. 🤔🤦"
          ],
          [
           "When they talk about the far right, do they feel they have to talk about islamists?"
          ],
          [
           "Nightmare ahead"
          ],
          [
           "The term gammon is racist however being racist and hateful based on white skin is perfectly ok it appears"
          ],
          [
           "He should be more worried about coming out of his closet"
          ],
          [
           "I no longer trust Gove's judgement on anything."
          ],
          [
           "Thank you 🙏 absolutely 💯 correct"
          ],
          [
           "This fool is just going to be ALLOWED to implement this?. Why are we not screaming outside their gates and armed guards?. For gods sake fight back! I'm 70 and carry a scar from the poll tax protest, thanks to their protectors."
          ],
          [
           "Extremism is anyone who speaks the truth."
          ],
          [
           "Hit the nail on the head. You thought this law was going to be to stop the pro-Palestine movement. Yet we are all subjects to it. You can be as equally affected by it as the pro-Palestinians. But it’s okay we are making Britain Great again. Guess it’s too late as always with you people, you bear the fruit of your labour."
          ],
          [
           "GBNews has the whole country up in arms"
          ],
          [
           "But of course the re place  ment of a native people, isn’t extreme at all."
          ],
          [
           "Why is there Palestinian flags on every lamppost in my local borough of london?"
          ],
          [
           "Loving the #TribecalledQuest references."
          ],
          [
           "When the government’s own definition of extremism is extremist."
          ],
          [
           "If that's the new definition than  almost all pro Palestinian supporters should go in jail .."
          ],
          [
           "Words words words but no sign of action.what pathetic traitors the tories are.."
          ],
          [
           "Priti Patel? Suella Braverman? Boris Johnson? 3 Parties Anderson? Extremists?"
          ],
          [
           "Since when did he get a mandate to define anything."
          ],
          [
           "It's to help the two teer, enforcement methods of the police, to arrest peaceful truth tellers."
          ],
          [
           "They've seen and done absolutely nothing!!!!!!!"
          ],
          [
           "I Honestly wouldn't Trust Gove to run a Bath 😷"
          ],
          [
           "Just read the koran. Thats full of intolerance and violence."
          ],
          [
           "Words all words and does it stop those who have a hatred against Israel I bet no"
          ],
          [
           "funny how George Orwell could see the future so clearly."
          ],
          [
           "What this means is that the Saturday marches will continue but it will be easier to shut down counter protests and marches to protect war memorials because they're \"far right\" does anyone even know what that means anymore?"
          ],
          [
           "The liberal democracy they are talking about has nothing liberal about it or democracy either at this point!they just acted like they couldnt to get this dross pushed through!"
          ]
         ],
         "hovertemplate": "Title=What is Michael Gove's new definition of 'extremism', and what does it mean for free speech?<br>ID=%{x}<br>Likes_y=%{y}<br>Comment=%{customdata[0]}<extra></extra>",
         "legendgroup": "What is Michael Gove's new definition of 'extremism', and what does it mean for free speech?",
         "marker": {
          "color": "#636efa",
          "symbol": "circle"
         },
         "mode": "markers",
         "name": "What is Michael Gove's new definition of 'extremism', and what does it mean for free speech?",
         "showlegend": true,
         "type": "scattergl",
         "x": [
          "XJ0sVVPRFEY",
          "XJ0sVVPRFEY",
          "XJ0sVVPRFEY",
          "XJ0sVVPRFEY",
          "XJ0sVVPRFEY",
          "XJ0sVVPRFEY",
          "XJ0sVVPRFEY",
          "XJ0sVVPRFEY",
          "XJ0sVVPRFEY",
          "XJ0sVVPRFEY",
          "XJ0sVVPRFEY",
          "XJ0sVVPRFEY",
          "XJ0sVVPRFEY",
          "XJ0sVVPRFEY",
          "XJ0sVVPRFEY",
          "XJ0sVVPRFEY",
          "XJ0sVVPRFEY",
          "XJ0sVVPRFEY",
          "XJ0sVVPRFEY",
          "XJ0sVVPRFEY",
          "XJ0sVVPRFEY",
          "XJ0sVVPRFEY",
          "XJ0sVVPRFEY",
          "XJ0sVVPRFEY",
          "XJ0sVVPRFEY",
          "XJ0sVVPRFEY",
          "XJ0sVVPRFEY",
          "XJ0sVVPRFEY",
          "XJ0sVVPRFEY",
          "XJ0sVVPRFEY",
          "XJ0sVVPRFEY",
          "XJ0sVVPRFEY",
          "XJ0sVVPRFEY",
          "XJ0sVVPRFEY",
          "XJ0sVVPRFEY",
          "XJ0sVVPRFEY",
          "XJ0sVVPRFEY",
          "XJ0sVVPRFEY",
          "XJ0sVVPRFEY",
          "XJ0sVVPRFEY",
          "XJ0sVVPRFEY",
          "XJ0sVVPRFEY",
          "XJ0sVVPRFEY",
          "XJ0sVVPRFEY",
          "XJ0sVVPRFEY",
          "XJ0sVVPRFEY",
          "XJ0sVVPRFEY",
          "XJ0sVVPRFEY",
          "XJ0sVVPRFEY",
          "XJ0sVVPRFEY"
         ],
         "xaxis": "x",
         "y": [
          60,
          103,
          56,
          56,
          21,
          56,
          33,
          30,
          59,
          29,
          27,
          36,
          11,
          67,
          6,
          5,
          14,
          9,
          10,
          5,
          2,
          5,
          4,
          2,
          3,
          5,
          3,
          6,
          1,
          1,
          1,
          1,
          2,
          2,
          7,
          2,
          2,
          0,
          6,
          0,
          1,
          0,
          0,
          0,
          0,
          1,
          15,
          0,
          0,
          0
         ],
         "yaxis": "y"
        },
        {
         "customdata": [
          [
           "Right now we're getting terrorised by our corrupt government . ..😂😂😂"
          ],
          [
           "Michael Gove is defining HIMSELF."
          ],
          [
           "By this definition surely the Conservative Party would become a proscribed organisation."
          ],
          [
           "Sorry guys I _can't_ handle any more Michael Gove this week\nit's unbearable"
          ],
          [
           "Is Zionism on that list? I think it should be at the very top!"
          ],
          [
           "So…Scottish independence is now extremism?"
          ],
          [
           "They are wolves in sheep's clothing.  Anything they say about others is a reflection of them self's."
          ],
          [
           "Will israeli lobby groups be included in this definition ?..."
          ],
          [
           "He should call out his extremist donor...nonsense.."
          ],
          [
           "Tories have been most responsible for fanning extremist, divisive, corrosive anti-foreign rhetoric by successive home secretaries and other MPs. Have any of them been investigated, charged, and brought to justice?"
          ],
          [
           "LMAO i almost fell off my chair laughing when the LBC interviewer had to say \"Does Michael Gove recognise....\" to Michael Gove, because Gove is such an idiot."
          ],
          [
           "The new definition of extremist Is the shortest ever: \"us\""
          ],
          [
           "How come the EDL wasn’t named?"
          ],
          [
           "How can we take Gove seriously after 'Spitting Image' ?"
          ],
          [
           "Will The Tory party be included in in this list,  Mr Gove?\n\n30p lee..\nSurella..\nThe list goes on and on."
          ],
          [
           "Excellent reporting, Moya and Helena. Thank you 👏🏻👏🏼👏🏿👏🏽"
          ],
          [
           "I appreciate this look into the UK parliament, the protest-chilling legislation, and the problems faced by its pioneer Black woman MP. I do hope justice eventually prevails for her and for the people of the UK."
          ],
          [
           "Goves fascism."
          ],
          [
           "Keep up the amazing work Novara. Great to have Helena as a regular co-host. Brilliant analysis!"
          ],
          [
           "Time to dust off and read Orwell’s “1984”."
          ],
          [
           "When Gove puts on the charm , its time to be aware."
          ],
          [
           "Starmer is such a slimy liar."
          ],
          [
           "Is frank hester barred from contacting government officials? I dont think so."
          ],
          [
           "My parents have been Labour Party members for many years. My mother even stood in local elections. In all of the time they attended local constituency meetings (both are getting on now and rarely attend meetings now) they never once heard anything that they regarded as an anti-Semitic slur, or abuse or opinion. However they occasionally heard anti-black racist comments and often heard Islamophobic opinions expressed by members. There was push-back against those expressing those opinions from other members (sometimes from my parents) but nevertheless it shows 2 things. First the AS issue was wildly overstated, although I think most Novara viewers know that. But secondly, it shows that Labour does have a racism problem and its mostly expressed as Islamophobia. Something for which the party seemingly has no appetite to address."
          ],
          [
           "A government report say the biggest danger in Britain is the far right but the far right have tv shows"
          ],
          [
           "The best way to prevent extremism is to silence people. People definitely don't feel frustrated and angry at not being listened to. And they definitely don't seek more extreme ways of making themselves heard as that frustration and anger builds."
          ],
          [
           "Hypocrisy of the politicians ! Double standards!"
          ],
          [
           "The way Jo Coburn immediatly laughed and faced away, then tried to cut off Taj Ali while he was talking about his and others' experiences of racism, was appalling."
          ],
          [
           "Gove's comment on Diane Abotts' case is a sheer mental gymnastics  !"
          ],
          [
           "If Hamas are embedded within the  civilian population in Rafah, then how are the civilians supposed to be moved to these so called 'humanitarian islands' and be separated from Hamas?\n\nAll queue up in a line with: LEFT for AUST..., sorry, 'humanitarian islands ' and RIGHT, for Hamas and certain death?\n\nHaven't we seen something like this before?"
          ],
          [
           "Gove has been singled out by Baroness Warsi as a destructive force, I rather think her criticisms have been an understatement."
          ],
          [
           "The tories are killing us but how are we supposed to vote for starmer. He’s literally the same as them like wtf"
          ],
          [
           "Keirs has to get permission from his wifes israeli contacts just like rishi sunak"
          ],
          [
           "Excellent journalism!"
          ],
          [
           "Can Mickey Sniffs even remember his own name at this point?"
          ],
          [
           "Thanks for highlighting this Novara. Great journalism."
          ],
          [
           "Whats actually amusing is that those definitions of extremism apply to the labour and Conservative fiends of israel. Again another tory playing to the whims of his puppetmasters"
          ],
          [
           "When I hear Gove I think of Enoch Powell, for some reason 🤔"
          ],
          [
           "\"Humanitarian islands\" -from the compassionate Israeli dictionary and Gove logic. \nGreat show, Moya!"
          ],
          [
           "Excellent journalism"
          ],
          [
           "He never answers the question"
          ],
          [
           "Does mean the torys now qualify as an extremist group?"
          ],
          [
           "Brilliant show, Moya."
          ],
          [
           "Independent process my arse😮"
          ],
          [
           "When you scream as loud as you can, yet no sound is emitted, it's such a relief when someone can voice it for you,😊. Many thanks and a huge 🫂🤩.\nLike deployed 👍"
          ],
          [
           "Has Kier Starmer handed back his peerage? I notice that he is no longer addressed as Sir Kier Starmer"
          ],
          [
           "Corbyn has the whip withdrawn by Starver"
          ],
          [
           "ffs Gove ."
          ],
          [
           "All this to protect znists! The country has to change to cater for them!"
          ],
          [
           "the illegal imposition of  sanctions imposed on the benefit claimants would be a direct act of  terror  imposed by the  radical process of  conservatism a organised party, Gove named groups  under parliamentary privilege , he cannot dare to  name the groups outside the  building  ..."
          ]
         ],
         "hovertemplate": "Title=Michael Gove Names Muslim Groups In Extremism Redefinition Announcement | #NovaraLIVE<br>ID=%{x}<br>Likes_y=%{y}<br>Comment=%{customdata[0]}<extra></extra>",
         "legendgroup": "Michael Gove Names Muslim Groups In Extremism Redefinition Announcement | #NovaraLIVE",
         "marker": {
          "color": "#EF553B",
          "symbol": "circle"
         },
         "mode": "markers",
         "name": "Michael Gove Names Muslim Groups In Extremism Redefinition Announcement | #NovaraLIVE",
         "showlegend": true,
         "type": "scattergl",
         "x": [
          "2XGmlHvH8Wc",
          "2XGmlHvH8Wc",
          "2XGmlHvH8Wc",
          "2XGmlHvH8Wc",
          "2XGmlHvH8Wc",
          "2XGmlHvH8Wc",
          "2XGmlHvH8Wc",
          "2XGmlHvH8Wc",
          "2XGmlHvH8Wc",
          "2XGmlHvH8Wc",
          "2XGmlHvH8Wc",
          "2XGmlHvH8Wc",
          "2XGmlHvH8Wc",
          "2XGmlHvH8Wc",
          "2XGmlHvH8Wc",
          "2XGmlHvH8Wc",
          "2XGmlHvH8Wc",
          "2XGmlHvH8Wc",
          "2XGmlHvH8Wc",
          "2XGmlHvH8Wc",
          "2XGmlHvH8Wc",
          "2XGmlHvH8Wc",
          "2XGmlHvH8Wc",
          "2XGmlHvH8Wc",
          "2XGmlHvH8Wc",
          "2XGmlHvH8Wc",
          "2XGmlHvH8Wc",
          "2XGmlHvH8Wc",
          "2XGmlHvH8Wc",
          "2XGmlHvH8Wc",
          "2XGmlHvH8Wc",
          "2XGmlHvH8Wc",
          "2XGmlHvH8Wc",
          "2XGmlHvH8Wc",
          "2XGmlHvH8Wc",
          "2XGmlHvH8Wc",
          "2XGmlHvH8Wc",
          "2XGmlHvH8Wc",
          "2XGmlHvH8Wc",
          "2XGmlHvH8Wc",
          "2XGmlHvH8Wc",
          "2XGmlHvH8Wc",
          "2XGmlHvH8Wc",
          "2XGmlHvH8Wc",
          "2XGmlHvH8Wc",
          "2XGmlHvH8Wc",
          "2XGmlHvH8Wc",
          "2XGmlHvH8Wc",
          "2XGmlHvH8Wc",
          "2XGmlHvH8Wc"
         ],
         "xaxis": "x",
         "y": [
          109,
          89,
          217,
          192,
          83,
          128,
          79,
          113,
          34,
          28,
          47,
          40,
          25,
          73,
          36,
          33,
          38,
          15,
          35,
          19,
          46,
          14,
          21,
          32,
          15,
          27,
          9,
          11,
          7,
          30,
          8,
          11,
          9,
          16,
          24,
          13,
          33,
          13,
          4,
          10,
          13,
          8,
          8,
          11,
          7,
          10,
          12,
          15,
          6,
          23
         ],
         "yaxis": "y"
        },
        {
         "customdata": [
          [
           "As an asian that served in the US army, I did face some racism/bullying from certain peers and superiors. It was rather uncommon, but you always had the usual d-bags once in a while. Glad to say that there were a lot more good guys that had my back."
          ],
          [
           "Military formation: stack up = a crowd of people in a small hallway\nMilitary codes : hold your ground = anyone wanting to make a stand.  \nI get your point but come on, I'm just waiting for \"fully semi automatic\" to be said at this point."
          ],
          [
           "“Without patriotic political education, a soldier is only a potential criminal.”\n\n— Thomas Sankara"
          ],
          [
           "I spent 24 years  in the USAF and I never saw this type of stuff ( I retired in 2016) I think the more radical stuff forms AFTER their time in the service. Frustration with civilian life, a lack of preparation to getting out, combined with a skill set that doesn't lend itself to much after the military."
          ],
          [
           "\"Then after all this, we have the Vietnam War\"\n\nI always feel bad for Korean War vets. It's like no one remember that war happened"
          ],
          [
           "I was born and raised in mobile Alabama. I never knew anyone in the kkk. It was never a topic in conversations. It was practically non-existent. After coming home from my time in the service. The first day home, I went to check my mailbox and had a large minella envelope with a package from my local kkk. They wanted to welcome me home and invited me to a meeting. How did they know that I returned home? My blood ran cold!"
          ],
          [
           "22:02 did he really just say that a 223 round will travel several miles 😂😂😂😂😂"
          ],
          [
           "Machoism, insecurities, egoes and fears is how these people are born into these idealisms"
          ],
          [
           "Also I think another reason why extremism seems to be more prevalent in veterans coming out of the military is simply because they're looking for that same type of structure and brotherhood that you get in the military. It's REALLY hard to find that in civilian life just in general. So, they tend to latch onto it wherever they can find it."
          ],
          [
           "The military is a completely different culture than the civilian world. You dont feel like you fit in, and have to another hard reset on who you were, just like in basic combat training, but this time in reverse all by yourself. The military is black and white, while the civilian world is endless shades of grey. Some don't adjust well once they get out. They retreat back to the familiar, and latch onto it with both hands because it's the only way to make sense of an endlessly grey world. I'm not saying putting on the horns and trying to kidnap the governor is a good idea, far from it. But this is where a lot of those guys are coming from. They are having trouble assimilating into the mainstream. So they turn to fringe groups. This doesn't excuse bad behavior. Evil is still evil. But if we can help someone before they become lost, then we can mitigate things."
          ],
          [
           "What a really effective militia we have here with the people on January 6. All those people working together with their military communications and military experience and blah blah blah and not a single member of Congress was threatened in any way shape or form."
          ],
          [
           "As a vet, I feel like the conversations I have in my civilian job would land me in trouble. I was surrounded for years by the fear that someone would report me or I would get a SHARP complaint. Trust me the military is ground 0 for a safe place."
          ],
          [
           "I spent 30 years in the US Army from draftee to Colonel. When I came out, I had a real hard time adjusting to civilian life. I am now 73 live in the country on a farm and keep to myself. That is how I adjusted, I limit my contact with others."
          ],
          [
           "I think the lack of support soldiers get AFTER their service is one significant factor why they turn to extremism. With a military budget this big, the government needs to provide a lot more for the veterans"
          ],
          [
           "I remember when the stand down took place. We got called back to our unit to A make sure we weren’t in DC and B make sure the stand down pushed knowledge on policies and SOPs \n\n( stationed in NC from 2018-2021 )"
          ],
          [
           "Former military are being targeted because of their mindset - former military usually will not question those in authority especially junior troops.  These former military are generally discharged from the military with a less than honorable discharge and are being targeted & used because they have nowhere to go.  It is sickening to know that my fellow former military members are further ruining their lives.  😢💔😢"
          ],
          [
           "vice needs to do an entire episode on fort hood. the killings, disappearances, the cartel involvement, all of it."
          ],
          [
           "I served as an infantryman in the US Army. That guy who served 2 months is totally full of it. After a month, you are basically still doing BRM, Basic Rifle Marksmanship.  Maybe you have done some obstacle courses, communication training, and some basic movement training. He would not be proficient in almost anything yet. Chaptering or kicking him out probably took a couple of weeks, so that's it. After about 15 weeks, you graduate OSUT, one station unit training, you really only know the basic information you need to function as a soldier. From there, your first unit will actually spend time training you in what you need to know. If you have good NCO's, training never stops throughout your career. Eventually, you are the NCO responsible for training the next generation. In my time, I definitely had some dirtbags to deal with. You chapter them out of the military and move on to the next Joe."
          ],
          [
           "I served 28 years in the Army, there were members from every gang that you could ever imagine. All races! Right and Left!"
          ],
          [
           "Send a bunch of kids to fight a frivolous, illegal war and wonder why they come home fcked up. Shameful."
          ],
          [
           "the way we treat our veterans probably plays a huge factor into this. The significant underfunding of resources, specifically mental health resources is horrific. As someone with PTSD, it is such an isolating disease, and they need a support system that lets them heal and gives them the love they need and deserve.  I can’t even imagine having combat trauma. we can’t treat the people who fought for us this way any longer. \nClarifying this because people are now saying this is me excusing domestic terrorism and racism; GIVING PEOPLE MENTAL HEALTH RESOURCES COULD PREVENT THEM FROM TURNING TO VIOLENCE AND EXTREMISM. I absolutely despise these peoples actions, but at the same time I think they deserve access to the mental health resources they desperately need. I also think about the countless homeless veterans or veterans struggling with addiction who have no access to a support system."
          ],
          [
           "If you ask a bad person “are you a bad person”; you think they will say yes? You can’t just ask them , you gotta look up their background information"
          ],
          [
           "how can you in the same video say there were a time with several million clan members and then say the last 20 years was the most politically divided moment in living memory?"
          ],
          [
           "Way too much adds..."
          ],
          [
           "Dude with beard and shaved head went through a lot of bad stuff, but stopped digging deeper holes and educated himself through legitimate educational institutions ..He identified the problem and is doing some common sense things to find solutions .. I don't know if what he's doing now is that much safer than his work as a forward observer, but I thank him for his service and what he's doing now ..Please stay safe .."
          ],
          [
           "Ok let me put this out there, as a 30-year military retiree, who represent the attitudes and opinions 99% of our population, the military Vets portrayed in this video are 'our' extremists too!\nPlease do not walk away from this video thinking our great countries Vets are a bunch of neo-Nazi or worse potential neo-Nazi's. I have met a few military folks who reflect the Vets in this video, many had these attitudes and opinions before they joined the service, they are a minority of the military population. Every NCO and Petty Officer I had the privilege of serving with, would not tolerate this behavior in their formations."
          ],
          [
           "When he said \"when the capital will be stormed\" it was obvious the man is a liar grinding axes."
          ],
          [
           "I get too dizzy from the 'slant' to keep watching."
          ],
          [
           "My brother who is in the army was telling me all about this 10years ago. From what he told me this is already generational."
          ],
          [
           "Does anyone think it's fitting and ironic that \"The Base\" was also the English translation of Al Qaeda?"
          ],
          [
           "\"Goldsmith\"?  That's an interesting last name."
          ],
          [
           "With wide open borders out of control spending what are the people of this country supposed to do you damn right it’s going on"
          ],
          [
           "A 25-35 yr old enlisted Marine who misses the Corp this much yet isn't serving anymore probably wasn't given the chance to reenlist.  Furthermore, letting others call you \"The General\" when you couldn't possibly hold that rank goes against military decorum.  I work in a VA hospital (and a Navy vet).  One of the most common tactics I see with vets who puff up their service, and cling to their time in service to this degree, is that they're actually OTH (other than honorable) or ELS (entry-level separation aka didn't /couldn’t finish boot camp) discharges.   Just my opinion tho."
          ],
          [
           "It's a strange reality to live with. One of my best friends I made at my Advanced Individual Training (AIT) had a father who was on the leanings of White Supremacists. However, we were close enough to talk about anything at anytime, and she acknowledged her upbringing, but was never prejudice, even to myself, a person of color. \n\nAt our graduation, we were lined up infront for handshaking and congratulations from all the parents and friends who showed up. Some refused to shake our hands,  acknowledge our existence, or our commitment to our nation. It's a hard pill to swallow, but I can live happily knowing that my classmates did not have the same ideology as their parents. I serve my country proudly, regardless having to protect people with different ideologies."
          ],
          [
           "We need the Punisher."
          ],
          [
           "Approx 500 and what arrests in what period out of a country with what population, and how many convictions"
          ],
          [
           "I love the guy going on about the trauma of seeing your best friend bleed and die ... and it turns out he is the one who's never been in combat ........"
          ],
          [
           "33:08 four words sums it up"
          ],
          [
           "When the losers in high school meet up."
          ],
          [
           "While the issue is certainly multifactorial, It appears to be a deadly combination of generational prejudice and hatred seeping out and the lack of support upon being discharged/ retiring from the military. Many crave the structure, discipline, and comradery they experienced while in the military and which is severely lacking in the civilian realm and something they find in these 'brotherhood' type extremist groups. My dad served 30 years in the Army and eventually retired two years ago. I know it was a very sad day for him as it had been a part of his life for 30 years and had been the reason for his success in life ( he was a JAG and eventually retired as an '06). The army gave our family many adventures including living overseas for many years and it was a time that while stressful (especially when my dad deployed) it was certainly something created a close bond between us. My dad ended up taking a high position in the social security administration and is currently still successful but i know many others  who struggle. My dad  continues to help fellow soldiers from his previous command who are retiring - giving them resume advice, education recommendations, and tips for transitioning to the civilian life. He has helped many get jobs in the government sector and other corporations and I am glad that my dad is trying to help these soldiers transition so that they have support and don't feel lost and desperate."
          ],
          [
           "The Viet Nam war was the first war we were able to witness through the television. It was brought right into your living room. I remember as a kid, they would list the dead and wounded every night on the news. It was pretty scarry."
          ],
          [
           "As a vet i like dogs."
          ],
          [
           "I never thought I would see the day in this country, where, standing up for the rights that are protected by. Our constitution are looked at as extremist ideology."
          ],
          [
           "For anybody worried about people like Watkins, the initial phase of basic training that everybody goes through doesn’t teach you much"
          ],
          [
           "I was in the military for 12 years until I was force to leave after severe injury. I miss the military it was the worst and best thing that ever happened to me and I’d go back if I was able. In my veteran community I’ve never seen any of them being radicalized most just have nostalgia and miss their time in service and complain about how terrible the VA is. But from this it seems they could be all around me but I’ve never been approached by them that I know of. I know lots of TBI/PTSD/Disabled guys who could be manipulated using their trauma or exploiting their vulnerabilities and the desire to be a part of something bigger and a brother/sisterhood we lost when we had to leave."
          ],
          [
           "As a prior service Coastie, and son of a retired Coastie, I have to chuckle at the Coastie at the beginning of this video, acting like he’s some sort of trained warrior."
          ],
          [
           "I'm a young vet and I can tell you why some feel angry.I am now broken and disabled at only the young age of 26.It makes me angry that my friends who I went to high school with,don't have to worry about the same disabilities I do.The VA is trash and the government could careless about their citizens."
          ],
          [
           "Extremism of this scale has always existed - just much more spread out and many small groups. The reason why it started rising in the 2010s is because social media was made available - where people of like mind in fringe society can find one another and group up.  Now it's just in plain sight, because of how the internet is. This applies to every single fringe group out there - they've always existed in mass, now they just have a place to converse and converge together.\n\n14:35 - 15:35 this person speaks it perfectly."
          ],
          [
           "Really is that how Tim Poole feels??😂😂😂😂😂"
          ],
          [
           "Living in a conservative area of the country where a few of these militas call home I can tell you that most of the \"vets\" that are in these groups, or hang around these groups either washed out of basic, or were dishonorably discharged not long into their service. Almost all of them will brag constantly about having been a special forces super secret assassin, or have a little modesty and just say they were in seal team six."
          ]
         ],
         "hovertemplate": "Title=American Terror: The Military’s Problem With Extremism in the Ranks<br>ID=%{x}<br>Likes_y=%{y}<br>Comment=%{customdata[0]}<extra></extra>",
         "legendgroup": "American Terror: The Military’s Problem With Extremism in the Ranks",
         "marker": {
          "color": "#00cc96",
          "symbol": "circle"
         },
         "mode": "markers",
         "name": "American Terror: The Military’s Problem With Extremism in the Ranks",
         "showlegend": true,
         "type": "scattergl",
         "x": [
          "lVkBVExuXSQ",
          "lVkBVExuXSQ",
          "lVkBVExuXSQ",
          "lVkBVExuXSQ",
          "lVkBVExuXSQ",
          "lVkBVExuXSQ",
          "lVkBVExuXSQ",
          "lVkBVExuXSQ",
          "lVkBVExuXSQ",
          "lVkBVExuXSQ",
          "lVkBVExuXSQ",
          "lVkBVExuXSQ",
          "lVkBVExuXSQ",
          "lVkBVExuXSQ",
          "lVkBVExuXSQ",
          "lVkBVExuXSQ",
          "lVkBVExuXSQ",
          "lVkBVExuXSQ",
          "lVkBVExuXSQ",
          "lVkBVExuXSQ",
          "lVkBVExuXSQ",
          "lVkBVExuXSQ",
          "lVkBVExuXSQ",
          "lVkBVExuXSQ",
          "lVkBVExuXSQ",
          "lVkBVExuXSQ",
          "lVkBVExuXSQ",
          "lVkBVExuXSQ",
          "lVkBVExuXSQ",
          "lVkBVExuXSQ",
          "lVkBVExuXSQ",
          "lVkBVExuXSQ",
          "lVkBVExuXSQ",
          "lVkBVExuXSQ",
          "lVkBVExuXSQ",
          "lVkBVExuXSQ",
          "lVkBVExuXSQ",
          "lVkBVExuXSQ",
          "lVkBVExuXSQ",
          "lVkBVExuXSQ",
          "lVkBVExuXSQ",
          "lVkBVExuXSQ",
          "lVkBVExuXSQ",
          "lVkBVExuXSQ",
          "lVkBVExuXSQ",
          "lVkBVExuXSQ",
          "lVkBVExuXSQ",
          "lVkBVExuXSQ",
          "lVkBVExuXSQ",
          "lVkBVExuXSQ"
         ],
         "xaxis": "x",
         "y": [
          3969,
          27,
          109,
          3735,
          1875,
          1447,
          6,
          38,
          3148,
          2869,
          8,
          145,
          931,
          660,
          2,
          22,
          1226,
          1087,
          3,
          3,
          1995,
          209,
          1,
          2,
          1513,
          773,
          2,
          2,
          429,
          111,
          3,
          2,
          255,
          501,
          2,
          1,
          38,
          2,
          2,
          289,
          120,
          2,
          2,
          217,
          811,
          0,
          234,
          89,
          1,
          737
         ],
         "yaxis": "y"
        },
        {
         "customdata": [
          [
           "Right-wing people you mean standing up for UK democracy and values is not right-wing mate."
          ],
          [
           "Gove … The chief slime !!!"
          ],
          [
           "Who are these right wing groups?"
          ],
          [
           "Stop this tyrant"
          ],
          [
           "Aah. You talking about Zionism and the conservatives and labour"
          ],
          [
           "This is irrelevant. There's a GE this year .Stammer and labour will not uphold this .unless it's so-called far right"
          ],
          [
           "So basically any organisation that fights against Islamophobia"
          ],
          [
           "Would you include the alphabet ideology, which forces us to employ certain pronouns, and language, and indoctrinates our kids?"
          ],
          [
           "Problem reaction solution. The ones that caused it are the ones that will fix it. But fixing it means more centralised power. It's a long game and not so obvious to see if you only view things in the short term."
          ],
          [
           "Could!!\nSo called!!\nThis is politics these days.\nGove is an absolute disgrace🥴\nCan!!!\nPlaying with words."
          ],
          [
           "so that's(3) big ,medium and small muslims. ...."
          ],
          [
           "The royal family, the house of parliament and the police. Am I correct, are they the three?"
          ],
          [
           "That definition covers the whole of Islam."
          ],
          [
           "How dumb is this proposed legislation? If Israel is found guilty of genocide by the I.C.J. then any British jew supporting Israel automatically becomes an extremist. Isn't it hilarious 😂😂"
          ],
          [
           "Babies , children and adults to be exact ."
          ],
          [
           "Can we have a party that removes all cowardly lying politicians, i think that would account for %99 of all politicians..."
          ],
          [
           "Is calling for the repatriation of lawbreaking or treacherous migrants who hate British culture and values extreme right wing? It seems entirely sensible to me. Look at Shemima Begum."
          ],
          [
           "The two party system is about to come crashing down. The people of this nation 🇬🇧 have had enough of the same old same old.\nMark my words ,you will eventually have no choice but to implement proportional representation."
          ],
          [
           "Too many words saying very little of substance. How can this course of action assist anyone?"
          ],
          [
           "I would have thought that the Muslim Council of Britain should definitely be on the list."
          ],
          [
           "Where are these right wingers? What a disgusting thing to say."
          ],
          [
           "Tory party are sooo guilty"
          ],
          [
           "What about the breaching the racism rule???"
          ],
          [
           "So basically, the tory party.\nRed or blue, doesn't matter they're both as diabolical as each other."
          ],
          [
           "The proposed definition covers the tory Party"
          ],
          [
           "so how many lines of coke did gove shove up his nose just to come out with that load of tripe"
          ],
          [
           "You can't just have your own definition of extremism."
          ],
          [
           "Worm..."
          ],
          [
           "Desperation clutching at straws."
          ],
          [
           "Now I don't like to nit pick, but... This coming from a Government who are complicit in a possible genocide, who has supported massacres in Syria, Afghanistan,etc surely they should brand themselves as extremist?!!"
          ],
          [
           "Better late than ...."
          ],
          [
           "Should be adding Humza yousef to that list."
          ],
          [
           "😳 SORRY COULD.. 🤔😯 Don't you mean have been.. & it's not far right\nThat'll be just normal people.. that'll be most of society that are horrified by what we see everyday.. does anyone know anyone WHO'S FAR RIGHT.. 🤔🤷🤦"
          ],
          [
           "With seemingly no real difference anymore between red and blue it’s worrying where the UK is heading the future looks very uncertain going forward."
          ],
          [
           "First they came for the Communists\r\nAnd I did not speak out\r\nBecause I was not a Communist\r\nThen they came for the Socialists\r\nAnd I did not speak out\r\nBecause I was not a Socialist\r\nThen they came for the trade unionists\r\nAnd I did not speak out\r\nBecause I was not a trade unionist\r\nThen they came for the Jews\r\nAnd I did not speak out\r\nBecause I was not a Jew\r\nThen they came for me\r\nAnd there was no one left\r\nTo speak out for me."
          ],
          [
           "extreme political views!\n\nThe rest of the country just wants to live in peace."
          ],
          [
           "It’s okay though, apparently if people just say sorry. They can say anything"
          ],
          [
           "Humza Yousaf, Scottish 'first minister', gave £250,000 to a Hamas charity, and the next day his relations crossed the border to Egypt.  Bribery and corruption. He is a Hamas sympathiser and has had meetings with Hamas leaders, along with Nicola Sturgeon."
          ],
          [
           "So you can't influence them if they say you're scaring them but you can if you give them money. I think I got that right."
          ],
          [
           "They’ll just change the name and carry on FFS UK gov"
          ],
          [
           "Did you not see him name the right wing groups , why do that with the title ?"
          ],
          [
           "He is describing Islamism in general"
          ],
          [
           "Time of action"
          ],
          [
           "What about the elusive faaaaaar faaaaarrrr right 😂🥳🤣😱✊🏿✊🏿✊🏿✊🏿"
          ],
          [
           "Any clown in charge of a government department charged with \"Levelling up \" who can not find any projects to spend his money on, should not be allowed to pass comment on any bloody thing."
          ],
          [
           "😂😂😂 so he wants to get rid of any opposition what a 🤡"
          ],
          [
           "Only three?!"
          ],
          [
           "The state of the country has already radicalised me, you politicians and aristocrats should look left, right and left before crossing any motorway."
          ],
          [
           "Yes blame the Muslims - everyone’s get out of jail free card."
          ],
          [
           "They've already 'assessed' and created the definition to proscribe these organisations. Gove the Hypocrite."
          ]
         ],
         "hovertemplate": "Title=Gove names three Muslim groups that could breach extremism rule<br>ID=%{x}<br>Likes_y=%{y}<br>Comment=%{customdata[0]}<extra></extra>",
         "legendgroup": "Gove names three Muslim groups that could breach extremism rule",
         "marker": {
          "color": "#ab63fa",
          "symbol": "circle"
         },
         "mode": "markers",
         "name": "Gove names three Muslim groups that could breach extremism rule",
         "showlegend": true,
         "type": "scattergl",
         "x": [
          "2Zn7pGC8niI",
          "2Zn7pGC8niI",
          "2Zn7pGC8niI",
          "2Zn7pGC8niI",
          "2Zn7pGC8niI",
          "2Zn7pGC8niI",
          "2Zn7pGC8niI",
          "2Zn7pGC8niI",
          "2Zn7pGC8niI",
          "2Zn7pGC8niI",
          "2Zn7pGC8niI",
          "2Zn7pGC8niI",
          "2Zn7pGC8niI",
          "2Zn7pGC8niI",
          "2Zn7pGC8niI",
          "2Zn7pGC8niI",
          "2Zn7pGC8niI",
          "2Zn7pGC8niI",
          "2Zn7pGC8niI",
          "2Zn7pGC8niI",
          "2Zn7pGC8niI",
          "2Zn7pGC8niI",
          "2Zn7pGC8niI",
          "2Zn7pGC8niI",
          "2Zn7pGC8niI",
          "2Zn7pGC8niI",
          "2Zn7pGC8niI",
          "2Zn7pGC8niI",
          "2Zn7pGC8niI",
          "2Zn7pGC8niI",
          "2Zn7pGC8niI",
          "2Zn7pGC8niI",
          "2Zn7pGC8niI",
          "2Zn7pGC8niI",
          "2Zn7pGC8niI",
          "2Zn7pGC8niI",
          "2Zn7pGC8niI",
          "2Zn7pGC8niI",
          "2Zn7pGC8niI",
          "2Zn7pGC8niI",
          "2Zn7pGC8niI",
          "2Zn7pGC8niI",
          "2Zn7pGC8niI",
          "2Zn7pGC8niI",
          "2Zn7pGC8niI",
          "2Zn7pGC8niI",
          "2Zn7pGC8niI",
          "2Zn7pGC8niI",
          "2Zn7pGC8niI",
          "2Zn7pGC8niI"
         ],
         "xaxis": "x",
         "y": [
          109,
          95,
          72,
          21,
          20,
          27,
          67,
          7,
          17,
          11,
          12,
          34,
          112,
          13,
          12,
          5,
          19,
          5,
          24,
          28,
          5,
          6,
          8,
          24,
          7,
          5,
          3,
          18,
          19,
          18,
          8,
          31,
          4,
          2,
          3,
          4,
          2,
          2,
          1,
          3,
          10,
          10,
          3,
          4,
          1,
          2,
          2,
          2,
          4,
          1
         ],
         "yaxis": "y"
        },
        {
         "customdata": [
          [
           "We don’t live in a democracy"
          ],
          [
           "So in effect, the only people who will be hammered by this intolerance definition will be those who disagree with the current state of the country and want our country back."
          ],
          [
           "Thinking about moving to a country with more freedoms, some where like Russia or China 🤦‍♂️"
          ],
          [
           "Becoming a totalitarian state."
          ],
          [
           "Just another way to shut us lot up while letting others get away with whatever they like!!! We all know what and who the problem is only now we won't even be allowed to say it!"
          ],
          [
           "The issue is the definition of hateful because apparently that includes putting up stickers saying “It’s okay to be white”."
          ],
          [
           "It's time to tackle Anglophobism as well!"
          ],
          [
           "There are already public order laws designed to e.g. catch the extremists in marches - So this is just a way for the Government to make it difficult for us to protest against their actions or inactions!"
          ],
          [
           "This is like after 911 when they searched  non muslim man, woman and their 2.5 children going to Spain on there yearly holiday for bombs"
          ],
          [
           "How bad could a career title be \"protest lawyer\"."
          ],
          [
           "Let me guess”anyone who questions government policy”👍"
          ],
          [
           "I think I truly am a liberal - through and through. I think everyone should be free to do what they want provided they aren't harming others. I DON'T think most politicians claiming tobe liberal are liberal in the least.\n\nThe problem is, liberal values only work in a country where you have a cohesive society and similar background and ideals. I think you also need to be a fairly afulent country because liberal values are a luxury you can't afford when people are struggling  to stay alive.\n\nWhen the powers that be saw fit to fling our borders wide open to all and sundry they killed our liberal democracy.\n\nIf you are liberal, how can you say that (for example) what we believe in the UK is inherently right and what Islamists believie is inherently wrong? \n\nEither we ENFORCE the Christian values that our country was built upon (and I don't want to see this - I don't want women to be fored to incubate a life if they don't want to; I don't want to see babies born out of wedlock as sinful, I don't want homosexuality frowned upon or deemed 'lesser') or we accept that Islamism will probably prevail.\n\nLiberalism is weak. It's a wonderful way to live if you have the might to defend your borders. But when faced by an invader with very strong beliefs liberalism will be eaten alive."
          ],
          [
           "Call an election NOW."
          ],
          [
           "- all kinds can pass under a veil-\nThis democracy is that veil.\n\nHonour our ancestory!!\nI waiver my right.\n\nThe concept from our long history aptly named \n‘Governed by consent.’\n1. always question authority not for anarchy but to resist authoritarianism and tyranny"
          ],
          [
           "F the government"
          ],
          [
           "By that definition the current government won't get any government money."
          ],
          [
           "😂😂 GENIUS. Technically this makes the Tories and SNP extremist because they banning everything you expect in a liberal democracy."
          ],
          [
           "Government Is Extremism,,,  and whats with all the ism.s lately?   is that not jewish grammer?"
          ],
          [
           "organized by prescribed extremists isn't hijacked \nconstant deflecting"
          ],
          [
           "Two whole weeks to devise this new definition, without any debates in Parliament, without any Parliamentary committees to discuss it, without consulting any experts or anyone who works with extremists or the police or lawyers. And now government ministers get to decide who is an extremist while they're eating their cornflakes without any independent oversight. Should we trust them not to name people whose opinions they just don't like?"
          ],
          [
           "What debate WAS had when they came up with the definition?"
          ],
          [
           "Protest in  London  are not peaceful  period 🙄"
          ],
          [
           "I am white Anglo English and I don’t recognise England anymore. It’s like we’re conquered. My culture is going down the toilet."
          ],
          [
           "Absolute BS from a woke lawyer, what we hear and see is happening, so don't push it under the carpet."
          ],
          [
           "There are some intensely problematic ideologies prevalent in this country currently. Woe betide this island should anyone fail to speak out on them."
          ],
          [
           "This isn't addressing the root of the problem. The real problem is the unprecedented levels of legal and illegal migration that have fractured the homogeneity of society.\n\nWe need to be winding back the levels of immigration. Instead of creating a false growth by pumping more people into the country we should be creating growth through technology."
          ],
          [
           "LOOK YOU ARE A CRIMINAL OR NOT    USE THE LAW,AND STOP MAKING UP NEWSPEAK AND NEW LAWS"
          ],
          [
           "Who defines our core values? Does everyone agree that a man can be a woman by choice? Does everyone accept that the Christian faith can be overridden by law but no similar measures are taken against Judaism, Islam or Hinduism? Does everyone accept Net Zero as the only solution regardless of the impact to lower income families? \n\nAll complex issues. All worthy of debate. All requiring freedom of speech and thought. No easy answers. \n\nSometimes the extremists define normality."
          ],
          [
           "Fantastic"
          ],
          [
           "I love it - they just outlawed themselves."
          ],
          [
           "We need free speech enshrined in a written constitution."
          ],
          [
           "What happens when the hate and extremism comes from a religious base ? x"
          ],
          [
           "Luckily my kids have moved away from this country . If I was younger I would . Let’s face it the country is being taken over by others from other countries who treat the country like a free by and pulling it down to there level \nSoon be overrun"
          ],
          [
           "They’re going after Galloway"
          ],
          [
           "And what about hate crimes against Christians or don't that  matter"
          ],
          [
           "FREE SPEECH IS THE GREATEST TOOL AGAINST TYRANTS"
          ],
          [
           "The right to protest is such a dumb concept, acting like a spoiled toddler, kicking and screaming and they wonder why everyone looks down on your views .\nAnd its just used as an excuse by people in power to not have a system that allows you to have your voice heard in a controlled setting."
          ],
          [
           "Northern Ireland is peaceful today because our democraticly elected MPs and civil servants never talked to extremists 🤔"
          ],
          [
           "Why are the gobby announcers so loud?"
          ],
          [
           "Rather than marching and telling other countries how to manage their affairs surely it is better to come up with a solution. Alienating extremist is not the answer but supporting an alliance that brings peace and tolerance is the  answer. Israel would welcome a mini NATO with non terrorist Arab countries to bring in security guarantees. It is the terrorist countries that need extremist measures and that includes  Palestine who voted in HAMAS. Palestine gets  to the table, carves out its own country when it ditches terrorists  it is naive for these marchers to think that Palestinians are all innocent."
          ],
          [
           "Jk is such an alarmist."
          ],
          [
           "Dont forget while this video was released :\n\nThe west has allowed the blue and white team to drop artillery out of the sky whilst the aid packages were dropping.\n\nNever forgive the English."
          ],
          [
           "You are called far right if you protest against migration it is not an organisation it is just people who care about uk"
          ],
          [
           "Nothing more irritating than a biased argumentative arrogant presenter. That guy is pathetic. The lawyer says there are prosecutions where there needs to be. The presenter ‘is not so sure’ - well cite some examples Einstein. I can tell you people tried to break into my home a few years ago - have there been prosecutions - nope!"
          ],
          [
           "This could be the start of China style restrictions - but would that be such a bad thing????......... China's approach, to the slow rise of anarchy in the West, is \"Not Here Thankyou\" ..... I AGREE"
          ],
          [
           "Trudeauism. Ardernism. Authoritarianism."
          ],
          [
           "Will it ban GBSpews ?"
          ],
          [
           "I hope this covers Jewish extremism and that the Tory donor is charged under this new definition."
          ],
          [
           "This male presenter is so condescending it is truly annoying to listen too. So rude is his tone"
          ]
         ],
         "hovertemplate": "Title=“Opposite Of Liberal Democracy!” Government Unveils New Extremism Definition<br>ID=%{x}<br>Likes_y=%{y}<br>Comment=%{customdata[0]}<extra></extra>",
         "legendgroup": "“Opposite Of Liberal Democracy!” Government Unveils New Extremism Definition",
         "marker": {
          "color": "#FFA15A",
          "symbol": "circle"
         },
         "mode": "markers",
         "name": "“Opposite Of Liberal Democracy!” Government Unveils New Extremism Definition",
         "showlegend": true,
         "type": "scattergl",
         "x": [
          "xgSB2fSnN1Y",
          "xgSB2fSnN1Y",
          "xgSB2fSnN1Y",
          "xgSB2fSnN1Y",
          "xgSB2fSnN1Y",
          "xgSB2fSnN1Y",
          "xgSB2fSnN1Y",
          "xgSB2fSnN1Y",
          "xgSB2fSnN1Y",
          "xgSB2fSnN1Y",
          "xgSB2fSnN1Y",
          "xgSB2fSnN1Y",
          "xgSB2fSnN1Y",
          "xgSB2fSnN1Y",
          "xgSB2fSnN1Y",
          "xgSB2fSnN1Y",
          "xgSB2fSnN1Y",
          "xgSB2fSnN1Y",
          "xgSB2fSnN1Y",
          "xgSB2fSnN1Y",
          "xgSB2fSnN1Y",
          "xgSB2fSnN1Y",
          "xgSB2fSnN1Y",
          "xgSB2fSnN1Y",
          "xgSB2fSnN1Y",
          "xgSB2fSnN1Y",
          "xgSB2fSnN1Y",
          "xgSB2fSnN1Y",
          "xgSB2fSnN1Y",
          "xgSB2fSnN1Y",
          "xgSB2fSnN1Y",
          "xgSB2fSnN1Y",
          "xgSB2fSnN1Y",
          "xgSB2fSnN1Y",
          "xgSB2fSnN1Y",
          "xgSB2fSnN1Y",
          "xgSB2fSnN1Y",
          "xgSB2fSnN1Y",
          "xgSB2fSnN1Y",
          "xgSB2fSnN1Y",
          "xgSB2fSnN1Y",
          "xgSB2fSnN1Y",
          "xgSB2fSnN1Y",
          "xgSB2fSnN1Y",
          "xgSB2fSnN1Y",
          "xgSB2fSnN1Y",
          "xgSB2fSnN1Y",
          "xgSB2fSnN1Y",
          "xgSB2fSnN1Y"
         ],
         "xaxis": "x",
         "y": [
          56,
          47,
          42,
          17,
          13,
          25,
          22,
          3,
          6,
          12,
          5,
          13,
          10,
          2,
          3,
          2,
          5,
          10,
          4,
          0,
          0,
          1,
          2,
          16,
          0,
          0,
          4,
          1,
          0,
          1,
          0,
          1,
          0,
          0,
          1,
          1,
          0,
          0,
          0,
          0,
          0,
          1,
          1,
          0,
          2,
          0,
          0,
          3,
          0
         ],
         "yaxis": "y"
        },
        {
         "customdata": [
          [
           "Why don't Muslims in France give away French citizenship as a.protest."
          ],
          [
           "Once their population reaches 51%, will India be secular?"
          ],
          [
           "Thank you India for being on our side in this matter. We really need you right now as we feel more and more isolated. Even Europeans are silent. Long live the Franco-Indian friendship. \n🇫🇷 🇮🇳"
          ],
          [
           "India was , is and will be a DHARMIC country. Never an Abrahamic one. \nJai Hind. The light of this world."
          ],
          [
           "The only thing they should boycott is French citizenship."
          ],
          [
           "Justice for Nikita\nPlease also cover news of Nikita \nNikita was Hindu girl,,,\nA Muslim man killed her because she doesn't want to marry him and convert her religion into Islam\nTrue face of Peaceful community 🙏🙏🇮🇳🇮🇳"
          ],
          [
           "This is my favourite news anchor... in the world. Here in the USA, nobody trusts the news ....and they’re biased. I love this anchor as she’s unafraid to say what she thinks, and represents truth. She’s fantastic!"
          ],
          [
           "If WION says facts like this \nThen WION will be called as Bhakth 😂 😂 😂"
          ],
          [
           "WION and Palki Sharma\nPlease make documentary or report on Genocide of Hindus in kashmir in 1990 by peaceful community"
          ],
          [
           "Muslim can also boycott French Tourist and refuse to live in France. Please show you love by boycott French citizenship"
          ],
          [
           "True as hell....I am not against islam but even Islam should be against all the terrorist activities that are tainting their name"
          ],
          [
           "This, is what journalism is. Many countries sadly don't have that kind of quality. Here in Canada and in the US, we don't get real unbiased news... Thank god(expression. I'm not religious) for the internet \\XD/ Thank god for WION. Thank you for your awesome work!\nDown with extremism. They must all be brought to justice! Go France! I support you. Freedom of speech must not be infringed by those moronic dictatorial extremists."
          ],
          [
           "If Muslim countries are boycotting the French products, the French masses should start boycotting the shops, which are owned by Muslim owners in France. It will be equally from both the sides."
          ],
          [
           "Appreciate the French President for taking on the extremists and  radicals."
          ],
          [
           "I Can't even explain how am in love with how this Madam is presenting out the news."
          ],
          [
           "Man, I love WION! Much love from 🇨🇦"
          ],
          [
           "France: religion should be away from politics...\nTurkey: religion is everything..."
          ],
          [
           "I didn't know the religion of peace is so  brutally aggressive....."
          ],
          [
           "I have watched many videos on this subject and not only in English ... This is by far the best !! Thank you so much !"
          ],
          [
           "Wasn't the highest war toll in the world when Muslims invaded India?"
          ],
          [
           "Bless you beautiful lady for speaking truth ! Wish we had you in American news media ! ❤🇺🇸🇮🇳❤"
          ],
          [
           "Makes me proud of my French heritage.   Go France!  Go!"
          ],
          [
           "Macron should immediately hire Palki as his spokeswoman."
          ],
          [
           "One of the most important pieces you've ever made.\nEverything you said was spot on.\n☆☆☆☆☆"
          ],
          [
           "Pakistani have given call for bycotting French goods, Never knowing that France sells Raffals not goats🐐"
          ],
          [
           "If they can't stand blasphemy, then dont come to France, or the West for that matter!\nIf they dislike our ways that much, then they can simply shut themselves in behind the borders of the Islamic countries and keep chanting in their mosques while the rest of us continues on.\nLet them live in their religious utopia if they're so touchy about freedom of speech."
          ],
          [
           "This is one of the best chanel giving the right information to all the world thank you very much"
          ],
          [
           "Very well said. I appreciate your news channel. It's always good to look at things form different perspectives. Although all freedom loving nations seem to think alike. \nThank You , India"
          ],
          [
           "ofc they call the guy islamophobic for cracking down on extremism: they are extremist..."
          ],
          [
           "We all stand with France...🇮🇳🇮🇳🇮🇳🇮🇳🇮🇳\nWorld should lern from France..."
          ],
          [
           "That cartoon should come in the front page of every publication on the planet! That is the reply to these fascists and their bloody sentiments! No one should bend before their irrational sentiments and demands. Full marks for the French who had shown their courage of conviction and their determination to stand with what is right! Thank you Palki for your interpretation and exposing these bigots who practice duplicity in their moral sense!"
          ],
          [
           "\"When you are surrounded on all sides by your enemies, freedom of speech is the last thing you would want them to have.\" Vladimir Lenin."
          ],
          [
           "❤️❤️❤️ WION, Pure Journalism. No channel dares to ask these questions except wion. WION is the most sensible news channel ever seen in India in 2020"
          ],
          [
           "I always admire you mam for very strong words....."
          ],
          [
           "To France with love from Australia. Be brave macro!!!"
          ],
          [
           "Well spoken, well infomed. There is no place for fanatical extremism."
          ],
          [
           "Thank you for honesty and accurate reporting!"
          ],
          [
           "Palki, you should start a journalism school. We need more of people like you, especially in our country. We need more People who ask the relevant questions."
          ],
          [
           "never liked Macron but this woman speaks for him and so i begin to like him because i love her"
          ],
          [
           "I totally agree with this...it needs a certain level of understanding to absorb this..thus, that explain why some are misunderstood and react blindly."
          ],
          [
           "Palki is hilarious! Medieval score settling."
          ],
          [
           "Edrogan we are against India and frace as a result \nFall in currency \nRussia attack on them \nEarthquake \n😂😂😂😂"
          ],
          [
           "Finally the French doing something before it’s to late. Vive la France 🇫🇷 ✌🏼"
          ],
          [
           "Thank you for supporting freedom of speech. I like your program! Love from Canada"
          ],
          [
           "found a new gem of journalism called WION 💕"
          ],
          [
           "I feel extreme love for this girl and addicted to her voice.keep up young girl"
          ],
          [
           "Every non Muslim country wishes to have a gutsy hero like Macron leading them.👍👍"
          ],
          [
           "Excellent reporting"
          ],
          [
           "I stand with France 🇫🇷"
          ],
          [
           "Yo let's be honest for once.\nIt's not islamic radicalism or islamic terrorism,\n\n\n\nIt's islam itself."
          ]
         ],
         "hovertemplate": "Title=Gravitas Plus: France battles Islamic extremism<br>ID=%{x}<br>Likes_y=%{y}<br>Comment=%{customdata[0]}<extra></extra>",
         "legendgroup": "Gravitas Plus: France battles Islamic extremism",
         "marker": {
          "color": "#19d3f3",
          "symbol": "circle"
         },
         "mode": "markers",
         "name": "Gravitas Plus: France battles Islamic extremism",
         "showlegend": true,
         "type": "scattergl",
         "x": [
          "QlT2IPCKiLE",
          "QlT2IPCKiLE",
          "QlT2IPCKiLE",
          "QlT2IPCKiLE",
          "QlT2IPCKiLE",
          "QlT2IPCKiLE",
          "QlT2IPCKiLE",
          "QlT2IPCKiLE",
          "QlT2IPCKiLE",
          "QlT2IPCKiLE",
          "QlT2IPCKiLE",
          "QlT2IPCKiLE",
          "QlT2IPCKiLE",
          "QlT2IPCKiLE",
          "QlT2IPCKiLE",
          "QlT2IPCKiLE",
          "QlT2IPCKiLE",
          "QlT2IPCKiLE",
          "QlT2IPCKiLE",
          "QlT2IPCKiLE",
          "QlT2IPCKiLE",
          "QlT2IPCKiLE",
          "QlT2IPCKiLE",
          "QlT2IPCKiLE",
          "QlT2IPCKiLE",
          "QlT2IPCKiLE",
          "QlT2IPCKiLE",
          "QlT2IPCKiLE",
          "QlT2IPCKiLE",
          "QlT2IPCKiLE",
          "QlT2IPCKiLE",
          "QlT2IPCKiLE",
          "QlT2IPCKiLE",
          "QlT2IPCKiLE",
          "QlT2IPCKiLE",
          "QlT2IPCKiLE",
          "QlT2IPCKiLE",
          "QlT2IPCKiLE",
          "QlT2IPCKiLE",
          "QlT2IPCKiLE",
          "QlT2IPCKiLE",
          "QlT2IPCKiLE",
          "QlT2IPCKiLE",
          "QlT2IPCKiLE",
          "QlT2IPCKiLE",
          "QlT2IPCKiLE",
          "QlT2IPCKiLE",
          "QlT2IPCKiLE",
          "QlT2IPCKiLE",
          "QlT2IPCKiLE"
         ],
         "xaxis": "x",
         "y": [
          325,
          1655,
          158,
          100,
          952,
          390,
          248,
          214,
          469,
          652,
          247,
          55,
          555,
          308,
          34,
          32,
          166,
          326,
          20,
          61,
          124,
          98,
          46,
          19,
          327,
          112,
          16,
          11,
          183,
          198,
          9,
          6,
          78,
          28,
          5,
          5,
          44,
          72,
          35,
          2,
          94,
          265,
          7,
          4,
          86,
          48,
          11,
          2,
          76,
          164
         ],
         "yaxis": "y"
        },
        {
         "customdata": [
          [
           "Funding Israel's Genocide in Gaza is Extreme as is killing over 31,000 innocent Palestinian Civilians and providing the weapons, bombs for the Genocide is Extreme. Israel's preventing UN humanitarian supplies from reaching Gaza and allowing Gazans to die of thirst, hunger and disease is EXTREME!  Preventing the British People's Parliament from debating or having a vote against the UK funded Genocide in Gaza is also EXTREME! Mr Gove!"
          ],
          [
           "importing a million people per year is extreme in my book"
          ],
          [
           "They will turn their cheeks if the money is right"
          ],
          [
           "This Speaker is to blame for this"
          ],
          [
           "only groups we need to worry about are these jokes in the commons"
          ],
          [
           "We are capable of listening,"
          ],
          [
           "They're terrified"
          ],
          [
           "How about white phobia, or British people phobia, how about less boats infact no boat at all"
          ],
          [
           "Such a lot of waffle! Get to the point, Hove!"
          ],
          [
           "This is the most patronising example of mansplaining that I've heard in a long time."
          ],
          [
           "I think they don't understand the term extremism anymore. Just because someone is Racist, Sexist or has an opinion differing from the normal, doesn't mean they are an extremist. that's freedom of speech and expression even if people do not agree or like it. Now causing violence and death over a religion, or political cause is extremism. and I think the British people know the issue here with a certain type of religion and people. Its just a matter of time until we stand up."
          ]
         ],
         "hovertemplate": "Title=Michael Gove defends new extremism definition in the House of Commons<br>ID=%{x}<br>Likes_y=%{y}<br>Comment=%{customdata[0]}<extra></extra>",
         "legendgroup": "Michael Gove defends new extremism definition in the House of Commons",
         "marker": {
          "color": "#FF6692",
          "symbol": "circle"
         },
         "mode": "markers",
         "name": "Michael Gove defends new extremism definition in the House of Commons",
         "showlegend": true,
         "type": "scattergl",
         "x": [
          "yimDPpbNc7M",
          "yimDPpbNc7M",
          "yimDPpbNc7M",
          "yimDPpbNc7M",
          "yimDPpbNc7M",
          "yimDPpbNc7M",
          "yimDPpbNc7M",
          "yimDPpbNc7M",
          "yimDPpbNc7M",
          "yimDPpbNc7M",
          "yimDPpbNc7M"
         ],
         "xaxis": "x",
         "y": [
          8,
          4,
          3,
          3,
          3,
          0,
          0,
          0,
          0,
          0,
          1
         ],
         "yaxis": "y"
        },
        {
         "customdata": [
          [
           "“When Muslims are in the minority they are very concerned with minority rights, when they are in the majority there are no minority rights,” --Winston Churchill"
          ],
          [
           "Redical Islamic terrorism???  He did not pretend to be politically correct.! He has guts to call spade a spade!"
          ],
          [
           "Modi made radical Islamik terrorism an international issue. \nThanks Modi ji"
          ],
          [
           "Guess the nationality of people who disliked the video.......😂😂😂"
          ],
          [
           "Trump joins bjp thats grt proud moment for indian bjp"
          ],
          [
           "We support both of you 😊 Don't leave the radical extremists."
          ],
          [
           "कोई न्यूज चैनल वाले को हिम्मत नहीं हूई कि दिखाए"
          ],
          [
           "Plz save pakistani hindus"
          ],
          [
           "Most brave politician.\nVow. It's hard luck for America that now he is not the President."
          ],
          [
           "I disagree with Trump on a lot of things...\nBut he has the guts to call a spade a spade....And I respect that."
          ],
          [
           "Chlo koi to h Jo sach bola ki kon terrorist h Islamic mtlb Islam mtlb mulle"
          ],
          [
           "Everyone stood coz they knew someone has spoked truth openly 🙏"
          ],
          [
           "India badly needs leader like him"
          ],
          [
           "And they say Islam is relegion of peace lol"
          ],
          [
           "Those 3 beautiful words."
          ],
          [
           "Aaj Trump Bata diye ki Terrorist ki Kya dharm hoti h"
          ],
          [
           "Terrorism don't start with terrorist but starts when a particular community take control over the system of a country"
          ],
          [
           "No any indian leader can speak openly about RIT"
          ],
          [
           "I still remember people say Trump he is also bhakt 😂"
          ],
          [
           "United States and India will protect our all citizens of our nations no matter hindus, muslims, Christians, sikhs etc from radical islamic terrorism. God bless both democracy."
          ],
          [
           "99 people disliked .... u know who are they 😂😂😂😂😂"
          ],
          [
           "I first time saw the reality of Islam ...in globally .. especially by the person who is president of the United States"
          ],
          [
           "Bjp zindabad rss zindabad..\nModi zindabad..\nHindu dharm ki jai..\nBharat mata ki jai"
          ],
          [
           "The only man to have the balls."
          ],
          [
           "Islam is ☪️ancer to Humanity"
          ],
          [
           "इस्लामिक प्रवृत्ति एक राक्षसी प्रवृत्ति है"
          ],
          [
           "सिर्फ ट्रंप मे ही दम है इस्लामिक आतंकवाद पर सच बोलने का।\nहमारे नेता लोग तो गू को भी गुलाब बोलते है।"
          ],
          [
           "See how people rise to clap and cheer when they hear the word \"islamic terrorism\".😍❤😘"
          ],
          [
           "Jai hind jai bjp"
          ],
          [
           "We need a india as Hindu Nation , Hindus accept and celebrate other religions too....\n\nA Hindu Nation where secularism can flourish ...and all religions are accepted ...\n\nBut the Nation will be Known as a Hindu Nation ."
          ],
          [
           "Jai hind"
          ],
          [
           "He has guts bro"
          ],
          [
           "Full support to Trump and BJP Government"
          ],
          [
           "Those 3 Golden Words😍"
          ],
          [
           "Sabko pata ha Islamic  terrorism pura world humanity ki security ka lia sabsa badi problem ha but koi  Iske against koi bada action nahi lata 😌🙏 sabhi world ki government or  security agencies jo terrorism ko khatam kar na chati ha yunko ak sath milkar puri takat sa lagatar kam kar na hoga wo bhe jaldi"
          ],
          [
           "Jai Hind vande Mataram, har har Mahadev."
          ],
          [
           "Trump is a legend!!!!"
          ],
          [
           "Oh very well said  President Trump"
          ],
          [
           "And they handed over 85billion dollar worth equipments and weapons to them."
          ],
          [
           "Thug life😂😂😂😂trump( तात्या)"
          ],
          [
           "say direct truth and stay real\nthat's should be our moto"
          ],
          [
           "वाह क्या आदमी है खुलके सच बोलता है"
          ],
          [
           "Koi toh imran khan ko share kardo yeh khabar...."
          ],
          [
           "Whenever I see this video and hear 3 magical words my heart always fill with Joy"
          ],
          [
           "\"Radical Islamic terrorism\" special people got triggered & disliked the video."
          ],
          [
           "Love you.. Modi brand & trump brand"
          ],
          [
           "How peoples stand up after hearing this magical words 🤣🤣🤣"
          ],
          [
           "Whatever but he got some guts to say the truth"
          ],
          [
           "Chalo kisi bade leader ne khul kar bola ki terrorism.. islamic kattarpanthi hoti hai....\nYaha to terrorism ka koi dharm nahi hota hai aur bala bala bala jaise faltu aur ghatiya bate chalti rahati hai..."
          ],
          [
           "Cancer needs chemotherapy"
          ]
         ],
         "hovertemplate": "Title=We are committed to protecting innocent civilians from radical Islamic terrorism: President Trump<br>ID=%{x}<br>Likes_y=%{y}<br>Comment=%{customdata[0]}<extra></extra>",
         "legendgroup": "We are committed to protecting innocent civilians from radical Islamic terrorism: President Trump",
         "marker": {
          "color": "#B6E880",
          "symbol": "circle"
         },
         "mode": "markers",
         "name": "We are committed to protecting innocent civilians from radical Islamic terrorism: President Trump",
         "showlegend": true,
         "type": "scattergl",
         "x": [
          "BIQMpAJESpM",
          "BIQMpAJESpM",
          "BIQMpAJESpM",
          "BIQMpAJESpM",
          "BIQMpAJESpM",
          "BIQMpAJESpM",
          "BIQMpAJESpM",
          "BIQMpAJESpM",
          "BIQMpAJESpM",
          "BIQMpAJESpM",
          "BIQMpAJESpM",
          "BIQMpAJESpM",
          "BIQMpAJESpM",
          "BIQMpAJESpM",
          "BIQMpAJESpM",
          "BIQMpAJESpM",
          "BIQMpAJESpM",
          "BIQMpAJESpM",
          "BIQMpAJESpM",
          "BIQMpAJESpM",
          "BIQMpAJESpM",
          "BIQMpAJESpM",
          "BIQMpAJESpM",
          "BIQMpAJESpM",
          "BIQMpAJESpM",
          "BIQMpAJESpM",
          "BIQMpAJESpM",
          "BIQMpAJESpM",
          "BIQMpAJESpM",
          "BIQMpAJESpM",
          "BIQMpAJESpM",
          "BIQMpAJESpM",
          "BIQMpAJESpM",
          "BIQMpAJESpM",
          "BIQMpAJESpM",
          "BIQMpAJESpM",
          "BIQMpAJESpM",
          "BIQMpAJESpM",
          "BIQMpAJESpM",
          "BIQMpAJESpM",
          "BIQMpAJESpM",
          "BIQMpAJESpM",
          "BIQMpAJESpM",
          "BIQMpAJESpM",
          "BIQMpAJESpM",
          "BIQMpAJESpM",
          "BIQMpAJESpM",
          "BIQMpAJESpM",
          "BIQMpAJESpM",
          "BIQMpAJESpM"
         ],
         "xaxis": "x",
         "y": [
          936,
          312,
          543,
          335,
          298,
          368,
          287,
          255,
          87,
          240,
          210,
          49,
          32,
          27,
          49,
          60,
          8,
          16,
          38,
          120,
          17,
          17,
          226,
          17,
          10,
          17,
          17,
          57,
          26,
          59,
          28,
          10,
          31,
          8,
          7,
          18,
          12,
          18,
          3,
          16,
          7,
          11,
          10,
          36,
          4,
          29,
          5,
          5,
          4,
          9
         ],
         "yaxis": "y"
        },
        {
         "customdata": [
          [
           null
          ]
         ],
         "hovertemplate": "Title=Terrorism vs. Violent Extremism: Is There a Difference?<br>ID=%{x}<br>Likes_y=%{y}<br>Comment=%{customdata[0]}<extra></extra>",
         "legendgroup": "Terrorism vs. Violent Extremism: Is There a Difference?",
         "marker": {
          "color": "#FF97FF",
          "symbol": "circle"
         },
         "mode": "markers",
         "name": "Terrorism vs. Violent Extremism: Is There a Difference?",
         "showlegend": true,
         "type": "scattergl",
         "x": [
          "tvaPCj698gM"
         ],
         "xaxis": "x",
         "y": [
          null
         ],
         "yaxis": "y"
        },
        {
         "customdata": [
          [
           "Never really heard the words \"extremists\", or phobia added to words which gave the wrong meaning/definition, until 30 odd years ago.\nFunny that."
          ],
          [
           "I remember her calling the young security guard a liar when he said he didn't challenge the Ariana Grande bomber because he didn't want to be called a racist"
          ],
          [
           "Every major issue in the west is produced by law makers and sponsored by the media. I lived in malaysia for 11 years where Muslims, Christians, hindu and Buddhist (malay, Chinese and Indians) and never saw nor heard of a hate crime nor any phobias or isms."
          ],
          [
           "Remember she spouted on about white privilage a while back"
          ],
          [
           "Your supposed to feel good about news of people trying to kill you?!"
          ],
          [
           "So if we are scared of people who want us dead we go to jail on hate charges? Can I get off this train now I think it's past my stop."
          ],
          [
           "London Bridge  attacks"
          ],
          [
           "I remember this woman saying we should have another Brexit vote simply because \"one million old people have died\" since the referendum."
          ],
          [
           "Tell that to the family of those killed in Reading, the family of young girls killed in Manchester, those chased out of the country, those raped, groomed...alll in the name of the peaceful religion"
          ],
          [
           "Time for someone with balls to say \"fuck it..we tried being accommodating, it failed, this is how it is now. Live with it, or fuck off\". Which is basically what Poland is doing and what many other countries do...and no, I don't care about human rights because you have rights as long as you behave and tow the line."
          ],
          [
           "Manchester arena"
          ],
          [
           "Don’t need to promote it they hate us"
          ],
          [
           "What were her views when mr khan said terrorism was part and parcel of living in a city? 🤔 professional victim"
          ],
          [
           "Islamophobia is not a recognised Brittish word, so why use it?????😮"
          ],
          [
           "A RACIST BLACK WOMAN 😳💯🇬🇧🆘\nGOD help us✌️🙏🤫"
          ],
          [
           "Two schools closed  teacher in hiding g"
          ],
          [
           "She talks about listening to communities when it’s totally apparent that the only one she is really interested is her own Muslim community"
          ],
          [
           "But on Wikipedia Michael Gove describes himself as a  Zionist. Isn't Zionism \"extremism?\""
          ],
          [
           "What about far left extremists? Curious how they don't mention them."
          ],
          [
           "To be worried about a growing threat is not islamophobic it’s called pattern recognition so stop acting like victims when you are the aggressor"
          ],
          [
           "For an irrational fear of Islam to exist, one is required to actually fear Islam. But criticising Islam doesn't imply that you're scared. So how can you have an \"irrational fear\" if you don't even have a \"fear\"?"
          ],
          [
           "Disliking Islam is not a phobia."
          ],
          [
           "What about Jewish extremism? Extremism is not isolated to one group"
          ],
          [
           "There's nothing wrong with opposing a belief system. Islam is a belief system. If a person can be against or hate the Tory party, I  person can be against or hate islam"
          ],
          [
           "You dont need anyone to promote islamophobia, they do that themselves"
          ],
          [
           "Islamaphobia is the new racism ...two words that are thrown at everyone who wants to keep British culture alive ..."
          ],
          [
           "Leave your countries. Come here, Given a council house, free NHS healthcare, attend fantastic universities, open businesses, etc. Show some respect"
          ],
          [
           "Joe Metcalf got 10 years?? While some innocent man from London got sent to Guantanamo bay without a trial and stripped of all human rights wtf"
          ],
          [
           "If she doesn’t like living here there are plenty of Muslim countries she can emigrate too."
          ],
          [
           "It really annoys me when she was aloud to monologue this way and nobody pointed out that 'islamophobia' was not born in a vacuum an followed a campaign of several terror attacks."
          ],
          [
           "How many Christians on the watchlist…thought so."
          ],
          [
           "There's a reason for islamophobia."
          ],
          [
           "Understand less and condemn more. Understanding and tolerating lunatics on both sides is why we are where we are."
          ],
          [
           "\" I REVERE ISLAM AND INTEND TO BE KING OF ALL THE FAITHS.\"    Traitor King Charles ( Feb 2023) ❤"
          ],
          [
           "What a load of shite"
          ],
          [
           "What's about Zoniest Extremists."
          ],
          [
           "but the extremism is orthodox islam"
          ],
          [
           "can’t stand that ghastly wind bag ,"
          ],
          [
           "It was a joke about shooting Abott ... Does anyone really think he was being serious ...ffs ... The amount of threat from Islamism is far far greater than any right wing threat ...but they have to mention both equally for balance ...😊"
          ],
          [
           "When a community based on race, religion or otherwise finds it difficult, having moved into what is widely regarded as a tolerant country, to behave in a manner consistent with the norms of that country the settled population is entitled to be defensive and alert to what may end the tolerance. It is not a matter of race but behaviour particularly malign behaviour. Racism, colour and historic grievances are paraded to intimidate the weaker minds in a moderate society. They are weapons used for aggression to polarise that society and particularly the unsophisticated and impressionable young.\nThe rulers of Iran teach everything we need to be alert to. We do not fear Islam as some insist .The settled British see it for what it is."
          ],
          [
           "London labour see racism everywhere, apart from on its own doorstep!"
          ],
          [
           "British government being manipulative? You don’t say. I think this island called England has outlived its value to exist."
          ],
          [
           "Could the 'extremist definition' be also applied to any group that supports and promotes Zionist Political Ideology? Any UK citizens who have gone to fight in Gaza genocide and returned? Any religious groups supporting violation of international law? Any group raising money to support illegal purchase of land in a foreign country?"
          ],
          [
           "The problem is that certain religions and ideologies like to self-proclaim their exemption from scrutiny and evaluation. As though they have some special status.\nPeople who disagree with them are unfairly being labelled as awful or extremists.\nIt's a slippery slope and it has to stop. In a free and democratic society we should be able debate and criticise other people's beliefs without being wrongly labelled."
          ],
          [
           "Talking out of her backside as usual.\nIn October 2020, Islamist terrorism remained the greatest threat to the UK by volume according to Ken McCallum, the Director General of MI5. A report published in the same year found that of the 43,000 extremists on MI5's watchlist, around nine-tenths of the people on the list are Islamist extremists. In July 2023, Suella Braverman, the Home Secretary of the United Kingdom, reiterated that Islamic terrorism was the primary domestic threat facing the UK. Islamic terrorism represented 67% of attacks since 2018, 75% of MI5's caseload, and 64% of those in custody for terrorism-connected offences according to the 2023 CONTEST report. The Independent Reviewer for the government's anti-terror programme, Sir William Shawcross, has stated that there was a reluctance to investigate Islamist threats due to fears of being labelled Islamophobic or racist. Instead, staff from the government's anti-terror programme were biased towards tackling far-right threats despite Islamist threats posing a greater risk."
          ],
          [
           "Wouldn’t be a problem if the political class had listened to the public (rather than the capitalist classes) and maintained the countries ethnic integrity. “Extremism” whether nativist or Islamic is a direct result of foreign settlement."
          ],
          [
           "She is only concerned about anti-muslim sentiment really. The attempt at balance was short-lived.\nI think that if she were really in touch with what the vast majority of British people think, she would probably be quite shocked.\nIt's so weird that the majority isn't allowed to have an opinion! 🤬😡🇬🇧"
          ],
          [
           "What utter rubbish"
          ],
          [
           "😂 joker she is"
          ],
          [
           "Every day we import more and more problems."
          ]
         ],
         "hovertemplate": "Title=Ayesha Hazarika slams UK government for ‘using extremism to promote Islamophobia’<br>ID=%{x}<br>Likes_y=%{y}<br>Comment=%{customdata[0]}<extra></extra>",
         "legendgroup": "Ayesha Hazarika slams UK government for ‘using extremism to promote Islamophobia’",
         "marker": {
          "color": "#FECB52",
          "symbol": "circle"
         },
         "mode": "markers",
         "name": "Ayesha Hazarika slams UK government for ‘using extremism to promote Islamophobia’",
         "showlegend": true,
         "type": "scattergl",
         "x": [
          "2zTI_DazfUg",
          "2zTI_DazfUg",
          "2zTI_DazfUg",
          "2zTI_DazfUg",
          "2zTI_DazfUg",
          "2zTI_DazfUg",
          "2zTI_DazfUg",
          "2zTI_DazfUg",
          "2zTI_DazfUg",
          "2zTI_DazfUg",
          "2zTI_DazfUg",
          "2zTI_DazfUg",
          "2zTI_DazfUg",
          "2zTI_DazfUg",
          "2zTI_DazfUg",
          "2zTI_DazfUg",
          "2zTI_DazfUg",
          "2zTI_DazfUg",
          "2zTI_DazfUg",
          "2zTI_DazfUg",
          "2zTI_DazfUg",
          "2zTI_DazfUg",
          "2zTI_DazfUg",
          "2zTI_DazfUg",
          "2zTI_DazfUg",
          "2zTI_DazfUg",
          "2zTI_DazfUg",
          "2zTI_DazfUg",
          "2zTI_DazfUg",
          "2zTI_DazfUg",
          "2zTI_DazfUg",
          "2zTI_DazfUg",
          "2zTI_DazfUg",
          "2zTI_DazfUg",
          "2zTI_DazfUg",
          "2zTI_DazfUg",
          "2zTI_DazfUg",
          "2zTI_DazfUg",
          "2zTI_DazfUg",
          "2zTI_DazfUg",
          "2zTI_DazfUg",
          "2zTI_DazfUg",
          "2zTI_DazfUg",
          "2zTI_DazfUg",
          "2zTI_DazfUg",
          "2zTI_DazfUg",
          "2zTI_DazfUg",
          "2zTI_DazfUg",
          "2zTI_DazfUg",
          "2zTI_DazfUg"
         ],
         "xaxis": "x",
         "y": [
          44,
          82,
          177,
          61,
          45,
          32,
          27,
          55,
          70,
          13,
          23,
          61,
          6,
          19,
          53,
          11,
          28,
          124,
          27,
          39,
          37,
          65,
          4,
          37,
          17,
          2,
          18,
          61,
          40,
          23,
          3,
          36,
          9,
          2,
          19,
          65,
          8,
          9,
          1,
          1,
          1,
          0,
          35,
          0,
          25,
          0,
          0,
          11,
          10,
          0
         ],
         "yaxis": "y"
        },
        {
         "customdata": [
          [
           "Lock Them Up - Donald J Trump"
          ],
          [
           "The hyenas at the ABC are fat, slow and terrified of the hungry lions on their tail.  It's fun to watch.  I love it."
          ],
          [
           "They need to get jobs and move out of their moms basement"
          ],
          [
           "Truth, far left and politicians and media and CCP..."
          ],
          [
           "These people are sick ... a product of our education system... which costs a fortune"
          ],
          [
           "The overton window has shifted so far left that our Anzac Diggers would be considered far right extremist."
          ],
          [
           "The biggest threat is social media."
          ],
          [
           "I still waiting to see any \"far right\" extremism. We see far left extremism on a daily basis."
          ],
          [
           "We need these kinds of discussions on Sky UK.  There is nothing like this in the UK, I have to watch Sky Australia to get this persepective."
          ],
          [
           "I'm a seasoned citizen and I remember in my youth it's was okay to give out attitude adjustments,....it worked, not today however, society has become weak and whinny. Bring back attitude adjustments."
          ],
          [
           "Here we go fellow Aussies, a false flag is in the works!"
          ],
          [
           "Absolutely we follow the law."
          ],
          [
           "there are no far right groups in australia, tell me one"
          ],
          [
           "Come and get it!  ⚔️"
          ],
          [
           "But yet, asio will sit back and watch these people until people are killed,then we'll find out that the person/s where on a watch list."
          ],
          [
           "According to \"ASIO\" we should all be worried about \"white supremacy\" - yeah right sack the boss of ASIO. The number of \"white supremacists\" in Australia would barely fill a bus."
          ],
          [
           "At least we have a couple of politicians who understand reality"
          ],
          [
           "Lock them up immediately for quite a while set a precedent that you will not allow that in Australia and you will be fine but stop it from the beginning"
          ],
          [
           "You don’t need armies anymore, the divide within is already engulfing."
          ],
          [
           "It will happen. This is intentional."
          ],
          [
           "Oh, who could have guessed?"
          ],
          [
           "What does that tell you about the ASIO directors recent 18 months of commentary?"
          ],
          [
           "You guys nailed it."
          ],
          [
           "The is no far right extremism"
          ],
          [
           "Mindless"
          ],
          [
           "We all inferior to the wealthy few who play gods."
          ],
          [
           "It's about freedom of thought !  Left or right , someone that isn't is giving that title to those who don't think the same as those in charge . \nNO THINKING ,NO TALKING ,NO THINKING ABOUT TALKING . \n$$$$ = to enforce an ideology in the guise of national security ."
          ],
          [
           "Good chance to be from All the above"
          ],
          [
           "Rearm your citizens."
          ],
          [
           "ASIO Will tell the people this so when something happens they can say they warned us but if it doesn't they will say its because they did their job well. Lets hope they are doing a good job and monitor the extreme left as well."
          ],
          [
           "All happening according to instructions in Saul Alinsky's \"Rules for Radicals\"."
          ],
          [
           "America sneezes Aus get cold NAAAAHHHH USA GAVE AUSTRALIA “THE REBELLION PAGAN ATHEIST 🦠 🦠 🦠🦠\n like C19 it’s variants are set to make us unrecognisable!!!! Stay strong 💪 💪🏻 💪🏿 💪🏽Aussies give your thoughts & energy to things that effect Aust 🤜🏻 🤛🏿 don’t let USA, UK, Eastern ECT “leftist hatred virus variant🦠” divide this precious unique country of ours❣️ love ALL  Aussies no matter our colour or where we originated from"
          ],
          [
           "Are there going to be any enlightenment classical liberals, like John Locke and George Washington, who stand for the freedom and Liberty of all Anzacs in response to the restrictions?\nIf so how will they gain access to international funding?"
          ],
          [
           "Bring on Thor!"
          ],
          [
           "These are weak scared men. Don’t let your fears fuel the hatred"
          ],
          [
           "About time someone grows a brain."
          ],
          [
           "Freedom-loving? The way we're reacting to covid, the promotion of tracking by the state (covid passport), more and more people dependent on govt, the promises that we'll need to cut our standard of living to fix a non-problem (climate change), and I'm not so sure."
          ],
          [
           "One of these farm raider idiots are gunna go onto the wrong farm in me day and it isn’t going to end well for them at all. I grew up in farming areas and some of the farmers in that area may just hang these idiots under the storm of concept of cattle rustling. They shouldn’t poke the bear when it’s sleeping. It may just bite you"
          ],
          [
           "Look up the BLM website and see what you think. Including the financial page. :)"
          ],
          [
           "Does ASIO know from which quarter, we have for the most part seen Islamic terror events"
          ],
          [
           "most in Faith Goodfath moral Sense mide-set Peaceful"
          ],
          [
           "So when do we declare cv19 a major terror attack"
          ],
          [
           "Yeah ASIO who organised the inside job see prove that they were still needed! And got their agent provocateur Richard Seary to ring the CIB telling them that there was a bomb in the bin outside the Sydney Hilton. AISIO was supposed to save the day with their bomb squad doing their thing before the garbage truck turned up to empty the bin. They would be hailed as heroes and given more funding and more power. Apparently it was the only bin in the area that was full. Well the garbage truck turned up too early, bin is picked up and emptied into the truck and “bang” and death and injuries was the result of ASIO’s bungled “job”."
          ],
          [
           "A lest the little soy boys won’t be any match for police!\nLol"
          ],
          [
           "Identify who is supplying narrative. Break their balls as their BS flows. Don’t be an experiment ."
          ],
          [
           "That's what happens when you try to be nice to certain people, maybe it's best to go backwards?"
          ],
          [
           "So, legislate Australian citizens, born in AU, whose parents were also born in AU, to complete mandatory police and military service and perform concealed carry and stand their ground in response to asymmetric threats in society. Complete mandatory regular training and receive tax concessions to offset the cost to maintain competency."
          ],
          [
           "I think the paradigm is faulty, for a start it's very simplistic, the left is for the employees and the right is for the employers. But often an employee will be laid off and become a contractor to his/her former boss. We are conditioned to think of the left - right model as a flat earther views our planet, when I think of it as a circle. Often radical lefties become partners in fascist parties like Moussalini; not to mention the anomalies that arise when global capitalist invest plant and capital in a 'communist' country like China. Think about it; it is easy to convert a large commune into a corporation and visa-versa as both systems are highly centralised. But what really get up the noses of both communist and globalists (monopolies) are thousands of those pesky small private enterprises. Klaus Schwab's nightmare!"
          ],
          [
           "What is suni religion?"
          ],
          [
           "Lol sorry for constantly sneezing on you."
          ]
         ],
         "hovertemplate": "Title='Far-left', not far-right extremism the 'biggest threat' to Australia today<br>ID=%{x}<br>Likes_y=%{y}<br>Comment=%{customdata[0]}<extra></extra>",
         "legendgroup": "'Far-left', not far-right extremism the 'biggest threat' to Australia today",
         "marker": {
          "color": "#636efa",
          "symbol": "circle"
         },
         "mode": "markers",
         "name": "'Far-left', not far-right extremism the 'biggest threat' to Australia today",
         "showlegend": true,
         "type": "scattergl",
         "x": [
          "tjOKIJf0uKQ",
          "tjOKIJf0uKQ",
          "tjOKIJf0uKQ",
          "tjOKIJf0uKQ",
          "tjOKIJf0uKQ",
          "tjOKIJf0uKQ",
          "tjOKIJf0uKQ",
          "tjOKIJf0uKQ",
          "tjOKIJf0uKQ",
          "tjOKIJf0uKQ",
          "tjOKIJf0uKQ",
          "tjOKIJf0uKQ",
          "tjOKIJf0uKQ",
          "tjOKIJf0uKQ",
          "tjOKIJf0uKQ",
          "tjOKIJf0uKQ",
          "tjOKIJf0uKQ",
          "tjOKIJf0uKQ",
          "tjOKIJf0uKQ",
          "tjOKIJf0uKQ",
          "tjOKIJf0uKQ",
          "tjOKIJf0uKQ",
          "tjOKIJf0uKQ",
          "tjOKIJf0uKQ",
          "tjOKIJf0uKQ",
          "tjOKIJf0uKQ",
          "tjOKIJf0uKQ",
          "tjOKIJf0uKQ",
          "tjOKIJf0uKQ",
          "tjOKIJf0uKQ",
          "tjOKIJf0uKQ",
          "tjOKIJf0uKQ",
          "tjOKIJf0uKQ",
          "tjOKIJf0uKQ",
          "tjOKIJf0uKQ",
          "tjOKIJf0uKQ",
          "tjOKIJf0uKQ",
          "tjOKIJf0uKQ",
          "tjOKIJf0uKQ",
          "tjOKIJf0uKQ",
          "tjOKIJf0uKQ",
          "tjOKIJf0uKQ",
          "tjOKIJf0uKQ",
          "tjOKIJf0uKQ",
          "tjOKIJf0uKQ",
          "tjOKIJf0uKQ",
          "tjOKIJf0uKQ",
          "tjOKIJf0uKQ",
          "tjOKIJf0uKQ",
          "tjOKIJf0uKQ"
         ],
         "xaxis": "x",
         "y": [
          36,
          61,
          107,
          28,
          10,
          96,
          13,
          3,
          20,
          25,
          3,
          7,
          22,
          2,
          10,
          2,
          4,
          3,
          3,
          10,
          4,
          7,
          1,
          5,
          0,
          5,
          1,
          2,
          4,
          1,
          0,
          2,
          0,
          2,
          0,
          3,
          1,
          1,
          2,
          0,
          2,
          1,
          0,
          2,
          0,
          2,
          4,
          0,
          0,
          2
         ],
         "yaxis": "y"
        },
        {
         "customdata": [
          [
           "what a weasel"
          ],
          [
           "Islam is responsible.this guy is lying"
          ],
          [
           "This imam is lying."
          ],
          [
           "we never lived in a extreme time until we imported it"
          ],
          [
           "France deported a hate preacher back to Tunisia in Forty eight hours for insulting the french flag get the idea Mr grove"
          ],
          [
           "islam the religion of peace   , yea sure"
          ],
          [
           "Ajmal Masroor  is part of the problem he is not unbiased, rather a disingenuous activist."
          ],
          [
           "How is it disproportionately victimising one group when that one group is disproportionately causing the problems?"
          ],
          [
           "Who let THAT into my country?"
          ],
          [
           "Don't trust this man at all 😢😢 very manipulative and calculated."
          ],
          [
           "In the first 10 seconds, that muslim lied. He claimed that Islam was a peacful religion."
          ],
          [
           "They are for free speech as long as it's for themselves"
          ],
          [
           "Religion of peace my arse 🏴󠁧󠁢󠁳󠁣󠁴󠁿🥃"
          ],
          [
           "It’s not a phobia if you know why you don’t like it."
          ],
          [
           "What religion were the grooming gangs?"
          ],
          [
           "You can criticise islam so long as you're not Salman rushdie or a teacher in Batley"
          ],
          [
           "he should not be allowed on TV, he is part of the problem"
          ],
          [
           "From sea to sea, Britain will be islam free."
          ],
          [
           "We have heard this Imam on many occasions. He is part of the problem and not the solution."
          ],
          [
           "So... the other Muslim countries refuse to help Palestine,  why?"
          ],
          [
           "2:32 In other words he wants to condemn anyone who criticises the hateful ideology that is Islam."
          ],
          [
           "I do not see Islam as religion of moderation."
          ],
          [
           "Professional victims"
          ],
          [
           "When are we going to stop vilifying Powell, Farage, Robinson and Anderson?"
          ],
          [
           "and there we have the problem, anyone you disagree with is 'right wing' and needs to be blamed."
          ],
          [
           "Islam out of Europe"
          ],
          [
           "Islam OUT of Europe"
          ],
          [
           "Deport"
          ],
          [
           "Ask him what the penalty for apostasy in islam is."
          ],
          [
           "14% of our prison population are of a certain persuasion - and that's despite them getting treated with kid gloves. The scale of this problem is far, far larger than anyone will admit."
          ],
          [
           "No such thing as freedom of expression and democracy in his religion, he's not fooling anyone"
          ],
          [
           "How much more evidence is needed? Manchester Arena, London Bridge, 7/7, Lee Rigby, grooming Gangs, etc etc etc."
          ],
          [
           "The Quran is full extremist  idea, in fact Islam is an extremist ideology,  i think this Imam hasn't read the  Quran and if he did i don't think he understood the content of the Quran."
          ],
          [
           "\"It's everbody's fault EXCEPT OURS\""
          ],
          [
           "This Iman can’t criticise Islam or he will disappear 😮"
          ],
          [
           "Ajmal is clearly lying about the atrocities that are written in the book..he is just blabbering and deviating from the core issues in that cult."
          ],
          [
           "he claims to be a moderate muslim but cant seem to acknowledge that there is a problem with others of his creed."
          ],
          [
           "Why do we have to put up with scumbags like that?"
          ],
          [
           "I must be right wing, along with every other reader here."
          ],
          [
           "This Imam can't fool us anymore!!!!!"
          ],
          [
           "Suddenly, Islam can be criticized.  I have worked and lived in a number of countries where Islam is the major or enforced religion.  If I were stupid enough to criticize any element of Islam I would be deported instantly.  I currently reside within a secular environment, but this threat is prevalent every day.  This Imam would be the first to instigate Shariah law at the first opportunity.  All Muslims are duty bound to spread their faith wherever they are, in a secular State or otherwise."
          ],
          [
           "Michael Gove,extreme right wing. What nonsense.This chap needs a compass reset."
          ],
          [
           "Ajmal avoided dealing with reality, the Batley teacher for example and is full of hypocrisy like all of his ilk"
          ],
          [
           "I'm sure there are parts of the world this guy can live his best life. But here in this Christian country may not be one of them"
          ],
          [
           "\" Maybe the problem is Islam \" - Crown Prince Muhammad Bin Salman Al Saud"
          ],
          [
           "Why are these Mahometans given media space to air their lies?"
          ],
          [
           "\"Religion of moderation\" 😂"
          ],
          [
           "Why do you keep having these foreign muslims on giving us their opinion which we already knew , they all have the same opinion no matter what , and he's telling us stopping extreme islam is very dangerous . Well enough said and its not his backyard lwts have it right ."
          ],
          [
           "Isn’t this the clown who went on GB news and said Tommy Robinson threw more ‘rubbish and firebombs’ at Police over remembrance weekend than anyone has ever throw? What a prat!"
          ],
          [
           "This man does not know that he is lying."
          ]
         ],
         "hovertemplate": "Title=\"Hang On!\" Ian Collins Clashes With Muslim Imam Over New Extremism Definition<br>ID=%{x}<br>Likes_y=%{y}<br>Comment=%{customdata[0]}<extra></extra>",
         "legendgroup": "\"Hang On!\" Ian Collins Clashes With Muslim Imam Over New Extremism Definition",
         "marker": {
          "color": "#EF553B",
          "symbol": "circle"
         },
         "mode": "markers",
         "name": "\"Hang On!\" Ian Collins Clashes With Muslim Imam Over New Extremism Definition",
         "showlegend": true,
         "type": "scattergl",
         "x": [
          "RDsDpVUiUm4",
          "RDsDpVUiUm4",
          "RDsDpVUiUm4",
          "RDsDpVUiUm4",
          "RDsDpVUiUm4",
          "RDsDpVUiUm4",
          "RDsDpVUiUm4",
          "RDsDpVUiUm4",
          "RDsDpVUiUm4",
          "RDsDpVUiUm4",
          "RDsDpVUiUm4",
          "RDsDpVUiUm4",
          "RDsDpVUiUm4",
          "RDsDpVUiUm4",
          "RDsDpVUiUm4",
          "RDsDpVUiUm4",
          "RDsDpVUiUm4",
          "RDsDpVUiUm4",
          "RDsDpVUiUm4",
          "RDsDpVUiUm4",
          "RDsDpVUiUm4",
          "RDsDpVUiUm4",
          "RDsDpVUiUm4",
          "RDsDpVUiUm4",
          "RDsDpVUiUm4",
          "RDsDpVUiUm4",
          "RDsDpVUiUm4",
          "RDsDpVUiUm4",
          "RDsDpVUiUm4",
          "RDsDpVUiUm4",
          "RDsDpVUiUm4",
          "RDsDpVUiUm4",
          "RDsDpVUiUm4",
          "RDsDpVUiUm4",
          "RDsDpVUiUm4",
          "RDsDpVUiUm4",
          "RDsDpVUiUm4",
          "RDsDpVUiUm4",
          "RDsDpVUiUm4",
          "RDsDpVUiUm4",
          "RDsDpVUiUm4",
          "RDsDpVUiUm4",
          "RDsDpVUiUm4",
          "RDsDpVUiUm4",
          "RDsDpVUiUm4",
          "RDsDpVUiUm4",
          "RDsDpVUiUm4",
          "RDsDpVUiUm4",
          "RDsDpVUiUm4",
          "RDsDpVUiUm4"
         ],
         "xaxis": "x",
         "y": [
          371,
          97,
          390,
          328,
          529,
          293,
          292,
          480,
          257,
          73,
          155,
          103,
          71,
          68,
          162,
          215,
          167,
          210,
          311,
          112,
          70,
          162,
          95,
          74,
          283,
          92,
          446,
          55,
          58,
          77,
          227,
          41,
          65,
          72,
          331,
          61,
          44,
          47,
          56,
          37,
          122,
          242,
          58,
          61,
          27,
          58,
          47,
          41,
          19,
          34
         ],
         "yaxis": "y"
        },
        {
         "customdata": [
          [
           null
          ]
         ],
         "hovertemplate": "Title=Preventing violent extremism through education<br>ID=%{x}<br>Likes_y=%{y}<br>Comment=%{customdata[0]}<extra></extra>",
         "legendgroup": "Preventing violent extremism through education",
         "marker": {
          "color": "#00cc96",
          "symbol": "circle"
         },
         "mode": "markers",
         "name": "Preventing violent extremism through education",
         "showlegend": true,
         "type": "scattergl",
         "x": [
          "79MTkVumCcQ"
         ],
         "xaxis": "x",
         "y": [
          null
         ],
         "yaxis": "y"
        },
        {
         "customdata": [
          [
           "\"If Islam was a religion of peace then its extremists would be extremely peaceful.\" - Gervais"
          ],
          [
           "Victim of genital mutilation, escaped from an arranged marriage... Why isn't this hero on the news every day?"
          ],
          [
           "Sane lady: \"yes the qur'an says read, but the qur'an also says kill\"\nOther lady: 👀 👁👁 👀"
          ],
          [
           "Ayaan is so cool and calm in the interview. She feels like she is at peace with herself and is able to think clearly. Other women felt that they have come to the interview with something that they have to say."
          ],
          [
           "Interviewer won't let Ayaan finish talking when it's controversial.  Boooo."
          ],
          [
           "As usual Ayaan holds her own "
          ],
          [
           "Ayaan Hirsi Ali is a hero.  What a brave, intelligent woman."
          ],
          [
           "Re: \"Does Islam Have a Violent Extremism Problem?\" - Er, \"problem?\" No - it's a feature, not a glitch!"
          ],
          [
           "Why are there so many idiotic media hosts?"
          ],
          [
           "Ayaan is such a beam of light. Beautiful, patient, and strong. Love her."
          ],
          [
           "I have two real problems with Omar's statements, both of them having to do with honesty.\nFirst, she says that Ayann Hirsi Ali is the \"wrong person\" to be calling for a reform of Islam, since she is no longer a part of it and \"attacks peaceful proponents of it\".  Uh, no.  Ali has only attacked the radical extremists of it that preach violence and support terrorism. \nSecondly, Omar says that Islam was created \"in order to fight violence\".  That is laughable in the extreme.  Muhammad, an illiterate merchant and warlord, had tried unsuccessfully to put himself in a position over the various tribes around him.  They rejected him several times.   He spent his life up to that point raiding caravans and slaughtering their men, taking their women as slaves, and raiding towns slaughtering the citizens, and taking women and young girls as sex slaves to be sold on the open market.   He fabricated the religion of Islam to name himself as the \"Final Prophet\" of Allah.  He spread his religion by the threat of death for the remainder of his life.  He bragged about the number of Jews he killed, and \"married\" a Jewish woman after slaughtering her husband, her father and her brother in front of her, adding her to his harem of 13 wives that he already had.  One wonders how much enjoyment he got out of raping his Jewish woman after slaughtering her entire family in front of her. \nThis is in Arabia's own history of Muhammad, and they celebrate it, not hide it or apologize for it. \n\nHe married his six year-old niece Aisha when he was 52, and consummated marriage with her when she was nine and he was 55.  This is the person who fabricated this religion to put himself in power, and this is the religion that Manal Omar believes in and spreads.....\n\nFinally, Manal Omar knows very well that the penalty of leaving Islam is death.  She refuses to address that fact of Islam, and knows that Ayann Hirsi Ali is under threat of death for her entire life because of it.  So she is dishonest from beginning to end here."
          ],
          [
           "The world needs more people like Ayaan!!"
          ],
          [
           "That interviewer is really bad she doesn’t even want to hear what the Somali woman is saying \nThe Somali Lady is right on the buttons with all her thoughts"
          ],
          [
           "Only one sane person in this video, can you spot her?"
          ],
          [
           "The interviewer is clearly so biased"
          ],
          [
           "She deserves an award 🙏🙏"
          ],
          [
           "The question Ayaan should have asked of this would-be journalist is: \"Should you really be considered a journalist when your agenda is so clear to all that watch this interview?\""
          ],
          [
           "Yeah yeah Islam is peace and steak is vegan!"
          ],
          [
           "15 years later, you are still my hero, Ayaan. And, RIP, Hitch, whose name guided me, via YouTube, to this video."
          ],
          [
           "That presenter Though, she Should Come Live In East LondonISTAN For Awhile..!\nthree cheers for ONCE great britain..."
          ],
          [
           "Appalling to see the quality of this interview... Ayan is the only intellect holding sanity in this video"
          ],
          [
           "If the fundamentals of Islam were about peace then its fundamentalist extremists would be extremely peaceful"
          ],
          [
           "Wow ive never heard of her, I'll do some research, she's such a strong woman, that's the type of woman we need."
          ],
          [
           "This interviewer definitely doesn’t want to be beheaded"
          ],
          [
           "This so-called reporter used what's commonly referred to as a Tu quoque fallacy argument when she brings up Christianity. Her bias is so apparent it's sickening."
          ],
          [
           "Jesus, why is this even a question?"
          ],
          [
           "On next week’s show we’ll be debating questions such as: is the sky blue? And is the Pope Catholic?"
          ],
          [
           "The network director - \"4 minutes should be enough time for two highly educated people with opposing views to have an in depth conversation about a controversial topic, right?\" Thanks ABC. I understand religious violence now and you didn't waste this opportunity at all."
          ],
          [
           "Very couragious of Ayaan Hirsi Ali !"
          ],
          [
           "Well done Ayaan! Somebody has to start . Compliments"
          ],
          [
           "Islam:. There is no god other than Allah.          Hinduism: there is one truth. Sages call it by many names.....                                   And yet, Islam is secular and Hinduism is communal............\n\nThat is secularism in India"
          ],
          [
           "Just reading the heading and my answer is 100% YES !!"
          ],
          [
           "\"Does Islam Have a Violent Extremism Problem?\"\n\nSam Harris said it best.  \n\n\"The problem isn't fundamentalism. We often hear this said: these are euphemisms... The only problem with Islamic fundamentalism are the fundamentals of Islam.\""
          ],
          [
           "This woman is telling FIRST PERSON TRUTH❤️✍🏻👁⏰ listen to her❤️✍🏻"
          ],
          [
           "Ayaan Hirsi Ali is indeed  inspiring."
          ],
          [
           "Who watching June 2019"
          ],
          [
           "Ayaan Hersi Ali is a brilliant woman."
          ],
          [
           "Wow, what a neutral introduction, I wonder which side the interviewer is on? -_-\nWow again, first question: are you the right person? So basically 'shush, you're not muslim (anymore), so you have no voice in this matter'. I guess we'll all just keep quiet then eh.\nAll in all Ayaan handled that beautifully in the face of this biased interviewer who tried to spout the same old bullshit we've been told in the west for years."
          ],
          [
           "On his deathbed, Muhammad said, \"I have conquered through terror.\" That says it all."
          ],
          [
           "As an exmuslim, I dare any western liberal woman to come and live under authentic islamic shariah."
          ],
          [
           "Ayaan is an amazing woman... Smart, well spoken and just wow. We love you Ayaan!"
          ],
          [
           "The link is this.  Mohammad is quoted as saying 'I have come to bring terror' "
          ],
          [
           "Ayaan is one of the most courageous woman on earth."
          ],
          [
           "The moderator was out of line in this discussion. She should not be imposing her opinion on a topic that she knows so little about."
          ],
          [
           "respect to Ayaan Hirsi Ali!"
          ],
          [
           "Ayan is a great woman "
          ],
          [
           "She said \"cover\" she ain't even covering her neck and omg she is wearing an earing 😱 so attractive"
          ],
          [
           "the thin girl with dark complex makes eye opening sense"
          ],
          [
           "Ayaan is amazing 🙌🏽"
          ],
          [
           "\"But...but, Christians are bad too!\" The anchor Googled 'violent Bible verses' and printed them out beforehand. She is so thorough. \"You're all fucked up.\" Would have been a sufficient reply."
          ]
         ],
         "hovertemplate": "Title=Does Islam Have a Violent Extremism Problem?<br>ID=%{x}<br>Likes_y=%{y}<br>Comment=%{customdata[0]}<extra></extra>",
         "legendgroup": "Does Islam Have a Violent Extremism Problem?",
         "marker": {
          "color": "#ab63fa",
          "symbol": "circle"
         },
         "mode": "markers",
         "name": "Does Islam Have a Violent Extremism Problem?",
         "showlegend": true,
         "type": "scattergl",
         "x": [
          "kgVEtAsZbU8",
          "kgVEtAsZbU8",
          "kgVEtAsZbU8",
          "kgVEtAsZbU8",
          "kgVEtAsZbU8",
          "kgVEtAsZbU8",
          "kgVEtAsZbU8",
          "kgVEtAsZbU8",
          "kgVEtAsZbU8",
          "kgVEtAsZbU8",
          "kgVEtAsZbU8",
          "kgVEtAsZbU8",
          "kgVEtAsZbU8",
          "kgVEtAsZbU8",
          "kgVEtAsZbU8",
          "kgVEtAsZbU8",
          "kgVEtAsZbU8",
          "kgVEtAsZbU8",
          "kgVEtAsZbU8",
          "kgVEtAsZbU8",
          "kgVEtAsZbU8",
          "kgVEtAsZbU8",
          "kgVEtAsZbU8",
          "kgVEtAsZbU8",
          "kgVEtAsZbU8",
          "kgVEtAsZbU8",
          "kgVEtAsZbU8",
          "kgVEtAsZbU8",
          "kgVEtAsZbU8",
          "kgVEtAsZbU8",
          "kgVEtAsZbU8",
          "kgVEtAsZbU8",
          "kgVEtAsZbU8",
          "kgVEtAsZbU8",
          "kgVEtAsZbU8",
          "kgVEtAsZbU8",
          "kgVEtAsZbU8",
          "kgVEtAsZbU8",
          "kgVEtAsZbU8",
          "kgVEtAsZbU8",
          "kgVEtAsZbU8",
          "kgVEtAsZbU8",
          "kgVEtAsZbU8",
          "kgVEtAsZbU8",
          "kgVEtAsZbU8",
          "kgVEtAsZbU8",
          "kgVEtAsZbU8",
          "kgVEtAsZbU8",
          "kgVEtAsZbU8",
          "kgVEtAsZbU8"
         ],
         "xaxis": "x",
         "y": [
          1105,
          1163,
          241,
          94,
          432,
          266,
          45,
          235,
          110,
          320,
          48,
          122,
          294,
          562,
          227,
          19,
          141,
          683,
          7,
          29,
          254,
          75,
          16,
          9,
          99,
          158,
          5,
          7,
          90,
          16,
          28,
          6,
          149,
          14,
          18,
          8,
          192,
          71,
          19,
          5,
          20,
          17,
          3,
          11,
          271,
          262,
          1,
          4,
          50,
          20
         ],
         "yaxis": "y"
        },
        {
         "customdata": [
          [
           "And the only time they interacted with women, it was an undercover journalist"
          ],
          [
           "Just go 5 minutes in any multiplayer lobby and you'll get the vocabulary needed to infiltrate any incel you want"
          ],
          [
           "140 pages of blaming women for not giving it to him ... what a guy"
          ],
          [
           "This video made me realize how dangerous loneliness is"
          ],
          [
           "Shes the ultimate discord mod"
          ],
          [
           "I remember reading a post on reddit where a self-proclaimed incel posted a photo of himself asking for advice in how to make himself more attractive. \nThe absolute vile that came from the others was just revolting. Many told him he had no hope and should just not even try. They tore him to shreds.\nWhen I saw the photo, he was actually quite attractive.  Just needed to take care of himself better. He was clearly dehydrated and in need of a shower.\nLong story short, incel culture is like emotional S&M for them, I swear."
          ],
          [
           "This woman is brave for putting her face out there in a video like this. There’s a lot of people who might try to target her in the groups she infiltrates."
          ],
          [
           "Elliott rogers displayed a lot of narcissistic traits. Victim mentality (girls don't want me.. poor me.. it's their fault), grandiose sense of self worth. He repeated said he was  \"magnificent, amazing, wonderful.. handsome.. and other men who got the girls were just losers\", preoccupation with the vision of unlimited success, achievements and brilliance, believes he will only be understood by people of high status, constant need for praise/admiration, exploitative, lack of empathy, haughty and arrogant etc...He also attacked women, and couples. It seems like they failed to pick up the fact that he was showing clear signs of NPD."
          ],
          [
           "Elliot was from an extremely wealthy family and was full of himself. I love how he kept claiming he was beautiful when he was ugly inside and that is why he repulsed women."
          ],
          [
           "It is important to remember that understanding the grievances of incels or neo-nazis is not the same as recognizing those grievances as legitimate. Their views are wrong but we can't put an end to these groups until we really understand how and why they radicalize their members."
          ],
          [
           "I've tried to follow up on the incel in the last 20 years. But the content is so abhorent, it leads me in a depressive state. I don't know how she can decide to willingly endure such an experience. Thank you, I guess."
          ],
          [
           "I'm so glad she said, and I think it's super important to note, that all extremist groups essentially act the same. Their extreme measures of recruiting, spreading the word, acts of violence or just extreme levels of views doesn't mean it's something so profound and worth taking it to that level."
          ],
          [
           "For the incel language, don't need to be an insider, just need to look at memes."
          ],
          [
           "I am 37 years old and I have always been single, I have never been in a relationship and I am still a virgin. I have been affected since childhood by a very rare genetic disease that handicaps me physically. Despite this, I have no hatred towards women. I understand very well that being in a relationship with me can be complicated because of my physical situation, and I don't blame women. My situation is different from most incels, but they should see things differently instead of being so negative. They don't have any major health problems that prevent them from finding someone. Even if they have had women in the past who have behaved badly with them, not all of them will. Some may not agree, but I think these guys should change their mindset, if at all possible."
          ],
          [
           "I almost got sucked into incel thinking. I always used to be an passionate football player in my school days. But before starting college, I gained a lot of weight and had 5 herinated discs and I lost the ability to play football. And therefore in college, in order to find happiness, I tried dating and thought that having a girlfriend and sex will make me happy. But I wasn't happy with myself and therefore couldn't attract anyone. \n\nHowever I saw that guys who I knew were playboys (and were vouched to be so by my sister too) were getting girls left and right. So what the incels were saying (about the Chads and Stacies) seemed true. But the I started boxing and MMA. And that saved me, along with me finding the love of life (currently dating her). \n\nTurns out the I needed something to be passinate about. And I had lost that when I couldn't play football anymore. So having boxing and MMA saved me."
          ],
          [
           "This is a grate example on how humans don't care about mental health"
          ],
          [
           "\"huntin down incel extremists\" \n>literally joins a public forum that can be easily found in google"
          ],
          [
           "Honestly...I blame social media for this.. It's making things worse not better."
          ],
          [
           "They don't need to be hunted down, they need to be helped"
          ],
          [
           "Maybe these people should really stop and think about why so many men are depressed and in crippling loneliness in the first place? But we all know that’s not going to happen because then you’ll have to reverse things in society that are modern conveniences."
          ],
          [
           "I get it. It's tough always knowing what the right and wrong things to do in any given situation. One thing I always try to do each day is not going on a killing spree. It's the simple things that can really brighten someone's day 👍"
          ],
          [
           "“Eurocucks exposed” made me laugh pretty hard"
          ],
          [
           "I've had the odd conversation with such people online, more MGTOW types, and there's a weird lack of understanding that if a woman doesn't like you, it's not the woman's fault. They seem to think \"I've done a, b & c for this girl, and she won't go out with me\" as if affection is a kind of debt to be repaid.\n\nIt's actually not surprising, because self-denial is a massive force. The need to blame other people for one's own failings is a very strong urge."
          ],
          [
           "Incels are not extemists and there is no  \"incel movement\". That term is thrown around way too much. I m an incel, but I m not part of any \"movement\" and I m not on any forum.\nI suppose ER and Minassian were \"extremist\" sort of people, but there is no movement and incels are not terrorists."
          ],
          [
           "Too bad Elliot Roger got such bad advice on Reddit. There must’ve been something very wrong with him, obviously. He was not a bad looking guy, So the fact that he couldn’t get a girlfriend speaks highly to his personality. The fact that he killed a bunch of people because of it of course speaks to his lack of mental health. EDIT: and to the insanely easy access unstable people have to firearms!"
          ],
          [
           "she knows incel lore lmao"
          ],
          [
           "Reading a book called culture wars. By talia Levin who pretty much goes into detail about how she did the same thing vice did here . Infiltrating white nationalist group and the chapter , adventures with incels, really hits deeper on this matter"
          ],
          [
           "This video changed my life :') \nI am a 5ft indian balding janitor and i just on my way to bang my 5th stacy this week.  \nKeep hustling, keep grinding guys.  Anything is possible if you have good genetics"
          ],
          [
           "genshin impact fans need to be careful now"
          ],
          [
           "Julia is taking such an enormous risk exposing herself like this, I believe. This sort of work is best done in secret, to avoid retaliation. Incredibly brave on her part and maybe, just maybe, her coming out and laying it all down can actually help some incels see the other side. I hope, at least."
          ],
          [
           "Classic 9 years later I have heard of this for the first time. I am always the last to know.\nFeels like people are getting so insane that everyone needs to become a profiler. \nI have met over 30,000 people in the last 5.5 years driving rideshare. Now I am playing back a few conversations. I live in a world of happy. I hope positive energy has helped people. Doing what she does is more than I could take."
          ],
          [
           "Such misandrist undertones in this video"
          ],
          [
           "this undercover journalism thing seems super easy, all i have to do is surf the internet?"
          ],
          [
           "What's ironic is that it was actually a woman who first coined the term and identified as an incel."
          ],
          [
           "It really bothers you that incels are talking to each other online huh."
          ],
          [
           "The incel movement isn’t a far right movement . It is not a political movement what so ever. I do not agree with the incel movement but to say it’s “far right” is incorrect"
          ],
          [
           "Thank you for this. My friend is stuck in this rabbit hole and it's really hard to help him. I'm gonna stick by his side though. My goal is for no one to get hurt."
          ],
          [
           "The extremely valuable information learned by her infiltration: Chad, Stacy, & Blackpilled"
          ],
          [
           "Never been in a legit relationship but I’m not angry that women don’t like me nor am I blaming them, it’s there choice and that’s how life is. You can’t force someone to like you. I’ve known dudes who are straight up losers get a relationship with a girl. It makes me wonder, but it is what it is. I don’t really associate myself with anyone. I like it like that"
          ],
          [
           "I've heard them call it a lifestyle choice, despite the whole 'involuntary' thing, which you know, means it's out of their control. One said on a radio interview, that people underestimate the power this lifestyle provides. IF YOU HAD ANY POWER AT ALL YOU'D BE GETTING LAID. It's a reaction to your status, not a product of your own choices, as per their own title, it's INVOLUNTARY"
          ],
          [
           "this is like a mental illness. i used to be angry at Incels, for the surface level reasons. but now i just pity them. im sure that pity doesnt help the situation tho. this is a serious issue and it sounds like a lot of these guys need some help, to pull themselves out of this toxic miasma."
          ],
          [
           "\"You are awkward, you are ugly, these are crimes for which the world shows little pitty\""
          ],
          [
           "I will never understand how a person can blame an entire group of people for something thats almost guaranteed their own fault"
          ],
          [
           "Thing is, many of these posts are memes. They aren’t serious. It’s essentially trolling. These videos make it seem much more serious than it actually is."
          ],
          [
           "Did I miss the hunting part or everyone else did?"
          ],
          [
           "This video: \"Who is this Four Chan, and how do we stop him?\""
          ],
          [
           "One of the  biggest contributing factors I believe would be social media/forums it severely warps a persons perception of reality, people's expectation and reality doesn't match it causes them to resent society. From what I read the guy was getting attention from girls but not the ones he wanted. He wanted a 10 but he probably didn't realize he needed to work on himself and or  lower his standards. He visited online forums with a negative few point on life and that became his reality without a healthy outlet."
          ],
          [
           "Feds"
          ],
          [
           "WHO IS THIS FOUR CHAN????"
          ],
          [
           "I feel like this is the perspective of a tumblr girl after a 4chan raid back in like 2014"
          ]
         ],
         "hovertemplate": "Title=Hunting Down Incel Extremists | Investigators<br>ID=%{x}<br>Likes_y=%{y}<br>Comment=%{customdata[0]}<extra></extra>",
         "legendgroup": "Hunting Down Incel Extremists | Investigators",
         "marker": {
          "color": "#FFA15A",
          "symbol": "circle"
         },
         "mode": "markers",
         "name": "Hunting Down Incel Extremists | Investigators",
         "showlegend": true,
         "type": "scattergl",
         "x": [
          "9p7dRa9-7as",
          "9p7dRa9-7as",
          "9p7dRa9-7as",
          "9p7dRa9-7as",
          "9p7dRa9-7as",
          "9p7dRa9-7as",
          "9p7dRa9-7as",
          "9p7dRa9-7as",
          "9p7dRa9-7as",
          "9p7dRa9-7as",
          "9p7dRa9-7as",
          "9p7dRa9-7as",
          "9p7dRa9-7as",
          "9p7dRa9-7as",
          "9p7dRa9-7as",
          "9p7dRa9-7as",
          "9p7dRa9-7as",
          "9p7dRa9-7as",
          "9p7dRa9-7as",
          "9p7dRa9-7as",
          "9p7dRa9-7as",
          "9p7dRa9-7as",
          "9p7dRa9-7as",
          "9p7dRa9-7as",
          "9p7dRa9-7as",
          "9p7dRa9-7as",
          "9p7dRa9-7as",
          "9p7dRa9-7as",
          "9p7dRa9-7as",
          "9p7dRa9-7as",
          "9p7dRa9-7as",
          "9p7dRa9-7as",
          "9p7dRa9-7as",
          "9p7dRa9-7as",
          "9p7dRa9-7as",
          "9p7dRa9-7as",
          "9p7dRa9-7as",
          "9p7dRa9-7as",
          "9p7dRa9-7as",
          "9p7dRa9-7as",
          "9p7dRa9-7as",
          "9p7dRa9-7as",
          "9p7dRa9-7as",
          "9p7dRa9-7as",
          "9p7dRa9-7as",
          "9p7dRa9-7as",
          "9p7dRa9-7as",
          "9p7dRa9-7as",
          "9p7dRa9-7as",
          "9p7dRa9-7as"
         ],
         "xaxis": "x",
         "y": [
          8594,
          8285,
          2850,
          1354,
          5361,
          4717,
          2052,
          301,
          3356,
          4415,
          535,
          614,
          2603,
          2077,
          85,
          21,
          1323,
          329,
          30,
          8,
          877,
          968,
          78,
          14,
          1144,
          478,
          55,
          21,
          491,
          1211,
          4,
          11,
          355,
          207,
          4,
          8,
          541,
          786,
          28,
          25,
          631,
          345,
          3,
          5,
          316,
          265,
          36,
          9,
          76,
          241
         ],
         "yaxis": "y"
        },
        {
         "customdata": [
          [
           null
          ]
         ],
         "hovertemplate": "Title=Global citizenship education to prevent violent extremism<br>ID=%{x}<br>Likes_y=%{y}<br>Comment=%{customdata[0]}<extra></extra>",
         "legendgroup": "Global citizenship education to prevent violent extremism",
         "marker": {
          "color": "#19d3f3",
          "symbol": "circle"
         },
         "mode": "markers",
         "name": "Global citizenship education to prevent violent extremism",
         "showlegend": true,
         "type": "scattergl",
         "x": [
          "nhwVKKPDm4A"
         ],
         "xaxis": "x",
         "y": [
          null
         ],
         "yaxis": "y"
        },
        {
         "customdata": [
          [
           "They can't mention Islamists without mentioning the far right. Every. Single. Time."
          ],
          [
           "If i say I love my country I think multicultural is wrong and killing our ways of life. Now I'm a extremist?"
          ],
          [
           "This will be used against the British people that are upset with the governments behaviour."
          ],
          [
           "What about far left 🤔"
          ],
          [
           "The political weakness defending our country and culture is absolutely sickening."
          ],
          [
           "Some people are left.\nSome people are right.\nSome people are neither.\nThere are more extremist far left than far right.We see this every weekend with the pro hamas marches.\nSunak is pointing in the wrong direction."
          ],
          [
           "Two things you may have noticed:\n1. The law is never applied equally. \n2. Why do they always want new and vaguer laws rather than using the abundance of existing ones?"
          ],
          [
           "Where are the far right?"
          ],
          [
           "Never mention the extreme left"
          ],
          [
           "Instead of changing the definition of words. Deal with the problem. It's designed to muddy the waters."
          ],
          [
           "I wouldn’t trust this government to define a ham sandwich 🥪"
          ],
          [
           "The mainstream media have gone extreme left….. when they say far right they meant the centre left"
          ],
          [
           "\"intolerance\" is going to get you classified as an extremist now?\nMaybe being \"impatient\" or \"slightly grumpy\" should be slapped on the list too?\nThis is a subjective, moral and political judgement.\nWhat if youre a Christian and you dont believe in gay marriage? Do you go to jail for merely expressing that?\nThis is way beyond the remit of government."
          ],
          [
           "Name a far right group..."
          ],
          [
           "The nasty far right will get arrested for eating a breakfast in London or daring to celebrate your children’s birthdays 😂"
          ],
          [
           "Playing around with language isn't going to change things. Dump the hate crime BS, and let's rely on the laws that have governed this land for centuries. What's lacking is not new definitions, but the backbone to enforce the law."
          ],
          [
           "Where are the far right groups?!!! The farmers for instance. What about the Far Left."
          ],
          [
           "We are so close to a Islamic blasphemy law"
          ],
          [
           "KKK used to be far right. Now it's the average working person who loves his country. Utter BS."
          ],
          [
           "FREE ENGLAND 🏴󠁧󠁢󠁥󠁮󠁧󠁿\n\nis that extreme now?"
          ],
          [
           "This government seems pretty extreme to me!"
          ],
          [
           "We all know who it will really target."
          ],
          [
           "The list of Far right groups is going to be either very small or there just gonna name groups that havent existed since the 1990's"
          ],
          [
           "Where and who are the far right"
          ],
          [
           "Rishi was not voted in by the public, and I would place money on it that if a vote was done, he would not have been PM. he is weak and had strings attached to him before he even took office."
          ],
          [
           "In the last these islamist play victim card and blame others ..."
          ],
          [
           "Vote for reform."
          ],
          [
           "No extreme left?"
          ],
          [
           "Far right never seen them"
          ],
          [
           "Time for Sunak to go"
          ],
          [
           "“accuse your enemy of what you are doing, as you are doing it to create confusion”.\nKarl Marx (Highgate cemetery)"
          ],
          [
           "I'll take being called far right with pride! Everyone they call far right are the normal rational non woke good humans of the world...My Clan ❤"
          ],
          [
           "How nice! We also need definitions for hate, anger, freedom, intimidation, appeasement, ideology, religion, far right, far left ..."
          ],
          [
           "It's been all downhill for years now and there's no sign of it stopping. Awful people in charge running things. The people need to rise up and stop wasting time because there's no knight in shining armour coming to save the day."
          ],
          [
           "Just have FREE SPEECH,  not difficult,   JUST HAVE FREE SPEECH."
          ],
          [
           "This will be used against British citizens that do not want a certain ideology here"
          ],
          [
           "🔊WHATS EXTREME IS WE THE PEOPLE CAN HAVE OVER 10MILLION POUBDS A DAY SPENT ON PEOPLE CROSSING THE CHANNEL ILLEGALLY AND PUT UP IN HOTELS,AND WE CANNOT SPEND 10MILLION A DAY SPENT ON HELPING THE HOMELESS PEOPLE OF BRITAIN."
          ],
          [
           "Rishi being vague again. The prime minister who is rearranging the deck chairs on the titanic. \n\nOn any given subject he can't just draw a line in the sand and say, \"that side of the line is ok, but the other side isn't\". \n\nThe police will be even more confused, the marches will go on and you will see people's actions carry on getting worse. \n\nIt doesn't matter what the subject, as bad as the country gets, rishi does nothing. \n\nRoll on reform."
          ],
          [
           "If your talking about intolerance and hate, what about far left.... or even slightly left? I dont think I've seen a less intolerant group than the modern liberal left."
          ],
          [
           "This literally criminalises English nationalism in the nation of England, my grandfather didn’t fight for this, I certainly didn’t vote for this."
          ],
          [
           "I was waiting for the last one, intolerance, ok, so who dictates what is intolerance is and what the line is."
          ],
          [
           "They can't just change the definitions of words to make them fit with their rhetoric. That's like the kind of thing kids do."
          ],
          [
           "Talk,talk ,talk how about some positive  action and get this mess sorted out believe it or not that is what WE THE TAX PAYERS EMPLOY YOU FOR ,NOT UP TO IT THEN GET OUT"
          ],
          [
           "No doubt they will do their best not to include anything islamic....."
          ],
          [
           "Whatever happened to \"I disagree with what you are saying but I'll defend to the death your right to say it\".\n\nWe all know government will abuse this power to silence their critics. \n\nLabour in particular will go after anyone who believes there are only two genders or men and women are different."
          ],
          [
           "Usual cowardly, spineless response."
          ],
          [
           "MPs on £86,000 per year plus EXPENSES £££££££££££ What about the poor WASPI WOMEN? Pay them what they are owed. NOW!!!!"
          ],
          [
           "This is very worrying for the UK.  We are getting laws that are against Free Speech.\nAnyone who isn't liberal or socialist is already labelled as \"Far Right\".\n\nWho decides what is extremism or what is acceptable speech?"
          ],
          [
           "It is a very sad indicement that only 3% of the population pays inheritance tax, it just goes to show that 97% of the population almost own nothing to pass down to the next generation, and the divide between rich and poor has widened much more than we are led to believe."
          ],
          [
           "well its politics for doing nothing"
          ]
         ],
         "hovertemplate": "Title='Extremism' gets a new 'controversial' definition: 'where do you draw the line?'<br>ID=%{x}<br>Likes_y=%{y}<br>Comment=%{customdata[0]}<extra></extra>",
         "legendgroup": "'Extremism' gets a new 'controversial' definition: 'where do you draw the line?'",
         "marker": {
          "color": "#FF6692",
          "symbol": "circle"
         },
         "mode": "markers",
         "name": "'Extremism' gets a new 'controversial' definition: 'where do you draw the line?'",
         "showlegend": true,
         "type": "scattergl",
         "x": [
          "GlgldvsmbwU",
          "GlgldvsmbwU",
          "GlgldvsmbwU",
          "GlgldvsmbwU",
          "GlgldvsmbwU",
          "GlgldvsmbwU",
          "GlgldvsmbwU",
          "GlgldvsmbwU",
          "GlgldvsmbwU",
          "GlgldvsmbwU",
          "GlgldvsmbwU",
          "GlgldvsmbwU",
          "GlgldvsmbwU",
          "GlgldvsmbwU",
          "GlgldvsmbwU",
          "GlgldvsmbwU",
          "GlgldvsmbwU",
          "GlgldvsmbwU",
          "GlgldvsmbwU",
          "GlgldvsmbwU",
          "GlgldvsmbwU",
          "GlgldvsmbwU",
          "GlgldvsmbwU",
          "GlgldvsmbwU",
          "GlgldvsmbwU",
          "GlgldvsmbwU",
          "GlgldvsmbwU",
          "GlgldvsmbwU",
          "GlgldvsmbwU",
          "GlgldvsmbwU",
          "GlgldvsmbwU",
          "GlgldvsmbwU",
          "GlgldvsmbwU",
          "GlgldvsmbwU",
          "GlgldvsmbwU",
          "GlgldvsmbwU",
          "GlgldvsmbwU",
          "GlgldvsmbwU",
          "GlgldvsmbwU",
          "GlgldvsmbwU",
          "GlgldvsmbwU",
          "GlgldvsmbwU",
          "GlgldvsmbwU",
          "GlgldvsmbwU",
          "GlgldvsmbwU",
          "GlgldvsmbwU",
          "GlgldvsmbwU",
          "GlgldvsmbwU",
          "GlgldvsmbwU",
          "GlgldvsmbwU"
         ],
         "xaxis": "x",
         "y": [
          287,
          257,
          159,
          171,
          143,
          62,
          91,
          110,
          49,
          80,
          46,
          93,
          67,
          42,
          22,
          44,
          46,
          24,
          14,
          24,
          44,
          47,
          40,
          62,
          25,
          33,
          22,
          35,
          28,
          16,
          14,
          12,
          28,
          12,
          11,
          10,
          13,
          20,
          15,
          10,
          11,
          11,
          16,
          8,
          8,
          4,
          6,
          6,
          11,
          12
         ],
         "yaxis": "y"
        },
        {
         "customdata": [
          [
           "Nice animation, good work, let me think on the dynamics of being involved in an extremist ideology."
          ],
          [
           "sharing, Justice and Peace for All"
          ],
          [
           "why is the blind man begging ? :("
          ],
          [
           "That dog was awesome"
          ],
          [
           "Hi tian lok"
          ]
         ],
         "hovertemplate": "Title=Terrorism and Violent Extremism<br>ID=%{x}<br>Likes_y=%{y}<br>Comment=%{customdata[0]}<extra></extra>",
         "legendgroup": "Terrorism and Violent Extremism",
         "marker": {
          "color": "#B6E880",
          "symbol": "circle"
         },
         "mode": "markers",
         "name": "Terrorism and Violent Extremism",
         "showlegend": true,
         "type": "scattergl",
         "x": [
          "-y_TgqkHKaY",
          "-y_TgqkHKaY",
          "-y_TgqkHKaY",
          "-y_TgqkHKaY",
          "-y_TgqkHKaY"
         ],
         "xaxis": "x",
         "y": [
          0,
          0,
          0,
          1,
          0
         ],
         "yaxis": "y"
        },
        {
         "customdata": [
          [
           "WATCH NEXT 👉Colombia's Bloody Cocaine Civil War Might Be Ending - https://youtu.be/wZtkrtODiGU"
          ],
          [
           "I can't be the only one feeling like I'm too emotionally too tired for another \"unprecedented\" and divisive election season. I'm so sick of it all...and I can't see it getting any better. What a time to be alive."
          ],
          [
           "If you want sanity again, reinstate the FCC’s Fairness Doctrine of 1949 that required  unbiased truthful reporting.  No opinion or editorial spin allowed.  Reagan repealed it in 1987."
          ],
          [
           "Convenient timing of this video coming out before midterms."
          ],
          [
           "\"Some guy on the internet that I have never met, and who does not even reveal his real name, said something that I have no evidence for, so I'm going to repeat it.\" Margery Taylor Green."
          ],
          [
           "With all this divisiveness, I think it’s time to get rid of the two party system"
          ],
          [
           "my grandfather and all of his friends said when we are all dead this country is going to realize how fucked up the government is and someone will make a stand to change this country forever and its happening right now as we speak"
          ],
          [
           "There was a time where we looked up to that country.."
          ],
          [
           "Can we just like…look at the policies our candidates are proposing. Why are we always so divided by groups. Doesn’t that defeat the whole purpose of voting when we’re split into factions like this."
          ],
          [
           "politics are like gangs that separate us from solving problems."
          ],
          [
           "At this rate, Late 2023/2024 is gonna be WILD."
          ],
          [
           "The Funny thing is if we had Rank choice voting - probably none of this would be happening. SMH"
          ],
          [
           "\"The ideal subject of totalitarian rule is not the convinced Nazi or the dedicated communist, but people for whom the distinction between fact and fiction, true and false, no longer exists.\" \r\n~Hannah Arendt"
          ],
          [
           "Thank you YouTube and Facebook for helping people self radicalize while making a lot of money."
          ],
          [
           "\"IT'S A US AGAINST US, AGAINST THEM.\""
          ],
          [
           "How many times did this guy say ‘far’ right? Lol"
          ],
          [
           "Can we make it illeagle for politicians to lie"
          ],
          [
           "American politics died a long time ago but it resurrected as a stinking, rotting zombie."
          ],
          [
           "American really needs a third choice to vote for"
          ],
          [
           "My mom saw this and said the country always been like this, shes 74 from Alabama."
          ],
          [
           "This is why it's so important to put an end to the 24 hour new cycle. Everyone ends up focusing on national news, and fixating on it, instead of focusing on the horrors brewing in their own back yard. Did you know that before the rise of the 24 hour cycle, people tended to vote more often?"
          ],
          [
           "It's bizarre that the \"biggest democracy of the world LOL\" doesn't have a judiciary for elections. I'm mean, I from an third country and we have a better laws regarding voting rights."
          ],
          [
           "Tow the party line comrade vice! 🙄"
          ],
          [
           "I wouldn't doubt it one bit that the U.S. is going to be split apart into the right-wing states and the left-wing states."
          ],
          [
           "This two party system is so ridiculous"
          ],
          [
           "Remember when people who couldn't face reality were put into care facilities?"
          ],
          [
           "If voting really mattered, they wouldn’t let us do it."
          ],
          [
           "Both sides have extremists, let's get that straight right now. So just calling out just one side, you are saying that the other side is just fine and has no problems. Look at the whole picture and do get blinded and from there you can see which side is better."
          ],
          [
           "Man it's fucking wild watching what's going on in the states. \nFeels like how the ottomans must have felt watching the romans. \n\nOn a side note; it feels like american election season goes on FOREVER. Like, why are people campaigning with years left in their term?"
          ],
          [
           "And the \"law enforcement\" is allowing them to..."
          ],
          [
           "I'm from Ireland, for decades our country had a lot of what the hard-line conservatives in the US fantasize about. It's not what you think it will be, it'll be so much suffering, repression, poverty, tragedy and loss, a scar that your country will carry for a very, very long time."
          ],
          [
           "“One cannot worship the false God of nationalism and the God of Christianity at the same time.” ~ Martin Luther King Jr."
          ],
          [
           "We have this crap in Britain,  but no guns ,"
          ],
          [
           "Why don’t videos like this have the “Foreign actor attempting to influence US politics” tag??"
          ],
          [
           "Here comes Idiocracy"
          ],
          [
           "We can witness in real time that America is on the way of distraction downfall."
          ],
          [
           "There is a huge correlation between low IQ and voting conservative."
          ],
          [
           "We now know this to be a lie."
          ],
          [
           "Why is freedom of religion always about Christianity? Who’s stopping anyone from being part of the largest religious organization in the US?"
          ],
          [
           "Who ever  Lies the loudest"
          ],
          [
           "You need more parties you should have 20 different parties."
          ],
          [
           "He said if trump went away the radicals will stay and yes they will. “Once an idea gets out there it’s out there there’s no stopping it now”"
          ],
          [
           "i aint even american but this is happening everywhere and its down too goverments takin the piss"
          ],
          [
           "G.W. said there should not be partys like this for a reason 😂 now u see y💯"
          ],
          [
           "Even if they watch everything and make sure no fraud occurs, they STILL won't accept it when they lose."
          ],
          [
           "I'm just so fucking exhausted"
          ],
          [
           "At the 12:13 mark.... *That is Republican Q-whacko J.R. Majewski, the candidate who is running against Marcy Kaptur for the House of Reps seat, marching with the Proud Boys, wearing their colors and their patch. WHERE did this march takes place???*"
          ],
          [
           "I hate that we only have 2 choices... and the 2 choices are just deplorable."
          ],
          [
           "lunatic fringe we know you're out there and we're wise to you this time, we won't let you kill the laughter."
          ],
          [
           "The press must grow day in and day out - it is our Party's sharpest and most powerful weapon.\nJoseph Stalin"
          ]
         ],
         "hovertemplate": "Title=Far-Right Extremists are Infiltrating the US Elections | Decade of Hate<br>ID=%{x}<br>Likes_y=%{y}<br>Comment=%{customdata[0]}<extra></extra>",
         "legendgroup": "Far-Right Extremists are Infiltrating the US Elections | Decade of Hate",
         "marker": {
          "color": "#FF97FF",
          "symbol": "circle"
         },
         "mode": "markers",
         "name": "Far-Right Extremists are Infiltrating the US Elections | Decade of Hate",
         "showlegend": true,
         "type": "scattergl",
         "x": [
          "gG6UcVaQZYI",
          "gG6UcVaQZYI",
          "gG6UcVaQZYI",
          "gG6UcVaQZYI",
          "gG6UcVaQZYI",
          "gG6UcVaQZYI",
          "gG6UcVaQZYI",
          "gG6UcVaQZYI",
          "gG6UcVaQZYI",
          "gG6UcVaQZYI",
          "gG6UcVaQZYI",
          "gG6UcVaQZYI",
          "gG6UcVaQZYI",
          "gG6UcVaQZYI",
          "gG6UcVaQZYI",
          "gG6UcVaQZYI",
          "gG6UcVaQZYI",
          "gG6UcVaQZYI",
          "gG6UcVaQZYI",
          "gG6UcVaQZYI",
          "gG6UcVaQZYI",
          "gG6UcVaQZYI",
          "gG6UcVaQZYI",
          "gG6UcVaQZYI",
          "gG6UcVaQZYI",
          "gG6UcVaQZYI",
          "gG6UcVaQZYI",
          "gG6UcVaQZYI",
          "gG6UcVaQZYI",
          "gG6UcVaQZYI",
          "gG6UcVaQZYI",
          "gG6UcVaQZYI",
          "gG6UcVaQZYI",
          "gG6UcVaQZYI",
          "gG6UcVaQZYI",
          "gG6UcVaQZYI",
          "gG6UcVaQZYI",
          "gG6UcVaQZYI",
          "gG6UcVaQZYI",
          "gG6UcVaQZYI",
          "gG6UcVaQZYI",
          "gG6UcVaQZYI",
          "gG6UcVaQZYI",
          "gG6UcVaQZYI",
          "gG6UcVaQZYI",
          "gG6UcVaQZYI",
          "gG6UcVaQZYI",
          "gG6UcVaQZYI",
          "gG6UcVaQZYI",
          "gG6UcVaQZYI"
         ],
         "xaxis": "x",
         "y": [
          11,
          1067,
          306,
          63,
          23,
          489,
          12,
          32,
          304,
          453,
          3,
          46,
          234,
          477,
          137,
          56,
          6,
          183,
          98,
          1,
          201,
          179,
          2,
          8,
          40,
          113,
          4,
          3,
          262,
          2,
          147,
          221,
          1,
          4,
          113,
          30,
          2,
          2,
          16,
          15,
          4,
          1,
          2,
          7,
          80,
          2,
          1,
          30,
          7,
          2
         ],
         "yaxis": "y"
        },
        {
         "customdata": [
          [
           "It is highly important to understand how extremism works, and it is even more important to know that is possible to run away from that. Thank you very much"
          ],
          [
           "Thanks Robert! Very instructive speech."
          ],
          [
           "am rolling out a CVE program in kenya in an urban setting which is home the most dreaded youth gang THE GAZA and seeking partners to work with and also seeking platforms to speak out on my first hand experiences regarding run ins,threats,confessions of enrollment  and change stories"
          ],
          [
           "Cool!"
          ],
          [
           "Recently, ‘60 Minutes’ reported on the genocide of the Yazidi Christians by ISIS, saying: “ISIS sees the Yazidis as devil worshippers, and their policy here was total annihilation.” This was the first time I realized that ISIS is driven by a religious ideology, and I immediately thought of the Bible account of Joshua destroying various Canaanite cities, killing every living thing within, based on a belief system. Learning that violent extremist groups, such as ISIS, are motivated by black and white, Us Versus Them thinking and a sense of moral superiority, I realized that the religious organization in which I was raised (Jehovah’s Witnesses) is motivated by the very same things. The JW organization has become increasingly radicalized over the years, first shunning persons who were disfellowshipped for unchristian practices; then ostracizing and shunning exemplary Christians (even family members) who voluntarily leave the religion for conscientious reasons, such as Watchtower teachings which conflict with the Bible. Clearly, Jehovah’s Witnesses are a religious cult which destroys families through emotional coercion. I was a JW for 47 years, and I speak from personal experience."
          ],
          [
           "I am sick of both left and right extremism."
          ],
          [
           "Don’t say society, say civilization."
          ]
         ],
         "hovertemplate": "Title=A Way Out From Violent Extremism | Robert Örell | TEDxVilnius<br>ID=%{x}<br>Likes_y=%{y}<br>Comment=%{customdata[0]}<extra></extra>",
         "legendgroup": "A Way Out From Violent Extremism | Robert Örell | TEDxVilnius",
         "marker": {
          "color": "#FECB52",
          "symbol": "circle"
         },
         "mode": "markers",
         "name": "A Way Out From Violent Extremism | Robert Örell | TEDxVilnius",
         "showlegend": true,
         "type": "scattergl",
         "x": [
          "CNIgKsb1QbA",
          "CNIgKsb1QbA",
          "CNIgKsb1QbA",
          "CNIgKsb1QbA",
          "CNIgKsb1QbA",
          "CNIgKsb1QbA",
          "CNIgKsb1QbA"
         ],
         "xaxis": "x",
         "y": [
          3,
          0,
          3,
          0,
          6,
          0,
          2
         ],
         "yaxis": "y"
        },
        {
         "customdata": [
          [
           "I feel so lucky that my grandparents chose to leave Pakistan and come to India at the time of partition"
          ],
          [
           "that's why they say little knowledge is more dangerous.."
          ],
          [
           "If he went to India there are other holy men who teach peacefully. Not all are walking around with AK47s. Just the Islamic jihadists in Pakistan. India is a diverse religious place and he could have sought out Hindus, Buddhists, Zoroastrians etc. and discussed without fear religion with them. Doubt if he could in Pakistan. Allah or nothing!"
          ],
          [
           "There are 2 options: either the quran legitimizes violence, or the quran is prone to ambiguous interpretations that MIGHT lead to violence. In either case, it is frightening."
          ],
          [
           "I really would like to appreciate your courage for getting out of that place and sharing your experiences, accepting your mistakes and talk openly. More power to you."
          ],
          [
           "This should have been published immediately. TED is about education and enlightenment, not about keeping listeners' heads in the sand. Very good video. :)"
          ],
          [
           "I read quran without knowing the meaning for years. Every village child in a Muslim country has this story. Qurans with meaning are rare in villages."
          ],
          [
           "In India you can't have AK47, he is confused between India and Pakistan. Though extremists are present in India, a lot of them but they can't have AK47."
          ],
          [
           "This is the first Muslim who I have heard from who hasn’t told rubbish (from my personal experience). Good on him for speaking up."
          ],
          [
           "First time I heard a true Muslim who is fortunately now not a Muslim but human . Impressive,great 👍"
          ],
          [
           "\"Radicalization is a process by which an individual comes to believe that violence in public spaces is acceptable. Once that person accepts that, they are an extremist.\"\n\nSuch a great clarification, and applicable to many groups in America."
          ],
          [
           "Stay blessed brother. WE THE NORTH. Thank you for sharing your story"
          ],
          [
           "Sir. Thank you for sharing it. \nHow to be extremists? \nBelieving so much into one political idea and religion."
          ],
          [
           "Why does this video have only 27402 views? I mean this video can change people....youtube has to do something getting the write word out will change the world."
          ],
          [
           "Yo where are those guys who preach that it is a religion of \"piece\"😂😂"
          ],
          [
           "Notice how he’s says an extremist is “once they accept violence in a public place” Really, that’s all? Not the other intolerant beliefs Islam teaches and hating the infidel?"
          ],
          [
           "The only thing required; \"there's no ultimate truth\".  No ultimate book. There are other truths in the world. Be rational. Use your mind. Be agnostic!"
          ],
          [
           "Why islamic countries like Pakistan do not do anything about extrimism? They know about their schools, their training camps, their leaders. Yet they sit and look at them grow."
          ],
          [
           "Thanks for sharing your story and perspective."
          ],
          [
           "That beard Is VERY extreme!"
          ],
          [
           "Your love affair with afterlife is a problem"
          ],
          [
           "Thankyou for your story! Very insightful."
          ],
          [
           "I was playing PlayStation while listening to this and it was so good I actually managed to multitask"
          ],
          [
           "Thank you for your service!"
          ],
          [
           "You traveled to India and Pakistan and met the Jihadi Group,  but u didn't mention where exactly u met them?"
          ],
          [
           "Wow Ted present these so called muslims and invite them to give talks whereas Majority of muslims would hate this man for his talks"
          ],
          [
           "The mere mention of India scared me. India being neighbor to Pakistan or being a place of many muslims doesn't have anything to do with what he was mentioning. India is not a place for Islamic extremists. People of every religion on the globe coexist peacefully and moreover people of all religions (including muslims) take up high positions like judges and even politicians. India is for peace. The End."
          ],
          [
           "He falsely use name of India. \nHe went to afghanistan and Pakistan... Dont mislead the world about  the India."
          ],
          [
           "So you want to survive? Study your enemy .  Know how  your enemy works. Your enemy is not always ugly at first appearance. Realized that there were Empires before you who thought they would last forever. Countries generally implode, they don't explode. Whatever you do, don't close your eyes and go to sleep in the middle of a battle pretending that everything is beautiful and will remain status quo.\nThe most important of all is... Build your life  and country on the Rock.\nPsalms 127\nUnless the Lord builds the house, They labor in vain who build it; Unless the Lord guards the city, The watchman keeps awake in vain."
          ],
          [
           "Islam should  change the concepts of God, humans and heaven.\n FIRST, God is not someone up there called by only one name Allah and is  only for 'believers' but he is the universal, infinite soul of  super-intelligent , superconsciousness everywhere within his creation from which everything emanated from billions of years ago and will one day the universe will dissolve back into this superconsciousness.  Think of black holes in the universe where galaxies and stars get sucked into nothingness gradually.  God is eternal.  He is also within each and every one of us in the core or 'nucleus'  of our individual consciousness or soul, waiting to be awakened within.  God is not a wrathful, angry  punisher but a pure  lover who loves all his souls unconditionally. He is  absolute truth and pure all-inclusive, immanent love. \nSECOND, we are not this body but we are actually  individual, intelligent consciousness or souls who take on different bodies to experience the temporariness of matter and  ultimately realize the permanence of merging our consciousness with the superconsciousness. .  We  are also eternal as souls.   When clothed in a material body, we have EGO which is  actually an extension of matter. Matter is made of atoms  and molecules that cling to each other giving rise to the  'I' ness and 'mine' ness in us. Ego produces anger, greed, lust, avariciousness, stealing, grabbing, not-sharing, hatred etc.  All scriptures tell man to overcome one's ego to see the spiritual in us and around us.  'Kill the non-believer' verses should not be interpreted literally but metaphorically to mean kill your ego to see the true spiritual self and the true spiritual, universal God. Kill your ego at the 'altar of God'.  We are limited by our material senses to comprehend the infinite and hence  man will naturally have different concepts of the infinite. Hence it is natural to have many beliefs. We each  need to seek  him within to comprehend the infinite, not by killing  'non-believers' but by seeking him within each and everyone of us.\n THIRD, there is no heaven or hell. There is only heavenly states or hellish states of mind. Heaven and hell are actually  on earth by what we humans make of our lives and the  lives of all others by loving everyone and all of his creation in sharing the abundance given by him.\n\nThink universal. Not narrow and parochial."
          ],
          [
           "This video needs more views given  the grave situation in the Middle East today."
          ],
          [
           "I respect that you showed up and speak  about your story, The extremists doesn’t know that they harm the Islamic religion by their acts and tarnish its reputation. God, who we believe that he is the most merciful and the most compassionate, does not accept that we acts and do actions in his name and we think that we are doing it for God’s sake, while that actions in the same time its make others scare , feel uncomfortable or guides them to hate Islam,\n  And please you have to stop gathering in groups and shouting Takbeeer takbeeer WTH is going on?! . Who told you that Muslims have to gather and shout takbeer takbeer using God’s name to prove something or get self benefits ? If you want to say god is the greatest You can say Allahw akbar in your heart or in your normal sound ! why you are shouting and bothering others?! . There is no need for these scenes that make People hate us and hate hearing allah Akbar , especially People of the book. Actually I do not live in a European or any western country, but I have all respect for them, so you have to respect that they welcome you and their countries was for you the Safe place and became home so keep it safe and please do not be Parrots, stop repeating of what you have been taught and indoctrinated keep researching and don’t accept to be forced to do things.\nThis is from Quran and God saying to prophet Mohammed that do not join any groups and do not do ones and you don’t belong to them , Muslims have to be normal don’t make groups .\n\nIndeed, those who have divided their religion and become sects - you, [O Muḥammad], are not [associated] with them in anything. Their affair is only [left] to Allah; then He will inform them about what they used to do.\nAl-An’am 159"
          ],
          [
           "Sounds like such a loving religious identity."
          ],
          [
           "The lesson: Not everyone is like him. And certain religion is associated with extremism and terrorism. \nPrevention is always better than cure."
          ],
          [
           "Thank you for your education. It was incredibly enlightening."
          ],
          [
           "If such terrible things can happen in West.... think about islamic nations"
          ],
          [
           "lol only 68k views , no one wants to see the real truth behind todays islam"
          ],
          [
           "Let the world be filled is love. Let the love be only colour, only religion... only race... only caste..... and only culture........ ❤️"
          ],
          [
           "Extremism is not a problem if your core beliefs are truly non-violent"
          ],
          [
           "Nothing we didn't already know...... a very, very dangerous bunch of ppl we have invited into our homes...."
          ],
          [
           "This was interesting information."
          ],
          [
           "Thank you 33million+ gods i am sooo luck to b born in INDIA.\nhow dum r stupid i may b atleast I'm not that idiot not to see or appreciate our colourful culture,wisdom of ages ,saints and sages who walkupon this geography,  ur tolerance ...... U r really a mother\n♥️🇮🇳"
          ],
          [
           "I love this dude"
          ],
          [
           "Ultimately, it boils down to the unfortunate fact that without Islam the world would be more peaceful. This much for the great religion."
          ],
          [
           "He is doing Al taqiya which in Islam means cleaning the image, this too is a part of jihad which many people don't know.....If he could have converted to any other religion"
          ],
          [
           "Canada guys.. Alarming time for you."
          ],
          [
           "This is how we should approach religion"
          ],
          [
           "I could never understand one thing\nThe countries where Muslim  are leading better life than their counterpart in Islamic countries but they want to turn these countries like USA. ENGLAND India Australia etc to Islamic nation where life of an average Muslim is so pathetic at times?\nWhy?\n\nEven if I am offered good money I will never migrate to such countries except Malaysia which is an open country on the contrary to other Muslim nation"
          ],
          [
           "You shouldn't say this is \"Islamic\" extremism. Extremist are the people who learn their religion not knowing anything of their own faith, no matter what the religion. It is a shame for those Islamic institutes who can't treat a child like a child and a person like a person.😔"
          ],
          [
           "but nobody will call  out the real issue ,islam teach jihad"
          ]
         ],
         "hovertemplate": "Title=An inside look at Islamic extremism | Mubin Shaikh<br>ID=%{x}<br>Likes_y=%{y}<br>Comment=%{customdata[0]}<extra></extra>",
         "legendgroup": "An inside look at Islamic extremism | Mubin Shaikh",
         "marker": {
          "color": "#636efa",
          "symbol": "circle"
         },
         "mode": "markers",
         "name": "An inside look at Islamic extremism | Mubin Shaikh",
         "showlegend": true,
         "type": "scattergl",
         "x": [
          "RK8zb8dA4G4",
          "RK8zb8dA4G4",
          "RK8zb8dA4G4",
          "RK8zb8dA4G4",
          "RK8zb8dA4G4",
          "RK8zb8dA4G4",
          "RK8zb8dA4G4",
          "RK8zb8dA4G4",
          "RK8zb8dA4G4",
          "RK8zb8dA4G4",
          "RK8zb8dA4G4",
          "RK8zb8dA4G4",
          "RK8zb8dA4G4",
          "RK8zb8dA4G4",
          "RK8zb8dA4G4",
          "RK8zb8dA4G4",
          "RK8zb8dA4G4",
          "RK8zb8dA4G4",
          "RK8zb8dA4G4",
          "RK8zb8dA4G4",
          "RK8zb8dA4G4",
          "RK8zb8dA4G4",
          "RK8zb8dA4G4",
          "RK8zb8dA4G4",
          "RK8zb8dA4G4",
          "RK8zb8dA4G4",
          "RK8zb8dA4G4",
          "RK8zb8dA4G4",
          "RK8zb8dA4G4",
          "RK8zb8dA4G4",
          "RK8zb8dA4G4",
          "RK8zb8dA4G4",
          "RK8zb8dA4G4",
          "RK8zb8dA4G4",
          "RK8zb8dA4G4",
          "RK8zb8dA4G4",
          "RK8zb8dA4G4",
          "RK8zb8dA4G4",
          "RK8zb8dA4G4",
          "RK8zb8dA4G4",
          "RK8zb8dA4G4",
          "RK8zb8dA4G4",
          "RK8zb8dA4G4",
          "RK8zb8dA4G4",
          "RK8zb8dA4G4",
          "RK8zb8dA4G4",
          "RK8zb8dA4G4",
          "RK8zb8dA4G4",
          "RK8zb8dA4G4",
          "RK8zb8dA4G4"
         ],
         "xaxis": "x",
         "y": [
          973,
          382,
          320,
          432,
          87,
          243,
          76,
          93,
          10,
          275,
          345,
          41,
          42,
          49,
          17,
          67,
          90,
          14,
          27,
          38,
          61,
          10,
          20,
          6,
          28,
          6,
          56,
          30,
          11,
          17,
          1,
          69,
          6,
          4,
          1,
          5,
          8,
          5,
          24,
          20,
          6,
          5,
          6,
          48,
          16,
          9,
          3,
          9,
          15,
          6
         ],
         "yaxis": "y"
        },
        {
         "customdata": [
          [
           "So are Tory MPs banned from meeting with Truss and Braverman?"
          ],
          [
           "Gove names five groups and then says they will be investigated. Shouldn't he have investigated them BEFORE he names them? Can't this government do anything right?"
          ],
          [
           "Michael Gove going to listen to experts?\nSome mistake surely?"
          ],
          [
           "I'm not a fan of Gove, he seems like a snake."
          ],
          [
           "Gove really does make the skin crawl. When he said \"Consensual\" I shuddered in revulsion."
          ],
          [
           "Am I the only person who thinks the likes of truss, Patel, bravermann and a few others in the tory party were already extremists but nothing was done so how can we expect the tories to act any differently now."
          ],
          [
           "So the Gov't gets to simply 're-define' a term as significant as 'extremism'?\r\n\r\nWhat could possibly go wrong??"
          ],
          [
           "I can't help thinking that if we were less extreme in our foreign policy, there might be less extremism. \nSimples."
          ],
          [
           "The party that accepts millions in donations from someone who espouses shooting a black female MP and expressing hate toward all black women now takes it upon itself to define extremism.  \n\nI wonder how they would have responded had a well know Muslim personality expressed the same views.  Somehow I think that a mere half arsed apology wouldn't cut it."
          ],
          [
           "Grove is dangerous! Just ask Baroness Warsi"
          ],
          [
           "Because the Tories are running scared but to late for them"
          ],
          [
           "Look on the bright side, it gives Labour the levers to shut out those Tufton Street weirdos and keep them off the bbc from day one if they want :-)"
          ],
          [
           "Gove is part of the extremists,part of a government that chooses to point out our differences instead of our similarities.\nDivide and rule has been used by politicians for decades."
          ],
          [
           "So the tories have just banned meeting each other"
          ],
          [
           "Please also explain how funding genocide is not also considered extremism?"
          ],
          [
           "I hope they apply these reforms to themselves first a foremost."
          ],
          [
           "Secretary for State can look 2 directions at the same time Chameleon?"
          ],
          [
           "The whole of the house of commons is full of clowns!"
          ],
          [
           "Go Angela Rayner she never disappoints"
          ],
          [
           "So why did it take 13 years to decide to implement this. Its 190% not a political soundbite for an election is it!?"
          ],
          [
           "The UK desperately needs a total reformation of our political system that makes it democratic, representative, dynamic, modern and not decided by the woeful MPs of both parties.  The people of the UK have made it clear that they support a ceasefire in Gaza now and yet here we are."
          ],
          [
           "Rayner would make an awesome PM."
          ],
          [
           "So they try to change rawanda into a safe country, and now want to change the meaning of extremism welxome to fascist britian everyone"
          ],
          [
           "I was born in 1958, but I'm still not sure what 'our values' are. Or was she referring to the values of the Uniparty, banks, and lobbyists.Not to mention our corrupt MP's"
          ],
          [
           "Maybe I missed something, but since when does this bill fall under the \"Levelling up\" department?\nShould this not be coming from the Home Office?"
          ],
          [
           "UK supporting a genocide and ignoring international law around genocide doesn't get more extreme than that"
          ],
          [
           "Talks in the House of commons are just a game of words to evade from truth and realities of world's problems"
          ],
          [
           "\"that was a good plan, minister, but it isn't restrictive enough\" should not be a response warranting applause."
          ],
          [
           "This is good to hear from Angela. Hopefully Diane Abbot will be invited to take the floor too.Women need to support each other to combat the cancelling of women.Yesterday the Speaker ignored Diane Abbot, even though she stood 46 times.Wearing a bright red jacket, Hoyle managed to ignore her."
          ],
          [
           "Yeah, this is all well and good whilst extremism defines the things you don't like in society. But then, just imagine when a political party is getting widespread criticism for a change in policy? As Jack Sparrow says - \"We've agreed to the principle, now we're just haggling over price\". We've agreed a mechanism for dealing with the bogey men of the zeitgeist, now we can haggle over who the bogey men are - indefinitely and in perpetuity. As if democracy isn't already dead enough in this country - there goes in yet another nail."
          ],
          [
           "Why do we think resentment towards our MPs is growing?"
          ],
          [
           "I'd like to know how not engaging with people is going to reduce extremism, isolation is more likely to increase the risk. I would point to Northern Ireland where engagement with an extremist organisation, the IRA which actually led to a peace which has held for over a decade."
          ],
          [
           "and then Labour abstain on the vote..........."
          ],
          [
           "So well delivered and in a professional way that was respectful, without being aggressive, a really impressive example of delivering straight assessment and not being infilled with word salad that means nothing, explains nothing and hides nothing it is a display of true example of truth in attempting to show what the Labour Party want to solve and move the country to a better place, a place that will make all U.K. residents proud to be British! Unlike the response that was the typical BS from Gove."
          ],
          [
           "Mr Gove has provided us with the most accurate and complete definition of his Tory government ."
          ],
          [
           "The ruse of division tories sow is a mask for what is really about have and have not, or top and bottom. Those at the top create division and sow fights amongst ourselves as the have nots so we're busy blaming each other and don't truly hold them to account for their ever more visible corruption. Believe it."
          ],
          [
           "Was it the light or did I see some white powder on Goves upper lip?"
          ],
          [
           "notice the little bit he said about funding groups, yet another loophole for them to fill up their mates pockets. We need Proportional Rep NOW"
          ],
          [
           "So the housing secretary defines extremism 😂"
          ],
          [
           "“Our values” rite out the window years ago!! The uk is not the same uk we once knew"
          ],
          [
           "Well said Angela putting fascist gove, in his place"
          ],
          [
           "Two whole weeks to devise this new definition, without consulting any experts or anyone who works with extremists or the police or lawyers. And now government ministers can get to decide who is an extremist while they're eating their cornflakes without any independent oversight. Should we just trust them not to name people whose opinions they just don't like?"
          ],
          [
           "With the amount of notes he was taking I though he would of given real answers for a moment but we got a short wind we'll show our working we working on crab like he's be told by math teacher to show your working and not just answers. At least we(the public) didn't get mocked by the parties in this exchange"
          ],
          [
           "I love that the video headline says Angela Rayner addressing “Tory extremism” , it certainly needs addressing!!😂"
          ],
          [
           "Oh dear, how terrible it is that there's been a leak. I will investigate -myself- ... I,  I,  mean the source of the leak ... immediately."
          ],
          [
           "If only MP's could perform as well as the BS they talk! We would not be in this mess."
          ],
          [
           "One does wonder if this legislation is the slight of hand reason comments made in 2019 have surfaced this week"
          ],
          [
           "Maybe the ERG will be deemed an extreme group and lose their public funding. 😂😂😂😂😂"
          ],
          [
           "Well that's my political position classified as \"extreme\"."
          ],
          [
           "The levelling up department is defunct, there'll never be levelling up."
          ]
         ],
         "hovertemplate": "Title=Angela Rayner picks apart new Tory extremism definition in response to Michael Gove<br>ID=%{x}<br>Likes_y=%{y}<br>Comment=%{customdata[0]}<extra></extra>",
         "legendgroup": "Angela Rayner picks apart new Tory extremism definition in response to Michael Gove",
         "marker": {
          "color": "#EF553B",
          "symbol": "circle"
         },
         "mode": "markers",
         "name": "Angela Rayner picks apart new Tory extremism definition in response to Michael Gove",
         "showlegend": true,
         "type": "scattergl",
         "x": [
          "0kEucVXnKt0",
          "0kEucVXnKt0",
          "0kEucVXnKt0",
          "0kEucVXnKt0",
          "0kEucVXnKt0",
          "0kEucVXnKt0",
          "0kEucVXnKt0",
          "0kEucVXnKt0",
          "0kEucVXnKt0",
          "0kEucVXnKt0",
          "0kEucVXnKt0",
          "0kEucVXnKt0",
          "0kEucVXnKt0",
          "0kEucVXnKt0",
          "0kEucVXnKt0",
          "0kEucVXnKt0",
          "0kEucVXnKt0",
          "0kEucVXnKt0",
          "0kEucVXnKt0",
          "0kEucVXnKt0",
          "0kEucVXnKt0",
          "0kEucVXnKt0",
          "0kEucVXnKt0",
          "0kEucVXnKt0",
          "0kEucVXnKt0",
          "0kEucVXnKt0",
          "0kEucVXnKt0",
          "0kEucVXnKt0",
          "0kEucVXnKt0",
          "0kEucVXnKt0",
          "0kEucVXnKt0",
          "0kEucVXnKt0",
          "0kEucVXnKt0",
          "0kEucVXnKt0",
          "0kEucVXnKt0",
          "0kEucVXnKt0",
          "0kEucVXnKt0",
          "0kEucVXnKt0",
          "0kEucVXnKt0",
          "0kEucVXnKt0",
          "0kEucVXnKt0",
          "0kEucVXnKt0",
          "0kEucVXnKt0",
          "0kEucVXnKt0",
          "0kEucVXnKt0",
          "0kEucVXnKt0",
          "0kEucVXnKt0",
          "0kEucVXnKt0",
          "0kEucVXnKt0",
          "0kEucVXnKt0"
         ],
         "xaxis": "x",
         "y": [
          195,
          9,
          161,
          134,
          151,
          13,
          66,
          66,
          34,
          51,
          53,
          81,
          9,
          13,
          66,
          14,
          26,
          138,
          90,
          3,
          19,
          8,
          22,
          26,
          12,
          4,
          7,
          4,
          58,
          11,
          4,
          5,
          25,
          2,
          4,
          4,
          4,
          1,
          3,
          1,
          57,
          1,
          2,
          1,
          1,
          1,
          2,
          2,
          1,
          1
         ],
         "yaxis": "y"
        },
        {
         "customdata": [
          [
           "It will just be used against ordinary citizens criticising the government or other establishment organisations.  The march towards authoritarianism is picking up pace."
          ],
          [
           "There is enough law, the matter is implementation of the laws we already have."
          ],
          [
           "Its meant to misinterpreted,  the begining of the end"
          ],
          [
           "This will be used to control the public."
          ],
          [
           "If you don't agree with the prevailing narrative, any utterances to the contrary will be deemed extremism."
          ],
          [
           "To the people who wrote it, this is a feature, not a bug."
          ],
          [
           "It's anyone who doesn't agree with Rishi"
          ],
          [
           "The guest sounds like he has been lobotomized."
          ],
          [
           "What far right issues ? Like Tommy Robinson being arrested whilst having breakfast with his daughter ?"
          ],
          [
           "I'm pretty sure the definition of extremism goes by political far-right. Mainstream politicians and media will never associate it with, for example, political far-left or Islamic extremism. Or Jewish extremism."
          ],
          [
           "Its open to interpritation and misuse by intent. Its so the governement can choose when to decide if it meets their criteria when it suits them, so they can choose who to punish with it and who not to."
          ],
          [
           "The definition of extremism is in the eye of the beholder.  Some see those sitting in the roadway blocking traffic as heroes.  Other see them as idiots.  In politics the definition of extremism is who to attack to get you the most votes.  Some see those with nose rings as extremists.  A matter of opinion."
          ],
          [
           "One man's extremist, is another mans freedom fighter. Never forget that. As for the definition of Islamophobia, that depends if you're using the Iranian version or the Muslim Brotherhoods. Both are pretty much the same, both class any criticism of Islam politically or religiously as Islamophobic to silence debate or criticism. One way to define it, could be by calling it a bias against Muslims people but add criticism of Islam is classed as free speech under UK law, distinguishing it from informed criticism of an ideology. \n\nWhat I would like a journalist to ask Sunak. Is Britain a democracy?. If he says yes, then remind him nobody is obliged to align with any religion, unless definitive proof by a scientific method proves what is written is real. Basically scientifically prove there's a god. Until then agnostic and atheists must have rights also."
          ],
          [
           "Hold on what far right issues."
          ],
          [
           "Define far right?...."
          ],
          [
           "Why is he binging the far-right into it? It has nothing to do with the far-right. He is the worst person you could of brought on to discuss the issue."
          ],
          [
           "🎉🎉😂😂🎉😂🎉😂anti free speech"
          ],
          [
           "It took him just over 10 seconds to mention the \"far right\" issue 😂🤣😂🤣. And they don't even know that traditional British values are Christian values, wtaf, these 2 are a joke, with a terrible script 🙄"
          ],
          [
           "No one care"
          ],
          [
           "There aren't any extremists.......😂🎉😂🎉😂"
          ],
          [
           "I have just disliked and reported this channel for inciting racial hatred..."
          ],
          [
           "Anglophobia is bad. Wefophobia is fine."
          ],
          [
           "Please tell me what the far right issues are!"
          ],
          [
           "He is repeating the mantra of all the talking heads, about the pro Hamas protesters being mostly good people.  Seems like they have all been instructed in the talking points they must adhere to."
          ],
          [
           "Truncheons for the indigenous...nothing to see here for the \"peaceful religious inports, blm,jso,lgbt.. blah blah\"...is it me or is something way out of kilter in jolly old Blighty. 😂😂"
          ],
          [
           "Still waiting to see this far right extremism they talk of so much 🤷"
          ],
          [
           "Gove should be worried about coming out of his closet"
          ],
          [
           "It's to try to avoid Jewish extremism, which we witnessed so many of them"
          ],
          [
           "Flee flee Londistan."
          ],
          [
           "Imagine that a scouse socialist 😂😂😂"
          ],
          [
           "This is all to shut down criticism of Isreal"
          ]
         ],
         "hovertemplate": "Title=\"Tories New Definition Of Extremism Seems Open To Misinterpretation Or Misuse”<br>ID=%{x}<br>Likes_y=%{y}<br>Comment=%{customdata[0]}<extra></extra>",
         "legendgroup": "\"Tories New Definition Of Extremism Seems Open To Misinterpretation Or Misuse”",
         "marker": {
          "color": "#00cc96",
          "symbol": "circle"
         },
         "mode": "markers",
         "name": "\"Tories New Definition Of Extremism Seems Open To Misinterpretation Or Misuse”",
         "showlegend": true,
         "type": "scattergl",
         "x": [
          "QzdQNZd1X8s",
          "QzdQNZd1X8s",
          "QzdQNZd1X8s",
          "QzdQNZd1X8s",
          "QzdQNZd1X8s",
          "QzdQNZd1X8s",
          "QzdQNZd1X8s",
          "QzdQNZd1X8s",
          "QzdQNZd1X8s",
          "QzdQNZd1X8s",
          "QzdQNZd1X8s",
          "QzdQNZd1X8s",
          "QzdQNZd1X8s",
          "QzdQNZd1X8s",
          "QzdQNZd1X8s",
          "QzdQNZd1X8s",
          "QzdQNZd1X8s",
          "QzdQNZd1X8s",
          "QzdQNZd1X8s",
          "QzdQNZd1X8s",
          "QzdQNZd1X8s",
          "QzdQNZd1X8s",
          "QzdQNZd1X8s",
          "QzdQNZd1X8s",
          "QzdQNZd1X8s",
          "QzdQNZd1X8s",
          "QzdQNZd1X8s",
          "QzdQNZd1X8s",
          "QzdQNZd1X8s",
          "QzdQNZd1X8s",
          "QzdQNZd1X8s"
         ],
         "xaxis": "x",
         "y": [
          37,
          13,
          12,
          6,
          5,
          4,
          14,
          6,
          6,
          16,
          0,
          12,
          5,
          5,
          1,
          13,
          4,
          5,
          0,
          3,
          8,
          4,
          1,
          7,
          1,
          1,
          0,
          0,
          4,
          0,
          9
         ],
         "yaxis": "y"
        },
        {
         "customdata": [
          [
           "It will be used against us"
          ],
          [
           "First they try to ban protesting, now this. Vote them out"
          ],
          [
           "Extremism is being a White patriotic male."
          ],
          [
           "\"Tories redefine extremism in a vague way so they can apply it to people they don't like and not their donors,\""
          ],
          [
           "1984 was a warning not a manual"
          ],
          [
           "\"An ideology based on hate that seeks to undermine the rights of others\" describes the current government, does it not?"
          ],
          [
           "Can we arrest gov then ."
          ],
          [
           "And these idiots on the left say the conservatives are right wing 🤣🤣🤣🤣🤣"
          ],
          [
           "Extremist definition:\n\nAnyone with opposing views to Jeremy Vine and Gary Lineker."
          ],
          [
           "More of our rights gone... goodbye right to protest"
          ],
          [
           "The wording somehow describes a certain group of people perfectly, though something tells me it'll target an entirely different group of people for wrongthink"
          ],
          [
           "So when you give notice of a protest they don’t support - you will not be allowed."
          ],
          [
           "Notice how they showed English groups there non others like hamas supporters what a surprise governing and policing with yet again fear and favour for one side not shocking anymore"
          ],
          [
           "Will ALL religions and racial groups be included in this law?????"
          ],
          [
           "British democracy?  No policy by this government and even voted ty the MPs is the will of the people!"
          ],
          [
           "First they force you to take a shot, then they force you to think a certain way."
          ],
          [
           "Wow right there is imprisonment of people!!"
          ],
          [
           "The political establishment has created this current climate in the UK,so maybe they should be on the list?"
          ],
          [
           "They described themselves. EXACLTLY😂"
          ],
          [
           "Except if a Tory donor of £10million."
          ],
          [
           "We never voted for this"
          ],
          [
           "Just a measure to silence any form of dissent or go against the establishment's mantra'time they were voted out!.. 1:28"
          ],
          [
           "How come hate preachers from a certain religion of peace can spout their hatred yet silently praying or being a patriotic Briton is considered offensive and hateful?"
          ],
          [
           "From the guys pushing Scotland,Wales and Northern island towards independence"
          ],
          [
           "If we aren't willing to rise up then don't act stupid when the traitors do this."
          ],
          [
           "Politicians are evil."
          ],
          [
           "There goes free speech unless you agree with the government"
          ],
          [
           "Bring on the general elections."
          ],
          [
           "This country is becoming a dystopian nightmare 😢"
          ],
          [
           "No more Christianity I suppose"
          ],
          [
           "So they want to protect Democracy by stopping us discussing the lack of Democracy operating in this Country especially within  Parliament. 🤔🤣😂🤣"
          ],
          [
           "I hope I get my speech licence soon"
          ],
          [
           "1st step to social credit, if u on benefits stop posting on Facebook 😂😂😂😂"
          ],
          [
           "The power to delegitimise any opposition in the name of democracy."
          ],
          [
           "'Falls short of criminality' , things the government don't loke. A new definition to stop any protest. Tortalitarianism at its peak."
          ],
          [
           "So this will be added to the two tier democracy then?"
          ],
          [
           "funny how it's mostly aimed at.   Whites/males/christians/gamers/   native brits in all...   how very very odd...."
          ],
          [
           "They will probably blame Churches,the Salivation Army ,and poppy sellers !"
          ],
          [
           "Utterly ridiculous!"
          ],
          [
           "Feelings, nothing more than feelings….."
          ],
          [
           "If Mosques and Islamic Schools aren't at the top of the list for defunding ,\nwe know it's the kickback from the Indigenous population they are targeting .🎯"
          ],
          [
           "I'll say what I want, when I want"
          ],
          [
           "Democracy just means majority rule. The majority are almost always wrong. That is why we have had Labour and Conservative governments for over a hundred years. People need to stop following the majority and start thinking for themselves."
          ],
          [
           "Guess I'm an extremist then"
          ],
          [
           "Islam"
          ],
          [
           "Keep digging that hole government deeper and deeper and deeper"
          ],
          [
           "Basically describing Islam and the Koran"
          ],
          [
           "So if a mother speaks out about radical islamists destroying her loved country, she faces losing her child benefit etc..\nFreedom of speech means speech without consequences , but if there's benefit punishments for what you say, then this is clearly infringement on freedom of speech."
          ],
          [
           "gove's jackboots are showing"
          ],
          [
           "It’s only a threat to their Agenda."
          ]
         ],
         "hovertemplate": "Title=UK government unveils new extremism definition to tackle ‘challenge’ to British democracy<br>ID=%{x}<br>Likes_y=%{y}<br>Comment=%{customdata[0]}<extra></extra>",
         "legendgroup": "UK government unveils new extremism definition to tackle ‘challenge’ to British democracy",
         "marker": {
          "color": "#ab63fa",
          "symbol": "circle"
         },
         "mode": "markers",
         "name": "UK government unveils new extremism definition to tackle ‘challenge’ to British democracy",
         "showlegend": true,
         "type": "scattergl",
         "x": [
          "eU7f-9SR-hU",
          "eU7f-9SR-hU",
          "eU7f-9SR-hU",
          "eU7f-9SR-hU",
          "eU7f-9SR-hU",
          "eU7f-9SR-hU",
          "eU7f-9SR-hU",
          "eU7f-9SR-hU",
          "eU7f-9SR-hU",
          "eU7f-9SR-hU",
          "eU7f-9SR-hU",
          "eU7f-9SR-hU",
          "eU7f-9SR-hU",
          "eU7f-9SR-hU",
          "eU7f-9SR-hU",
          "eU7f-9SR-hU",
          "eU7f-9SR-hU",
          "eU7f-9SR-hU",
          "eU7f-9SR-hU",
          "eU7f-9SR-hU",
          "eU7f-9SR-hU",
          "eU7f-9SR-hU",
          "eU7f-9SR-hU",
          "eU7f-9SR-hU",
          "eU7f-9SR-hU",
          "eU7f-9SR-hU",
          "eU7f-9SR-hU",
          "eU7f-9SR-hU",
          "eU7f-9SR-hU",
          "eU7f-9SR-hU",
          "eU7f-9SR-hU",
          "eU7f-9SR-hU",
          "eU7f-9SR-hU",
          "eU7f-9SR-hU",
          "eU7f-9SR-hU",
          "eU7f-9SR-hU",
          "eU7f-9SR-hU",
          "eU7f-9SR-hU",
          "eU7f-9SR-hU",
          "eU7f-9SR-hU",
          "eU7f-9SR-hU",
          "eU7f-9SR-hU",
          "eU7f-9SR-hU",
          "eU7f-9SR-hU",
          "eU7f-9SR-hU",
          "eU7f-9SR-hU",
          "eU7f-9SR-hU",
          "eU7f-9SR-hU",
          "eU7f-9SR-hU",
          "eU7f-9SR-hU"
         ],
         "xaxis": "x",
         "y": [
          78,
          100,
          139,
          17,
          21,
          113,
          17,
          10,
          154,
          63,
          39,
          23,
          14,
          50,
          51,
          21,
          16,
          7,
          10,
          24,
          8,
          6,
          20,
          10,
          5,
          6,
          3,
          40,
          3,
          8,
          2,
          6,
          9,
          2,
          2,
          3,
          6,
          2,
          2,
          4,
          2,
          2,
          17,
          3,
          6,
          1,
          2,
          2,
          2,
          1
         ],
         "yaxis": "y"
        },
        {
         "customdata": [
          [
           "If you love your country , want to protect your culture , value family no doubt you'll be labelled as \"Far Right and an Exremist"
          ],
          [
           "Free society,, you can't even put a English flag up ,,what a joke ,"
          ],
          [
           "i Honestly Wouldn't Trust the Government or Gove to Run a Bath 😷"
          ],
          [
           "These new laws will only ever apply to actual british people who talk about things they are not supposed to notice."
          ],
          [
           "Basically, if you complain about what they are doing to to you and your country you will be a extremist. But not the actual extremists."
          ],
          [
           "THERE IS  NO  FAR  RIGHT..... WE ARE JUST RIGHT !!!!"
          ],
          [
           "In my 60 years living in Britain. I've never felt so disgusted with the state of this country. Sunak needs to go immediately. I don't recognise this so called government as being British. We have foreigners running our country. We need Douglas Murray."
          ],
          [
           "Stop Islamist rallies. Not that difficult. Rotten parliament."
          ],
          [
           "Given that definition, the whole of Islam is thereby included."
          ],
          [
           "Remember if you think even remotely normal you’re far right !"
          ],
          [
           "Why not the far left? Extremely dangerously!"
          ],
          [
           "Islamists \"and the Far Right\" ..... WHAT \"Far Right\" ?"
          ],
          [
           "What they really mean by “far right”….is patriots who love their country and traditions🇬🇧"
          ],
          [
           "Free society 😮try waving a 🏴󠁧󠁢󠁥󠁮󠁧󠁿 or 🇬🇧flag 🙄"
          ],
          [
           "islam comes under all these definations"
          ],
          [
           "When they say far right do they mean indigenous population 😊"
          ],
          [
           "The  counter terrorism expert  named about  4 islamist  groups and then  said \" and other  far right groups \" still  not  one  person can name  these far right  groups  who pose such a threat....I  wonder why?"
          ],
          [
           "\"Farrr rightttt\" is basically anyone who isn't farrrr left."
          ],
          [
           "Who are the far right they are talking about?"
          ],
          [
           "is it terrorism to fight back against an obviously increasingly teranical government and civil service in your own country when voting no longer works"
          ],
          [
           "So under these conditions we can expect the Qur'an to banned in the UK ????"
          ],
          [
           "Extremism = any criticism of the State EXCEPT the cririticism that the State is not islamic enough, not trans enough, not tyrannical enough"
          ],
          [
           "This government is hell bent on control,I always thought the conservatives were in favour of small government ,big society freedoms"
          ],
          [
           "Prevent being advised by extremists!"
          ],
          [
           "They should ban the words FAR RIGHT Wouldn't that be good"
          ],
          [
           "So mermaids and now stonewall should be listed.\n\nThe new legislation restricts freedoms on what the government decide. Frightening"
          ],
          [
           "The fascists are closing rank"
          ],
          [
           "Does this cover Yousaf, Khan, Gallaway Corbyn Starmer, Sunak,Hunt,Abbott, Bailey the list goes on and on ."
          ],
          [
           "Can someone tell us who the \"far right\" are. What was the last occasion the \"far right\" carried out an attack in the UK?"
          ],
          [
           "It was once upon a time a Free Society. No longer."
          ],
          [
           "So Islam then?🤷"
          ],
          [
           "What colour was the funeral parlour owners ? Only asking because usually if they are white people ,it is stated loud and clear , but never mentioned if it is of the tanned variety.  🙂."
          ],
          [
           "What far right? More like right so far!"
          ],
          [
           "Hope not hate should be at the top of the list."
          ],
          [
           "It's an excuse to silence anyone that takes their fancy"
          ],
          [
           "Your free to do as your told or else..."
          ],
          [
           "Thank you Julia for your honesty, bravery and integrity in the face of intolerable establishment authoritarianism."
          ],
          [
           "If you say \"it's ok to be white\" are you an \"extremist?? If you pray silently, are you extremist? This is an insane idea because it's going to be totally subjective."
          ],
          [
           "Well that’s strange, a lone man carrying a sign stating Hamas were a terrorist organisation, was arrested."
          ],
          [
           "Gove is dangerous"
          ],
          [
           "I seem to recall 30 or 40 years back we didn't need to define extremism so what's changed ?????"
          ],
          [
           "Still seems that the assumption is always that racism goes from white to dark skinned people. Of course it's possible for Sunak and co to be racist...towards the white British population especially the white working class."
          ],
          [
           "Common sense needs to apply.  Patriotism is not ‘extremist’ - Islamist jihad IS."
          ],
          [
           "This will target those who are not a threat to the UK i.e. patriots who love the UK, its culture, and its history, and are sick of our country being dragged down the gutter."
          ],
          [
           "It doesn't matter how extreme you are, a £10 million donation gets you a free pass."
          ],
          [
           "JHB speaks a lot of sense"
          ],
          [
           "Who are the Far Right ,so far right they are invisible"
          ],
          [
           "Minority Report in real life right here"
          ],
          [
           "Being a brown skinned man, I was called racist and conspiracy theorist decades ago but what I said then is happening today. U.K. needs to wake up in Real Time."
          ],
          [
           "Islamist and 'far right', no mention of the far left again."
          ]
         ],
         "hovertemplate": "Title=\"This Is A Free Society!\" Julia Hartley-Brewer REACTS To New Extremism Definition<br>ID=%{x}<br>Likes_y=%{y}<br>Comment=%{customdata[0]}<extra></extra>",
         "legendgroup": "\"This Is A Free Society!\" Julia Hartley-Brewer REACTS To New Extremism Definition",
         "marker": {
          "color": "#FFA15A",
          "symbol": "circle"
         },
         "mode": "markers",
         "name": "\"This Is A Free Society!\" Julia Hartley-Brewer REACTS To New Extremism Definition",
         "showlegend": true,
         "type": "scattergl",
         "x": [
          "kUtLg6SldXM",
          "kUtLg6SldXM",
          "kUtLg6SldXM",
          "kUtLg6SldXM",
          "kUtLg6SldXM",
          "kUtLg6SldXM",
          "kUtLg6SldXM",
          "kUtLg6SldXM",
          "kUtLg6SldXM",
          "kUtLg6SldXM",
          "kUtLg6SldXM",
          "kUtLg6SldXM",
          "kUtLg6SldXM",
          "kUtLg6SldXM",
          "kUtLg6SldXM",
          "kUtLg6SldXM",
          "kUtLg6SldXM",
          "kUtLg6SldXM",
          "kUtLg6SldXM",
          "kUtLg6SldXM",
          "kUtLg6SldXM",
          "kUtLg6SldXM",
          "kUtLg6SldXM",
          "kUtLg6SldXM",
          "kUtLg6SldXM",
          "kUtLg6SldXM",
          "kUtLg6SldXM",
          "kUtLg6SldXM",
          "kUtLg6SldXM",
          "kUtLg6SldXM",
          "kUtLg6SldXM",
          "kUtLg6SldXM",
          "kUtLg6SldXM",
          "kUtLg6SldXM",
          "kUtLg6SldXM",
          "kUtLg6SldXM",
          "kUtLg6SldXM",
          "kUtLg6SldXM",
          "kUtLg6SldXM",
          "kUtLg6SldXM",
          "kUtLg6SldXM",
          "kUtLg6SldXM",
          "kUtLg6SldXM",
          "kUtLg6SldXM",
          "kUtLg6SldXM",
          "kUtLg6SldXM",
          "kUtLg6SldXM",
          "kUtLg6SldXM",
          "kUtLg6SldXM",
          "kUtLg6SldXM"
         ],
         "xaxis": "x",
         "y": [
          193,
          94,
          129,
          97,
          101,
          226,
          63,
          98,
          90,
          190,
          71,
          157,
          28,
          78,
          95,
          43,
          40,
          20,
          65,
          40,
          64,
          25,
          32,
          35,
          25,
          41,
          12,
          35,
          21,
          10,
          49,
          25,
          40,
          29,
          9,
          26,
          7,
          6,
          8,
          12,
          8,
          11,
          12,
          5,
          6,
          18,
          12,
          21,
          5,
          11
         ],
         "yaxis": "y"
        },
        {
         "customdata": [
          [
           "CNN, this is why nobody is watching you anymore."
          ],
          [
           "That was a nice, long and detailed answer."
          ],
          [
           "Excellent editing job CNN"
          ],
          [
           "Ok CNN. Why did you cut him off?"
          ],
          [
           "one of the best video I've seen in a while... truly explains everything"
          ],
          [
           "The video cuts out before he finishes his sentence."
          ],
          [
           "WTF kind of video is this. Is it some kind of teaser. WTF ???"
          ],
          [
           "Well, it's not like Obama was going to say anything important anyway"
          ],
          [
           "CNN is a joke now. Fire this damn editor please"
          ],
          [
           "wtf is that?"
          ],
          [
           "\"Quick Obama is making no sense CUT!\" - Clinton News Network\n\nTrump 2016"
          ],
          [
           "Another one from CNN everybody! And cut! Lol! What a joke"
          ],
          [
           "You can see his demeanor change when the word islamic is brought up around 10 seconds in"
          ],
          [
           "perfectly explained perfectly detailed this is gold"
          ],
          [
           "It's our tolerance that has allowed western nations to fall victim to terrorism."
          ],
          [
           "They cut off his answer because it was so lame. CNN in the tank for the Democrats."
          ],
          [
           "To the mother of the fallen soldier. Sorry for your loss.  Hope he did not die for nothing."
          ],
          [
           "wow CNN... please tell me someone lost their job over this editing"
          ],
          [
           "Because he's a Muslim.\nAsk any Muslim. They don't believe killing infidels is an act of terror. It is Allah's will, therefore it's not terrorism. \nSick ideology."
          ],
          [
           "I think most people know why he won't say it. Because he would be insulting himself"
          ],
          [
           "That explaination made me an enlightened human being."
          ],
          [
           "I only wish that my own conversations could also go this deep."
          ],
          [
           "Fail CNN"
          ],
          [
           "\"But I still kill Millions of them in drone strikes\""
          ],
          [
           "The fuck CNN way to cut off Obama in the middle of answering the damn question!"
          ],
          [
           "Reupload the video... You cut off his answer...... \n\nI want to hear his answer... "
          ],
          [
           "So cut him off while he's trying to explain...ok."
          ],
          [
           "That woman can't public speak to save her son's life. Such a short question and such a horrible reading."
          ],
          [
           "Muhammad said it tho. He literally said in a Hadith that one of the things that makes him superior to the other prophets Is that he inflicts terror in the hearts of his enemies. Go look up the definition of terrorism. Terrorism is apart of their religion. A celebrated part. Don’t pretend like it’s not."
          ],
          [
           "Well I wouldn't want to offend our Saudi friends aswell. Especially since Russia has been able to put a holt to our Syrian foreign policy."
          ],
          [
           "Wait why'd they cut it? Is it a glitch or is it happening to everyone. Or is that how the video was released."
          ],
          [
           "Racially what? Is that the first thing that comes out of her mind?"
          ],
          [
           "Now did they edit out him thanking her family and him for the sacrifice or did he just not even say it???"
          ],
          [
           "His TelePrompTer probably cut off and he turned off like a robot."
          ],
          [
           "Ayo whaat is that doable can this be done to the video that serves. Information ??"
          ],
          [
           "wow, best explanation ever!"
          ],
          [
           "Alos did u see how he lit up when he mentioned the 1 billion plus Muslim in the world?? This was shown in the CNN copy of the video"
          ],
          [
           "Show the full video"
          ],
          [
           "Why was this cut down to 27 seconds?  Why do you not want people to know what Obama said?"
          ],
          [
           "Dodgy CNN. Description say's why he won't say it and yet you don't hear the explanation just the question. Poor journalism."
          ],
          [
           "Why did you cut him off huh?"
          ],
          [
           "Dear Muslims and non Muslims brothers if any one started to accuse any Muslims of terrorist then simply ask him / her back that ( who made ww1 and ww2) 😂it is non Muslims that is enough answer ( moreover could you imagine that two counties non Muslims made was because of soccer game !)"
          ],
          [
           "Below are sources for more serious cases while the UN is under Guterres' baton.\r\nFor example, information was brought that 2017 was the deadliest year for civilians in Iraq and Syria where between 3,923 and 6,102 civilians were killed.\r\nMore in the same no:\r\nInformation brought from another source showed a more dismal figure: 39 thousand dead in Syria in 2017 alone, including 10,507 civilians.\r\nAnother figure was brought from the war in Yemen, where during the year 2021, every nine minutes a child under the age of five was killed. It was also reported that since the beginning of the war in Yemen, which broke out two years before he took office and is still ongoing, approximately 377,000 people have been killed.\r\nAnother surfer mentioned that 176,000 people were killed in Afghanistan, 860,000 people in Congo and 300,000 people in Darfur."
          ],
          [
           "Was that a joke or something CNN? Come on your not even trying anymore."
          ],
          [
           "Not the whole video?"
          ],
          [
           "Youtubers still aren't smart enough to read the description. lol"
          ],
          [
           "This reflects unaccountable media"
          ],
          [
           "yeah just cut him off when he was gonna explain some real shit the rest dont want to hear"
          ],
          [
           "Atleast upload the full video of answer 😂😂😂😂😂😂😂😂😂"
          ],
          [
           "وين البقية؟"
          ]
         ],
         "hovertemplate": "Title=Obama: Why I won't say 'Islamic terrorism'<br>ID=%{x}<br>Likes_y=%{y}<br>Comment=%{customdata[0]}<extra></extra>",
         "legendgroup": "Obama: Why I won't say 'Islamic terrorism'",
         "marker": {
          "color": "#19d3f3",
          "symbol": "circle"
         },
         "mode": "markers",
         "name": "Obama: Why I won't say 'Islamic terrorism'",
         "showlegend": true,
         "type": "scattergl",
         "x": [
          "p9Btr6OKDuI",
          "p9Btr6OKDuI",
          "p9Btr6OKDuI",
          "p9Btr6OKDuI",
          "p9Btr6OKDuI",
          "p9Btr6OKDuI",
          "p9Btr6OKDuI",
          "p9Btr6OKDuI",
          "p9Btr6OKDuI",
          "p9Btr6OKDuI",
          "p9Btr6OKDuI",
          "p9Btr6OKDuI",
          "p9Btr6OKDuI",
          "p9Btr6OKDuI",
          "p9Btr6OKDuI",
          "p9Btr6OKDuI",
          "p9Btr6OKDuI",
          "p9Btr6OKDuI",
          "p9Btr6OKDuI",
          "p9Btr6OKDuI",
          "p9Btr6OKDuI",
          "p9Btr6OKDuI",
          "p9Btr6OKDuI",
          "p9Btr6OKDuI",
          "p9Btr6OKDuI",
          "p9Btr6OKDuI",
          "p9Btr6OKDuI",
          "p9Btr6OKDuI",
          "p9Btr6OKDuI",
          "p9Btr6OKDuI",
          "p9Btr6OKDuI",
          "p9Btr6OKDuI",
          "p9Btr6OKDuI",
          "p9Btr6OKDuI",
          "p9Btr6OKDuI",
          "p9Btr6OKDuI",
          "p9Btr6OKDuI",
          "p9Btr6OKDuI",
          "p9Btr6OKDuI",
          "p9Btr6OKDuI",
          "p9Btr6OKDuI",
          "p9Btr6OKDuI",
          "p9Btr6OKDuI",
          "p9Btr6OKDuI",
          "p9Btr6OKDuI",
          "p9Btr6OKDuI",
          "p9Btr6OKDuI",
          "p9Btr6OKDuI",
          "p9Btr6OKDuI",
          "p9Btr6OKDuI"
         ],
         "xaxis": "x",
         "y": [
          303,
          546,
          312,
          265,
          615,
          111,
          47,
          128,
          35,
          82,
          75,
          177,
          29,
          50,
          10,
          16,
          20,
          8,
          21,
          3,
          28,
          8,
          13,
          3,
          5,
          3,
          7,
          1,
          2,
          3,
          0,
          6,
          0,
          0,
          0,
          5,
          0,
          1,
          0,
          1,
          1,
          1,
          0,
          2,
          0,
          0,
          1,
          1,
          1,
          1
         ],
         "yaxis": "y"
        },
        {
         "customdata": [
          [
           "IF YOU TELL A LIE BIG ENOUGH, AND KEEP REPEATING IT PEOPLE WILL EVENTUALLY START BELIEVING IT. Joseph goebbels 1939."
          ],
          [
           "Who’s surprised"
          ],
          [
           "Calling us Ka firs for years now playing victimhood LoL"
          ],
          [
           "So called well civilised countries of west having double standards in Russia Ukraine and Palestine Israel😢"
          ],
          [
           "Hasbara is early today and full of caffeine. 😂"
          ],
          [
           "A bunch of keyboard warriors hiding behind fake accounts 😂"
          ],
          [
           "Which Genuine organisation is helping palestine..... I want to donate...... Plz tell me......"
          ],
          [
           "One question you have to ask yourself does Poland have problems no because they don't have Muslim's"
          ],
          [
           "RIP BRITAIN"
          ],
          [
           "doesnt bother me"
          ],
          [
           "How was a criminal mafia and enslVed 5th column of discrimination persercution and child crimes ever legal in modern evolved and Developed countrys anyway ....."
          ],
          [
           "Vote in crooks > Get terrible results > Punch down > Vote in crooks > Get terrible results > Punch down > Vote in crooks. . ."
          ],
          [
           "And yet she'd be too glad to get YOU arrested for \"islamophobia\"."
          ],
          [
           "Track record ?"
          ],
          [
           "Gove did an important thing in distinguishing between Islam which is fine, and Islamists who are not fine. It is a common tactic of Islamists to try and present any questioning of them, and their tactics, as an attack on Islam and Muslims. It isn't."
          ],
          [
           "God knows that she can't be delivered from evil"
          ],
          [
           "come back."
          ],
          [
           "Do you never think you marginalise yourself by not accepting the British culture and not integrating. We are not a racist country and we are fed up being told we are."
          ],
          [
           "Muslim out"
          ],
          [
           "I didn't hear her mention any anti-muslim laws"
          ],
          [
           "Whos this. Am i supposed to care what a privileged,  hater of our English lands hsa to say.  NO."
          ],
          [
           "Offended by everything. Ashamed of nothing."
          ],
          [
           "After 20 years of bombing attacks in London and Manchester….a beheading of a British soldier on a London street ..many random religious knife attacks…..\nI’d say this is a bit little and a bit late \nAnd yet they cry Islamophobia…"
          ],
          [
           "Its funny that when someone cries racism, out come the headscarves"
          ],
          [
           "We don't care you don't want to be apart of this country just look at the areas you live in to see that, Perhaps if you had made a effort to join the UK and not try and change it every chance you get we would be more open to your statement."
          ],
          [
           "Wrong country , not muslim country"
          ],
          [
           "Dude! That bandana ain't doing anything in improvingbyour looks. Take it off!"
          ],
          [
           "Track record, you've got no right to criticise anyone, based on your history.😁"
          ],
          [
           "Oh here we go ! It didn't take long did it ?"
          ],
          [
           "“Slavery, Terrorism and Islam The Historical Roots and Contemporary Threat” - Revised and Expanded Third Edition Copyright 2013 by Peter Hammond"
          ],
          [
           "England first should be their mantra. Or they should leave. \n\nFor me, I hope UK bans Halal."
          ],
          [
           "Y zoom in the face so close?😂"
          ],
          [
           "1 80 million views only 100 likes...prove is in pudding"
          ],
          [
           "The young girls of Rochdale, Rotherham and other towns send you their hopes for the future.....😏"
          ],
          [
           "If you don't like it here. Jog on !"
          ],
          [
           "No smoke without fire. Islam.didntnget this reputation  for no reason"
          ],
          [
           "Don’t like it? Leave. You aren’t welcome here"
          ],
          [
           "Muslim is not a race or a country. So for those that don’t know , Islam is a universal religion and just like Christianity and Judaism has its roots in the Middle East( lineage of Abraham). So my point is, you cannot send all Muslims out of the UK, as there are English natives who are also Muslims. So let us be aware of the choice of words and talk with knowledge and wisdom, not just emotions."
          ],
          [
           "The bottom line is, now’s the time to choose what side you are on and prepare to fight for your survival"
          ],
          [
           "Well said sister"
          ],
          [
           "Can't blame Mr Grove for having common sense.World is literally suffering because of peaceful community people."
          ],
          [
           "I don't like Gove but the last time I looked he'd been democratically elected and the government also.  Maybe it's time to have a discussion about what lies behind the brickbats?  I've never understood the use of the word Islamophobia (as a synonym for racism), other than as an attempt to co-opt it as a label used against others for a self-perceived special status of victimhood.  It's a peculiarly manipulative word."
          ],
          [
           "Why has this got a voice. This is extremist at every level. Acting innocent whilst hating everything British."
          ],
          [
           "Time to leave , sorry."
          ],
          [
           "By God We'll Have Our Country Back."
          ],
          [
           "Gove and his na31 party talking about extremism is like Kim Jong un talking about democracy 😂"
          ],
          [
           "Allah has willed it 😂😂😂😂"
          ],
          [
           "Alhamdulillah sister\n🔻🗝"
          ],
          [
           "See they trying to take over."
          ],
          [
           "Why is it Muslims who say they use a bedroom to pray don't pay council tax .You can believe every Muslim uses this , how do the likes of Bradford fund the councils .🇬🇧🇬🇧"
          ]
         ],
         "hovertemplate": "Title=UK Muslim groups speak out against being targeted under extremism definition<br>ID=%{x}<br>Likes_y=%{y}<br>Comment=%{customdata[0]}<extra></extra>",
         "legendgroup": "UK Muslim groups speak out against being targeted under extremism definition",
         "marker": {
          "color": "#FF6692",
          "symbol": "circle"
         },
         "mode": "markers",
         "name": "UK Muslim groups speak out against being targeted under extremism definition",
         "showlegend": true,
         "type": "scattergl",
         "x": [
          "deKzXP_oIUg",
          "deKzXP_oIUg",
          "deKzXP_oIUg",
          "deKzXP_oIUg",
          "deKzXP_oIUg",
          "deKzXP_oIUg",
          "deKzXP_oIUg",
          "deKzXP_oIUg",
          "deKzXP_oIUg",
          "deKzXP_oIUg",
          "deKzXP_oIUg",
          "deKzXP_oIUg",
          "deKzXP_oIUg",
          "deKzXP_oIUg",
          "deKzXP_oIUg",
          "deKzXP_oIUg",
          "deKzXP_oIUg",
          "deKzXP_oIUg",
          "deKzXP_oIUg",
          "deKzXP_oIUg",
          "deKzXP_oIUg",
          "deKzXP_oIUg",
          "deKzXP_oIUg",
          "deKzXP_oIUg",
          "deKzXP_oIUg",
          "deKzXP_oIUg",
          "deKzXP_oIUg",
          "deKzXP_oIUg",
          "deKzXP_oIUg",
          "deKzXP_oIUg",
          "deKzXP_oIUg",
          "deKzXP_oIUg",
          "deKzXP_oIUg",
          "deKzXP_oIUg",
          "deKzXP_oIUg",
          "deKzXP_oIUg",
          "deKzXP_oIUg",
          "deKzXP_oIUg",
          "deKzXP_oIUg",
          "deKzXP_oIUg",
          "deKzXP_oIUg",
          "deKzXP_oIUg",
          "deKzXP_oIUg",
          "deKzXP_oIUg",
          "deKzXP_oIUg",
          "deKzXP_oIUg",
          "deKzXP_oIUg",
          "deKzXP_oIUg",
          "deKzXP_oIUg",
          "deKzXP_oIUg"
         ],
         "xaxis": "x",
         "y": [
          28,
          6,
          9,
          3,
          18,
          19,
          5,
          11,
          11,
          8,
          5,
          0,
          22,
          0,
          36,
          5,
          0,
          21,
          62,
          13,
          46,
          17,
          29,
          12,
          23,
          58,
          8,
          3,
          2,
          5,
          27,
          0,
          2,
          9,
          7,
          6,
          25,
          12,
          1,
          3,
          27,
          1,
          2,
          0,
          16,
          1,
          12,
          6,
          0,
          3
         ],
         "yaxis": "y"
        },
        {
         "customdata": [
          [
           "No matter how many Muslims or former Muslims warn, the Western leaders will never listen or change attitude."
          ],
          [
           "Sohail Ahmed is a very brave man and we need to thank him and his kind for his commitment to our democratic rights. No doubt, he probably had a fatwa against him, sadly."
          ],
          [
           "I wonder why this is not a problem in Poland?"
          ],
          [
           "This is NO surprise to us Brits.\nIts only the British Government that DON'T KNOW!"
          ],
          [
           "I listened to this live this morning. This gentleman is someone that the 'authorities' need to listen to. He knows his subject from the inside, and is prepared to spill the beans, which is a refreshing change from the usual islamic apologists that we see paraded before us, as tokens of diversity and enrichment, which we know to be false."
          ],
          [
           "It’s a war and we’re not even fighting."
          ],
          [
           "It has been going on since the 1980s at local council level. How else do people think that working class areas got cleared of their previous inhabitants. And it wasn't peaceful or voluntary"
          ],
          [
           "If all immigrants were like this man the world would be a better place admire you"
          ],
          [
           "The poor and disabled in the UK are the only people facing prejudice."
          ],
          [
           "They keep banging on about the far right and \"islamophobia\" to balance it out and pretend it's not just the Islamists, but it is."
          ],
          [
           "Islam is like mistletoe- it grafts  itself onto a plant and then feeds off of it until the host is destroyed. Exactly as your guest explains. Why is this not openly acknowledged and then action taken to stop it."
          ],
          [
           "The imaginary far right , \nfar right is just a social construct 😂😂"
          ],
          [
           "Give that man a raise. If people were actually this open we wouldn't have to worry about anything."
          ],
          [
           "He is actually describing wolves in sheep's clothing and although it's good to hear someone confirming the motives of the Islamists it's something we always suspected but our politicians are again late to the party because of their bubbled lives ."
          ],
          [
           "The penny has dropped. Sohail speaks with an educated tongue and is quite eloquent. Possibly private school educated. He has just said what Tommy Robinson said 15 years ago. Sohail gets a platform and Robinson gets cancelled. To beat the scourge of extremism, the country needs both voices. Very pleased to hear from Sohail, it's a pity he was interrupted during his explanations."
          ],
          [
           "Sohail Ahmed.  Now this man gives me hope.!!! Nice to see God protect you, Sohail 🙏🙏🙏"
          ],
          [
           "Very brave man, far braver than our politicians and police. We should make him go viral and also protect him."
          ],
          [
           "This presenter needs sacking. Interrupts his guest with moronic interjections and stops him in the middle of some very interesting points."
          ],
          [
           "Iran repeating itself"
          ],
          [
           "Yes we noticed"
          ],
          [
           "We do have a UK 'Bill of Rights'. It was created in 1688 under Willam and Mary.\nIt is the reason that any foreign law has to be written into UK law to have any effect, and even then no foreign power has any say over that law if done so.\nSo yes, that is part of our 'written' constitution....that the government wilfully breaks by entertaining foreign jurisdiction over the UK when they have 'no standing'.\nAs to do so is Ultra Vires.\nYet I do know that there are many in power that will try to erase it from memory and history.\nLike Talktv apparently."
          ],
          [
           "Leopards don't change their spots..."
          ],
          [
           "Over the years this country has been so tolerant. The british sense of being charitable, accommodating and considerate. We have been used and abused. A radical change has got to come. British people and the newly elected government in a few months, will need to embrace far right policy. To turn this country back to british values. Firstly no more planning permission for Mosques or Islamic centres. Secondly the charity commission to investigate Muslim charities. Thirdly look into welfare benefits people driving new or nearly new performance and luxury cars. Their travel activities, if on benefits how can they afford to go back to their country of origin for holidays."
          ],
          [
           "We literally have a real world example of this from what happened to Lebanon."
          ],
          [
           "Democracy has become a shady word"
          ],
          [
           "IN SHORT THEY WAIT TILL THERE ARE ENOUGH OF THEM THEN TAKE THE COUNTRY"
          ],
          [
           "This man truly deserves respect. He has mine, which is why our own government needs to get him on board and LISTEN to him.  Perhaps then they could regain the respect, and trust of the people.  Regards from Hertfordshire."
          ],
          [
           "Defund the government, stop paying tax\r\n\r\nThanks Talk TV!"
          ],
          [
           "Fight back or lose everything."
          ],
          [
           "A man of peace and with courage. Stay safe Sir."
          ],
          [
           "The presenter was mistaken when he said that Britain doesn't have a Bill of Rights. England has had a Bill of Rights since it was set out in an Act of Parliament in 1689 and is an important statute in English constitutional law . C'mon, so-called 'fact checkers'!"
          ],
          [
           "Any 7 year old child would know that."
          ],
          [
           "Sohail makes perfect sense"
          ],
          [
           "Ive noticed they dont mention the extremism of far left.  Hopefully it covers all extremism"
          ],
          [
           "The far right exists for a reason people. Let it exist and do its job or we’re done for."
          ],
          [
           "\" I REVERE ISLAM AND INTEND TO BE KING OF ALL THE FAITHS.\"  Traitor King Charles ( February 2023) ❤"
          ],
          [
           "0:00: 📜 Government's new extremism definition focuses on promoting violence, hatred, and undermining democratic rights.\n2:33: 💥 Collaboration between far-left and Islamists to undermine democracy through entryism and gradualism.\n5:30: ⚠️ Collaboration between different extremist groups leading to societal division and radicalization.\n8:05: 💥 Collaboration between far-left and Islamists is causing societal division, undermining the Unwritten Constitution.\n10:57: 💬 Discussion on the ideologies of Islam, far right, and the national security threat posed by Islamism.\n\nTimestamps by Tammy AI"
          ],
          [
           "Francisco Gil-White has a very deep knowledge of the history and potential of the continuing alliance between Islam and Nazism."
          ],
          [
           "Vote Reform 🗳 \nVote any nationalist party, as they're the only ones with the indigenous population in their hearts, as it should be."
          ],
          [
           "Tell us something we haven't known for a long time!"
          ],
          [
           "'The spider said to the insect, when we get off this ark, you are dead'."
          ],
          [
           "We do have a British bill of rights: The Bill of Rights 1688."
          ],
          [
           "Ha ha far right ha ha 😂😂😂😂😂😂😂😂😂😂😂😂😂😂what rubbish"
          ],
          [
           "Quote ,....\"extremism is a promotion or advancement of an ideology based on violence , hatred ,or intolerance \".\n Wow ,  that's describing Islam perfectly spot on."
          ],
          [
           "We have an English bill of rights"
          ],
          [
           "Is gang rape (sorry- ‘grooming’) now considered a terrorist act and included in extremism definition? Because there’s someone in prison for stickers as extremist terror act."
          ],
          [
           "That guy makes sense in what he's saying"
          ],
          [
           "This is nothing new, they work together since 50es."
          ],
          [
           "I am indian were I stand 👳‍♂️🙏"
          ],
          [
           "well to be honest that applies to the TORY party for passing this law if you think about it so maybe they should all be disqualified from parliment\nthats how vaguely worded the law is \ngo on look at how low the percentage of people who is who have profited from tory policy and rule and look at how they are trying to curb the right of people to protest against anything they do"
          ]
         ],
         "hovertemplate": "Title=Former 'Islamic Extremist' Confesses “Far-Left And Islamists Work Together To Tear Us Apart\"<br>ID=%{x}<br>Likes_y=%{y}<br>Comment=%{customdata[0]}<extra></extra>",
         "legendgroup": "Former 'Islamic Extremist' Confesses “Far-Left And Islamists Work Together To Tear Us Apart\"",
         "marker": {
          "color": "#B6E880",
          "symbol": "circle"
         },
         "mode": "markers",
         "name": "Former 'Islamic Extremist' Confesses “Far-Left And Islamists Work Together To Tear Us Apart\"",
         "showlegend": true,
         "type": "scattergl",
         "x": [
          "0QfHTI-04S4",
          "0QfHTI-04S4",
          "0QfHTI-04S4",
          "0QfHTI-04S4",
          "0QfHTI-04S4",
          "0QfHTI-04S4",
          "0QfHTI-04S4",
          "0QfHTI-04S4",
          "0QfHTI-04S4",
          "0QfHTI-04S4",
          "0QfHTI-04S4",
          "0QfHTI-04S4",
          "0QfHTI-04S4",
          "0QfHTI-04S4",
          "0QfHTI-04S4",
          "0QfHTI-04S4",
          "0QfHTI-04S4",
          "0QfHTI-04S4",
          "0QfHTI-04S4",
          "0QfHTI-04S4",
          "0QfHTI-04S4",
          "0QfHTI-04S4",
          "0QfHTI-04S4",
          "0QfHTI-04S4",
          "0QfHTI-04S4",
          "0QfHTI-04S4",
          "0QfHTI-04S4",
          "0QfHTI-04S4",
          "0QfHTI-04S4",
          "0QfHTI-04S4",
          "0QfHTI-04S4",
          "0QfHTI-04S4",
          "0QfHTI-04S4",
          "0QfHTI-04S4",
          "0QfHTI-04S4",
          "0QfHTI-04S4",
          "0QfHTI-04S4",
          "0QfHTI-04S4",
          "0QfHTI-04S4",
          "0QfHTI-04S4",
          "0QfHTI-04S4",
          "0QfHTI-04S4",
          "0QfHTI-04S4",
          "0QfHTI-04S4",
          "0QfHTI-04S4",
          "0QfHTI-04S4",
          "0QfHTI-04S4",
          "0QfHTI-04S4",
          "0QfHTI-04S4",
          "0QfHTI-04S4"
         ],
         "xaxis": "x",
         "y": [
          172,
          129,
          128,
          48,
          86,
          48,
          94,
          22,
          58,
          56,
          48,
          86,
          26,
          41,
          33,
          48,
          8,
          12,
          14,
          21,
          13,
          19,
          25,
          7,
          12,
          10,
          13,
          5,
          8,
          15,
          12,
          4,
          6,
          26,
          3,
          20,
          3,
          2,
          32,
          15,
          1,
          9,
          4,
          8,
          3,
          1,
          2,
          2,
          5,
          1
         ],
         "yaxis": "y"
        },
        {
         "customdata": [
          [
           "the plan to combat right wing extremism in Germany: do not reject anyone applying to art school regardless of talent (we all know what happened)"
          ],
          [
           "Long live secret Germany!\n\"Participated in far-right chat groups\"!\nIf such measures were implemented in India, 80% of the population will be in jail with only 20% left free."
          ],
          [
           "Jap Rechtsextremismus ist das Problem in diesem Land, Islamismus auch nur zu erwähnen ist rassistisch ;)"
          ],
          [
           "Germany: sends weapons to neo Nazis in Ukraine. \nalso Germany: we are fighting extreme right wing in our borders.\nNeo Nazis in Germany confused."
          ],
          [
           "Afd the best party of Germany after hitlar .Please support AFD"
          ],
          [
           "This video is redundant now as they have all gone to fight with Ukraine against Russia."
          ],
          [
           "They should be removed from governments first tho no???"
          ],
          [
           "Poland Needs to follow This example.."
          ],
          [
           "Well they shouldn't support the Ukrainian govt....Zzzzz"
          ],
          [
           "Send them some azov/right sector footage in Ukraine,now with American imported militant jihadists in Ukraine also! Future Fun and games for eu countries. Not in America...naturally!"
          ],
          [
           "India Desperately Need Such Actions Against It's Right Wings."
          ],
          [
           "You need to attack the root of the extremist problem and that includes tackling the societal alienation of young men"
          ],
          [
           "Aren't they funding the Azov right now??"
          ],
          [
           "We hope.. all nation in the world not only in germany.. all of them combating Far Right Extrimist  !! 👍🏽✍️\n\nWith concrete measure...🥊"
          ],
          [
           "They created it"
          ],
          [
           "This is what Ukraine needs to do when the war ends.  That way, we'll have true peace"
          ],
          [
           "Lol, whats Erdagon then LEFT WING ?"
          ],
          [
           "When will this happen in India?"
          ],
          [
           "they funding far right in ukrain and try to crush far right in germany. no more words i left for this hypocrise"
          ],
          [
           "germens remember your brave ancestors"
          ],
          [
           "Hell yes"
          ],
          [
           "*Ok, Why Turkey Cannot become an EU member, isn't it a racism and an hardcore right wing ideology to not get in Turkey in EU??*"
          ],
          [
           "They will run to Ukraine"
          ],
          [
           "😂😂😂😂 good luck with that"
          ],
          [
           "Good!"
          ],
          [
           "Germany, began fight...how about Poland, Hungary and, czech republic??,"
          ],
          [
           "Hmm, It is going to be very hard as the USA, Eastern European countries and France is now their booming birth place."
          ],
          [
           "Fraeser will be in heaven very soon."
          ],
          [
           "What about rise of islamic right in Turkey"
          ],
          [
           "you are training them in ukrain to fight russians & you want to stop them in germany,"
          ],
          [
           "🇫🇷🇪🇺I am surprised TRT has not reported about the 81 people that were beheaded 2 days ago in Saudi Arabia.TRT does like to pick and choose which headlines suits it’s nationalistic interest, but then again relations between Turkey and Saudi Arabia have been quite frosty so one would assume they would of covered that news story."
          ],
          [
           "Some other European 🇪🇺 Nations needs to follow the same !!"
          ],
          [
           "Welcome CENSORSHIP!\nsome1 commented about this and how it's handled in Ukraine, and TRT World deleted that comment. Well Done, so much about \"democracy and freedom\"!"
          ],
          [
           "TRT you literally promote Turkish Far Right Nationalism."
          ],
          [
           "Hhhaa Putin effect...that's what he doing in ukarine"
          ],
          [
           "The question is why are these right wingers growing so much."
          ],
          [
           "Germany has heavily suppressed them since circa 1993.  This seems just like more talk and playing politics."
          ],
          [
           "Great ,salute them"
          ],
          [
           "Endya doing exactly the opposite."
          ],
          [
           "Nice...mashAllah....hope i.iindiia learn a thing or two by this n act against its extremst govt."
          ],
          [
           "Germany is not playing when it comes to far right extremists, nazis and fascists.."
          ],
          [
           "I live in the 🇺🇸....the far right & Christian Dominionist are huge threats here.  Our situations are similar.  Good luck 👍  we're all going to need it.  SLAVA UKRAINE 🇺🇦 ♥"
          ],
          [
           "Can't believe it's so bad, I thought Germany was free of this."
          ],
          [
           "All all far rights group in Germany should join the police force or military to able to function very well."
          ],
          [
           "All the love to Germany <3 You're fighting for the right cause, DO NOT BE INTIMIDATED. Ignorance is dangerous tool, currently being employed by massive troll farms."
          ],
          [
           "SALUTE to this newly elected Germany PM. I hoping rest of European countries follow the same strategies."
          ],
          [
           "USA Nato country’s should be grateful to Russia who lost 22 million people in defeating Neo Natzi’s Adolf Hitler in WW2 for the huge sacrifices they made but now USA Nato country’s sadly training ,arming the Azov Neo Natzi paramilitary forces inside Ukraine which Russia see’s as huge threat if backed by Nato military force could spiral out of control.Neo Natzi terror crime figures just for one year are shocking and more strict measures need to b taken against them.Gun licences should be revoked and their weapons confiscated."
          ],
          [
           "Justice for the victim and family"
          ],
          [
           "Excellent News but the best news is the UN have come up with a plan to combat Islamaphobia in the west, start date March 15 2022, thanks to the PM 🇵🇰 IK."
          ],
          [
           "Good work Germany!"
          ]
         ],
         "hovertemplate": "Title=Germany announces action plan against right-wing extremism<br>ID=%{x}<br>Likes_y=%{y}<br>Comment=%{customdata[0]}<extra></extra>",
         "legendgroup": "Germany announces action plan against right-wing extremism",
         "marker": {
          "color": "#FF97FF",
          "symbol": "circle"
         },
         "mode": "markers",
         "name": "Germany announces action plan against right-wing extremism",
         "showlegend": true,
         "type": "scattergl",
         "x": [
          "NPRicwJxDSU",
          "NPRicwJxDSU",
          "NPRicwJxDSU",
          "NPRicwJxDSU",
          "NPRicwJxDSU",
          "NPRicwJxDSU",
          "NPRicwJxDSU",
          "NPRicwJxDSU",
          "NPRicwJxDSU",
          "NPRicwJxDSU",
          "NPRicwJxDSU",
          "NPRicwJxDSU",
          "NPRicwJxDSU",
          "NPRicwJxDSU",
          "NPRicwJxDSU",
          "NPRicwJxDSU",
          "NPRicwJxDSU",
          "NPRicwJxDSU",
          "NPRicwJxDSU",
          "NPRicwJxDSU",
          "NPRicwJxDSU",
          "NPRicwJxDSU",
          "NPRicwJxDSU",
          "NPRicwJxDSU",
          "NPRicwJxDSU",
          "NPRicwJxDSU",
          "NPRicwJxDSU",
          "NPRicwJxDSU",
          "NPRicwJxDSU",
          "NPRicwJxDSU",
          "NPRicwJxDSU",
          "NPRicwJxDSU",
          "NPRicwJxDSU",
          "NPRicwJxDSU",
          "NPRicwJxDSU",
          "NPRicwJxDSU",
          "NPRicwJxDSU",
          "NPRicwJxDSU",
          "NPRicwJxDSU",
          "NPRicwJxDSU",
          "NPRicwJxDSU",
          "NPRicwJxDSU",
          "NPRicwJxDSU",
          "NPRicwJxDSU",
          "NPRicwJxDSU",
          "NPRicwJxDSU",
          "NPRicwJxDSU",
          "NPRicwJxDSU",
          "NPRicwJxDSU",
          "NPRicwJxDSU"
         ],
         "xaxis": "x",
         "y": [
          9,
          43,
          7,
          34,
          4,
          3,
          3,
          2,
          4,
          5,
          27,
          21,
          12,
          1,
          2,
          45,
          1,
          1,
          13,
          2,
          0,
          1,
          2,
          1,
          0,
          0,
          0,
          0,
          0,
          0,
          15,
          20,
          0,
          0,
          0,
          0,
          1,
          1,
          10,
          5,
          5,
          1,
          3,
          2,
          22,
          15,
          11,
          4,
          11,
          1
         ],
         "yaxis": "y"
        },
        {
         "customdata": [
          [
           "I’m a physician in TN. Had a patient attempt suicide a few months ago. He had multiple swastika tattoos across his chest and arms. I was the doctor in charge of overseeing the CPR that saved his life. My team was so upset for me and I honestly wasn’t phased. They couldn’t understand why I wasn’t offended but I felt sorry for him. How heavy is the burden of hate?! Carrying around all that hate and misery that he tried to take his own life. And here I am living my ancestors wildest dream doing what I love. I hope he’s well and healing…. Physically, but most importantly spiritually and mentally."
          ],
          [
           "60 minutes is one of a kind."
          ],
          [
           "Amazing man and patriot.  Thank you for keeping us safe"
          ],
          [
           "Thank you for rewinding to let the people in the world know these true stores.  More interesting episodes please."
          ],
          [
           "This was great journalism. Thank you for this insight into terrorism."
          ],
          [
           "Thank you Sir for protecting our lives!"
          ],
          [
           "This is such a great episode. I needed this today ❤"
          ],
          [
           "Incredible! I’m glad we have agents like this on our side. Good work LE!"
          ],
          [
           "Excellent series of stories on this very important topic."
          ],
          [
           "What stories these are, little wonder I've been watching this program all these many years...Awesome"
          ],
          [
           "The best episode 😊 in a wile"
          ],
          [
           "0:33: 🕵‍♂ An undercover FBI operative reveals his experience living and working among terrorists of Isis and Al-Qaeda.\r\n6:33: 🕵 A tense interrogation in a basement in Toronto raises questions about courage and danger.\r\n12:52: 📚 The video discusses the story of an American terrorist's journey to redemption and his struggle to lift others from the depths of hate.\r\n18:46: 🌍 A former white supremacist shares his journey of transformation and reconciliation with the help of kindness and dialogue.\r\n24:42: 🔎 A former white supremacist reflects on his past and the impact of his actions, while also discussing the dangers of conspiracy theories and the importance of facing one's mistakes.\r\n30:18: 🕵‍♂ A former Al-Qaeda member cooperates with the FBI, leading to a new understanding of the group's recruitment tactics.\r\n36:14: 👤 A federal judge expresses shock at the denial of witness protection to a high-profile defendant involved in organized crime and drug trafficking.\r\n42:23: 💰 The video discusses the debate over whether the US should pay ransom for hostages held by terrorists.\r\n48:18: 💔 The video discusses the risks and tragic events surrounding the abduction and beheading of American hostages in Syria.\r\nRecapped using Tammy AI"
          ],
          [
           "This interview is so timely right now,"
          ],
          [
           "This guy is a national treasure"
          ],
          [
           "Terrorism is hard to define because there’s one term for crime that can be either small or large in memory and impact."
          ],
          [
           "The government needs to hold their side of the bargain like the judge said.  And stop hiding behind their cavalier decision on denying him witness protection 😤. The prosecutors and judge want him on witness protection, but the doj doesn't?"
          ],
          [
           "Really good episode"
          ],
          [
           "I was somewhat hostile growing up. It was due to ignorance and all the wrong roll models. It doesn't take long though, to find the love for another human being regardless of \"race\". After all their is only 1 race, the human race. 1love"
          ],
          [
           "There are so many brave people always working to protect us ,who we may never learn about. \nI love this already. \n\nI remember being in class the morning the first plane hit, tje teachers all put the TVs onto the smoking tower,  and then every one of us kids saw that second plane hit in real time. \nThe teachers were heroes that day, i remember the teacher saying,  oh, um, hand on class, let me talk to the principal eeal quick. She changed the channel and then came back quickly, \nSchool was basically canceled, nearly everyone  was checked out of school in minutes.\nMy aunt was the closest   one to all us kids, and picked up my brother's and sister's and all my cousins. Packed in her car. We all had a million questions.\nMy aunt was a hero that day as she calmly explained that we are under attack. While rescuing us all.\n\nOnce we was home,  my Dad was the hero. \nI remember asking, are they going to collapse, and none of us thought buildings that big would collapse as we watched the fall down, one, then the, 2nd one, \n\nWe heard the pentagon was hit. \n\nThe bright shiny light was that entire plane of heroes that was headed towards the capital.\n\nIt enraged us all. \nI lost family in the war.\n\nAt one point i wanted to go and pay back a blood debt.\n\nI will never forget seeing  those people jump off the towers because they refused to be a victim of terrorist. \nThey are all  heros\n\n🇺🇸"
          ],
          [
           "I do not like how our intelligence agencies conduct business being exposed.   All this should be confidential"
          ],
          [
           "The only way to stop the bad men of this world from commiting their acts of evil is for the Good Men of this world to stop them.  And Americans need to know this.  And we all need to recognize the people that do that!"
          ],
          [
           "Wow, that lady was pretty deceptive trying to circle around the fact that they wouldn’t allow these parents to pay the ransom to save their sons."
          ],
          [
           "Seeing Pete hug Johnny the security guard made me emotional, talk about a perfect 180°! <3"
          ],
          [
           "25:18 What a beautiful moment in human history.. now we can all see why \"there's a party in heaven when the wicked seek salvation.\""
          ],
          [
           "I was in the same boat brother I am free from hate now and never been happier"
          ],
          [
           "I always have the admiration for journalist, they live on the edge  take risk/ very intelligent👍"
          ],
          [
           "Im glad we have men like you, thank you for your service."
          ],
          [
           "I knew off the bat - wearing a disguise as one can tell if you have a good eye to see through it... but looking at history of the use of prosthetic disquises, real human hair wigs, makeup artists in intelligence use was also a medical wonder to help people that has serious injuries of disfigurement so they can go out to have confidence where they would never had if not existed... even as Hollywood embraced since Special Effect artists had came about for the past decades to be convincing for movie box office films and television."
          ],
          [
           "re: the \"...the policy is that we do not pay ransoms to terrorists'... I would love to be shown the statistics of the number increase/decrease of hostages taken compared with the countries that do/don't pay ransom.   i.e. answering the question:  ransoms paid will increase the number of hostages taken"
          ],
          [
           "I’m still a firm believer that important people such as Tamer shouldn’t be shown on camera etc"
          ],
          [
           "Beautiful story. Inspiration."
          ],
          [
           "thank you so much"
          ],
          [
           "It is the warmth of true endearment to learn of Two Lives journalism fund,  in the ever widening face of adversity pointers on how to be less vulnerable to jihadist’s seems necessary for the grieving people’s of war."
          ],
          [
           "The judge’s statement that the government needs to meet its part of the bargain was very touching 😢"
          ],
          [
           "Thank you"
          ],
          [
           "Credit to the big balls of this undercover agent"
          ],
          [
           "“The world needs to be safe for democracy.” Woodrow Wilson"
          ],
          [
           "If only we did something about the local groups derailing trains in America and Canada."
          ],
          [
           "This was great journalism."
          ],
          [
           "He said he's mad at what these animals are doing but animals don't even act like that what he meant to say was those terrorist."
          ],
          [
           "Any serious journalist is very aware what they sign for going to a war zone, if you are not cut to risk your life as a navy seal would do, don't take that route and blame others for a commitment you choose to do."
          ],
          [
           "Good morning to you from Kenneth D in Hamilton New Zealand 😂😂😂😂"
          ],
          [
           "God bless you."
          ],
          [
           "Freelance Journalism must be at least number three on the list for civilian risk takers outside of military, first responders, or industrial/farming."
          ],
          [
           "Godbless u my dear brother.  Its true. Its always the vulnerable who get Indroctanaited"
          ],
          [
           "This was hard to watch. I couldn't finish it. The cruelty of these creatures coupled with the stupidity of American foreign policy is too much."
          ],
          [
           "True American Patriot! God bless you sir."
          ],
          [
           "God bless you! It’s broken my heart to see how twisted the image of your religion has become because of hate and ignorance. Thank you for everything you have done."
          ],
          [
           "Is this guy going to be safe after this program?"
          ],
          [
           "Imagine finding out the sleeper was in our senate,or even any part of or government."
          ]
         ],
         "hovertemplate": "Title=Terrorism: Foreign and Domestic | 60 Minutes Full Episodes<br>ID=%{x}<br>Likes_y=%{y}<br>Comment=%{customdata[0]}<extra></extra>",
         "legendgroup": "Terrorism: Foreign and Domestic | 60 Minutes Full Episodes",
         "marker": {
          "color": "#FECB52",
          "symbol": "circle"
         },
         "mode": "markers",
         "name": "Terrorism: Foreign and Domestic | 60 Minutes Full Episodes",
         "showlegend": true,
         "type": "scattergl",
         "x": [
          "qb33GLJKrEE",
          "qb33GLJKrEE",
          "qb33GLJKrEE",
          "qb33GLJKrEE",
          "qb33GLJKrEE",
          "qb33GLJKrEE",
          "qb33GLJKrEE",
          "qb33GLJKrEE",
          "qb33GLJKrEE",
          "qb33GLJKrEE",
          "qb33GLJKrEE",
          "qb33GLJKrEE",
          "qb33GLJKrEE",
          "qb33GLJKrEE",
          "qb33GLJKrEE",
          "qb33GLJKrEE",
          "qb33GLJKrEE",
          "qb33GLJKrEE",
          "qb33GLJKrEE",
          "qb33GLJKrEE",
          "qb33GLJKrEE",
          "qb33GLJKrEE",
          "qb33GLJKrEE",
          "qb33GLJKrEE",
          "qb33GLJKrEE",
          "qb33GLJKrEE",
          "qb33GLJKrEE",
          "qb33GLJKrEE",
          "qb33GLJKrEE",
          "qb33GLJKrEE",
          "qb33GLJKrEE",
          "qb33GLJKrEE",
          "qb33GLJKrEE",
          "qb33GLJKrEE",
          "qb33GLJKrEE",
          "qb33GLJKrEE",
          "qb33GLJKrEE",
          "qb33GLJKrEE",
          "qb33GLJKrEE",
          "qb33GLJKrEE",
          "qb33GLJKrEE",
          "qb33GLJKrEE",
          "qb33GLJKrEE",
          "qb33GLJKrEE",
          "qb33GLJKrEE",
          "qb33GLJKrEE",
          "qb33GLJKrEE",
          "qb33GLJKrEE",
          "qb33GLJKrEE",
          "qb33GLJKrEE"
         ],
         "xaxis": "x",
         "y": [
          580,
          60,
          114,
          78,
          47,
          58,
          2,
          95,
          26,
          20,
          7,
          83,
          17,
          59,
          15,
          15,
          5,
          103,
          2,
          14,
          62,
          9,
          2,
          9,
          27,
          13,
          0,
          13,
          9,
          19,
          2,
          0,
          5,
          63,
          0,
          30,
          22,
          14,
          0,
          5,
          22,
          4,
          0,
          1,
          3,
          13,
          0,
          2,
          9,
          4
         ],
         "yaxis": "y"
        }
       ],
       "layout": {
        "height": 1000,
        "hovermode": "closest",
        "legend": {
         "title": {
          "text": "Title"
         },
         "tracegroupgap": 0
        },
        "showlegend": true,
        "template": {
         "data": {
          "bar": [
           {
            "error_x": {
             "color": "#2a3f5f"
            },
            "error_y": {
             "color": "#2a3f5f"
            },
            "marker": {
             "line": {
              "color": "#E5ECF6",
              "width": 0.5
             },
             "pattern": {
              "fillmode": "overlay",
              "size": 10,
              "solidity": 0.2
             }
            },
            "type": "bar"
           }
          ],
          "barpolar": [
           {
            "marker": {
             "line": {
              "color": "#E5ECF6",
              "width": 0.5
             },
             "pattern": {
              "fillmode": "overlay",
              "size": 10,
              "solidity": 0.2
             }
            },
            "type": "barpolar"
           }
          ],
          "carpet": [
           {
            "aaxis": {
             "endlinecolor": "#2a3f5f",
             "gridcolor": "white",
             "linecolor": "white",
             "minorgridcolor": "white",
             "startlinecolor": "#2a3f5f"
            },
            "baxis": {
             "endlinecolor": "#2a3f5f",
             "gridcolor": "white",
             "linecolor": "white",
             "minorgridcolor": "white",
             "startlinecolor": "#2a3f5f"
            },
            "type": "carpet"
           }
          ],
          "choropleth": [
           {
            "colorbar": {
             "outlinewidth": 0,
             "ticks": ""
            },
            "type": "choropleth"
           }
          ],
          "contour": [
           {
            "colorbar": {
             "outlinewidth": 0,
             "ticks": ""
            },
            "colorscale": [
             [
              0,
              "#0d0887"
             ],
             [
              0.1111111111111111,
              "#46039f"
             ],
             [
              0.2222222222222222,
              "#7201a8"
             ],
             [
              0.3333333333333333,
              "#9c179e"
             ],
             [
              0.4444444444444444,
              "#bd3786"
             ],
             [
              0.5555555555555556,
              "#d8576b"
             ],
             [
              0.6666666666666666,
              "#ed7953"
             ],
             [
              0.7777777777777778,
              "#fb9f3a"
             ],
             [
              0.8888888888888888,
              "#fdca26"
             ],
             [
              1,
              "#f0f921"
             ]
            ],
            "type": "contour"
           }
          ],
          "contourcarpet": [
           {
            "colorbar": {
             "outlinewidth": 0,
             "ticks": ""
            },
            "type": "contourcarpet"
           }
          ],
          "heatmap": [
           {
            "colorbar": {
             "outlinewidth": 0,
             "ticks": ""
            },
            "colorscale": [
             [
              0,
              "#0d0887"
             ],
             [
              0.1111111111111111,
              "#46039f"
             ],
             [
              0.2222222222222222,
              "#7201a8"
             ],
             [
              0.3333333333333333,
              "#9c179e"
             ],
             [
              0.4444444444444444,
              "#bd3786"
             ],
             [
              0.5555555555555556,
              "#d8576b"
             ],
             [
              0.6666666666666666,
              "#ed7953"
             ],
             [
              0.7777777777777778,
              "#fb9f3a"
             ],
             [
              0.8888888888888888,
              "#fdca26"
             ],
             [
              1,
              "#f0f921"
             ]
            ],
            "type": "heatmap"
           }
          ],
          "heatmapgl": [
           {
            "colorbar": {
             "outlinewidth": 0,
             "ticks": ""
            },
            "colorscale": [
             [
              0,
              "#0d0887"
             ],
             [
              0.1111111111111111,
              "#46039f"
             ],
             [
              0.2222222222222222,
              "#7201a8"
             ],
             [
              0.3333333333333333,
              "#9c179e"
             ],
             [
              0.4444444444444444,
              "#bd3786"
             ],
             [
              0.5555555555555556,
              "#d8576b"
             ],
             [
              0.6666666666666666,
              "#ed7953"
             ],
             [
              0.7777777777777778,
              "#fb9f3a"
             ],
             [
              0.8888888888888888,
              "#fdca26"
             ],
             [
              1,
              "#f0f921"
             ]
            ],
            "type": "heatmapgl"
           }
          ],
          "histogram": [
           {
            "marker": {
             "pattern": {
              "fillmode": "overlay",
              "size": 10,
              "solidity": 0.2
             }
            },
            "type": "histogram"
           }
          ],
          "histogram2d": [
           {
            "colorbar": {
             "outlinewidth": 0,
             "ticks": ""
            },
            "colorscale": [
             [
              0,
              "#0d0887"
             ],
             [
              0.1111111111111111,
              "#46039f"
             ],
             [
              0.2222222222222222,
              "#7201a8"
             ],
             [
              0.3333333333333333,
              "#9c179e"
             ],
             [
              0.4444444444444444,
              "#bd3786"
             ],
             [
              0.5555555555555556,
              "#d8576b"
             ],
             [
              0.6666666666666666,
              "#ed7953"
             ],
             [
              0.7777777777777778,
              "#fb9f3a"
             ],
             [
              0.8888888888888888,
              "#fdca26"
             ],
             [
              1,
              "#f0f921"
             ]
            ],
            "type": "histogram2d"
           }
          ],
          "histogram2dcontour": [
           {
            "colorbar": {
             "outlinewidth": 0,
             "ticks": ""
            },
            "colorscale": [
             [
              0,
              "#0d0887"
             ],
             [
              0.1111111111111111,
              "#46039f"
             ],
             [
              0.2222222222222222,
              "#7201a8"
             ],
             [
              0.3333333333333333,
              "#9c179e"
             ],
             [
              0.4444444444444444,
              "#bd3786"
             ],
             [
              0.5555555555555556,
              "#d8576b"
             ],
             [
              0.6666666666666666,
              "#ed7953"
             ],
             [
              0.7777777777777778,
              "#fb9f3a"
             ],
             [
              0.8888888888888888,
              "#fdca26"
             ],
             [
              1,
              "#f0f921"
             ]
            ],
            "type": "histogram2dcontour"
           }
          ],
          "mesh3d": [
           {
            "colorbar": {
             "outlinewidth": 0,
             "ticks": ""
            },
            "type": "mesh3d"
           }
          ],
          "parcoords": [
           {
            "line": {
             "colorbar": {
              "outlinewidth": 0,
              "ticks": ""
             }
            },
            "type": "parcoords"
           }
          ],
          "pie": [
           {
            "automargin": true,
            "type": "pie"
           }
          ],
          "scatter": [
           {
            "fillpattern": {
             "fillmode": "overlay",
             "size": 10,
             "solidity": 0.2
            },
            "type": "scatter"
           }
          ],
          "scatter3d": [
           {
            "line": {
             "colorbar": {
              "outlinewidth": 0,
              "ticks": ""
             }
            },
            "marker": {
             "colorbar": {
              "outlinewidth": 0,
              "ticks": ""
             }
            },
            "type": "scatter3d"
           }
          ],
          "scattercarpet": [
           {
            "marker": {
             "colorbar": {
              "outlinewidth": 0,
              "ticks": ""
             }
            },
            "type": "scattercarpet"
           }
          ],
          "scattergeo": [
           {
            "marker": {
             "colorbar": {
              "outlinewidth": 0,
              "ticks": ""
             }
            },
            "type": "scattergeo"
           }
          ],
          "scattergl": [
           {
            "marker": {
             "colorbar": {
              "outlinewidth": 0,
              "ticks": ""
             }
            },
            "type": "scattergl"
           }
          ],
          "scattermapbox": [
           {
            "marker": {
             "colorbar": {
              "outlinewidth": 0,
              "ticks": ""
             }
            },
            "type": "scattermapbox"
           }
          ],
          "scatterpolar": [
           {
            "marker": {
             "colorbar": {
              "outlinewidth": 0,
              "ticks": ""
             }
            },
            "type": "scatterpolar"
           }
          ],
          "scatterpolargl": [
           {
            "marker": {
             "colorbar": {
              "outlinewidth": 0,
              "ticks": ""
             }
            },
            "type": "scatterpolargl"
           }
          ],
          "scatterternary": [
           {
            "marker": {
             "colorbar": {
              "outlinewidth": 0,
              "ticks": ""
             }
            },
            "type": "scatterternary"
           }
          ],
          "surface": [
           {
            "colorbar": {
             "outlinewidth": 0,
             "ticks": ""
            },
            "colorscale": [
             [
              0,
              "#0d0887"
             ],
             [
              0.1111111111111111,
              "#46039f"
             ],
             [
              0.2222222222222222,
              "#7201a8"
             ],
             [
              0.3333333333333333,
              "#9c179e"
             ],
             [
              0.4444444444444444,
              "#bd3786"
             ],
             [
              0.5555555555555556,
              "#d8576b"
             ],
             [
              0.6666666666666666,
              "#ed7953"
             ],
             [
              0.7777777777777778,
              "#fb9f3a"
             ],
             [
              0.8888888888888888,
              "#fdca26"
             ],
             [
              1,
              "#f0f921"
             ]
            ],
            "type": "surface"
           }
          ],
          "table": [
           {
            "cells": {
             "fill": {
              "color": "#EBF0F8"
             },
             "line": {
              "color": "white"
             }
            },
            "header": {
             "fill": {
              "color": "#C8D4E3"
             },
             "line": {
              "color": "white"
             }
            },
            "type": "table"
           }
          ]
         },
         "layout": {
          "annotationdefaults": {
           "arrowcolor": "#2a3f5f",
           "arrowhead": 0,
           "arrowwidth": 1
          },
          "autotypenumbers": "strict",
          "coloraxis": {
           "colorbar": {
            "outlinewidth": 0,
            "ticks": ""
           }
          },
          "colorscale": {
           "diverging": [
            [
             0,
             "#8e0152"
            ],
            [
             0.1,
             "#c51b7d"
            ],
            [
             0.2,
             "#de77ae"
            ],
            [
             0.3,
             "#f1b6da"
            ],
            [
             0.4,
             "#fde0ef"
            ],
            [
             0.5,
             "#f7f7f7"
            ],
            [
             0.6,
             "#e6f5d0"
            ],
            [
             0.7,
             "#b8e186"
            ],
            [
             0.8,
             "#7fbc41"
            ],
            [
             0.9,
             "#4d9221"
            ],
            [
             1,
             "#276419"
            ]
           ],
           "sequential": [
            [
             0,
             "#0d0887"
            ],
            [
             0.1111111111111111,
             "#46039f"
            ],
            [
             0.2222222222222222,
             "#7201a8"
            ],
            [
             0.3333333333333333,
             "#9c179e"
            ],
            [
             0.4444444444444444,
             "#bd3786"
            ],
            [
             0.5555555555555556,
             "#d8576b"
            ],
            [
             0.6666666666666666,
             "#ed7953"
            ],
            [
             0.7777777777777778,
             "#fb9f3a"
            ],
            [
             0.8888888888888888,
             "#fdca26"
            ],
            [
             1,
             "#f0f921"
            ]
           ],
           "sequentialminus": [
            [
             0,
             "#0d0887"
            ],
            [
             0.1111111111111111,
             "#46039f"
            ],
            [
             0.2222222222222222,
             "#7201a8"
            ],
            [
             0.3333333333333333,
             "#9c179e"
            ],
            [
             0.4444444444444444,
             "#bd3786"
            ],
            [
             0.5555555555555556,
             "#d8576b"
            ],
            [
             0.6666666666666666,
             "#ed7953"
            ],
            [
             0.7777777777777778,
             "#fb9f3a"
            ],
            [
             0.8888888888888888,
             "#fdca26"
            ],
            [
             1,
             "#f0f921"
            ]
           ]
          },
          "colorway": [
           "#636efa",
           "#EF553B",
           "#00cc96",
           "#ab63fa",
           "#FFA15A",
           "#19d3f3",
           "#FF6692",
           "#B6E880",
           "#FF97FF",
           "#FECB52"
          ],
          "font": {
           "color": "#2a3f5f"
          },
          "geo": {
           "bgcolor": "white",
           "lakecolor": "white",
           "landcolor": "#E5ECF6",
           "showlakes": true,
           "showland": true,
           "subunitcolor": "white"
          },
          "hoverlabel": {
           "align": "left"
          },
          "hovermode": "closest",
          "mapbox": {
           "style": "light"
          },
          "paper_bgcolor": "white",
          "plot_bgcolor": "#E5ECF6",
          "polar": {
           "angularaxis": {
            "gridcolor": "white",
            "linecolor": "white",
            "ticks": ""
           },
           "bgcolor": "#E5ECF6",
           "radialaxis": {
            "gridcolor": "white",
            "linecolor": "white",
            "ticks": ""
           }
          },
          "scene": {
           "xaxis": {
            "backgroundcolor": "#E5ECF6",
            "gridcolor": "white",
            "gridwidth": 2,
            "linecolor": "white",
            "showbackground": true,
            "ticks": "",
            "zerolinecolor": "white"
           },
           "yaxis": {
            "backgroundcolor": "#E5ECF6",
            "gridcolor": "white",
            "gridwidth": 2,
            "linecolor": "white",
            "showbackground": true,
            "ticks": "",
            "zerolinecolor": "white"
           },
           "zaxis": {
            "backgroundcolor": "#E5ECF6",
            "gridcolor": "white",
            "gridwidth": 2,
            "linecolor": "white",
            "showbackground": true,
            "ticks": "",
            "zerolinecolor": "white"
           }
          },
          "shapedefaults": {
           "line": {
            "color": "#2a3f5f"
           }
          },
          "ternary": {
           "aaxis": {
            "gridcolor": "white",
            "linecolor": "white",
            "ticks": ""
           },
           "baxis": {
            "gridcolor": "white",
            "linecolor": "white",
            "ticks": ""
           },
           "bgcolor": "#E5ECF6",
           "caxis": {
            "gridcolor": "white",
            "linecolor": "white",
            "ticks": ""
           }
          },
          "title": {
           "x": 0.05
          },
          "xaxis": {
           "automargin": true,
           "gridcolor": "white",
           "linecolor": "white",
           "ticks": "",
           "title": {
            "standoff": 15
           },
           "zerolinecolor": "white",
           "zerolinewidth": 2
          },
          "yaxis": {
           "automargin": true,
           "gridcolor": "white",
           "linecolor": "white",
           "ticks": "",
           "title": {
            "standoff": 15
           },
           "zerolinecolor": "white",
           "zerolinewidth": 2
          }
         }
        },
        "title": {
         "text": "Likes per Comment for Extremism"
        },
        "width": 1000,
        "xaxis": {
         "anchor": "y",
         "domain": [
          0,
          1
         ],
         "tickmode": "array",
         "ticktext": [],
         "tickvals": [],
         "title": {
          "text": "Comment Identifier"
         }
        },
        "yaxis": {
         "anchor": "x",
         "domain": [
          0,
          1
         ],
         "range": [
          0,
          9453.4
         ],
         "title": {
          "text": "Likes per Comment"
         }
        }
       }
      }
     },
     "metadata": {},
     "output_type": "display_data"
    }
   ],
   "source": [
    "import plotly.express as px\n",
    "import pandas as pd\n",
    "\n",
    "search_term = 'Extremism'\n",
    "df_filtered = df[df['Search Term'] == search_term]\n",
    "max_likes = df_filtered['Likes_y'].max()\n",
    "# Create the scatter plot with a larger figure size\n",
    "fig = px.scatter(df_filtered, x='ID', y='Likes_y',\n",
    "                 hover_data=['Comment'],  # Shows the comment text on hover\n",
    "                 color='Title',  # Color-code by title\n",
    "                 title=f'Likes per Comment for {search_term}')\n",
    "\n",
    "# Improve layout with a larger figure size\n",
    "fig.update_layout(\n",
    "    xaxis_title=\"Comment Identifier\",\n",
    "    yaxis_title=\"Likes per Comment\",\n",
    "    hovermode=\"closest\",\n",
    "    yaxis=dict(range=[0, max_likes + (0.1 * max_likes)]),\n",
    "    showlegend=True,  # Hide legend if it's not necessary\n",
    "    height=1000,  # You can adjust the height\n",
    "    width=1000  # You can adjust the width\n",
    ")\n",
    "\n",
    "# Potentially hide overlapping x-axis labels\n",
    "fig.update_xaxes(tickmode='array',\n",
    "                 tickvals=[],\n",
    "                 ticktext=[])\n",
    "\n",
    "# Show the plot\n",
    "fig.show()\n"
   ]
  },
  {
   "cell_type": "code",
   "execution_count": 46,
   "metadata": {},
   "outputs": [
    {
     "name": "stdout",
     "output_type": "stream",
     "text": [
      "<class 'pandas.core.frame.DataFrame'>\n",
      "Index: 0 entries\n",
      "Data columns (total 23 columns):\n",
      " #   Column            Non-Null Count  Dtype  \n",
      "---  ------            --------------  -----  \n",
      " 0   Unnamed: 0        0 non-null      int64  \n",
      " 1   NewID             0 non-null      int64  \n",
      " 2   vader_neg         0 non-null      float64\n",
      " 3   vader_neu         0 non-null      float64\n",
      " 4   vader_pos         0 non-null      float64\n",
      " 5   vader_compound    0 non-null      float64\n",
      " 6   roberta_neg       0 non-null      float64\n",
      " 7   roberta_neu       0 non-null      float64\n",
      " 8   roberta_pos       0 non-null      float64\n",
      " 9   Search Term       0 non-null      object \n",
      " 10  ID                0 non-null      object \n",
      " 11  Title             0 non-null      object \n",
      " 12  Author            0 non-null      object \n",
      " 13  Date Uploaded     0 non-null      object \n",
      " 14  Views             0 non-null      int64  \n",
      " 15  Likes_x           0 non-null      float64\n",
      " 16  Subscriber Count  0 non-null      float64\n",
      " 17  Country           0 non-null      object \n",
      " 18  Comment           0 non-null      object \n",
      " 19  Likes_y           0 non-null      float64\n",
      " 20  AuthorChannelId   0 non-null      object \n",
      " 21  PublishedAt       0 non-null      object \n",
      " 22  VideoID           0 non-null      object \n",
      "dtypes: float64(10), int64(3), object(10)\n",
      "memory usage: 0.0+ bytes\n"
     ]
    }
   ],
   "source": [
    "filtered_df.info()"
   ]
  },
  {
   "cell_type": "code",
   "execution_count": 11,
   "metadata": {},
   "outputs": [
    {
     "name": "stderr",
     "output_type": "stream",
     "text": [
      "[nltk_data] Downloading package stopwords to\n",
      "[nltk_data]     C:\\Users\\aadon\\AppData\\Roaming\\nltk_data...\n",
      "[nltk_data]   Package stopwords is already up-to-date!\n"
     ]
    },
    {
     "data": {
      "application/vnd.plotly.v1+json": {
       "config": {
        "plotlyServerURL": "https://plot.ly"
       },
       "data": [
        {
         "alignmentgroup": "True",
         "hovertemplate": "Frequency=%{x}<br>Words=%{y}<br>color=%{marker.color}<extra></extra>",
         "legendgroup": "",
         "marker": {
          "color": [
           328,
           322,
           296,
           283,
           279,
           264,
           253,
           178,
           177,
           165,
           164,
           158,
           154,
           153,
           139,
           136,
           136,
           131,
           130,
           129,
           124,
           121,
           116,
           115,
           115,
           113,
           112,
           107,
           106,
           105,
           104,
           103,
           102,
           97,
           97,
           96,
           96,
           92,
           91,
           91
          ],
          "coloraxis": "coloraxis",
          "pattern": {
           "shape": ""
          }
         },
         "name": "",
         "offsetgroup": "",
         "orientation": "h",
         "showlegend": false,
         "textposition": "auto",
         "type": "bar",
         "x": [
          328,
          322,
          296,
          283,
          279,
          264,
          253,
          178,
          177,
          165,
          164,
          158,
          154,
          153,
          139,
          136,
          136,
          131,
          130,
          129,
          124,
          121,
          116,
          115,
          115,
          113,
          112,
          107,
          106,
          105,
          104,
          103,
          102,
          97,
          97,
          96,
          96,
          92,
          91,
          91
         ],
         "xaxis": "x",
         "y": [
          "people",
          "thank",
          "life",
          "like",
          "one",
          "man",
          "love",
          "time",
          "much",
          "god",
          "world",
          "would",
          "way",
          "years",
          "good",
          "see",
          "get",
          "never",
          "great",
          "many",
          "think",
          "know",
          "better",
          "best",
          "ever",
          "men",
          "really",
          "even",
          "interview",
          "make",
          "listen",
          "need",
          "things",
          "always",
          "person",
          "video",
          "family",
          "well",
          "work",
          "someone"
         ],
         "yaxis": "y"
        }
       ],
       "layout": {
        "barmode": "relative",
        "coloraxis": {
         "colorbar": {
          "title": {
           "text": "color"
          }
         },
         "colorscale": [
          [
           0,
           "#0508b8"
          ],
          [
           0.08333333333333333,
           "#1910d8"
          ],
          [
           0.16666666666666666,
           "#3c19f0"
          ],
          [
           0.25,
           "#6b1cfb"
          ],
          [
           0.3333333333333333,
           "#981cfd"
          ],
          [
           0.4166666666666667,
           "#bf1cfd"
          ],
          [
           0.5,
           "#dd2bfd"
          ],
          [
           0.5833333333333334,
           "#f246fe"
          ],
          [
           0.6666666666666666,
           "#fc67fd"
          ],
          [
           0.75,
           "#fe88fc"
          ],
          [
           0.8333333333333334,
           "#fea5fd"
          ],
          [
           0.9166666666666666,
           "#febefe"
          ],
          [
           1,
           "#fec3fe"
          ]
         ]
        },
        "height": 1000,
        "legend": {
         "tracegroupgap": 0
        },
        "template": {
         "data": {
          "bar": [
           {
            "error_x": {
             "color": "#2a3f5f"
            },
            "error_y": {
             "color": "#2a3f5f"
            },
            "marker": {
             "line": {
              "color": "#E5ECF6",
              "width": 0.5
             },
             "pattern": {
              "fillmode": "overlay",
              "size": 10,
              "solidity": 0.2
             }
            },
            "type": "bar"
           }
          ],
          "barpolar": [
           {
            "marker": {
             "line": {
              "color": "#E5ECF6",
              "width": 0.5
             },
             "pattern": {
              "fillmode": "overlay",
              "size": 10,
              "solidity": 0.2
             }
            },
            "type": "barpolar"
           }
          ],
          "carpet": [
           {
            "aaxis": {
             "endlinecolor": "#2a3f5f",
             "gridcolor": "white",
             "linecolor": "white",
             "minorgridcolor": "white",
             "startlinecolor": "#2a3f5f"
            },
            "baxis": {
             "endlinecolor": "#2a3f5f",
             "gridcolor": "white",
             "linecolor": "white",
             "minorgridcolor": "white",
             "startlinecolor": "#2a3f5f"
            },
            "type": "carpet"
           }
          ],
          "choropleth": [
           {
            "colorbar": {
             "outlinewidth": 0,
             "ticks": ""
            },
            "type": "choropleth"
           }
          ],
          "contour": [
           {
            "colorbar": {
             "outlinewidth": 0,
             "ticks": ""
            },
            "colorscale": [
             [
              0,
              "#0d0887"
             ],
             [
              0.1111111111111111,
              "#46039f"
             ],
             [
              0.2222222222222222,
              "#7201a8"
             ],
             [
              0.3333333333333333,
              "#9c179e"
             ],
             [
              0.4444444444444444,
              "#bd3786"
             ],
             [
              0.5555555555555556,
              "#d8576b"
             ],
             [
              0.6666666666666666,
              "#ed7953"
             ],
             [
              0.7777777777777778,
              "#fb9f3a"
             ],
             [
              0.8888888888888888,
              "#fdca26"
             ],
             [
              1,
              "#f0f921"
             ]
            ],
            "type": "contour"
           }
          ],
          "contourcarpet": [
           {
            "colorbar": {
             "outlinewidth": 0,
             "ticks": ""
            },
            "type": "contourcarpet"
           }
          ],
          "heatmap": [
           {
            "colorbar": {
             "outlinewidth": 0,
             "ticks": ""
            },
            "colorscale": [
             [
              0,
              "#0d0887"
             ],
             [
              0.1111111111111111,
              "#46039f"
             ],
             [
              0.2222222222222222,
              "#7201a8"
             ],
             [
              0.3333333333333333,
              "#9c179e"
             ],
             [
              0.4444444444444444,
              "#bd3786"
             ],
             [
              0.5555555555555556,
              "#d8576b"
             ],
             [
              0.6666666666666666,
              "#ed7953"
             ],
             [
              0.7777777777777778,
              "#fb9f3a"
             ],
             [
              0.8888888888888888,
              "#fdca26"
             ],
             [
              1,
              "#f0f921"
             ]
            ],
            "type": "heatmap"
           }
          ],
          "heatmapgl": [
           {
            "colorbar": {
             "outlinewidth": 0,
             "ticks": ""
            },
            "colorscale": [
             [
              0,
              "#0d0887"
             ],
             [
              0.1111111111111111,
              "#46039f"
             ],
             [
              0.2222222222222222,
              "#7201a8"
             ],
             [
              0.3333333333333333,
              "#9c179e"
             ],
             [
              0.4444444444444444,
              "#bd3786"
             ],
             [
              0.5555555555555556,
              "#d8576b"
             ],
             [
              0.6666666666666666,
              "#ed7953"
             ],
             [
              0.7777777777777778,
              "#fb9f3a"
             ],
             [
              0.8888888888888888,
              "#fdca26"
             ],
             [
              1,
              "#f0f921"
             ]
            ],
            "type": "heatmapgl"
           }
          ],
          "histogram": [
           {
            "marker": {
             "pattern": {
              "fillmode": "overlay",
              "size": 10,
              "solidity": 0.2
             }
            },
            "type": "histogram"
           }
          ],
          "histogram2d": [
           {
            "colorbar": {
             "outlinewidth": 0,
             "ticks": ""
            },
            "colorscale": [
             [
              0,
              "#0d0887"
             ],
             [
              0.1111111111111111,
              "#46039f"
             ],
             [
              0.2222222222222222,
              "#7201a8"
             ],
             [
              0.3333333333333333,
              "#9c179e"
             ],
             [
              0.4444444444444444,
              "#bd3786"
             ],
             [
              0.5555555555555556,
              "#d8576b"
             ],
             [
              0.6666666666666666,
              "#ed7953"
             ],
             [
              0.7777777777777778,
              "#fb9f3a"
             ],
             [
              0.8888888888888888,
              "#fdca26"
             ],
             [
              1,
              "#f0f921"
             ]
            ],
            "type": "histogram2d"
           }
          ],
          "histogram2dcontour": [
           {
            "colorbar": {
             "outlinewidth": 0,
             "ticks": ""
            },
            "colorscale": [
             [
              0,
              "#0d0887"
             ],
             [
              0.1111111111111111,
              "#46039f"
             ],
             [
              0.2222222222222222,
              "#7201a8"
             ],
             [
              0.3333333333333333,
              "#9c179e"
             ],
             [
              0.4444444444444444,
              "#bd3786"
             ],
             [
              0.5555555555555556,
              "#d8576b"
             ],
             [
              0.6666666666666666,
              "#ed7953"
             ],
             [
              0.7777777777777778,
              "#fb9f3a"
             ],
             [
              0.8888888888888888,
              "#fdca26"
             ],
             [
              1,
              "#f0f921"
             ]
            ],
            "type": "histogram2dcontour"
           }
          ],
          "mesh3d": [
           {
            "colorbar": {
             "outlinewidth": 0,
             "ticks": ""
            },
            "type": "mesh3d"
           }
          ],
          "parcoords": [
           {
            "line": {
             "colorbar": {
              "outlinewidth": 0,
              "ticks": ""
             }
            },
            "type": "parcoords"
           }
          ],
          "pie": [
           {
            "automargin": true,
            "type": "pie"
           }
          ],
          "scatter": [
           {
            "fillpattern": {
             "fillmode": "overlay",
             "size": 10,
             "solidity": 0.2
            },
            "type": "scatter"
           }
          ],
          "scatter3d": [
           {
            "line": {
             "colorbar": {
              "outlinewidth": 0,
              "ticks": ""
             }
            },
            "marker": {
             "colorbar": {
              "outlinewidth": 0,
              "ticks": ""
             }
            },
            "type": "scatter3d"
           }
          ],
          "scattercarpet": [
           {
            "marker": {
             "colorbar": {
              "outlinewidth": 0,
              "ticks": ""
             }
            },
            "type": "scattercarpet"
           }
          ],
          "scattergeo": [
           {
            "marker": {
             "colorbar": {
              "outlinewidth": 0,
              "ticks": ""
             }
            },
            "type": "scattergeo"
           }
          ],
          "scattergl": [
           {
            "marker": {
             "colorbar": {
              "outlinewidth": 0,
              "ticks": ""
             }
            },
            "type": "scattergl"
           }
          ],
          "scattermapbox": [
           {
            "marker": {
             "colorbar": {
              "outlinewidth": 0,
              "ticks": ""
             }
            },
            "type": "scattermapbox"
           }
          ],
          "scatterpolar": [
           {
            "marker": {
             "colorbar": {
              "outlinewidth": 0,
              "ticks": ""
             }
            },
            "type": "scatterpolar"
           }
          ],
          "scatterpolargl": [
           {
            "marker": {
             "colorbar": {
              "outlinewidth": 0,
              "ticks": ""
             }
            },
            "type": "scatterpolargl"
           }
          ],
          "scatterternary": [
           {
            "marker": {
             "colorbar": {
              "outlinewidth": 0,
              "ticks": ""
             }
            },
            "type": "scatterternary"
           }
          ],
          "surface": [
           {
            "colorbar": {
             "outlinewidth": 0,
             "ticks": ""
            },
            "colorscale": [
             [
              0,
              "#0d0887"
             ],
             [
              0.1111111111111111,
              "#46039f"
             ],
             [
              0.2222222222222222,
              "#7201a8"
             ],
             [
              0.3333333333333333,
              "#9c179e"
             ],
             [
              0.4444444444444444,
              "#bd3786"
             ],
             [
              0.5555555555555556,
              "#d8576b"
             ],
             [
              0.6666666666666666,
              "#ed7953"
             ],
             [
              0.7777777777777778,
              "#fb9f3a"
             ],
             [
              0.8888888888888888,
              "#fdca26"
             ],
             [
              1,
              "#f0f921"
             ]
            ],
            "type": "surface"
           }
          ],
          "table": [
           {
            "cells": {
             "fill": {
              "color": "#EBF0F8"
             },
             "line": {
              "color": "white"
             }
            },
            "header": {
             "fill": {
              "color": "#C8D4E3"
             },
             "line": {
              "color": "white"
             }
            },
            "type": "table"
           }
          ]
         },
         "layout": {
          "annotationdefaults": {
           "arrowcolor": "#2a3f5f",
           "arrowhead": 0,
           "arrowwidth": 1
          },
          "autotypenumbers": "strict",
          "coloraxis": {
           "colorbar": {
            "outlinewidth": 0,
            "ticks": ""
           }
          },
          "colorscale": {
           "diverging": [
            [
             0,
             "#8e0152"
            ],
            [
             0.1,
             "#c51b7d"
            ],
            [
             0.2,
             "#de77ae"
            ],
            [
             0.3,
             "#f1b6da"
            ],
            [
             0.4,
             "#fde0ef"
            ],
            [
             0.5,
             "#f7f7f7"
            ],
            [
             0.6,
             "#e6f5d0"
            ],
            [
             0.7,
             "#b8e186"
            ],
            [
             0.8,
             "#7fbc41"
            ],
            [
             0.9,
             "#4d9221"
            ],
            [
             1,
             "#276419"
            ]
           ],
           "sequential": [
            [
             0,
             "#0d0887"
            ],
            [
             0.1111111111111111,
             "#46039f"
            ],
            [
             0.2222222222222222,
             "#7201a8"
            ],
            [
             0.3333333333333333,
             "#9c179e"
            ],
            [
             0.4444444444444444,
             "#bd3786"
            ],
            [
             0.5555555555555556,
             "#d8576b"
            ],
            [
             0.6666666666666666,
             "#ed7953"
            ],
            [
             0.7777777777777778,
             "#fb9f3a"
            ],
            [
             0.8888888888888888,
             "#fdca26"
            ],
            [
             1,
             "#f0f921"
            ]
           ],
           "sequentialminus": [
            [
             0,
             "#0d0887"
            ],
            [
             0.1111111111111111,
             "#46039f"
            ],
            [
             0.2222222222222222,
             "#7201a8"
            ],
            [
             0.3333333333333333,
             "#9c179e"
            ],
            [
             0.4444444444444444,
             "#bd3786"
            ],
            [
             0.5555555555555556,
             "#d8576b"
            ],
            [
             0.6666666666666666,
             "#ed7953"
            ],
            [
             0.7777777777777778,
             "#fb9f3a"
            ],
            [
             0.8888888888888888,
             "#fdca26"
            ],
            [
             1,
             "#f0f921"
            ]
           ]
          },
          "colorway": [
           "#636efa",
           "#EF553B",
           "#00cc96",
           "#ab63fa",
           "#FFA15A",
           "#19d3f3",
           "#FF6692",
           "#B6E880",
           "#FF97FF",
           "#FECB52"
          ],
          "font": {
           "color": "#2a3f5f"
          },
          "geo": {
           "bgcolor": "white",
           "lakecolor": "white",
           "landcolor": "#E5ECF6",
           "showlakes": true,
           "showland": true,
           "subunitcolor": "white"
          },
          "hoverlabel": {
           "align": "left"
          },
          "hovermode": "closest",
          "mapbox": {
           "style": "light"
          },
          "paper_bgcolor": "white",
          "plot_bgcolor": "#E5ECF6",
          "polar": {
           "angularaxis": {
            "gridcolor": "white",
            "linecolor": "white",
            "ticks": ""
           },
           "bgcolor": "#E5ECF6",
           "radialaxis": {
            "gridcolor": "white",
            "linecolor": "white",
            "ticks": ""
           }
          },
          "scene": {
           "xaxis": {
            "backgroundcolor": "#E5ECF6",
            "gridcolor": "white",
            "gridwidth": 2,
            "linecolor": "white",
            "showbackground": true,
            "ticks": "",
            "zerolinecolor": "white"
           },
           "yaxis": {
            "backgroundcolor": "#E5ECF6",
            "gridcolor": "white",
            "gridwidth": 2,
            "linecolor": "white",
            "showbackground": true,
            "ticks": "",
            "zerolinecolor": "white"
           },
           "zaxis": {
            "backgroundcolor": "#E5ECF6",
            "gridcolor": "white",
            "gridwidth": 2,
            "linecolor": "white",
            "showbackground": true,
            "ticks": "",
            "zerolinecolor": "white"
           }
          },
          "shapedefaults": {
           "line": {
            "color": "#2a3f5f"
           }
          },
          "ternary": {
           "aaxis": {
            "gridcolor": "white",
            "linecolor": "white",
            "ticks": ""
           },
           "baxis": {
            "gridcolor": "white",
            "linecolor": "white",
            "ticks": ""
           },
           "bgcolor": "#E5ECF6",
           "caxis": {
            "gridcolor": "white",
            "linecolor": "white",
            "ticks": ""
           }
          },
          "title": {
           "x": 0.05
          },
          "xaxis": {
           "automargin": true,
           "gridcolor": "white",
           "linecolor": "white",
           "ticks": "",
           "title": {
            "standoff": 15
           },
           "zerolinecolor": "white",
           "zerolinewidth": 2
          },
          "yaxis": {
           "automargin": true,
           "gridcolor": "white",
           "linecolor": "white",
           "ticks": "",
           "title": {
            "standoff": 15
           },
           "zerolinecolor": "white",
           "zerolinewidth": 2
          }
         }
        },
        "title": {
         "text": "Top 45 Most Common Words in Jordan Peterson Comments"
        },
        "width": 600,
        "xaxis": {
         "anchor": "y",
         "domain": [
          0,
          1
         ],
         "tickangle": -45,
         "title": {
          "text": "Frequency"
         }
        },
        "yaxis": {
         "anchor": "x",
         "domain": [
          0,
          1
         ],
         "title": {
          "text": "Words"
         }
        }
       }
      }
     },
     "metadata": {},
     "output_type": "display_data"
    }
   ],
   "source": [
    "import pandas as pd\n",
    "import plotly.express as px\n",
    "from collections import Counter\n",
    "from nltk.corpus import stopwords\n",
    "import re\n",
    "import nltk\n",
    "\n",
    "# Make sure to download the set of stop words the first time\n",
    "nltk.download('stopwords')\n",
    "\n",
    "search_term = 'Jordan Peterson'\n",
    "df = pd.read_csv(\"C:\\Data Science\\data\\processed\\Youtube\\consolidated.csv\")\n",
    "filtered_df = df[df['Search Term'] == search_term]\n",
    "\n",
    "# Load the list of stopwords from NLTK\n",
    "stop_words = set(stopwords.words('english'))\n",
    "\n",
    "# Function to clean and split comments into words\n",
    "def clean_and_split(comment, search_term):\n",
    "    # Remove the search term\n",
    "    for term in search_term.split():\n",
    "        comment = re.sub(r'\\b' + term + r'\\b', '', comment, flags=re.IGNORECASE)\n",
    "    \n",
    "    # Remove non-alphabetic characters and split into words\n",
    "    words = re.sub(\"[^a-zA-Z]\", \" \", comment).lower().split()\n",
    "    \n",
    "    # Remove stopwords and words that are 2 characters or less\n",
    "    words = [w for w in words if w not in stop_words and len(w) > 2]\n",
    "    return words\n",
    "\n",
    "# Clean comments, split into words, flatten the list of lists, and count occurrences\n",
    "all_words = filtered_df['Comment'].dropna().astype(str).apply(lambda x: clean_and_split(x, search_term))\n",
    "flat_list = [word for sublist in all_words for word in sublist]\n",
    "word_counts = Counter(flat_list)\n",
    "\n",
    "# Get the most common words and their counts\n",
    "most_common_words = word_counts.most_common(40)\n",
    "\n",
    "# Separate the words and counts into two lists for plotting\n",
    "words, counts = zip(*most_common_words)\n",
    "\n",
    "# Create a bar plot with Plotly\n",
    "fig = px.bar(y=words, x=counts, orientation='h', title=f\"Top 45 Most Common Words in {search_term} Comments\",\n",
    "              labels={'x':'Frequency', 'y':'Words'},\n",
    "              color=counts,  # Assigns a color based on the counts\n",
    "             color_continuous_scale='plotly3')  # Uses the Viridis color scale)\n",
    "fig.update_layout(\n",
    "    xaxis_tickangle=-45,\n",
    "    width=600,  # Adjust width as needed\n",
    "    height=1000,  # Adjust height as needed, especially for a large number of words\n",
    "    title=f'Top 45 Most Common Words in {search_term} Comments',\n",
    "    xaxis_title='Frequency',\n",
    "    yaxis_title='Words'\n",
    ")\n",
    "\n",
    "# Show the plot\n",
    "fig.show()\n"
   ]
  },
  {
   "cell_type": "code",
   "execution_count": null,
   "metadata": {},
   "outputs": [],
   "source": []
  }
 ],
 "metadata": {
  "kernelspec": {
   "display_name": "Python 3",
   "language": "python",
   "name": "python3"
  },
  "language_info": {
   "codemirror_mode": {
    "name": "ipython",
    "version": 3
   },
   "file_extension": ".py",
   "mimetype": "text/x-python",
   "name": "python",
   "nbconvert_exporter": "python",
   "pygments_lexer": "ipython3",
   "version": "3.10.0"
  }
 },
 "nbformat": 4,
 "nbformat_minor": 2
}
