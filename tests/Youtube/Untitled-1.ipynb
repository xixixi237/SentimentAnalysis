{
 "cells": [
  {
   "cell_type": "code",
   "execution_count": 1,
   "metadata": {},
   "outputs": [],
   "source": [
    "import pandas as pd\n",
    "import os"
   ]
  },
  {
   "cell_type": "code",
   "execution_count": 2,
   "metadata": {},
   "outputs": [],
   "source": [
    "# Path to the directory containing your CSV files\n",
    "directory_path = 'C:/Data Science/data/raw/Youtube'\n",
    "\n",
    "# Initialize an empty DataFrame to hold all the merged data\n",
    "merged_df = pd.DataFrame()"
   ]
  },
  {
   "cell_type": "code",
   "execution_count": 93,
   "metadata": {},
   "outputs": [],
   "source": [
    "# Loop through each file in the directory\n",
    "for file_name in os.listdir(directory_path):\n",
    "    if file_name.endswith('.csv'):\n",
    "        # Construct the full file path\n",
    "        file_path = os.path.join(directory_path, file_name)\n",
    "        \n",
    "        # Read the CSV file into a DataFrame\n",
    "        temp_df = pd.read_csv(file_path)\n",
    "        \n",
    "        # Extract part of the file name to use as the FileID (e.g., the search term)\n",
    "        # Assuming the file name format is \"searchterm_youtube.csv\"\n",
    "        file_id = file_name.split('_youtube.csv')[0]\n",
    "        \n",
    "        # Add the FileID as a new column to the DataFrame\n",
    "        temp_df['FileID'] = file_id\n",
    "        \n",
    "        # Append the temp DataFrame to the merged DataFrame\n",
    "        merged_df = pd.concat([merged_df, temp_df], ignore_index=True)\n",
    "\n",
    "# Now merged_df contains all your data with an additional 'FileID' column"
   ]
  },
  {
   "cell_type": "code",
   "execution_count": 94,
   "metadata": {},
   "outputs": [
    {
     "name": "stdout",
     "output_type": "stream",
     "text": [
      "<class 'pandas.core.frame.DataFrame'>\n",
      "RangeIndex: 123760 entries, 0 to 123759\n",
      "Data columns (total 14 columns):\n",
      " #   Column            Non-Null Count   Dtype  \n",
      "---  ------            --------------   -----  \n",
      " 0   ID                123760 non-null  object \n",
      " 1   Title             123760 non-null  object \n",
      " 2   Author            123760 non-null  object \n",
      " 3   Date Uploaded     123760 non-null  object \n",
      " 4   Views             123760 non-null  int64  \n",
      " 5   Likes_x           121655 non-null  float64\n",
      " 6   Subscriber Count  118956 non-null  float64\n",
      " 7   Country           123649 non-null  object \n",
      " 8   Comment           123646 non-null  object \n",
      " 9   Likes_y           123648 non-null  float64\n",
      " 10  AuthorChannelId   123648 non-null  object \n",
      " 11  PublishedAt       123648 non-null  object \n",
      " 12  FileID            123760 non-null  object \n",
      " 13  VideoID           106764 non-null  object \n",
      "dtypes: float64(3), int64(1), object(10)\n",
      "memory usage: 13.2+ MB\n"
     ]
    }
   ],
   "source": [
    "merged_df.info()"
   ]
  },
  {
   "cell_type": "code",
   "execution_count": 95,
   "metadata": {},
   "outputs": [],
   "source": [
    "merged_df = merged_df.drop(columns=\"VideoID\")\n"
   ]
  },
  {
   "cell_type": "code",
   "execution_count": 96,
   "metadata": {},
   "outputs": [],
   "source": [
    "import emoji\n",
    "\n",
    "def clean_text(text):\n",
    "    if not isinstance(text, str):\n",
    "        return ''  # Return empty string for non-string inputs\n",
    "    text = text.lower()\n",
    "    text = re.sub(r'http\\S+|www\\S+|https\\S+', '', text, flags=re.MULTILINE)\n",
    "    # Handling contractions left as previously described\n",
    "    # Use the emoji library to detect and preserve emojis\n",
    "    text_with_emojis = ''.join(char if char in emoji.UNICODE_EMOJI['en'] else ' ' for char in text)\n",
    "    # The rest of the cleaning process as before, applied to text_with_emojis\n",
    "    # Note: Depending on how you want to handle spaces and tokens, further adjustments might be needed\n",
    "    return text_with_emojis\n"
   ]
  },
  {
   "cell_type": "code",
   "execution_count": 97,
   "metadata": {},
   "outputs": [
    {
     "name": "stderr",
     "output_type": "stream",
     "text": [
      "[nltk_data] Downloading package stopwords to\n",
      "[nltk_data]     C:\\Users\\aadon\\AppData\\Roaming\\nltk_data...\n",
      "[nltk_data]   Package stopwords is already up-to-date!\n"
     ]
    },
    {
     "data": {
      "text/html": [
       "<div>\n",
       "<style scoped>\n",
       "    .dataframe tbody tr th:only-of-type {\n",
       "        vertical-align: middle;\n",
       "    }\n",
       "\n",
       "    .dataframe tbody tr th {\n",
       "        vertical-align: top;\n",
       "    }\n",
       "\n",
       "    .dataframe thead th {\n",
       "        text-align: right;\n",
       "    }\n",
       "</style>\n",
       "<table border=\"1\" class=\"dataframe\">\n",
       "  <thead>\n",
       "    <tr style=\"text-align: right;\">\n",
       "      <th></th>\n",
       "      <th>Title_Cleaned</th>\n",
       "      <th>Comment_Cleaned</th>\n",
       "    </tr>\n",
       "  </thead>\n",
       "  <tbody>\n",
       "    <tr>\n",
       "      <th>0</th>\n",
       "      <td>rtx 3090 ti vs power supply</td>\n",
       "      <td>thank watching video enjoyed please hit like b...</td>\n",
       "    </tr>\n",
       "    <tr>\n",
       "      <th>1</th>\n",
       "      <td>rtx 3090 ti vs power supply</td>\n",
       "      <td>literally would need mount f nuclear reactor 5...</td>\n",
       "    </tr>\n",
       "    <tr>\n",
       "      <th>2</th>\n",
       "      <td>rtx 3090 ti vs power supply</td>\n",
       "      <td>point would make sense power inlet directly gp...</td>\n",
       "    </tr>\n",
       "    <tr>\n",
       "      <th>3</th>\n",
       "      <td>rtx 3090 ti vs power supply</td>\n",
       "      <td>fyi 1500 watts max continuous load north ameri...</td>\n",
       "    </tr>\n",
       "    <tr>\n",
       "      <th>4</th>\n",
       "      <td>rtx 3090 ti vs power supply</td>\n",
       "      <td>550w power supply like still suffer</td>\n",
       "    </tr>\n",
       "  </tbody>\n",
       "</table>\n",
       "</div>"
      ],
      "text/plain": [
       "                 Title_Cleaned  \\\n",
       "0  rtx 3090 ti vs power supply   \n",
       "1  rtx 3090 ti vs power supply   \n",
       "2  rtx 3090 ti vs power supply   \n",
       "3  rtx 3090 ti vs power supply   \n",
       "4  rtx 3090 ti vs power supply   \n",
       "\n",
       "                                     Comment_Cleaned  \n",
       "0  thank watching video enjoyed please hit like b...  \n",
       "1  literally would need mount f nuclear reactor 5...  \n",
       "2  point would make sense power inlet directly gp...  \n",
       "3  fyi 1500 watts max continuous load north ameri...  \n",
       "4                550w power supply like still suffer  "
      ]
     },
     "execution_count": 97,
     "metadata": {},
     "output_type": "execute_result"
    }
   ],
   "source": [
    "import re\n",
    "import nltk\n",
    "from nltk.corpus import stopwords\n",
    "import emoji\n",
    "\n",
    "nltk.download('stopwords')\n",
    "\n",
    "def clean_text(text):\n",
    "    if not isinstance(text, str):\n",
    "        return ''\n",
    "    \n",
    "    text = text.lower()\n",
    "    text = re.sub(r'http\\S+|www\\S+|https\\S+', '', text, flags=re.MULTILINE)\n",
    "    \n",
    "    # Remove special characters, preserving emojis\n",
    "    # The strategy here is to remove characters that are not words, spaces, or emojis\n",
    "    text = ''.join(char for char in text if char.isalnum() or char.isspace() or emoji.is_emoji(char))\n",
    "    \n",
    "    # Tokenization and removing stopwords\n",
    "    stop_words = set(stopwords.words('english'))\n",
    "    words = text.split()\n",
    "    filtered_words = [word for word in words if word not in stop_words]\n",
    "    \n",
    "    text = ' '.join(filtered_words)\n",
    "    return text\n",
    "\n",
    "\n",
    "\n",
    "# Clean the 'Title' and 'Comment' columns\n",
    "# Note: For demonstration, using the DataFrame from the initial CSV load as merged_df not created in this environment\n",
    "merged_df['Title_Cleaned'] = merged_df['Title'].apply(clean_text)\n",
    "merged_df['Comment_Cleaned'] = merged_df['Comment'].apply(clean_text)\n",
    "\n",
    "# Display the cleaned text of the first few rows to verify the cleaning\n",
    "merged_df[['Title_Cleaned', 'Comment_Cleaned']].head()\n"
   ]
  },
  {
   "cell_type": "code",
   "execution_count": null,
   "metadata": {},
   "outputs": [],
   "source": [
    "# Run the polarity score on the entire dataset\n",
    "res ={}\n",
    "for i, row in merged_df(df.iterows(), total=len(df)):\n",
    "    TitleC = row['Title_Cleaned']\n",
    "    CommentsC = row['Comments_Cleaned']\n",
    "    res[myid]"
   ]
  },
  {
   "cell_type": "code",
   "execution_count": 3,
   "metadata": {},
   "outputs": [
    {
     "name": "stderr",
     "output_type": "stream",
     "text": [
      "[nltk_data] Downloading package vader_lexicon to\n",
      "[nltk_data]     C:\\Users\\aadon\\AppData\\Roaming\\nltk_data...\n",
      "[nltk_data]   Package vader_lexicon is already up-to-date!\n"
     ]
    },
    {
     "ename": "KeyError",
     "evalue": "'Title_Cleaned'",
     "output_type": "error",
     "traceback": [
      "\u001b[1;31m---------------------------------------------------------------------------\u001b[0m",
      "\u001b[1;31mKeyError\u001b[0m                                  Traceback (most recent call last)",
      "Cell \u001b[1;32mIn[3], line 15\u001b[0m\n\u001b[0;32m     12\u001b[0m     \u001b[38;5;28;01mreturn\u001b[39;00m sia\u001b[38;5;241m.\u001b[39mpolarity_scores(text)\n\u001b[0;32m     14\u001b[0m \u001b[38;5;66;03m# Apply sentiment analysis\u001b[39;00m\n\u001b[1;32m---> 15\u001b[0m merged_df[\u001b[38;5;124m'\u001b[39m\u001b[38;5;124mTitle_Sentiment\u001b[39m\u001b[38;5;124m'\u001b[39m] \u001b[38;5;241m=\u001b[39m \u001b[43mmerged_df\u001b[49m\u001b[43m[\u001b[49m\u001b[38;5;124;43m'\u001b[39;49m\u001b[38;5;124;43mTitle_Cleaned\u001b[39;49m\u001b[38;5;124;43m'\u001b[39;49m\u001b[43m]\u001b[49m\u001b[38;5;241m.\u001b[39mapply(get_sentiment)\n\u001b[0;32m     16\u001b[0m merged_df[\u001b[38;5;124m'\u001b[39m\u001b[38;5;124mComment_Sentiment\u001b[39m\u001b[38;5;124m'\u001b[39m] \u001b[38;5;241m=\u001b[39m merged_df[\u001b[38;5;124m'\u001b[39m\u001b[38;5;124mComment_Cleaned\u001b[39m\u001b[38;5;124m'\u001b[39m]\u001b[38;5;241m.\u001b[39mapply(get_sentiment)\n\u001b[0;32m     18\u001b[0m \u001b[38;5;66;03m# This will add two new columns with sentiment analysis results as dictionaries\u001b[39;00m\n",
      "File \u001b[1;32mc:\\Data Science\\venv\\lib\\site-packages\\pandas\\core\\frame.py:4090\u001b[0m, in \u001b[0;36mDataFrame.__getitem__\u001b[1;34m(self, key)\u001b[0m\n\u001b[0;32m   4088\u001b[0m \u001b[38;5;28;01mif\u001b[39;00m \u001b[38;5;28mself\u001b[39m\u001b[38;5;241m.\u001b[39mcolumns\u001b[38;5;241m.\u001b[39mnlevels \u001b[38;5;241m>\u001b[39m \u001b[38;5;241m1\u001b[39m:\n\u001b[0;32m   4089\u001b[0m     \u001b[38;5;28;01mreturn\u001b[39;00m \u001b[38;5;28mself\u001b[39m\u001b[38;5;241m.\u001b[39m_getitem_multilevel(key)\n\u001b[1;32m-> 4090\u001b[0m indexer \u001b[38;5;241m=\u001b[39m \u001b[38;5;28;43mself\u001b[39;49m\u001b[38;5;241;43m.\u001b[39;49m\u001b[43mcolumns\u001b[49m\u001b[38;5;241;43m.\u001b[39;49m\u001b[43mget_loc\u001b[49m\u001b[43m(\u001b[49m\u001b[43mkey\u001b[49m\u001b[43m)\u001b[49m\n\u001b[0;32m   4091\u001b[0m \u001b[38;5;28;01mif\u001b[39;00m is_integer(indexer):\n\u001b[0;32m   4092\u001b[0m     indexer \u001b[38;5;241m=\u001b[39m [indexer]\n",
      "File \u001b[1;32mc:\\Data Science\\venv\\lib\\site-packages\\pandas\\core\\indexes\\range.py:417\u001b[0m, in \u001b[0;36mRangeIndex.get_loc\u001b[1;34m(self, key)\u001b[0m\n\u001b[0;32m    415\u001b[0m         \u001b[38;5;28;01mraise\u001b[39;00m \u001b[38;5;167;01mKeyError\u001b[39;00m(key) \u001b[38;5;28;01mfrom\u001b[39;00m \u001b[38;5;21;01merr\u001b[39;00m\n\u001b[0;32m    416\u001b[0m \u001b[38;5;28;01mif\u001b[39;00m \u001b[38;5;28misinstance\u001b[39m(key, Hashable):\n\u001b[1;32m--> 417\u001b[0m     \u001b[38;5;28;01mraise\u001b[39;00m \u001b[38;5;167;01mKeyError\u001b[39;00m(key)\n\u001b[0;32m    418\u001b[0m \u001b[38;5;28mself\u001b[39m\u001b[38;5;241m.\u001b[39m_check_indexing_error(key)\n\u001b[0;32m    419\u001b[0m \u001b[38;5;28;01mraise\u001b[39;00m \u001b[38;5;167;01mKeyError\u001b[39;00m(key)\n",
      "\u001b[1;31mKeyError\u001b[0m: 'Title_Cleaned'"
     ]
    }
   ],
   "source": [
    "import nltk\n",
    "from nltk.sentiment import SentimentIntensityAnalyzer\n",
    "\n",
    "# Download VADER lexicon\n",
    "nltk.download('vader_lexicon')\n",
    "\n",
    "# Initialize VADER's SentimentIntensityAnalyzer\n",
    "sia = SentimentIntensityAnalyzer()\n",
    "\n",
    "# Function to get sentiment\n",
    "def get_sentiment(text):\n",
    "    return sia.polarity_scores(text)\n",
    "\n",
    "# Apply sentiment analysis\n",
    "merged_df['Title_Sentiment'] = merged_df['Title_Cleaned'].apply(get_sentiment)\n",
    "merged_df['Comment_Sentiment'] = merged_df['Comment_Cleaned'].apply(get_sentiment)\n",
    "\n",
    "# This will add two new columns with sentiment analysis results as dictionaries\n"
   ]
  },
  {
   "cell_type": "code",
   "execution_count": 38,
   "metadata": {},
   "outputs": [],
   "source": [
    "merged_df.to_csv(\"C:\\Data Science\\data\\processed\\Youtube\\Main.csv\")"
   ]
  },
  {
   "cell_type": "code",
   "execution_count": 3,
   "metadata": {},
   "outputs": [],
   "source": [
    "merged_df= pd.read_csv(\"C:\\Data Science\\data\\processed\\Youtube\\Main.csv\")"
   ]
  },
  {
   "cell_type": "code",
   "execution_count": 91,
   "metadata": {},
   "outputs": [
    {
     "name": "stdout",
     "output_type": "stream",
     "text": [
      "<class 'pandas.core.frame.DataFrame'>\n",
      "RangeIndex: 247520 entries, 0 to 247519\n",
      "Data columns (total 18 columns):\n",
      " #   Column             Non-Null Count   Dtype  \n",
      "---  ------             --------------   -----  \n",
      " 0   Unnamed: 0         247520 non-null  int64  \n",
      " 1   ID                 247520 non-null  object \n",
      " 2   Title              247520 non-null  object \n",
      " 3   Author             247520 non-null  object \n",
      " 4   Date Uploaded      247520 non-null  object \n",
      " 5   Views              247520 non-null  int64  \n",
      " 6   Likes_x            243310 non-null  float64\n",
      " 7   Subscriber Count   237912 non-null  float64\n",
      " 8   Country            247298 non-null  object \n",
      " 9   Comment            247292 non-null  object \n",
      " 10  Likes_y            247296 non-null  float64\n",
      " 11  AuthorChannelId    247296 non-null  object \n",
      " 12  PublishedAt        247296 non-null  object \n",
      " 13  FileID             247520 non-null  object \n",
      " 14  Title_Cleaned      247520 non-null  object \n",
      " 15  Comment_Cleaned    247176 non-null  object \n",
      " 16  Title_Sentiment    247520 non-null  object \n",
      " 17  Comment_Sentiment  247520 non-null  object \n",
      "dtypes: float64(3), int64(2), object(13)\n",
      "memory usage: 34.0+ MB\n"
     ]
    }
   ],
   "source": [
    "merged_df.info()"
   ]
  },
  {
   "cell_type": "code",
   "execution_count": 43,
   "metadata": {},
   "outputs": [
    {
     "data": {
      "text/plain": [
       "array(['3090', '4090', 'AGI', 'AMD', 'Andrew Tate', 'Antisemetism_',\n",
       "       'Apple', 'Arsenal', 'Ben Shapiro', 'Biden', 'Bitcoin',\n",
       "       'Candace Owens', 'Charles Leclerc', 'China', 'Christianity', 'cls',\n",
       "       'Copilot', 'Crypto', 'Data Science', 'Extremism', 'FC Porto',\n",
       "       'Ford', 'Gaza', 'Intel', 'iphone', 'Islamophobia', 'islam',\n",
       "       'Israel', 'Jordan Peterson', 'Judaism', 'Justin Trudeau',\n",
       "       'Kier Starmer', 'Labour', 'Lewis Hamilton', 'Liverpool FC',\n",
       "       'Manchester United', 'Max Verstapen', 'Mercedes', 'Michael Gove',\n",
       "       'Microsoft', 'Mike Tyson', 'Netanyahu', 'Nvidia', 'Open AI',\n",
       "       'Pixel 8', 'Putin', 'Rishi Sunak', 'Sadiq Khan', 'Samsung S24',\n",
       "       'Samsung', 'Sora', 'Tesla', 'Tories', 'Trump', 'xAI Grok'],\n",
       "      dtype=object)"
      ]
     },
     "execution_count": 43,
     "metadata": {},
     "output_type": "execute_result"
    }
   ],
   "source": [
    "merged_df[\"FileID\"].unique()"
   ]
  },
  {
   "cell_type": "code",
   "execution_count": 98,
   "metadata": {},
   "outputs": [],
   "source": [
    "import matplotlib as plt"
   ]
  },
  {
   "cell_type": "code",
   "execution_count": 103,
   "metadata": {},
   "outputs": [
    {
     "ename": "AttributeError",
     "evalue": "module 'matplotlib' has no attribute 'show'",
     "output_type": "error",
     "traceback": [
      "\u001b[1;31m---------------------------------------------------------------------------\u001b[0m",
      "\u001b[1;31mAttributeError\u001b[0m                            Traceback (most recent call last)",
      "Cell \u001b[1;32mIn[103], line 6\u001b[0m\n\u001b[0;32m      1\u001b[0m ax \u001b[38;5;241m=\u001b[39m merged_df[\u001b[38;5;124m'\u001b[39m\u001b[38;5;124mSubscriber Count\u001b[39m\u001b[38;5;124m'\u001b[39m]\u001b[38;5;241m.\u001b[39mvalue_counts()\u001b[38;5;241m.\u001b[39msort_index() \\\n\u001b[0;32m      2\u001b[0m     \u001b[38;5;241m.\u001b[39mplot(kind\u001b[38;5;241m=\u001b[39m\u001b[38;5;124m'\u001b[39m\u001b[38;5;124mbar\u001b[39m\u001b[38;5;124m'\u001b[39m,\n\u001b[0;32m      3\u001b[0m     title\u001b[38;5;241m=\u001b[39m\u001b[38;5;124m'\u001b[39m\u001b[38;5;124mCount of Country\u001b[39m\u001b[38;5;124m'\u001b[39m,\n\u001b[0;32m      4\u001b[0m     figsize\u001b[38;5;241m=\u001b[39m(\u001b[38;5;241m10\u001b[39m,\u001b[38;5;241m5\u001b[39m))\n\u001b[0;32m      5\u001b[0m ax\u001b[38;5;241m.\u001b[39mset_xlabel(\u001b[38;5;124m'\u001b[39m\u001b[38;5;124mLikes_x\u001b[39m\u001b[38;5;124m'\u001b[39m)\n\u001b[1;32m----> 6\u001b[0m \u001b[43mplt\u001b[49m\u001b[38;5;241;43m.\u001b[39;49m\u001b[43mshow\u001b[49m()\n",
      "File \u001b[1;32mc:\\Data Science\\venv\\lib\\site-packages\\matplotlib\\_api\\__init__.py:217\u001b[0m, in \u001b[0;36mcaching_module_getattr.<locals>.__getattr__\u001b[1;34m(name)\u001b[0m\n\u001b[0;32m    215\u001b[0m \u001b[38;5;28;01mif\u001b[39;00m name \u001b[38;5;129;01min\u001b[39;00m props:\n\u001b[0;32m    216\u001b[0m     \u001b[38;5;28;01mreturn\u001b[39;00m props[name]\u001b[38;5;241m.\u001b[39m\u001b[38;5;21m__get__\u001b[39m(instance)\n\u001b[1;32m--> 217\u001b[0m \u001b[38;5;28;01mraise\u001b[39;00m \u001b[38;5;167;01mAttributeError\u001b[39;00m(\n\u001b[0;32m    218\u001b[0m     \u001b[38;5;124mf\u001b[39m\u001b[38;5;124m\"\u001b[39m\u001b[38;5;124mmodule \u001b[39m\u001b[38;5;132;01m{\u001b[39;00m\u001b[38;5;28mcls\u001b[39m\u001b[38;5;241m.\u001b[39m\u001b[38;5;18m__module__\u001b[39m\u001b[38;5;132;01m!r}\u001b[39;00m\u001b[38;5;124m has no attribute \u001b[39m\u001b[38;5;132;01m{\u001b[39;00mname\u001b[38;5;132;01m!r}\u001b[39;00m\u001b[38;5;124m\"\u001b[39m)\n",
      "\u001b[1;31mAttributeError\u001b[0m: module 'matplotlib' has no attribute 'show'"
     ]
    },
    {
     "data": {
      "image/png": "[encoded data removed]",
      "text/plain": [
       "<Figure size 1000x500 with 1 Axes>"
      ]
     },
     "metadata": {},
     "output_type": "display_data"
    }
   ],
   "source": [
    "ax = merged_df['Subscriber Count'].value_counts().sort_index() \\\n",
    "    .plot(kind='bar',\n",
    "    title='Count of Country',\n",
    "    figsize=(10,5))\n",
    "ax.set_xlabel('Likes_x')\n",
    "plt.show()"
   ]
  },
  {
   "cell_type": "code",
   "execution_count": null,
   "metadata": {},
   "outputs": [],
   "source": []
  },
  {
   "cell_type": "code",
   "execution_count": null,
   "metadata": {},
   "outputs": [],
   "source": [
    "gpu = ['3090', '4090']\n",
    "ai = ['AGI',  'Open AI', 'xAI Grok', 'Copilot','Sora']\n",
    "inf = ['Andrew Tate', 'Ben Shapiro', 'Candace Owens','Candace Owens','Jordan Peterson'] \n",
    "rscm = ['Antisemetism_', 'Islamophobia','Extremism']\n",
    "['Apple','Samsung']\n",
    "phone = ['Pixel 8', 'iphone', 'Samsung S24']\n",
    "pc = ['AMD', 'Nvidia', 'Intel', 'Microsoft']\n",
    "relig = ['Christianity','islam','Judaism']\n",
    "leaders = ['Justin Trudeau', 'Kier Starmer','Biden', 'Michael Gove', 'Rishi Sunak', 'Sadiq Khan','Netanyahu', 'Putin',]\n",
    "uk = ['Labour', 'Tories']\n",
    "ig = ['Israel','Gaza']\n",
    "footy = ['Arsenal', 'Liverpool FC', 'FC Porto','Manchester United']\n",
    "f1 = ['Max Verstapen','Charles Leclerc', 'Lewis Hamilton']\n",
    "btc = ['Bitcoin','Crypto']\n",
    "whips = ['Ford', 'Tesla', 'Mercedes'] \n",
    "'China',\n",
    "'Data Science'           \n",
    "'Mike Tyson'\n"
   ]
  }
 ],
 "metadata": {
  "kernelspec": {
   "display_name": "Python 3",
   "language": "python",
   "name": "python3"
  },
  "language_info": {
   "codemirror_mode": {
    "name": "ipython",
    "version": 3
   },
   "file_extension": ".py",
   "mimetype": "text/x-python",
   "name": "python",
   "nbconvert_exporter": "python",
   "pygments_lexer": "ipython3",
   "version": "3.10.0"
  }
 },
 "nbformat": 4,
 "nbformat_minor": 2
}
